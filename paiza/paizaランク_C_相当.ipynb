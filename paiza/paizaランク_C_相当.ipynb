{
  "nbformat": 4,
  "nbformat_minor": 0,
  "metadata": {
    "colab": {
      "name": "paizaランク C 相当.ipynb",
      "provenance": [],
      "private_outputs": true,
      "collapsed_sections": [],
      "authorship_tag": "ABX9TyPU/itkjHfCUAqOtLCi3qL1",
      "include_colab_link": true
    },
    "kernelspec": {
      "name": "python3",
      "display_name": "Python 3"
    },
    "accelerator": "GPU"
  },
  "cells": [
    {
      "cell_type": "markdown",
      "metadata": {
        "id": "view-in-github",
        "colab_type": "text"
      },
      "source": [
        "<a href=\"https://colab.research.google.com/github/T-Sawao/study/blob/master/paiza%E3%83%A9%E3%83%B3%E3%82%AF_C_%E7%9B%B8%E5%BD%93.ipynb\" target=\"_parent\"><img src=\"https://colab.research.google.com/assets/colab-badge.svg\" alt=\"Open In Colab\"/></a>"
      ]
    },
    {
      "cell_type": "markdown",
      "metadata": {
        "id": "1a6_eAOpv_Fa"
      },
      "source": [
        "#標準入出力\n"
      ]
    },
    {
      "cell_type": "markdown",
      "metadata": {
        "id": "8rdb0djgpIYS"
      },
      "source": [
        "## 標準入出力 (paizaランク C 相当)"
      ]
    },
    {
      "cell_type": "code",
      "metadata": {
        "id": "Z_jSIv2TjdaV"
      },
      "source": [
        "#6回目\n",
        "n = int(input())\n",
        "\n",
        "for i in range(n):\n",
        "    a = input().split(\" \")\n",
        "    print(a[0],(int(a[1])+1))"
      ],
      "execution_count": null,
      "outputs": []
    },
    {
      "cell_type": "code",
      "metadata": {
        "id": "SK8miR-RpNw0"
      },
      "source": [
        "staff_num = int(input())\n",
        "\n",
        "for i in range(staff_num):\n",
        "  id = input().split(' ')\n",
        "  id[1] = int(id[1]) + 1\n",
        "  print(id[0] + ' ', end='')\n",
        "  print(id[1])"
      ],
      "execution_count": null,
      "outputs": []
    },
    {
      "cell_type": "code",
      "metadata": {
        "id": "7H0hMhmkqWy9"
      },
      "source": [
        "staff = \"Yamada 30\"\n",
        "\n",
        "id = staff.split(' ')\n",
        "print(id)\n",
        "id[1] = int(id[1]) + 1\n",
        "print(id[0] + ' ', end='')\n",
        "print(id[1])"
      ],
      "execution_count": null,
      "outputs": []
    },
    {
      "cell_type": "markdown",
      "metadata": {
        "id": "U7eZEpZjvczX"
      },
      "source": [
        "#文字列"
      ]
    },
    {
      "cell_type": "markdown",
      "metadata": {
        "id": "qu5BmoLpE-k2"
      },
      "source": [
        "## 数字の文字列操作（基本） (paizaランク D 相当)"
      ]
    },
    {
      "cell_type": "code",
      "metadata": {
        "id": "nufC8wghFGKv"
      },
      "source": [
        "s = input()\n",
        "s1 = s[0]\n",
        "s2 = s[1]\n",
        "s3 = s[2]\n",
        "s4 = s[3]\n",
        "a = int(s1) + int(s4)\n",
        "b = int(s2) + int(s3)\n",
        "\n",
        "print(a,end=\"\")\n",
        "print(b)"
      ],
      "execution_count": null,
      "outputs": []
    },
    {
      "cell_type": "code",
      "metadata": {
        "id": "bg0TIBlFOVX9"
      },
      "source": [
        "#3回目コード\n",
        "n = input()\n",
        "a = int(n[0]) +int(n[3])\n",
        "b = int(n[1]) +int(n[2])\n",
        "\n",
        "print(str(a)+str(b))"
      ],
      "execution_count": null,
      "outputs": []
    },
    {
      "cell_type": "markdown",
      "metadata": {
        "id": "lIjXE1hbHcbP"
      },
      "source": [
        "## 数字の文字列操作（0埋め） (paizaランク D 相当)"
      ]
    },
    {
      "cell_type": "code",
      "metadata": {
        "id": "3Q_WqNd2HjiT"
      },
      "source": [
        "n = int(input())\n",
        "print(format(n, '0>3'))"
      ],
      "execution_count": null,
      "outputs": []
    },
    {
      "cell_type": "code",
      "metadata": {
        "id": "91O5ttuYOBkd"
      },
      "source": [
        "#3回目コード\n",
        "print(f'{int(input()):0=10}')"
      ],
      "execution_count": null,
      "outputs": []
    },
    {
      "cell_type": "markdown",
      "metadata": {
        "id": "JjTkw-IXPOgp"
      },
      "source": [
        "## 数字の文字列操作（時刻1） (paizaランク D 相当)"
      ]
    },
    {
      "cell_type": "code",
      "metadata": {
        "id": "srnhGGZ1PQDF"
      },
      "source": [
        "s = (input().split(':'))\n",
        "for i in range(2):\n",
        "  print(int(s[i]))"
      ],
      "execution_count": null,
      "outputs": []
    },
    {
      "cell_type": "code",
      "metadata": {
        "id": "VFDarjx8N5GG"
      },
      "source": [
        "#3回目コード\n",
        "n = input().split(':')\n",
        "print(int(n[0]))\n",
        "print(int(n[1]))"
      ],
      "execution_count": null,
      "outputs": []
    },
    {
      "cell_type": "markdown",
      "metadata": {
        "id": "dLxy4xA_Q3M9"
      },
      "source": [
        "## 数字の文字列操作（時刻2） (paizaランク D 相当)"
      ]
    },
    {
      "cell_type": "code",
      "metadata": {
        "id": "T61RL_b5Sv0t"
      },
      "source": [
        "from datetime import datetime, timedelta \n",
        "t = str(input())\n",
        "s = 0.5\n",
        "\n",
        "hhmm = datetime.strptime(t, '%H:%M')\n",
        "\n",
        "delta = timedelta(hours = s)\n",
        "hhmm += delta\n",
        "print(\"{0:%H:%M}\" .format(hhmm))"
      ],
      "execution_count": null,
      "outputs": []
    },
    {
      "cell_type": "markdown",
      "metadata": {
        "id": "AMae5uSGspJZ"
      },
      "source": [
        "##文字列 (paizaランク C 相当)"
      ]
    },
    {
      "cell_type": "code",
      "metadata": {
        "id": "A80IX1fetCgF"
      },
      "source": [
        "from datetime import datetime, timedelta\n",
        "\n",
        "def math_time():\n",
        "  hhmm = datetime.strptime(t, '%H:%M')\n",
        "  delta = timedelta(hours = h, minutes = m)\n",
        "  hhmm += delta\n",
        "  print(\"{0:%H:%M}\" .format(hhmm))\n",
        "  \n",
        "for i in range(int(input())):\n",
        "    time = input().split(' ')\n",
        "    t = time[0]\n",
        "    h = int(time[1])\n",
        "    m = int(time[2])\n",
        "    math_time()"
      ],
      "execution_count": null,
      "outputs": []
    },
    {
      "cell_type": "markdown",
      "metadata": {
        "id": "6j9mC0IvvlQo"
      },
      "source": [
        "#forループ "
      ]
    },
    {
      "cell_type": "markdown",
      "metadata": {
        "id": "-wt3QwBk91d1"
      },
      "source": [
        "## 3の倍数のカウント (paizaランク D 相当)\n",
        "\n"
      ]
    },
    {
      "cell_type": "code",
      "metadata": {
        "id": "FWSVAA7W-Bkr"
      },
      "source": [
        "num = int(input())\n",
        "number = input().split(' ', num)\n",
        "count = 0\n",
        "print(number)\n",
        "\n",
        "for i in number:\n",
        "  if int(i) % 3 == 0:\n",
        "    count+=1\n",
        "print(count)"
      ],
      "execution_count": null,
      "outputs": []
    },
    {
      "cell_type": "markdown",
      "metadata": {
        "id": "lbCMzL0nIdhR"
      },
      "source": [
        "## フラグ管理 (paizaランク D 相当)"
      ]
    },
    {
      "cell_type": "code",
      "metadata": {
        "id": "83Hb3WLs1DoP"
      },
      "source": [
        "# 2度目の解\n",
        "num = int(input())\n",
        "for i in range(num):\n",
        "    if int(input()) == 7:\n",
        "        print(\"YES\")\n",
        "        break\n",
        "else:\n",
        "    print(\"NO\")"
      ],
      "execution_count": null,
      "outputs": []
    },
    {
      "cell_type": "code",
      "metadata": {
        "id": "CehJ-_bYa5VN"
      },
      "source": [
        "num = int(input())\n",
        "number = []\n",
        "for i in range(num):\n",
        "  number.append(int(input()))\n",
        "\n",
        "if (7 in number) == True:\n",
        "  print(\"YES\")\n",
        "else:\n",
        "  print(\"NO\")"
      ],
      "execution_count": null,
      "outputs": []
    },
    {
      "cell_type": "markdown",
      "metadata": {
        "id": "k1L04gCQqBRV"
      },
      "source": [
        "## インデックス取得 (paizaランク D 相当)"
      ]
    },
    {
      "cell_type": "code",
      "metadata": {
        "id": "pAVk8x_2udNK"
      },
      "source": [
        "#3度目の回答\n",
        "n = int(input())\n",
        "list = [input() for i in range(n)]\n",
        "k = input()\n",
        "\n",
        "print((int(list.index(k)))+1)"
      ],
      "execution_count": null,
      "outputs": []
    },
    {
      "cell_type": "code",
      "metadata": {
        "id": "kftNyXObqFhy"
      },
      "source": [
        "n = int(input())\n",
        "list = []\n",
        "for i in range(n):\n",
        "  list.append(int(input()))\n",
        "k = int(input())\n",
        "print((list.index(k))+1)"
      ],
      "execution_count": null,
      "outputs": []
    },
    {
      "cell_type": "markdown",
      "metadata": {
        "id": "mcOHot1Uoo7y"
      },
      "source": [
        "C課題"
      ]
    },
    {
      "cell_type": "code",
      "metadata": {
        "id": "33y0Y207hA-j"
      },
      "source": [
        "s = str(input())\n",
        "m = {'A':'4', 'E':'3', 'G':'6', 'I':'1', 'O':'0', 'S':'5', 'Z':'2'}\n",
        "\n",
        "n = s.translate(str.maketrans(m))\n",
        "print(n)"
      ],
      "execution_count": null,
      "outputs": []
    },
    {
      "cell_type": "code",
      "metadata": {
        "id": "pwbJlaD4fEAm"
      },
      "source": [
        "N, M, K = input().split(' ')\n",
        "n = int(N)\n",
        "m = int(M)\n",
        "print(n)\n",
        "print(m)\n",
        "print(K)\n",
        "print(type(n))\n",
        "list = [input().split(' ',m) for i in range(n)]\n",
        "print(list)\n",
        "\n",
        "\n",
        "for i in list:\n",
        "  count = 0\n",
        "  for j in i:\n",
        "    if K == j:\n",
        "      count +=1 \n",
        "  print(count) "
      ],
      "execution_count": null,
      "outputs": []
    },
    {
      "cell_type": "markdown",
      "metadata": {
        "id": "FW1HJPu74Nuc"
      },
      "source": [
        "## 多重ループ"
      ]
    },
    {
      "cell_type": "code",
      "metadata": {
        "id": "Xlhs_-wMuzHY"
      },
      "source": [
        "#3度目の回答\n",
        "n = int(input())\n",
        "list1 = [input() for i in range(n)]\n",
        "print(list1)\n",
        "m = int(input())\n",
        "list2 = [input() for i in range(m)]\n",
        "print(list2)\n",
        "\n",
        "for i in list1:\n",
        "  for j in list2:\n",
        "    if i in j:\n",
        "      print(\"YES\")\n",
        "    else:\n",
        "      print(\"NO\")"
      ],
      "execution_count": null,
      "outputs": []
    },
    {
      "cell_type": "code",
      "metadata": {
        "id": "pigCuu7CK2Ee"
      },
      "source": [
        "m = int(input())\n",
        "c = [input() for i in range(m)]\n",
        "\n",
        "n = int(input())\n",
        "s = [input() for i in range(n)]\n",
        "\n",
        "for i in c:\n",
        "  for j in s:\n",
        "    if ( i in j ) == True:\n",
        "      print(\"YES\")\n",
        "    else:\n",
        "      print(\"NO\") "
      ],
      "execution_count": null,
      "outputs": []
    },
    {
      "cell_type": "code",
      "metadata": {
        "id": "F9okqYXT4RzZ"
      },
      "source": [
        "m = int(input())\n",
        "c = []\n",
        "for i in range(m):\n",
        "  c.append(input())\n",
        "\n",
        "n = int(input())\n",
        "s = []\n",
        "for i in range(n):\n",
        "  s.append(input())\n",
        "\n",
        "for i in c:\n",
        "  for j in s:\n",
        "    if ( i in j ) == True:\n",
        "      print(\"YES\")\n",
        "    else:\n",
        "      print(\"NO\") "
      ],
      "execution_count": null,
      "outputs": []
    },
    {
      "cell_type": "markdown",
      "metadata": {
        "id": "TuDbT7om8T6c"
      },
      "source": [
        "##FINAL問題 forループ"
      ]
    },
    {
      "cell_type": "code",
      "metadata": {
        "id": "0nE4gTHjkrX3"
      },
      "source": [
        "#３回目の回答\n",
        "N, M, K = input().split(' ')\n",
        "n = int(N)\n",
        "m = int(M)\n",
        "list = [input().split(' ',m) for i in range(n)]\n",
        "\n",
        "for i in list:\n",
        "  count = 0\n",
        "  for j in i:\n",
        "    if K == j:\n",
        "      count +=1 \n",
        "  print(count) "
      ],
      "execution_count": null,
      "outputs": []
    },
    {
      "cell_type": "markdown",
      "metadata": {
        "id": "3O-du4qrwFdA"
      },
      "source": [
        "#ソート\n"
      ]
    },
    {
      "cell_type": "markdown",
      "metadata": {
        "id": "wdQ0Up-nwQpp"
      },
      "source": [
        "**step:1 昇順ソート**"
      ]
    },
    {
      "cell_type": "code",
      "metadata": {
        "id": "mPpmhZZAHwCR"
      },
      "source": [
        "#2回目\n",
        "n = int(input())\n",
        "a = [int(input()) for i in range(n)]\n",
        "a.sort()\n",
        "\n",
        "for i in a:\n",
        "    print(i)"
      ],
      "execution_count": null,
      "outputs": []
    },
    {
      "cell_type": "code",
      "metadata": {
        "id": "eq_0q2V8wYqE"
      },
      "source": [
        "#1回目\n",
        "n = int(input())\n",
        "a = [int(input()) for i in range(n)]\n",
        "a = sorted(a)\n",
        "\n",
        "for i in a:\n",
        "    print(i)"
      ],
      "execution_count": null,
      "outputs": []
    },
    {
      "cell_type": "markdown",
      "metadata": {
        "id": "rd3MZXmgUeZb"
      },
      "source": [
        "**STEP: 2 降順ソート**"
      ]
    },
    {
      "cell_type": "code",
      "metadata": {
        "id": "4E2vr3sWwYgM"
      },
      "source": [
        "n = int(input())\n",
        "a = [int(input()) for i in range(n)]\n",
        "a = sorted(a, reverse=True)\n",
        "\n",
        "for i in a:\n",
        "    print(i)"
      ],
      "execution_count": null,
      "outputs": []
    },
    {
      "cell_type": "markdown",
      "metadata": {
        "id": "rutZP7KXUiex"
      },
      "source": [
        "**STEP: 3 辞書式ソート**"
      ]
    },
    {
      "cell_type": "code",
      "metadata": {
        "id": "jlxaguSYxe43"
      },
      "source": [
        "#１回目不正解\n",
        "n = int(input())\n",
        "ab = [None] * n\n",
        "\n",
        "for i in range(n):\n",
        "    [a, b] = input().split()\n",
        "    a = int(a)\n",
        "    b = int(b)\n",
        "    ab[i] = [a, b]\n",
        "\n",
        "ab.sort(reverse=True)\n",
        "\n",
        "for i in range(n):\n",
        "    [a, b] = ab[i]\n",
        "    print(a, b)"
      ],
      "execution_count": null,
      "outputs": []
    },
    {
      "cell_type": "markdown",
      "metadata": {
        "id": "gKqkljI86LFW"
      },
      "source": [
        "**FINAL問題 ソート**"
      ]
    },
    {
      "cell_type": "code",
      "metadata": {
        "id": "SxV6sUIa4L8q"
      },
      "source": [
        "#一回目\n",
        "n = int(input())\n",
        "gs = [None] *n\n",
        "\n",
        "for i in range(n):\n",
        "  [g, s] = input().split()\n",
        "  g = int(g)\n",
        "  s = int(s)\n",
        "  gs[i] = [g, s]\n",
        "\n",
        "print(gs)\n",
        "GS = sorted(gs, reverse=True)\n",
        "GS = sorted(GS, reverse=True, key= lambda x: x[1])\n",
        "print(GS)\n",
        "\n",
        "for i in range(n):\n",
        "  [G, S] = GS[i]\n",
        "  print(G, S)"
      ],
      "execution_count": null,
      "outputs": []
    },
    {
      "cell_type": "markdown",
      "metadata": {
        "id": "bQormPVb6aC7"
      },
      "source": [
        "# 辞書"
      ]
    },
    {
      "cell_type": "markdown",
      "metadata": {
        "id": "ryp-NYkv6bz-"
      },
      "source": [
        "**STEP: 1 辞書の基本**"
      ]
    },
    {
      "cell_type": "code",
      "metadata": {
        "id": "ucOZBaiJ6g9b"
      },
      "source": [
        "#１回目\n",
        "n = int(input())\n",
        "name = [None] *n\n",
        "for i in range(n):\n",
        "  name[i] = input().split()\n",
        " \n",
        "a = dict(name) #dict()はリストやタプル型を辞書型に変換する\n",
        "print(a[input()])"
      ],
      "execution_count": null,
      "outputs": []
    },
    {
      "cell_type": "markdown",
      "metadata": {
        "id": "FAIOn7yEn3dP"
      },
      "source": [
        "**STEP: 2 辞書のデータ更新**"
      ]
    },
    {
      "cell_type": "code",
      "metadata": {
        "id": "CNQN4-bRKvG8"
      },
      "source": [
        "#１回目\n",
        "n = int(input())\n",
        "name = [None] *n\n",
        "for i in range(n):\n",
        "  name[i] = input(),int(0)\n",
        "\n",
        "print(name)\n",
        "name_dict = dict(name)\n",
        "print(name_dict)\n",
        "\n",
        "m = int(input())\n",
        "for i in range(m):\n",
        "  a = input().split()\n",
        "  print(a)\n",
        "  a[1] = int(a[1])\n",
        "  print(a[1])\n",
        "  print(a[0])\n",
        "  name_dict[a[0]] += a[1]\n",
        "print(name_dict)\n",
        "\n",
        "print(name_dict[input()])"
      ],
      "execution_count": null,
      "outputs": []
    },
    {
      "cell_type": "markdown",
      "metadata": {
        "id": "Ks8mV9Fhn6BX"
      },
      "source": [
        "**STEP: 3 辞書データの順序**"
      ]
    },
    {
      "cell_type": "code",
      "metadata": {
        "id": "_cZPlcDKn85G"
      },
      "source": [
        "#１回目不正解 \n",
        "n = int(input())\n",
        "dmg = {}\n",
        "\n",
        "for i in range(n):\n",
        "    s = input()\n",
        "    dmg[s] = 0\n",
        "\n",
        "m = int(input())\n",
        "\n",
        "for i in range(m):\n",
        "    [p, a] = input().split()\n",
        "    a = int(a)\n",
        "    dmg[p] += a\n",
        "\n",
        "names = list(dmg.keys())\n",
        "names.sort()\n",
        "\n",
        "for name in names:\n",
        "    print(dmg[name])"
      ],
      "execution_count": null,
      "outputs": []
    },
    {
      "cell_type": "markdown",
      "metadata": {
        "id": "obS2M1o3CcqF"
      },
      "source": [
        "**FINAL問題 辞書**"
      ]
    },
    {
      "cell_type": "code",
      "metadata": {
        "id": "lkG1lVLKCemG"
      },
      "source": [
        "p q r = input(), split()\n",
        "p = int(p) # AグループからBグループへの依頼数(p+2)行目から(p+q+2)行目まで\n",
        "q = int(q) # BグループからCグループへの依頼数\n",
        "for \n"
      ],
      "execution_count": null,
      "outputs": []
    }
  ]
}