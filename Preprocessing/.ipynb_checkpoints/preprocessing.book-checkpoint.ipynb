{
 "cells": [
  {
   "cell_type": "markdown",
   "id": "responsible-rotation",
   "metadata": {},
   "source": [
    "# 前処理大全"
   ]
  },
  {
   "cell_type": "markdown",
   "id": "resident-mercy",
   "metadata": {},
   "source": [
    "# 第一章 前処理とは"
   ]
  },
  {
   "cell_type": "markdown",
   "id": "helpful-breakfast",
   "metadata": {},
   "source": [
    "### データ分析の３つの前処理\n",
    "- 表やグラフ作成用の前処理\n",
    "- 教師なし学習へ入力するための前処理\n",
    "- 教師あり学習へ入力するための前処理"
   ]
  },
  {
   "cell_type": "markdown",
   "id": "olympic-grace",
   "metadata": {},
   "source": [
    "### 前処理の流れ  \n",
    "#### 1 データ構造を対象とした処理:大きなデータを扱うので、SQLが有利。  \n",
    "- 対象データの抽出や結合、集約など  \n",
    " \n",
    "#### 2 データ内容を対象とした処理：値の修正などのため、python有利。  \n",
    "- データ内容の変更や、欠損値の補完など  \n",
    "→ 集計やグラフの描写に使用  \n",
    "- 機械学習モデルのために変換  \n",
    "→ 教師なし学習用データ  \n",
    "    \n",
    "#### 3 データ構造を対象とした処理:機械学習用のライブラリの多いpythonを使用。  \n",
    "- 学習、テストデータの分割  \n",
    "→ 教師あり学習用データ  "
   ]
  },
  {
   "cell_type": "markdown",
   "id": "signed-domestic",
   "metadata": {},
   "source": [
    "## 第二章 抽出\n",
    "データサイズを小さくするメリットは多いので、必要なデータのみを抽出するようにする。"
   ]
  },
  {
   "cell_type": "markdown",
   "id": "voluntary-showcase",
   "metadata": {},
   "source": [
    "### 注意事項\n",
    "- iloc、ixなど値で指定する方法は不推奨、locや配列に文字列を使用する事を推奨。\n",
    "- indexが無い場合、条件指定時に全探索する事になる。indexがあれば、必要範囲の指定となるので処理速度が向上。\n",
    "- 条件指定抽出は、query関数が一番視認性が良いので推奨。\n",
    "- データ量を指定の数に減らせるsample関数は重要であるが、指定する項目の選択によってはデータ割合に支障をきたすので注意が必要。"
   ]
  },
  {
   "cell_type": "markdown",
   "id": "intended-homework",
   "metadata": {},
   "source": [
    "# 第三章 集約"
   ]
  },
  {
   "cell_type": "markdown",
   "id": "pleased-feeling",
   "metadata": {},
   "source": [
    "集約方法は大きく分けると２つの方法がある  \n",
    "- groupby    : 条件表現が豊富、但し記述量が多い。\n",
    "- Window関数  : SQLが簡単に書けてオススメ！！ グループ毎に並び替えて順位づけする事に長けている。\n",
    "\n",
    "**注意事項**  \n",
    "- 集約処理とwindow関数の実行を同時にはできない。（SQLはできる)\n"
   ]
  },
  {
   "cell_type": "markdown",
   "id": "sustained-barrier",
   "metadata": {},
   "source": [
    "### aggが便利\n",
    "- agg({\"指定先1\":処理内容1,\"指定先2\":処理内容})と記述するだけで、複数の処理を行ってくれる。 \n",
    "- １つの処理の時には、記述量が増えるので使わない。"
   ]
  },
  {
   "cell_type": "markdown",
   "id": "precious-portal",
   "metadata": {},
   "source": [
    "# 第四章 結合"
   ]
  },
  {
   "cell_type": "markdown",
   "id": "consecutive-smooth",
   "metadata": {},
   "source": [
    "### マスターテーブルとレコードテーブル\n",
    "- マスターテーブルは、顧客の情報などの共通情報を保管しており、顧客IDを持っている。\n",
    "- レコードテーブルは、商品情報や店舗情報など様々な種類がある。\n",
    "\n",
    "レコードテーブルにも顧客IDを所持するものもあり、マスターテーブルと結合することで、顧客情報の紐付けができる。\n",
    "\n",
    "### 注意事項  \n",
    "結合前になるべく不要なもの除くために抽出しておく。  \n",
    "\n",
    "### 過去データの取扱　　\n",
    "- 結合対象の期間を絞る。\n",
    "- 結合した過去データに集約関数を利用する。 window関数が最適、但しpythonは実装されてないのでrolling関数を利用する。  \n",
    "  rolling: https://pandas.pydata.org/docs/reference/api/pandas.DataFrame.rolling.html"
   ]
  },
  {
   "cell_type": "markdown",
   "id": "spare-italian",
   "metadata": {},
   "source": [
    "# 第五章 分割  \n",
    "SQLでの作業は全く効率的でないためしない事。"
   ]
  },
  {
   "cell_type": "markdown",
   "id": "fiscal-construction",
   "metadata": {},
   "source": [
    "## 時系列データにおける処理\n",
    "- 単純な交差検証は有効ではない。未来のデータが混じっている可能性がある。\n",
    "- 上記の対策として、期間をスライドさせたり、期間を追加していく検証方法が有効。"
   ]
  },
  {
   "cell_type": "code",
   "execution_count": null,
   "id": "solar-necessity",
   "metadata": {},
   "outputs": [],
   "source": []
  }
 ],
 "metadata": {
  "kernelspec": {
   "display_name": "Python 3",
   "language": "python",
   "name": "python3"
  },
  "language_info": {
   "codemirror_mode": {
    "name": "ipython",
    "version": 3
   },
   "file_extension": ".py",
   "mimetype": "text/x-python",
   "name": "python",
   "nbconvert_exporter": "python",
   "pygments_lexer": "ipython3",
   "version": "3.9.2"
  }
 },
 "nbformat": 4,
 "nbformat_minor": 5
}
