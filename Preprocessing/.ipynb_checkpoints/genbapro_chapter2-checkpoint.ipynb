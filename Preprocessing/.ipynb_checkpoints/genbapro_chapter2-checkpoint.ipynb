{
 "cells": [
  {
   "cell_type": "markdown",
   "id": "public-correspondence",
   "metadata": {},
   "source": [
    "# 現場のプロが伝える前処理技術 Chapter2"
   ]
  },
  {
   "cell_type": "markdown",
   "id": "valid-tonight",
   "metadata": {},
   "source": [
    "## chapter 2-5　カテゴリカル変数の処理"
   ]
  },
  {
   "cell_type": "markdown",
   "id": "flying-algorithm",
   "metadata": {},
   "source": [
    "文字列をそのママ機械学習で使う事は出来ないので、数値に変換する必要があります。  \n",
    "カテゴリ変数に関しては、順序尺度が関係あれば順序ラベルエンコーディング、関係なければOneHotエンコーディングで基本問題ない。  \n",
    "ユニーク地が多い場合には、ターゲットエンコーディングを考える。\n",
    "\n",
    "**尺度の種類**\n",
    "- 名義尺度 : 大小関係ない、名前そのものに関係あり。 性別とか\n",
    "- 順序尺度 : 大小関係あり、その感覚には意味はない。 服のサイズとか\n",
    "- 間隔尺度 : 大小関係あり、間隔に意味はあるが、比較には関係なし。  摂氏温度とか\n",
    "- 比尺度  :  大小関係あり、間隔、比較にも意味がある。 年齢、体重とか"
   ]
  },
  {
   "cell_type": "code",
   "execution_count": 1,
   "id": "solid-netherlands",
   "metadata": {},
   "outputs": [
    {
     "data": {
      "text/html": [
       "<div>\n",
       "<style scoped>\n",
       "    .dataframe tbody tr th:only-of-type {\n",
       "        vertical-align: middle;\n",
       "    }\n",
       "\n",
       "    .dataframe tbody tr th {\n",
       "        vertical-align: top;\n",
       "    }\n",
       "\n",
       "    .dataframe thead th {\n",
       "        text-align: right;\n",
       "    }\n",
       "</style>\n",
       "<table border=\"1\" class=\"dataframe\">\n",
       "  <thead>\n",
       "    <tr style=\"text-align: right;\">\n",
       "      <th></th>\n",
       "      <th>SIZE</th>\n",
       "      <th>PRICE</th>\n",
       "    </tr>\n",
       "  </thead>\n",
       "  <tbody>\n",
       "    <tr>\n",
       "      <th>0</th>\n",
       "      <td>L</td>\n",
       "      <td>250</td>\n",
       "    </tr>\n",
       "    <tr>\n",
       "      <th>1</th>\n",
       "      <td>M</td>\n",
       "      <td>200</td>\n",
       "    </tr>\n",
       "    <tr>\n",
       "      <th>2</th>\n",
       "      <td>S</td>\n",
       "      <td>150</td>\n",
       "    </tr>\n",
       "    <tr>\n",
       "      <th>3</th>\n",
       "      <td>L</td>\n",
       "      <td>250</td>\n",
       "    </tr>\n",
       "  </tbody>\n",
       "</table>\n",
       "</div>"
      ],
      "text/plain": [
       "  SIZE PRICE\n",
       "0    L   250\n",
       "1    M   200\n",
       "2    S   150\n",
       "3    L   250"
      ]
     },
     "execution_count": 1,
     "metadata": {},
     "output_type": "execute_result"
    }
   ],
   "source": [
    "import pandas as pd\n",
    "\n",
    "df = pd.DataFrame({'SIZE':['L', 'M', 'S', 'L'],\n",
    "                  \"PRICE\":[\"250\", '200', '150', '250']\n",
    "                  })\n",
    "\n",
    "df"
   ]
  },
  {
   "cell_type": "markdown",
   "id": "liquid-youth",
   "metadata": {},
   "source": [
    "### 順序ラベル・エンコーディング"
   ]
  },
  {
   "cell_type": "code",
   "execution_count": 2,
   "id": "endless-authorization",
   "metadata": {},
   "outputs": [
    {
     "data": {
      "text/html": [
       "<div>\n",
       "<style scoped>\n",
       "    .dataframe tbody tr th:only-of-type {\n",
       "        vertical-align: middle;\n",
       "    }\n",
       "\n",
       "    .dataframe tbody tr th {\n",
       "        vertical-align: top;\n",
       "    }\n",
       "\n",
       "    .dataframe thead th {\n",
       "        text-align: right;\n",
       "    }\n",
       "</style>\n",
       "<table border=\"1\" class=\"dataframe\">\n",
       "  <thead>\n",
       "    <tr style=\"text-align: right;\">\n",
       "      <th></th>\n",
       "      <th>SIZE</th>\n",
       "      <th>PRICE</th>\n",
       "    </tr>\n",
       "  </thead>\n",
       "  <tbody>\n",
       "    <tr>\n",
       "      <th>0</th>\n",
       "      <td>2</td>\n",
       "      <td>250</td>\n",
       "    </tr>\n",
       "    <tr>\n",
       "      <th>1</th>\n",
       "      <td>1</td>\n",
       "      <td>200</td>\n",
       "    </tr>\n",
       "    <tr>\n",
       "      <th>2</th>\n",
       "      <td>0</td>\n",
       "      <td>150</td>\n",
       "    </tr>\n",
       "    <tr>\n",
       "      <th>3</th>\n",
       "      <td>2</td>\n",
       "      <td>250</td>\n",
       "    </tr>\n",
       "  </tbody>\n",
       "</table>\n",
       "</div>"
      ],
      "text/plain": [
       "   SIZE PRICE\n",
       "0     2   250\n",
       "1     1   200\n",
       "2     0   150\n",
       "3     2   250"
      ]
     },
     "execution_count": 2,
     "metadata": {},
     "output_type": "execute_result"
    }
   ],
   "source": [
    "#category encoder インポート\n",
    "import category_encoders as ce\n",
    "#マップを辞書で学習\n",
    "mapping = [{'col': 'SIZE', 'mapping': {'S': 0, 'M': 1, 'L': 2}}]\n",
    "#エンコーダーをインスタンス化\n",
    "enc = ce.OrdinalEncoder(mapping=mapping)\n",
    "#マップを学習\n",
    "enc.fit(df)\n",
    "#変換\n",
    "enc.transform(df)"
   ]
  },
  {
   "cell_type": "markdown",
   "id": "respective-pendant",
   "metadata": {},
   "source": [
    "### One-hotエンコーディング"
   ]
  },
  {
   "cell_type": "code",
   "execution_count": 3,
   "id": "agricultural-amount",
   "metadata": {},
   "outputs": [
    {
     "name": "stderr",
     "output_type": "stream",
     "text": [
      "/usr/local/lib/python3.9/site-packages/category_encoders/utils.py:21: FutureWarning: is_categorical is deprecated and will be removed in a future version.  Use is_categorical_dtype instead\n",
      "  elif pd.api.types.is_categorical(cols):\n"
     ]
    },
    {
     "data": {
      "text/html": [
       "<div>\n",
       "<style scoped>\n",
       "    .dataframe tbody tr th:only-of-type {\n",
       "        vertical-align: middle;\n",
       "    }\n",
       "\n",
       "    .dataframe tbody tr th {\n",
       "        vertical-align: top;\n",
       "    }\n",
       "\n",
       "    .dataframe thead th {\n",
       "        text-align: right;\n",
       "    }\n",
       "</style>\n",
       "<table border=\"1\" class=\"dataframe\">\n",
       "  <thead>\n",
       "    <tr style=\"text-align: right;\">\n",
       "      <th></th>\n",
       "      <th>MaritalStatus_ Never-married</th>\n",
       "      <th>MaritalStatus_ Married-civ-spouse</th>\n",
       "      <th>MaritalStatus_ Divorced</th>\n",
       "      <th>MaritalStatus_ Married-spouse-absent</th>\n",
       "      <th>MaritalStatus_ Separated</th>\n",
       "      <th>MaritalStatus_ Married-AF-spouse</th>\n",
       "      <th>MaritalStatus_ Widowed</th>\n",
       "    </tr>\n",
       "  </thead>\n",
       "  <tbody>\n",
       "    <tr>\n",
       "      <th>0</th>\n",
       "      <td>1</td>\n",
       "      <td>0</td>\n",
       "      <td>0</td>\n",
       "      <td>0</td>\n",
       "      <td>0</td>\n",
       "      <td>0</td>\n",
       "      <td>0</td>\n",
       "    </tr>\n",
       "    <tr>\n",
       "      <th>1</th>\n",
       "      <td>0</td>\n",
       "      <td>1</td>\n",
       "      <td>0</td>\n",
       "      <td>0</td>\n",
       "      <td>0</td>\n",
       "      <td>0</td>\n",
       "      <td>0</td>\n",
       "    </tr>\n",
       "    <tr>\n",
       "      <th>2</th>\n",
       "      <td>0</td>\n",
       "      <td>0</td>\n",
       "      <td>1</td>\n",
       "      <td>0</td>\n",
       "      <td>0</td>\n",
       "      <td>0</td>\n",
       "      <td>0</td>\n",
       "    </tr>\n",
       "    <tr>\n",
       "      <th>3</th>\n",
       "      <td>0</td>\n",
       "      <td>1</td>\n",
       "      <td>0</td>\n",
       "      <td>0</td>\n",
       "      <td>0</td>\n",
       "      <td>0</td>\n",
       "      <td>0</td>\n",
       "    </tr>\n",
       "    <tr>\n",
       "      <th>4</th>\n",
       "      <td>0</td>\n",
       "      <td>1</td>\n",
       "      <td>0</td>\n",
       "      <td>0</td>\n",
       "      <td>0</td>\n",
       "      <td>0</td>\n",
       "      <td>0</td>\n",
       "    </tr>\n",
       "    <tr>\n",
       "      <th>...</th>\n",
       "      <td>...</td>\n",
       "      <td>...</td>\n",
       "      <td>...</td>\n",
       "      <td>...</td>\n",
       "      <td>...</td>\n",
       "      <td>...</td>\n",
       "      <td>...</td>\n",
       "    </tr>\n",
       "    <tr>\n",
       "      <th>32556</th>\n",
       "      <td>0</td>\n",
       "      <td>1</td>\n",
       "      <td>0</td>\n",
       "      <td>0</td>\n",
       "      <td>0</td>\n",
       "      <td>0</td>\n",
       "      <td>0</td>\n",
       "    </tr>\n",
       "    <tr>\n",
       "      <th>32557</th>\n",
       "      <td>0</td>\n",
       "      <td>1</td>\n",
       "      <td>0</td>\n",
       "      <td>0</td>\n",
       "      <td>0</td>\n",
       "      <td>0</td>\n",
       "      <td>0</td>\n",
       "    </tr>\n",
       "    <tr>\n",
       "      <th>32558</th>\n",
       "      <td>0</td>\n",
       "      <td>0</td>\n",
       "      <td>0</td>\n",
       "      <td>0</td>\n",
       "      <td>0</td>\n",
       "      <td>0</td>\n",
       "      <td>1</td>\n",
       "    </tr>\n",
       "    <tr>\n",
       "      <th>32559</th>\n",
       "      <td>1</td>\n",
       "      <td>0</td>\n",
       "      <td>0</td>\n",
       "      <td>0</td>\n",
       "      <td>0</td>\n",
       "      <td>0</td>\n",
       "      <td>0</td>\n",
       "    </tr>\n",
       "    <tr>\n",
       "      <th>32560</th>\n",
       "      <td>0</td>\n",
       "      <td>1</td>\n",
       "      <td>0</td>\n",
       "      <td>0</td>\n",
       "      <td>0</td>\n",
       "      <td>0</td>\n",
       "      <td>0</td>\n",
       "    </tr>\n",
       "  </tbody>\n",
       "</table>\n",
       "<p>32561 rows × 7 columns</p>\n",
       "</div>"
      ],
      "text/plain": [
       "       MaritalStatus_ Never-married  MaritalStatus_ Married-civ-spouse  \\\n",
       "0                                 1                                  0   \n",
       "1                                 0                                  1   \n",
       "2                                 0                                  0   \n",
       "3                                 0                                  1   \n",
       "4                                 0                                  1   \n",
       "...                             ...                                ...   \n",
       "32556                             0                                  1   \n",
       "32557                             0                                  1   \n",
       "32558                             0                                  0   \n",
       "32559                             1                                  0   \n",
       "32560                             0                                  1   \n",
       "\n",
       "       MaritalStatus_ Divorced  MaritalStatus_ Married-spouse-absent  \\\n",
       "0                            0                                     0   \n",
       "1                            0                                     0   \n",
       "2                            1                                     0   \n",
       "3                            0                                     0   \n",
       "4                            0                                     0   \n",
       "...                        ...                                   ...   \n",
       "32556                        0                                     0   \n",
       "32557                        0                                     0   \n",
       "32558                        0                                     0   \n",
       "32559                        0                                     0   \n",
       "32560                        0                                     0   \n",
       "\n",
       "       MaritalStatus_ Separated  MaritalStatus_ Married-AF-spouse  \\\n",
       "0                             0                                 0   \n",
       "1                             0                                 0   \n",
       "2                             0                                 0   \n",
       "3                             0                                 0   \n",
       "4                             0                                 0   \n",
       "...                         ...                               ...   \n",
       "32556                         0                                 0   \n",
       "32557                         0                                 0   \n",
       "32558                         0                                 0   \n",
       "32559                         0                                 0   \n",
       "32560                         0                                 0   \n",
       "\n",
       "       MaritalStatus_ Widowed  \n",
       "0                           0  \n",
       "1                           0  \n",
       "2                           0  \n",
       "3                           0  \n",
       "4                           0  \n",
       "...                       ...  \n",
       "32556                       0  \n",
       "32557                       0  \n",
       "32558                       1  \n",
       "32559                       0  \n",
       "32560                       0  \n",
       "\n",
       "[32561 rows x 7 columns]"
      ]
     },
     "execution_count": 3,
     "metadata": {},
     "output_type": "execute_result"
    }
   ],
   "source": [
    "#df_adultを読み込む\n",
    "df_adult_m = pd.read_csv('./genbapro_preprocessing/chapter2-data/adult.data', header=None)\n",
    "df_adult_m.columns = [\n",
    "    \"Age\", \"WorkClass\", \"fnlwgt\", \"Education\", \"EducationNum\", \"MaritalStatus\",\n",
    "    \"Occupation\", \"Relationship\", \"Race\", \"Gender\", \"CapitalGain\",\n",
    "    \"CapitalLoss\", \"HoursPerWeek\", \"NativeCountry\", \"Income\"\n",
    "]\n",
    "df_adult = df_adult_m.copy()\n",
    "\n",
    "#OneHotEncoder 1インスタンス化\n",
    "#use_cat_names をTrueとすることで変数名が元のカテゴリ名に対応する\n",
    "encoder = ce.OneHotEncoder(use_cat_names=True)\n",
    "#学習\n",
    "encoder.fit_transform(df_adult['MaritalStatus'])"
   ]
  },
  {
   "cell_type": "code",
   "execution_count": 4,
   "id": "spiritual-attachment",
   "metadata": {},
   "outputs": [
    {
     "data": {
      "text/html": [
       "<div>\n",
       "<style scoped>\n",
       "    .dataframe tbody tr th:only-of-type {\n",
       "        vertical-align: middle;\n",
       "    }\n",
       "\n",
       "    .dataframe tbody tr th {\n",
       "        vertical-align: top;\n",
       "    }\n",
       "\n",
       "    .dataframe thead th {\n",
       "        text-align: right;\n",
       "    }\n",
       "</style>\n",
       "<table border=\"1\" class=\"dataframe\">\n",
       "  <thead>\n",
       "    <tr style=\"text-align: right;\">\n",
       "      <th></th>\n",
       "      <th>顧客ID</th>\n",
       "      <th>購買日時</th>\n",
       "      <th>商品名</th>\n",
       "      <th>数量</th>\n",
       "      <th>金額</th>\n",
       "      <th>更新日時</th>\n",
       "    </tr>\n",
       "  </thead>\n",
       "  <tbody>\n",
       "    <tr>\n",
       "      <th>0</th>\n",
       "      <td>10001</td>\n",
       "      <td>2019/7/1</td>\n",
       "      <td>A</td>\n",
       "      <td>1</td>\n",
       "      <td>100</td>\n",
       "      <td>2019/7/1</td>\n",
       "    </tr>\n",
       "    <tr>\n",
       "      <th>1</th>\n",
       "      <td>10001</td>\n",
       "      <td>2019/7/1</td>\n",
       "      <td>B</td>\n",
       "      <td>2</td>\n",
       "      <td>300</td>\n",
       "      <td>2019/7/1</td>\n",
       "    </tr>\n",
       "    <tr>\n",
       "      <th>2</th>\n",
       "      <td>10002</td>\n",
       "      <td>2019/7/1</td>\n",
       "      <td>A</td>\n",
       "      <td>2</td>\n",
       "      <td>200</td>\n",
       "      <td>2019/7/1</td>\n",
       "    </tr>\n",
       "    <tr>\n",
       "      <th>3</th>\n",
       "      <td>10002</td>\n",
       "      <td>2019/7/1</td>\n",
       "      <td>B</td>\n",
       "      <td>2</td>\n",
       "      <td>300</td>\n",
       "      <td>2019/7/1</td>\n",
       "    </tr>\n",
       "    <tr>\n",
       "      <th>4</th>\n",
       "      <td>10002</td>\n",
       "      <td>2019/7/1</td>\n",
       "      <td>C</td>\n",
       "      <td>1</td>\n",
       "      <td>200</td>\n",
       "      <td>2019/7/1</td>\n",
       "    </tr>\n",
       "    <tr>\n",
       "      <th>5</th>\n",
       "      <td>10003</td>\n",
       "      <td>2019/7/1</td>\n",
       "      <td>D</td>\n",
       "      <td>1</td>\n",
       "      <td>250</td>\n",
       "      <td>2019/7/1</td>\n",
       "    </tr>\n",
       "  </tbody>\n",
       "</table>\n",
       "</div>"
      ],
      "text/plain": [
       "    顧客ID      購買日時 商品名  数量   金額      更新日時\n",
       "0  10001  2019/7/1   A   1  100  2019/7/1\n",
       "1  10001  2019/7/1   B   2  300  2019/7/1\n",
       "2  10002  2019/7/1   A   2  200  2019/7/1\n",
       "3  10002  2019/7/1   B   2  300  2019/7/1\n",
       "4  10002  2019/7/1   C   1  200  2019/7/1\n",
       "5  10003  2019/7/1   D   1  250  2019/7/1"
      ]
     },
     "execution_count": 4,
     "metadata": {},
     "output_type": "execute_result"
    }
   ],
   "source": [
    "#購買トランザクション読み込み\n",
    "df = pd.read_csv('./genbapro_preprocessing/chapter2-data/sales201907.csv')\n",
    "df"
   ]
  },
  {
   "cell_type": "code",
   "execution_count": 5,
   "id": "expired-pendant",
   "metadata": {},
   "outputs": [
    {
     "name": "stderr",
     "output_type": "stream",
     "text": [
      "/usr/local/lib/python3.9/site-packages/category_encoders/utils.py:21: FutureWarning: is_categorical is deprecated and will be removed in a future version.  Use is_categorical_dtype instead\n",
      "  elif pd.api.types.is_categorical(cols):\n"
     ]
    },
    {
     "data": {
      "text/html": [
       "<div>\n",
       "<style scoped>\n",
       "    .dataframe tbody tr th:only-of-type {\n",
       "        vertical-align: middle;\n",
       "    }\n",
       "\n",
       "    .dataframe tbody tr th {\n",
       "        vertical-align: top;\n",
       "    }\n",
       "\n",
       "    .dataframe thead th {\n",
       "        text-align: right;\n",
       "    }\n",
       "</style>\n",
       "<table border=\"1\" class=\"dataframe\">\n",
       "  <thead>\n",
       "    <tr style=\"text-align: right;\">\n",
       "      <th></th>\n",
       "      <th>顧客ID</th>\n",
       "      <th>商品名_A</th>\n",
       "      <th>商品名_B</th>\n",
       "      <th>商品名_C</th>\n",
       "      <th>商品名_D</th>\n",
       "      <th>数量</th>\n",
       "      <th>金額</th>\n",
       "      <th>更新日時_2019/7/1</th>\n",
       "    </tr>\n",
       "  </thead>\n",
       "  <tbody>\n",
       "    <tr>\n",
       "      <th>0</th>\n",
       "      <td>10001</td>\n",
       "      <td>1</td>\n",
       "      <td>0</td>\n",
       "      <td>0</td>\n",
       "      <td>0</td>\n",
       "      <td>1</td>\n",
       "      <td>100</td>\n",
       "      <td>1</td>\n",
       "    </tr>\n",
       "    <tr>\n",
       "      <th>1</th>\n",
       "      <td>10001</td>\n",
       "      <td>0</td>\n",
       "      <td>1</td>\n",
       "      <td>0</td>\n",
       "      <td>0</td>\n",
       "      <td>2</td>\n",
       "      <td>300</td>\n",
       "      <td>1</td>\n",
       "    </tr>\n",
       "    <tr>\n",
       "      <th>2</th>\n",
       "      <td>10002</td>\n",
       "      <td>1</td>\n",
       "      <td>0</td>\n",
       "      <td>0</td>\n",
       "      <td>0</td>\n",
       "      <td>2</td>\n",
       "      <td>200</td>\n",
       "      <td>1</td>\n",
       "    </tr>\n",
       "    <tr>\n",
       "      <th>3</th>\n",
       "      <td>10002</td>\n",
       "      <td>0</td>\n",
       "      <td>1</td>\n",
       "      <td>0</td>\n",
       "      <td>0</td>\n",
       "      <td>2</td>\n",
       "      <td>300</td>\n",
       "      <td>1</td>\n",
       "    </tr>\n",
       "    <tr>\n",
       "      <th>4</th>\n",
       "      <td>10002</td>\n",
       "      <td>0</td>\n",
       "      <td>0</td>\n",
       "      <td>1</td>\n",
       "      <td>0</td>\n",
       "      <td>1</td>\n",
       "      <td>200</td>\n",
       "      <td>1</td>\n",
       "    </tr>\n",
       "    <tr>\n",
       "      <th>5</th>\n",
       "      <td>10003</td>\n",
       "      <td>0</td>\n",
       "      <td>0</td>\n",
       "      <td>0</td>\n",
       "      <td>1</td>\n",
       "      <td>1</td>\n",
       "      <td>250</td>\n",
       "      <td>1</td>\n",
       "    </tr>\n",
       "  </tbody>\n",
       "</table>\n",
       "</div>"
      ],
      "text/plain": [
       "    顧客ID  商品名_A  商品名_B  商品名_C  商品名_D  数量   金額  更新日時_2019/7/1\n",
       "0  10001      1      0      0      0   1  100              1\n",
       "1  10001      0      1      0      0   2  300              1\n",
       "2  10002      1      0      0      0   2  200              1\n",
       "3  10002      0      1      0      0   2  300              1\n",
       "4  10002      0      0      1      0   1  200              1\n",
       "5  10003      0      0      0      1   1  250              1"
      ]
     },
     "execution_count": 5,
     "metadata": {},
     "output_type": "execute_result"
    }
   ],
   "source": [
    "encoder = ce.OneHotEncoder(use_cat_names=True)\n",
    "\n",
    "df_enc = encoder.fit_transform(df.drop(\"購買日時\", axis=1))\n",
    "df_enc"
   ]
  },
  {
   "cell_type": "code",
   "execution_count": 6,
   "id": "statistical-american",
   "metadata": {},
   "outputs": [
    {
     "data": {
      "text/html": [
       "<div>\n",
       "<style scoped>\n",
       "    .dataframe tbody tr th:only-of-type {\n",
       "        vertical-align: middle;\n",
       "    }\n",
       "\n",
       "    .dataframe tbody tr th {\n",
       "        vertical-align: top;\n",
       "    }\n",
       "\n",
       "    .dataframe thead th {\n",
       "        text-align: right;\n",
       "    }\n",
       "</style>\n",
       "<table border=\"1\" class=\"dataframe\">\n",
       "  <thead>\n",
       "    <tr style=\"text-align: right;\">\n",
       "      <th></th>\n",
       "      <th>商品名_A</th>\n",
       "      <th>商品名_B</th>\n",
       "      <th>商品名_C</th>\n",
       "      <th>商品名_D</th>\n",
       "      <th>数量</th>\n",
       "      <th>更新日時_2019/7/1</th>\n",
       "      <th>金額</th>\n",
       "    </tr>\n",
       "    <tr>\n",
       "      <th>顧客ID</th>\n",
       "      <th></th>\n",
       "      <th></th>\n",
       "      <th></th>\n",
       "      <th></th>\n",
       "      <th></th>\n",
       "      <th></th>\n",
       "      <th></th>\n",
       "    </tr>\n",
       "  </thead>\n",
       "  <tbody>\n",
       "    <tr>\n",
       "      <th>10001</th>\n",
       "      <td>1</td>\n",
       "      <td>1</td>\n",
       "      <td>0</td>\n",
       "      <td>0</td>\n",
       "      <td>3</td>\n",
       "      <td>2</td>\n",
       "      <td>400</td>\n",
       "    </tr>\n",
       "    <tr>\n",
       "      <th>10002</th>\n",
       "      <td>1</td>\n",
       "      <td>1</td>\n",
       "      <td>1</td>\n",
       "      <td>0</td>\n",
       "      <td>5</td>\n",
       "      <td>3</td>\n",
       "      <td>700</td>\n",
       "    </tr>\n",
       "    <tr>\n",
       "      <th>10003</th>\n",
       "      <td>0</td>\n",
       "      <td>0</td>\n",
       "      <td>0</td>\n",
       "      <td>1</td>\n",
       "      <td>1</td>\n",
       "      <td>1</td>\n",
       "      <td>250</td>\n",
       "    </tr>\n",
       "  </tbody>\n",
       "</table>\n",
       "</div>"
      ],
      "text/plain": [
       "       商品名_A  商品名_B  商品名_C  商品名_D  数量  更新日時_2019/7/1   金額\n",
       "顧客ID                                                     \n",
       "10001      1      1      0      0   3              2  400\n",
       "10002      1      1      1      0   5              3  700\n",
       "10003      0      0      0      1   1              1  250"
      ]
     },
     "execution_count": 6,
     "metadata": {},
     "output_type": "execute_result"
    }
   ],
   "source": [
    "# ピボットテーブル\n",
    "pd.pivot_table(df_enc, index=\"顧客ID\", aggfunc=\"sum\")"
   ]
  },
  {
   "cell_type": "markdown",
   "id": "taken-event",
   "metadata": {},
   "source": [
    "### ターゲットエンコーディング"
   ]
  },
  {
   "cell_type": "markdown",
   "id": "capital-clause",
   "metadata": {},
   "source": [
    "web履歴情報など非常に多くのユニーク値を持つ場合に目的変数の情報を利用し、  \n",
    "カテゴリカル変数を数値に変換する方法で、Kaggle等の機械学習コンペではよく用いられているようです。  \n",
    "目的変数がBoolean表現の場合、カテゴリごとの確率を、数値であればカテゴリごとの平均を特徴量とします。  \n",
    "\n",
    "注意事項:学習ありモデルにしか使用できない。"
   ]
  },
  {
   "cell_type": "code",
   "execution_count": 7,
   "id": "afraid-peeing",
   "metadata": {},
   "outputs": [
    {
     "name": "stderr",
     "output_type": "stream",
     "text": [
      "/usr/local/lib/python3.9/site-packages/category_encoders/utils.py:21: FutureWarning: is_categorical is deprecated and will be removed in a future version.  Use is_categorical_dtype instead\n",
      "  elif pd.api.types.is_categorical(cols):\n",
      "/usr/local/lib/python3.9/site-packages/category_encoders/utils.py:21: FutureWarning: is_categorical is deprecated and will be removed in a future version.  Use is_categorical_dtype instead\n",
      "  elif pd.api.types.is_categorical(cols):\n"
     ]
    },
    {
     "data": {
      "text/html": [
       "<div>\n",
       "<style scoped>\n",
       "    .dataframe tbody tr th:only-of-type {\n",
       "        vertical-align: middle;\n",
       "    }\n",
       "\n",
       "    .dataframe tbody tr th {\n",
       "        vertical-align: top;\n",
       "    }\n",
       "\n",
       "    .dataframe thead th {\n",
       "        text-align: right;\n",
       "    }\n",
       "</style>\n",
       "<table border=\"1\" class=\"dataframe\">\n",
       "  <thead>\n",
       "    <tr style=\"text-align: right;\">\n",
       "      <th></th>\n",
       "      <th>NativeCountry</th>\n",
       "    </tr>\n",
       "  </thead>\n",
       "  <tbody>\n",
       "    <tr>\n",
       "      <th>15282</th>\n",
       "      <td>0.24511</td>\n",
       "    </tr>\n",
       "    <tr>\n",
       "      <th>24870</th>\n",
       "      <td>0.24511</td>\n",
       "    </tr>\n",
       "    <tr>\n",
       "      <th>18822</th>\n",
       "      <td>0.24511</td>\n",
       "    </tr>\n",
       "    <tr>\n",
       "      <th>26404</th>\n",
       "      <td>0.24511</td>\n",
       "    </tr>\n",
       "    <tr>\n",
       "      <th>7842</th>\n",
       "      <td>0.24511</td>\n",
       "    </tr>\n",
       "  </tbody>\n",
       "</table>\n",
       "</div>"
      ],
      "text/plain": [
       "       NativeCountry\n",
       "15282        0.24511\n",
       "24870        0.24511\n",
       "18822        0.24511\n",
       "26404        0.24511\n",
       "7842         0.24511"
      ]
     },
     "execution_count": 7,
     "metadata": {},
     "output_type": "execute_result"
    }
   ],
   "source": [
    "from sklearn.model_selection import train_test_split\n",
    "\n",
    "X = df_adult[\"NativeCountry\"]\n",
    "\n",
    "# 教師データのOneHotコーディング\n",
    "encoder = ce.OneHotEncoder(use_cat_names=True)\n",
    "y = encoder.fit_transform(df_adult[\"Income\"]).iloc[:,1]\n",
    "\n",
    "x_train, x_test, y_train, y_test = train_test_split(X, y, test_size=0.2, random_state=0)\n",
    "\n",
    "encoder = ce.TargetEncoder()\n",
    "encoder.fit(x_train, y_train)\n",
    "x_train_enc = encoder.transform(x_train)\n",
    "x_test_enc = encoder.transform(x_test)\n",
    "\n",
    "x_train_enc.head()"
   ]
  },
  {
   "cell_type": "code",
   "execution_count": 8,
   "id": "corporate-consciousness",
   "metadata": {},
   "outputs": [
    {
     "data": {
      "text/html": [
       "<div>\n",
       "<style scoped>\n",
       "    .dataframe tbody tr th:only-of-type {\n",
       "        vertical-align: middle;\n",
       "    }\n",
       "\n",
       "    .dataframe tbody tr th {\n",
       "        vertical-align: top;\n",
       "    }\n",
       "\n",
       "    .dataframe thead th {\n",
       "        text-align: right;\n",
       "    }\n",
       "</style>\n",
       "<table border=\"1\" class=\"dataframe\">\n",
       "  <thead>\n",
       "    <tr style=\"text-align: right;\">\n",
       "      <th></th>\n",
       "      <th>NativeCountry</th>\n",
       "      <th>NativeCountry</th>\n",
       "    </tr>\n",
       "  </thead>\n",
       "  <tbody>\n",
       "    <tr>\n",
       "      <th>15282</th>\n",
       "      <td>United-States</td>\n",
       "      <td>0.245110</td>\n",
       "    </tr>\n",
       "    <tr>\n",
       "      <th>3243</th>\n",
       "      <td>Mexico</td>\n",
       "      <td>0.051282</td>\n",
       "    </tr>\n",
       "    <tr>\n",
       "      <th>26087</th>\n",
       "      <td>Ireland</td>\n",
       "      <td>0.200000</td>\n",
       "    </tr>\n",
       "    <tr>\n",
       "      <th>1379</th>\n",
       "      <td>Canada</td>\n",
       "      <td>0.326316</td>\n",
       "    </tr>\n",
       "    <tr>\n",
       "      <th>27067</th>\n",
       "      <td>Greece</td>\n",
       "      <td>0.240000</td>\n",
       "    </tr>\n",
       "  </tbody>\n",
       "</table>\n",
       "</div>"
      ],
      "text/plain": [
       "        NativeCountry  NativeCountry\n",
       "15282   United-States       0.245110\n",
       "3243           Mexico       0.051282\n",
       "26087         Ireland       0.200000\n",
       "1379           Canada       0.326316\n",
       "27067          Greece       0.240000"
      ]
     },
     "execution_count": 8,
     "metadata": {},
     "output_type": "execute_result"
    }
   ],
   "source": [
    "pd.concat([x_train, x_train_enc], axis=1).drop_duplicates().head()"
   ]
  },
  {
   "cell_type": "markdown",
   "id": "imported-korea",
   "metadata": {},
   "source": [
    "# Chapter 2-6 欠損値の処理"
   ]
  },
  {
   "cell_type": "markdown",
   "id": "opposite-yorkshire",
   "metadata": {},
   "source": [
    "欠損の発生メカニズムは３つの種類がある。\n",
    "- MCAR : 完全なランダムなエラー\n",
    "- MAR  : 欠損が起きている変数と異なる別の変数の値によって欠損がランダムに発生する場合。\n",
    "- NMAR : 欠損が起きている変数そのものの値によって欠損率が変わる場合。\n",
    "\n",
    "MCARは欠損であることに余りなんの意味ももたなにので比較的簡単に処理できるが、  \n",
    "他は処理が大変なので出来るだけ欠損ができないようにデータ収集を行う。"
   ]
  },
  {
   "cell_type": "markdown",
   "id": "grand-ribbon",
   "metadata": {
    "tags": []
   },
   "source": [
    "### サンプルデータの作成"
   ]
  },
  {
   "cell_type": "code",
   "execution_count": 9,
   "id": "honest-champion",
   "metadata": {},
   "outputs": [
    {
     "data": {
      "text/html": [
       "<div>\n",
       "<style scoped>\n",
       "    .dataframe tbody tr th:only-of-type {\n",
       "        vertical-align: middle;\n",
       "    }\n",
       "\n",
       "    .dataframe tbody tr th {\n",
       "        vertical-align: top;\n",
       "    }\n",
       "\n",
       "    .dataframe thead th {\n",
       "        text-align: right;\n",
       "    }\n",
       "</style>\n",
       "<table border=\"1\" class=\"dataframe\">\n",
       "  <thead>\n",
       "    <tr style=\"text-align: right;\">\n",
       "      <th></th>\n",
       "      <th>Age</th>\n",
       "      <th>WorkClass</th>\n",
       "      <th>fnlwgt</th>\n",
       "      <th>Education</th>\n",
       "      <th>EducationNum</th>\n",
       "      <th>MaritalStatus</th>\n",
       "      <th>Occupation</th>\n",
       "      <th>Relationship</th>\n",
       "      <th>Race</th>\n",
       "      <th>Gender</th>\n",
       "      <th>CapitalGain</th>\n",
       "      <th>CapitalLoss</th>\n",
       "      <th>HoursPerWeek</th>\n",
       "      <th>NativeCountry</th>\n",
       "      <th>Income</th>\n",
       "      <th>Age_mcar</th>\n",
       "      <th>Age_mar</th>\n",
       "      <th>Age_mnar</th>\n",
       "    </tr>\n",
       "  </thead>\n",
       "  <tbody>\n",
       "    <tr>\n",
       "      <th>0</th>\n",
       "      <td>39</td>\n",
       "      <td>State-gov</td>\n",
       "      <td>77516</td>\n",
       "      <td>Bachelors</td>\n",
       "      <td>13</td>\n",
       "      <td>Never-married</td>\n",
       "      <td>Adm-clerical</td>\n",
       "      <td>Not-in-family</td>\n",
       "      <td>White</td>\n",
       "      <td>Male</td>\n",
       "      <td>2174</td>\n",
       "      <td>0</td>\n",
       "      <td>40</td>\n",
       "      <td>United-States</td>\n",
       "      <td>&lt;=50K</td>\n",
       "      <td>39.0</td>\n",
       "      <td>39.0</td>\n",
       "      <td>39.0</td>\n",
       "    </tr>\n",
       "    <tr>\n",
       "      <th>1</th>\n",
       "      <td>50</td>\n",
       "      <td>Self-emp-not-inc</td>\n",
       "      <td>83311</td>\n",
       "      <td>Bachelors</td>\n",
       "      <td>13</td>\n",
       "      <td>Married-civ-spouse</td>\n",
       "      <td>Exec-managerial</td>\n",
       "      <td>Husband</td>\n",
       "      <td>White</td>\n",
       "      <td>Male</td>\n",
       "      <td>0</td>\n",
       "      <td>0</td>\n",
       "      <td>13</td>\n",
       "      <td>United-States</td>\n",
       "      <td>&lt;=50K</td>\n",
       "      <td>50.0</td>\n",
       "      <td>NaN</td>\n",
       "      <td>50.0</td>\n",
       "    </tr>\n",
       "    <tr>\n",
       "      <th>2</th>\n",
       "      <td>38</td>\n",
       "      <td>Private</td>\n",
       "      <td>215646</td>\n",
       "      <td>HS-grad</td>\n",
       "      <td>9</td>\n",
       "      <td>Divorced</td>\n",
       "      <td>Handlers-cleaners</td>\n",
       "      <td>Not-in-family</td>\n",
       "      <td>White</td>\n",
       "      <td>Male</td>\n",
       "      <td>0</td>\n",
       "      <td>0</td>\n",
       "      <td>40</td>\n",
       "      <td>United-States</td>\n",
       "      <td>&lt;=50K</td>\n",
       "      <td>NaN</td>\n",
       "      <td>38.0</td>\n",
       "      <td>38.0</td>\n",
       "    </tr>\n",
       "    <tr>\n",
       "      <th>3</th>\n",
       "      <td>53</td>\n",
       "      <td>Private</td>\n",
       "      <td>234721</td>\n",
       "      <td>11th</td>\n",
       "      <td>7</td>\n",
       "      <td>Married-civ-spouse</td>\n",
       "      <td>Handlers-cleaners</td>\n",
       "      <td>Husband</td>\n",
       "      <td>Black</td>\n",
       "      <td>Male</td>\n",
       "      <td>0</td>\n",
       "      <td>0</td>\n",
       "      <td>40</td>\n",
       "      <td>United-States</td>\n",
       "      <td>&lt;=50K</td>\n",
       "      <td>53.0</td>\n",
       "      <td>53.0</td>\n",
       "      <td>53.0</td>\n",
       "    </tr>\n",
       "    <tr>\n",
       "      <th>4</th>\n",
       "      <td>28</td>\n",
       "      <td>Private</td>\n",
       "      <td>338409</td>\n",
       "      <td>Bachelors</td>\n",
       "      <td>13</td>\n",
       "      <td>Married-civ-spouse</td>\n",
       "      <td>Prof-specialty</td>\n",
       "      <td>Wife</td>\n",
       "      <td>Black</td>\n",
       "      <td>Female</td>\n",
       "      <td>0</td>\n",
       "      <td>0</td>\n",
       "      <td>40</td>\n",
       "      <td>Cuba</td>\n",
       "      <td>&lt;=50K</td>\n",
       "      <td>NaN</td>\n",
       "      <td>28.0</td>\n",
       "      <td>28.0</td>\n",
       "    </tr>\n",
       "    <tr>\n",
       "      <th>5</th>\n",
       "      <td>37</td>\n",
       "      <td>Private</td>\n",
       "      <td>284582</td>\n",
       "      <td>Masters</td>\n",
       "      <td>14</td>\n",
       "      <td>Married-civ-spouse</td>\n",
       "      <td>Exec-managerial</td>\n",
       "      <td>Wife</td>\n",
       "      <td>White</td>\n",
       "      <td>Female</td>\n",
       "      <td>0</td>\n",
       "      <td>0</td>\n",
       "      <td>40</td>\n",
       "      <td>United-States</td>\n",
       "      <td>&lt;=50K</td>\n",
       "      <td>NaN</td>\n",
       "      <td>37.0</td>\n",
       "      <td>37.0</td>\n",
       "    </tr>\n",
       "    <tr>\n",
       "      <th>6</th>\n",
       "      <td>49</td>\n",
       "      <td>Private</td>\n",
       "      <td>160187</td>\n",
       "      <td>9th</td>\n",
       "      <td>5</td>\n",
       "      <td>Married-spouse-absent</td>\n",
       "      <td>Other-service</td>\n",
       "      <td>Not-in-family</td>\n",
       "      <td>Black</td>\n",
       "      <td>Female</td>\n",
       "      <td>0</td>\n",
       "      <td>0</td>\n",
       "      <td>16</td>\n",
       "      <td>Jamaica</td>\n",
       "      <td>&lt;=50K</td>\n",
       "      <td>NaN</td>\n",
       "      <td>NaN</td>\n",
       "      <td>49.0</td>\n",
       "    </tr>\n",
       "    <tr>\n",
       "      <th>7</th>\n",
       "      <td>52</td>\n",
       "      <td>Self-emp-not-inc</td>\n",
       "      <td>209642</td>\n",
       "      <td>HS-grad</td>\n",
       "      <td>9</td>\n",
       "      <td>Married-civ-spouse</td>\n",
       "      <td>Exec-managerial</td>\n",
       "      <td>Husband</td>\n",
       "      <td>White</td>\n",
       "      <td>Male</td>\n",
       "      <td>0</td>\n",
       "      <td>0</td>\n",
       "      <td>45</td>\n",
       "      <td>United-States</td>\n",
       "      <td>&gt;50K</td>\n",
       "      <td>52.0</td>\n",
       "      <td>52.0</td>\n",
       "      <td>NaN</td>\n",
       "    </tr>\n",
       "    <tr>\n",
       "      <th>8</th>\n",
       "      <td>31</td>\n",
       "      <td>Private</td>\n",
       "      <td>45781</td>\n",
       "      <td>Masters</td>\n",
       "      <td>14</td>\n",
       "      <td>Never-married</td>\n",
       "      <td>Prof-specialty</td>\n",
       "      <td>Not-in-family</td>\n",
       "      <td>White</td>\n",
       "      <td>Female</td>\n",
       "      <td>14084</td>\n",
       "      <td>0</td>\n",
       "      <td>50</td>\n",
       "      <td>United-States</td>\n",
       "      <td>&gt;50K</td>\n",
       "      <td>31.0</td>\n",
       "      <td>NaN</td>\n",
       "      <td>31.0</td>\n",
       "    </tr>\n",
       "    <tr>\n",
       "      <th>9</th>\n",
       "      <td>42</td>\n",
       "      <td>Private</td>\n",
       "      <td>159449</td>\n",
       "      <td>Bachelors</td>\n",
       "      <td>13</td>\n",
       "      <td>Married-civ-spouse</td>\n",
       "      <td>Exec-managerial</td>\n",
       "      <td>Husband</td>\n",
       "      <td>White</td>\n",
       "      <td>Male</td>\n",
       "      <td>5178</td>\n",
       "      <td>0</td>\n",
       "      <td>40</td>\n",
       "      <td>United-States</td>\n",
       "      <td>&gt;50K</td>\n",
       "      <td>42.0</td>\n",
       "      <td>42.0</td>\n",
       "      <td>NaN</td>\n",
       "    </tr>\n",
       "  </tbody>\n",
       "</table>\n",
       "</div>"
      ],
      "text/plain": [
       "   Age          WorkClass  fnlwgt   Education  EducationNum  \\\n",
       "0   39          State-gov   77516   Bachelors            13   \n",
       "1   50   Self-emp-not-inc   83311   Bachelors            13   \n",
       "2   38            Private  215646     HS-grad             9   \n",
       "3   53            Private  234721        11th             7   \n",
       "4   28            Private  338409   Bachelors            13   \n",
       "5   37            Private  284582     Masters            14   \n",
       "6   49            Private  160187         9th             5   \n",
       "7   52   Self-emp-not-inc  209642     HS-grad             9   \n",
       "8   31            Private   45781     Masters            14   \n",
       "9   42            Private  159449   Bachelors            13   \n",
       "\n",
       "            MaritalStatus          Occupation    Relationship    Race  \\\n",
       "0           Never-married        Adm-clerical   Not-in-family   White   \n",
       "1      Married-civ-spouse     Exec-managerial         Husband   White   \n",
       "2                Divorced   Handlers-cleaners   Not-in-family   White   \n",
       "3      Married-civ-spouse   Handlers-cleaners         Husband   Black   \n",
       "4      Married-civ-spouse      Prof-specialty            Wife   Black   \n",
       "5      Married-civ-spouse     Exec-managerial            Wife   White   \n",
       "6   Married-spouse-absent       Other-service   Not-in-family   Black   \n",
       "7      Married-civ-spouse     Exec-managerial         Husband   White   \n",
       "8           Never-married      Prof-specialty   Not-in-family   White   \n",
       "9      Married-civ-spouse     Exec-managerial         Husband   White   \n",
       "\n",
       "    Gender  CapitalGain  CapitalLoss  HoursPerWeek   NativeCountry  Income  \\\n",
       "0     Male         2174            0            40   United-States   <=50K   \n",
       "1     Male            0            0            13   United-States   <=50K   \n",
       "2     Male            0            0            40   United-States   <=50K   \n",
       "3     Male            0            0            40   United-States   <=50K   \n",
       "4   Female            0            0            40            Cuba   <=50K   \n",
       "5   Female            0            0            40   United-States   <=50K   \n",
       "6   Female            0            0            16         Jamaica   <=50K   \n",
       "7     Male            0            0            45   United-States    >50K   \n",
       "8   Female        14084            0            50   United-States    >50K   \n",
       "9     Male         5178            0            40   United-States    >50K   \n",
       "\n",
       "   Age_mcar  Age_mar  Age_mnar  \n",
       "0      39.0     39.0      39.0  \n",
       "1      50.0      NaN      50.0  \n",
       "2       NaN     38.0      38.0  \n",
       "3      53.0     53.0      53.0  \n",
       "4       NaN     28.0      28.0  \n",
       "5       NaN     37.0      37.0  \n",
       "6       NaN      NaN      49.0  \n",
       "7      52.0     52.0       NaN  \n",
       "8      31.0      NaN      31.0  \n",
       "9      42.0     42.0       NaN  "
      ]
     },
     "execution_count": 9,
     "metadata": {},
     "output_type": "execute_result"
    }
   ],
   "source": [
    "from sklearn.model_selection import train_test_split\n",
    "from sklearn.linear_model import LogisticRegression\n",
    "from sklearn.metrics import accuracy_score\n",
    "import category_encoders as ce\n",
    "import numpy as np\n",
    "import pandas as pd\n",
    "import matplotlib.pyplot as plt\n",
    "\n",
    "\n",
    "import missingno as mno\n",
    "\n",
    "########################\n",
    "#サンプルデータ  準備\n",
    "#Adult Data Set\n",
    "########################\n",
    "df_adult = df_adult_m.copy()\n",
    "\n",
    "#欠損率を20%と設定\n",
    "p = 0.2\n",
    "#架空の欠損データ生成\n",
    "from numpy.random import *\n",
    "seed(1)\n",
    "x = pd.Series(np.random.uniform(0.0, 1.0, len(df_adult)))\n",
    "x.index = df_adult.index\n",
    "\n",
    "#MCAR作成\n",
    "df_adult['Age_mcar'] = np.where(x < p, np.nan, df_adult['Age'])\n",
    "\n",
    "#MAR作成\n",
    "#全体の欠損率が20%、女性の欠損率が30%となるように設定\n",
    "p_f = 0.3\n",
    "p_m = (round(len(df_adult) * p) - df_adult.Gender.value_counts()[1] * p_f\n",
    "       ) / df_adult.Gender.value_counts()[0]\n",
    "\n",
    "#男性\n",
    "ix = df_adult['Gender'] == ' Male'\n",
    "seed(2)\n",
    "x = pd.Series(np.random.uniform(0.0, 1.0, len(df_adult)))\n",
    "x.index = df_adult.index\n",
    "df_adult['Age_mar'] = np.where((x < p_m) & (ix), np.nan, df_adult['Age'])\n",
    "\n",
    "#女性\n",
    "ix = df_adult['Gender'] == ' Male'\n",
    "seed(3)\n",
    "x = pd.Series(np.random.uniform(0.0, 1.0, len(df_adult)))\n",
    "x.index = df_adult.index\n",
    "df_adult['Age_mar'] = np.where((x < p_f) & (~ix), np.nan, df_adult['Age_mar'])\n",
    "\n",
    "#MNAR\n",
    "#40歳以上の一部を欠損とする\n",
    "ix = df_adult['Age'] >= 40\n",
    "p_40 = round(len(df_adult) * p) / (ix).sum()\n",
    "seed(4)\n",
    "x = pd.Series(np.random.uniform(0.0, 1.0, len(df_adult)))\n",
    "x.index = df_adult.index\n",
    "#30%欠損\n",
    "df_adult['Age_mnar'] = np.where((x < p_40) & (ix), np.nan, df_adult['Age'])\n",
    "\n",
    "df_adult.head(10)"
   ]
  },
  {
   "cell_type": "markdown",
   "id": "international-index",
   "metadata": {},
   "source": [
    "### エンコーディング処理"
   ]
  },
  {
   "cell_type": "code",
   "execution_count": 10,
   "id": "blind-version",
   "metadata": {
    "tags": []
   },
   "outputs": [
    {
     "name": "stderr",
     "output_type": "stream",
     "text": [
      "/usr/local/lib/python3.9/site-packages/category_encoders/utils.py:21: FutureWarning: is_categorical is deprecated and will be removed in a future version.  Use is_categorical_dtype instead\n",
      "  elif pd.api.types.is_categorical(cols):\n",
      "/usr/local/lib/python3.9/site-packages/category_encoders/utils.py:21: FutureWarning: is_categorical is deprecated and will be removed in a future version.  Use is_categorical_dtype instead\n",
      "  elif pd.api.types.is_categorical(cols):\n"
     ]
    }
   ],
   "source": [
    "# Incom変数 = 1/0エンコーディング\n",
    "df_adult[\"Income\"] = (df_adult[\"Income\"] == ' >50K').astype(int)\n",
    "\n",
    "X_adult = df_adult.drop([\"Income\"], axis=1)\n",
    "y_adult = df_adult[\"Income\"]\n",
    "\n",
    "X_adult_train, X_adult_test, y_adult_train, y_adult_test = train_test_split(\n",
    "    X_adult, y_adult, test_size=0.2, random_state=1)\n",
    "\n",
    "# ターゲットエンコーダ インスタンス化\n",
    "encoder = ce.TargetEncoder(cols=['Education', 'Occupation', 'NativeCountry'])\n",
    "enc = encoder.fit(X_adult_train, y_adult_train)\n",
    "X_adult_train = enc.transform(X_adult_train)\n",
    "X_adult_test = enc.transform(X_adult_test)\n",
    "\n",
    "# One_hotエンコーディング インスタンス化\n",
    "encoder = ce.OneHotEncoder(\n",
    "    cols =['WorkClass', 'MaritalStatus', 'Relationship', 'Race', 'Gender'],\n",
    "    use_cat_names=True)\n",
    "enc = encoder.fit(X_adult_train)\n",
    "X_adult_train = enc.transform(X_adult_train)\n",
    "X_adult_test = enc.transform(X_adult_test)\n",
    "\n",
    "#One-Hotで冗長になった変数を落とす\n",
    "drop_l = [\n",
    "    [col for col in X_adult_train.columns if col.find('WorkClass') >= 0][0], \\\n",
    "    [col for col in X_adult_train.columns if col.find('MaritalStatus') >= 0][0], \n",
    "    [col for col in X_adult_train.columns if col.find('Relationship') >= 0][0], \n",
    "    [col for col in X_adult_train.columns if col.find('Race') >= 0][0],\n",
    "    [col for col in X_adult_train.columns if col.find('Gender') >= 0][0]\n",
    "]\n",
    "\n",
    "X_adult_train = X_adult_train.drop(drop_l, axis=1)\n",
    "X_adult_test = X_adult_test.drop(drop_l, axis=1)"
   ]
  },
  {
   "cell_type": "code",
   "execution_count": 11,
   "id": "broken-preserve",
   "metadata": {},
   "outputs": [
    {
     "data": {
      "text/plain": [
       "<AxesSubplot:>"
      ]
     },
     "execution_count": 11,
     "metadata": {},
     "output_type": "execute_result"
    },
    {
     "data": {
      "image/png": "[encoded data removed]",
      "text/plain": [
       "<Figure size 1440x432 with 2 Axes>"
      ]
     },
     "metadata": {
      "needs_background": "light"
     },
     "output_type": "display_data"
    }
   ],
   "source": [
    "mno.matrix(df_adult, figsize=(20,6))"
   ]
  },
  {
   "cell_type": "markdown",
   "id": "apart-regard",
   "metadata": {},
   "source": [
    "## 欠損の除去"
   ]
  },
  {
   "cell_type": "markdown",
   "id": "controlled-authorization",
   "metadata": {},
   "source": [
    "### リストワイズ除去法  \n",
    "欠損が発生している行を削除し完全データを作る方法。  \n",
    "簡単な方法ですが、MCAR以外に適用すると不適切な事がわかっている。"
   ]
  },
  {
   "cell_type": "code",
   "execution_count": 12,
   "id": "front-integer",
   "metadata": {},
   "outputs": [
    {
     "name": "stdout",
     "output_type": "stream",
     "text": [
      "WorkClass_ Private                      0\n",
      "WorkClass_ State-gov                    0\n",
      "WorkClass_ ?                            0\n",
      "WorkClass_ Federal-gov                  0\n",
      "WorkClass_ Local-gov                    0\n",
      "WorkClass_ Self-emp-inc                 0\n",
      "WorkClass_ Never-worked                 0\n",
      "WorkClass_ Without-pay                  0\n",
      "fnlwgt                                  0\n",
      "Education                               0\n",
      "EducationNum                            0\n",
      "MaritalStatus_ Never-married            0\n",
      "MaritalStatus_ Divorced                 0\n",
      "MaritalStatus_ Widowed                  0\n",
      "MaritalStatus_ Married-spouse-absent    0\n",
      "MaritalStatus_ Separated                0\n",
      "MaritalStatus_ Married-AF-spouse        0\n",
      "Occupation                              0\n",
      "Relationship_ Not-in-family             0\n",
      "Relationship_ Other-relative            0\n",
      "Relationship_ Unmarried                 0\n",
      "Relationship_ Own-child                 0\n",
      "Relationship_ Wife                      0\n",
      "Race_ Black                             0\n",
      "Race_ Asian-Pac-Islander                0\n",
      "Race_ Other                             0\n",
      "Race_ Amer-Indian-Eskimo                0\n",
      "Gender_ Female                          0\n",
      "CapitalGain                             0\n",
      "CapitalLoss                             0\n",
      "HoursPerWeek                            0\n",
      "NativeCountry                           0\n",
      "dtype: int64\n"
     ]
    }
   ],
   "source": [
    "X_adult_train_mcar = X_adult_train.drop(['Age','Age_mar','Age_mnar'],axis=1)\n",
    "# print (X_adult_train_mcar.isnull().sum())\n",
    "\n",
    "#行を落とす\n",
    "X_adult_train_mcar_dropnar = X_adult_train_mcar.dropna()\n",
    "# print (X_adult_train_mcar_dropnar.isnull().sum())\n",
    "\n",
    "#列を落とす(axis=1オプション)\n",
    "X_adult_train_mcar_dropnac = X_adult_train_mcar.dropna(axis=1)\n",
    "print (X_adult_train_mcar_dropnac.isnull().sum())"
   ]
  },
  {
   "cell_type": "markdown",
   "id": "available-defensive",
   "metadata": {},
   "source": [
    "## 欠損値に定数を入れる"
   ]
  },
  {
   "cell_type": "code",
   "execution_count": 13,
   "id": "mathematical-mortgage",
   "metadata": {},
   "outputs": [],
   "source": [
    "#欠損埋めモジュール\n",
    "from sklearn.impute import SimpleImputer\n",
    "\n",
    "X_adult_train_fillna = X_adult_train.copy()\n",
    "X_adult_test_fillna = X_adult_test.copy()\n",
    "# print(X_adult_test_fillna.isnull().sum())\n",
    "\n",
    "\n",
    "#平均値で埋める ------------------------------\n",
    "imputer = SimpleImputer(missing_values=np.nan, strategy='mean')\n",
    "missing_cols = ['Age_mcar', 'Age_mar', 'Age_mnar']\n",
    "\n",
    "#訓練データから平均値を算出\n",
    "imputer.fit(X_adult_train_fillna[missing_cols])\n",
    "\n",
    "#訓練データに算出した値を追記（columnsの変更、データフレーム化、平均値での欠損値処理を行っている。）\n",
    "X_adult_train_fillna[[col + '_mean' for col in missing_cols]] = pd.DataFrame(\n",
    "    imputer.transform(X_adult_train_fillna[missing_cols]),\n",
    "    index=X_adult_train.index)\n",
    "\n",
    "#テストデータも訓練データ同様処理\n",
    "X_adult_test_fillna[[col + '_mean' for col in missing_cols]] = pd.DataFrame(\n",
    "    imputer.transform(X_adult_test_fillna[missing_cols]),\n",
    "    index=X_adult_test.index)\n",
    "\n",
    "# X_adult_test_fillna.isnull().sum()\n",
    "\n",
    "\n",
    "#中央値で埋める(基本平均値と同じ処理）-------------------------------\n",
    "# strategy を median に変えるのみ。\n",
    "imputer = SimpleImputer(missing_values=np.nan, strategy='median') \n",
    "missing_cols = ['Age_mcar', 'Age_mar', 'Age_mnar']\n",
    "imputer.fit(X_adult_train_fillna[missing_cols])\n",
    "\n",
    "#訓練データ\n",
    "X_adult_train_fillna[[col + '_median' for col in missing_cols]] = pd.DataFrame(\n",
    "    imputer.transform(X_adult_train_fillna[missing_cols]),\n",
    "    index=X_adult_train.index)\n",
    "#テストデータ\n",
    "X_adult_test_fillna[[col + '_median' for col in missing_cols]] = pd.DataFrame(\n",
    "    imputer.transform(X_adult_test_fillna[missing_cols]),\n",
    "    index=X_adult_test.index)\n",
    "\n",
    "\n",
    "#最頻値で埋める(基本平均値と同じ処理）-------------------------------\n",
    "# strategy を most_frequent に変えるのみ。\n",
    "imputer = SimpleImputer(missing_values=np.nan, strategy='most_frequent')\n",
    "missing_cols = ['Age_mcar', 'Age_mar', 'Age_mnar']\n",
    "imputer.fit(X_adult_train_fillna[missing_cols])\n",
    "#訓練データ\n",
    "X_adult_train_fillna[[col + '_mode' for col in missing_cols]] = pd.DataFrame(\n",
    "    imputer.transform(X_adult_train_fillna[missing_cols]),\n",
    "    index=X_adult_train.index)\n",
    "#テストデータ\n",
    "X_adult_test_fillna[[col + '_mode' for col in missing_cols]] = pd.DataFrame(\n",
    "    imputer.transform(X_adult_test_fillna[missing_cols]),\n",
    "    index=X_adult_test.index)"
   ]
  },
  {
   "cell_type": "code",
   "execution_count": 14,
   "id": "substantial-clearance",
   "metadata": {},
   "outputs": [
    {
     "data": {
      "text/plain": [
       "Age                                        0\n",
       "WorkClass_ Private                         0\n",
       "WorkClass_ State-gov                       0\n",
       "WorkClass_ ?                               0\n",
       "WorkClass_ Federal-gov                     0\n",
       "WorkClass_ Local-gov                       0\n",
       "WorkClass_ Self-emp-inc                    0\n",
       "WorkClass_ Never-worked                    0\n",
       "WorkClass_ Without-pay                     0\n",
       "fnlwgt                                     0\n",
       "Education                                  0\n",
       "EducationNum                               0\n",
       "MaritalStatus_ Never-married               0\n",
       "MaritalStatus_ Divorced                    0\n",
       "MaritalStatus_ Widowed                     0\n",
       "MaritalStatus_ Married-spouse-absent       0\n",
       "MaritalStatus_ Separated                   0\n",
       "MaritalStatus_ Married-AF-spouse           0\n",
       "Occupation                                 0\n",
       "Relationship_ Not-in-family                0\n",
       "Relationship_ Other-relative               0\n",
       "Relationship_ Unmarried                    0\n",
       "Relationship_ Own-child                    0\n",
       "Relationship_ Wife                         0\n",
       "Race_ Black                                0\n",
       "Race_ Asian-Pac-Islander                   0\n",
       "Race_ Other                                0\n",
       "Race_ Amer-Indian-Eskimo                   0\n",
       "Gender_ Female                             0\n",
       "CapitalGain                                0\n",
       "CapitalLoss                                0\n",
       "HoursPerWeek                               0\n",
       "NativeCountry                              0\n",
       "Age_mcar                                1319\n",
       "Age_mar                                 1283\n",
       "Age_mnar                                1334\n",
       "Age_mcar_mean                              0\n",
       "Age_mar_mean                               0\n",
       "Age_mnar_mean                              0\n",
       "Age_mcar_median                            0\n",
       "Age_mar_median                             0\n",
       "Age_mnar_median                            0\n",
       "Age_mcar_mode                              0\n",
       "Age_mar_mode                               0\n",
       "Age_mnar_mode                              0\n",
       "dtype: int64"
      ]
     },
     "execution_count": 14,
     "metadata": {},
     "output_type": "execute_result"
    }
   ],
   "source": [
    "X_adult_test_fillna.isnull().sum()"
   ]
  },
  {
   "cell_type": "code",
   "execution_count": 15,
   "id": "amazing-empire",
   "metadata": {},
   "outputs": [
    {
     "data": {
      "image/png": "[encoded data removed]",
      "text/plain": [
       "<Figure size 1008x504 with 4 Axes>"
      ]
     },
     "metadata": {
      "needs_background": "light"
     },
     "output_type": "display_data"
    }
   ],
   "source": [
    "#MARの代入前後の分布\n",
    "plt.figure(figsize=(14, 7))\n",
    "for i, col in enumerate(\n",
    "    ['Age_mar', 'Age_mcar_mean', 'Age_mcar_median', 'Age_mcar_mode']):\n",
    "    plt.subplot(2, 2, i + 1)\n",
    "    plt.hist(\n",
    "        X_adult_train_fillna['Age'],\n",
    "        alpha=0.7,\n",
    "        label='Complete Data',\n",
    "        bins=range(0, 100, 10))\n",
    "    plt.legend()\n",
    "    plt.hist(X_adult_train_fillna[col], alpha=0.7, bins=range(0, 100, 10))\n",
    "    plt.grid()\n",
    "    plt.title(col)\n",
    "    plt.xticks([0, 10, 20, 30, 40, 50, 60, 70, 80, 90, 100])"
   ]
  },
  {
   "cell_type": "markdown",
   "id": "promotional-foundation",
   "metadata": {},
   "source": [
    "## 欠損値に予測値を入れる。"
   ]
  },
  {
   "cell_type": "markdown",
   "id": "common-central",
   "metadata": {},
   "source": [
    "### 回帰代入法  \n",
    "わかっている特徴量から欠損している特徴量を回帰式で求めて代入する。"
   ]
  },
  {
   "cell_type": "code",
   "execution_count": 16,
   "id": "catholic-bubble",
   "metadata": {},
   "outputs": [],
   "source": [
    "#sklearnのLinearRegressionモジュール読み込む\n",
    "from sklearn.linear_model import LinearRegression\n",
    "#線形回帰のインスタンス化\n",
    "reg1 = LinearRegression()\n",
    "reg2 = LinearRegression()\n",
    "reg3 = LinearRegression()\n",
    "\n",
    "#MCARに対して処理を実行\n",
    "#使用しない特徴量のリスト特にターゲットエンコーディングした特徴量は除く\n",
    "\n",
    "# MCARの欠損値の判定(ix)Trueが欠損値。\n",
    "ix = X_adult_train['Age_mcar'].isnull()\n",
    "drop = ['Education', 'Occupation', 'NativeCountry'\n",
    "        ] + ['Age', 'Age_mcar', 'Age_mar', 'Age_mnar', 'fnlwgt']\n",
    "x1 = X_adult_train[~ix].drop(drop, axis=1)\n",
    "x2 = X_adult_train.loc[x1.index, 'Age_mcar']\n",
    "\n",
    "#線形回帰\n",
    "# MCARの値があるdrop以外の特徴量と、正解ラベルにMCARを指定して学習\n",
    "reg1.fit(x1, x2)\n",
    "\n",
    "#訓練データ予測する-----------------------------------------\n",
    "#dropの特徴量を除くMCARの欠損値から推定する。\n",
    "X_adult_train_fillna['Age_mcar_reg'] = pd.Series(\n",
    "    reg1.predict(X_adult_train[ix].drop(drop, axis=1)),\n",
    "    X_adult_train[ix].index)\n",
    "\n",
    "#Age_mcar_regには、欠損値を推定した値で代入した値しかないので元の値をAgeから代入する。\n",
    "X_adult_train_fillna['Age_mcar_reg'] = \\\n",
    "    X_adult_train_fillna['Age_mcar_reg'].fillna(X_adult_train_fillna['Age'])\n",
    "\n",
    "#検証データ予測する(訓練データと同じ)---------------------------\n",
    "ixt = X_adult_test['Age_mcar'].isnull()\n",
    "X_adult_test_fillna['Age_mcar_reg'] = pd.Series(\n",
    "    reg1.predict(X_adult_test[ixt].drop(drop, axis=1)),\n",
    "    X_adult_test[ixt].index)\n",
    "X_adult_test_fillna['Age_mcar_reg'] = \\\n",
    "    X_adult_test_fillna['Age_mcar_reg'].fillna(X_adult_test_fillna['Age'])\n",
    "\n",
    "# 同様にMAR,NMARも欠損値代入を行う。"
   ]
  },
  {
   "cell_type": "code",
   "execution_count": 17,
   "id": "wireless-english",
   "metadata": {},
   "outputs": [
    {
     "data": {
      "image/png": "[encoded data removed]",
      "text/plain": [
       "<Figure size 1008x504 with 2 Axes>"
      ]
     },
     "metadata": {
      "needs_background": "light"
     },
     "output_type": "display_data"
    }
   ],
   "source": [
    "#MARの代入前後の分布\n",
    "plt.figure(figsize=(14, 7))\n",
    "for i, col in enumerate(['Age_mcar', 'Age_mcar_reg']):\n",
    "    plt.subplot(2, 2, i + 1)\n",
    "    plt.hist(\n",
    "        X_adult_train_fillna['Age'],\n",
    "        alpha=0.7,\n",
    "        label='Complete Data',\n",
    "        bins=range(0, 100, 10))\n",
    "    plt.legend()\n",
    "    plt.hist(X_adult_train_fillna[col], alpha=0.7, bins=range(0, 100, 10))\n",
    "    plt.grid()\n",
    "    plt.title(col)\n",
    "    plt.xticks([0, 10, 20, 30, 40, 50, 60, 70, 80, 90, 100])"
   ]
  },
  {
   "cell_type": "markdown",
   "id": "removable-stick",
   "metadata": {},
   "source": [
    "## 多重代入法"
   ]
  },
  {
   "cell_type": "markdown",
   "id": "gorgeous-authority",
   "metadata": {},
   "source": [
    "定数、予測値の代入では決まった値を１つ代入して完全データとしてました。  \n",
    "多重代入法では、サンプリングにより作成した複数のデータを用いて結合した値を代入します。"
   ]
  },
  {
   "cell_type": "code",
   "execution_count": 18,
   "id": "clinical-might",
   "metadata": {},
   "outputs": [],
   "source": [
    "from sklearn.experimental import enable_iterative_imputer  \n",
    "from sklearn.impute import IterativeImputer"
   ]
  },
  {
   "cell_type": "markdown",
   "id": "corresponding-admission",
   "metadata": {},
   "source": [
    "IterativeImputer公式URL  \n",
    "https://scikit-learn.org/stable/modules/generated/sklearn.impute.IterativeImputer.html"
   ]
  },
  {
   "cell_type": "code",
   "execution_count": 19,
   "id": "plain-classroom",
   "metadata": {},
   "outputs": [],
   "source": [
    "##################MCAR 埋める##################\n",
    "#使用しない特徴量のリスト特にターゲットエンコーディングした特徴量は除く\n",
    "drop = ['Education', 'Occupation', 'NativeCountry'\n",
    "        ] + ['Age', 'Age_mar', 'Age_mnar', 'fnlwgt']\n",
    "\n",
    "#IterativeImputerインスタンス化\n",
    "imputer = IterativeImputer(max_iter=5, sample_posterior=True, random_state=123)\n",
    "\n",
    "#訓練\n",
    "imputer.fit(X_adult_train.drop(drop, axis=1))\n",
    "#訓練データに代入\n",
    "X_adult_train_fillna['Age_mcar_itr'] = pd.DataFrame(\n",
    "    imputer.transform(X_adult_train.drop(drop, axis=1)),\n",
    "    index=X_adult_train.drop(drop, axis=1).index,\n",
    "    columns=X_adult_train.drop(drop, axis=1).columns)['Age_mcar']\n",
    "\n",
    "#検証データに代入\n",
    "X_adult_test_fillna['Age_mcar_itr'] = pd.DataFrame(\n",
    "    imputer.transform(X_adult_test.drop(drop, axis=1)),\n",
    "    index=X_adult_test.drop(drop, axis=1).index,\n",
    "    columns=X_adult_test.drop(drop, axis=1).columns)['Age_mcar']\n",
    "\n",
    "##################MAR 埋める##################\n",
    "#使用しない特徴量のリスト特にターゲットエンコーディングした特徴量は除く\n",
    "drop = ['Education', 'Occupation', 'NativeCountry'\n",
    "        ] + ['Age', 'Age_mcar', 'Age_mnar', 'fnlwgt']\n",
    "\n",
    "#IterativeImputerインスタンス化\n",
    "imputer = IterativeImputer(max_iter=5, sample_posterior=True, random_state=123)\n",
    "#訓練\n",
    "imputer.fit(X_adult_train.drop(drop, axis=1))\n",
    "#訓練データに代入\n",
    "X_adult_train_fillna['Age_mar_itr'] = pd.DataFrame(\n",
    "    imputer.transform(X_adult_train.drop(drop, axis=1)),\n",
    "    index=X_adult_train.drop(drop, axis=1).index,\n",
    "    columns=X_adult_train.drop(drop, axis=1).columns)['Age_mar']\n",
    "\n",
    "#検証データに代入\n",
    "X_adult_test_fillna['Age_mar_itr'] = pd.DataFrame(\n",
    "    imputer.transform(X_adult_test.drop(drop, axis=1)),\n",
    "    index=X_adult_test.drop(drop, axis=1).index,\n",
    "    columns=X_adult_test.drop(drop, axis=1).columns)['Age_mar']\n",
    "\n",
    "##################MNAR 埋める##################\n",
    "#使用しない特徴量のリスト特にターゲットエンコーディングした特徴量は除く\n",
    "drop = ['Education', 'Occupation', 'NativeCountry'\n",
    "        ] + ['Age', 'Age_mcar', 'Age_mar', 'fnlwgt']\n",
    "\n",
    "#IterativeImputerインスタンス化\n",
    "imputer = IterativeImputer(max_iter=5, sample_posterior=True, random_state=123)\n",
    "#訓練\n",
    "imputer.fit(X_adult_train.drop(drop, axis=1))\n",
    "\n",
    "#訓練データに代入\n",
    "X_adult_train_fillna['Age_mnar_itr'] = pd.DataFrame(\n",
    "    imputer.transform(X_adult_train.drop(drop, axis=1)),\n",
    "    index=X_adult_train.drop(drop, axis=1).index,\n",
    "    columns=X_adult_train.drop(drop, axis=1).columns)['Age_mnar']\n",
    "\n",
    "#検証データに代入\n",
    "X_adult_test_fillna['Age_mnar_itr'] = pd.DataFrame(\n",
    "    imputer.transform(X_adult_test.drop(drop, axis=1)),\n",
    "    index=X_adult_test.drop(drop, axis=1).index,\n",
    "    columns=X_adult_test.drop(drop, axis=1).columns)['Age_mnar']"
   ]
  },
  {
   "cell_type": "code",
   "execution_count": 20,
   "id": "beginning-tackle",
   "metadata": {},
   "outputs": [
    {
     "data": {
      "image/png": "[encoded data removed]",
      "text/plain": [
       "<Figure size 1008x504 with 2 Axes>"
      ]
     },
     "metadata": {
      "needs_background": "light"
     },
     "output_type": "display_data"
    }
   ],
   "source": [
    "#MARの代入前後の分布\n",
    "plt.figure(figsize=(14, 7))\n",
    "for i, col in enumerate(['Age_mcar', 'Age_mcar_itr']):\n",
    "    plt.subplot(2, 2, i + 1)\n",
    "    plt.hist(\n",
    "        X_adult_train_fillna['Age'],\n",
    "        alpha=0.7,\n",
    "        label='Complete Data',\n",
    "        bins=range(0, 100, 10))\n",
    "    plt.legend()\n",
    "    plt.hist(X_adult_train_fillna[col], alpha=0.7, bins=range(0, 100, 10))\n",
    "    plt.grid()\n",
    "    plt.title(col)\n",
    "    plt.xticks([0, 10, 20, 30, 40, 50, 60, 70, 80, 90, 100])"
   ]
  },
  {
   "cell_type": "markdown",
   "id": "median-regulation",
   "metadata": {},
   "source": [
    "## 数値代入法の選び方\n",
    "\n",
    "全体のレコード件数が数万件あり、欠損が数%しかない場合 → 除外を検討しても良い。  \n",
    "↓  \n",
    "代入を検討する。  \n",
    " → 時間がない時: 定数  \n",
    " → 時間に余裕があり、他の特徴量と欠損した特徴量の相関が強い時 : 回帰代入法、K-NN法  \n",
    " → 時間に余裕があり、欠損値が明らかにMNARではなく、MARを仮定できる時 : 多重代入法  \n",
    " \n",
    "欠損値について  \n",
    "- 上記の代入法ではMNARに対しては、完全な補完は不可能。  \n",
    "- 欠損が起きる発生メカニズムの過半数が、MCARもしくはMAR（MCAR=10~20%.MAR=50%.その他がMNCR)\n",
    "\n",
    "欠損の発生メカニズムはどの種類かを判断するのは容易ではないので、  \n",
    "使用できるデータを学習データと検証データに分けて色々な欠損代入法を試し、検証精度が高くなるように検証する必要がある。  \n",
    "\n",
    "\n",
    "下記、検証方法"
   ]
  },
  {
   "cell_type": "code",
   "execution_count": 21,
   "id": "played-situation",
   "metadata": {},
   "outputs": [
    {
     "name": "stdout",
     "output_type": "stream",
     "text": [
      "age: Age \n",
      " var: ['WorkClass_ Private', 'WorkClass_ State-gov', 'WorkClass_ ?', 'WorkClass_ Federal-gov', 'WorkClass_ Local-gov', 'WorkClass_ Self-emp-inc', 'WorkClass_ Never-worked', 'WorkClass_ Without-pay', 'Education', 'EducationNum', 'MaritalStatus_ Never-married', 'MaritalStatus_ Divorced', 'MaritalStatus_ Widowed', 'MaritalStatus_ Married-spouse-absent', 'MaritalStatus_ Separated', 'MaritalStatus_ Married-AF-spouse', 'Occupation', 'Relationship_ Not-in-family', 'Relationship_ Other-relative', 'Relationship_ Unmarried', 'Relationship_ Own-child', 'Relationship_ Wife', 'Race_ Black', 'Race_ Asian-Pac-Islander', 'Race_ Other', 'Race_ Amer-Indian-Eskimo', 'Gender_ Female', 'CapitalGain', 'CapitalLoss', 'HoursPerWeek', 'NativeCountry', 'Age']\n",
      "\n",
      "age: Age_mar_mean \n",
      " var: ['WorkClass_ Private', 'WorkClass_ State-gov', 'WorkClass_ ?', 'WorkClass_ Federal-gov', 'WorkClass_ Local-gov', 'WorkClass_ Self-emp-inc', 'WorkClass_ Never-worked', 'WorkClass_ Without-pay', 'Education', 'EducationNum', 'MaritalStatus_ Never-married', 'MaritalStatus_ Divorced', 'MaritalStatus_ Widowed', 'MaritalStatus_ Married-spouse-absent', 'MaritalStatus_ Separated', 'MaritalStatus_ Married-AF-spouse', 'Occupation', 'Relationship_ Not-in-family', 'Relationship_ Other-relative', 'Relationship_ Unmarried', 'Relationship_ Own-child', 'Relationship_ Wife', 'Race_ Black', 'Race_ Asian-Pac-Islander', 'Race_ Other', 'Race_ Amer-Indian-Eskimo', 'Gender_ Female', 'CapitalGain', 'CapitalLoss', 'HoursPerWeek', 'NativeCountry', 'Age_mar_mean']\n",
      "\n",
      "age: Age_mar_median \n",
      " var: ['WorkClass_ Private', 'WorkClass_ State-gov', 'WorkClass_ ?', 'WorkClass_ Federal-gov', 'WorkClass_ Local-gov', 'WorkClass_ Self-emp-inc', 'WorkClass_ Never-worked', 'WorkClass_ Without-pay', 'Education', 'EducationNum', 'MaritalStatus_ Never-married', 'MaritalStatus_ Divorced', 'MaritalStatus_ Widowed', 'MaritalStatus_ Married-spouse-absent', 'MaritalStatus_ Separated', 'MaritalStatus_ Married-AF-spouse', 'Occupation', 'Relationship_ Not-in-family', 'Relationship_ Other-relative', 'Relationship_ Unmarried', 'Relationship_ Own-child', 'Relationship_ Wife', 'Race_ Black', 'Race_ Asian-Pac-Islander', 'Race_ Other', 'Race_ Amer-Indian-Eskimo', 'Gender_ Female', 'CapitalGain', 'CapitalLoss', 'HoursPerWeek', 'NativeCountry', 'Age_mar_median']\n",
      "\n",
      "age: Age_mar_mode \n",
      " var: ['WorkClass_ Private', 'WorkClass_ State-gov', 'WorkClass_ ?', 'WorkClass_ Federal-gov', 'WorkClass_ Local-gov', 'WorkClass_ Self-emp-inc', 'WorkClass_ Never-worked', 'WorkClass_ Without-pay', 'Education', 'EducationNum', 'MaritalStatus_ Never-married', 'MaritalStatus_ Divorced', 'MaritalStatus_ Widowed', 'MaritalStatus_ Married-spouse-absent', 'MaritalStatus_ Separated', 'MaritalStatus_ Married-AF-spouse', 'Occupation', 'Relationship_ Not-in-family', 'Relationship_ Other-relative', 'Relationship_ Unmarried', 'Relationship_ Own-child', 'Relationship_ Wife', 'Race_ Black', 'Race_ Asian-Pac-Islander', 'Race_ Other', 'Race_ Amer-Indian-Eskimo', 'Gender_ Female', 'CapitalGain', 'CapitalLoss', 'HoursPerWeek', 'NativeCountry', 'Age_mar_mode']\n",
      "\n",
      "age: Age_mar_itr \n",
      " var: ['WorkClass_ Private', 'WorkClass_ State-gov', 'WorkClass_ ?', 'WorkClass_ Federal-gov', 'WorkClass_ Local-gov', 'WorkClass_ Self-emp-inc', 'WorkClass_ Never-worked', 'WorkClass_ Without-pay', 'Education', 'EducationNum', 'MaritalStatus_ Never-married', 'MaritalStatus_ Divorced', 'MaritalStatus_ Widowed', 'MaritalStatus_ Married-spouse-absent', 'MaritalStatus_ Separated', 'MaritalStatus_ Married-AF-spouse', 'Occupation', 'Relationship_ Not-in-family', 'Relationship_ Other-relative', 'Relationship_ Unmarried', 'Relationship_ Own-child', 'Relationship_ Wife', 'Race_ Black', 'Race_ Asian-Pac-Islander', 'Race_ Other', 'Race_ Amer-Indian-Eskimo', 'Gender_ Female', 'CapitalGain', 'CapitalLoss', 'HoursPerWeek', 'NativeCountry', 'Age_mar_itr']\n",
      "\n"
     ]
    },
    {
     "data": {
      "text/plain": [
       "(0.845, 0.855)"
      ]
     },
     "execution_count": 21,
     "metadata": {},
     "output_type": "execute_result"
    },
    {
     "data": {
      "image/png": "[encoded data removed]",
      "text/plain": [
       "<Figure size 1008x504 with 1 Axes>"
      ]
     },
     "metadata": {
      "needs_background": "light"
     },
     "output_type": "display_data"
    }
   ],
   "source": [
    "#MCARの代入法ごとのモデル精度比較\n",
    "#精度を格納するリスト\n",
    "l_tr = []\n",
    "l_te = []\n",
    "for age in ['Age'] + [col for col in X_adult_train_fillna.columns if col.find('Age_mar_') > -1]:\n",
    "    #予測に必要な特徴量 'fnlwgt'は重み変数のため除外\n",
    "    var = [col for col in X_adult_train.columns\n",
    "           if col.find('Age') == -1 and col.find('fnlwgt') == -1] + [age]\n",
    "    print(\"age:\",age,\"\\n var:\", var)\n",
    "    print()\n",
    "    \n",
    "    #ロジスティック回帰インスタンス化\n",
    "    reg = LogisticRegression(solver='newton-cg')\n",
    "    #モデル学習\n",
    "    reg.fit(X_adult_train_fillna[var], y_adult_train)\n",
    "    #訓練データでの精度検証\n",
    "    l_tr.append(\n",
    "        accuracy_score(y_adult_train, reg.predict(X_adult_train_fillna[var])))\n",
    "    #検証データでの精度検証\n",
    "    l_te.append(\n",
    "        accuracy_score(y_adult_test, reg.predict(X_adult_test_fillna[var])))\n",
    " \n",
    "\n",
    "plt.figure(figsize=(14, 7))\n",
    "plt.plot(\n",
    "    ['Age'] + \n",
    "    [col for col in X_adult_train_fillna.columns if col.find('Age_mar_') >-1],\n",
    "    l_tr,\n",
    "    label='Train')\n",
    "plt.plot(l_te, label='Test')\n",
    "plt.legend()\n",
    "plt.title('Impute MCAR')\n",
    "plt.ylim(0.845,0.855)"
   ]
  },
  {
   "cell_type": "markdown",
   "id": "seeing-zimbabwe",
   "metadata": {},
   "source": [
    "## 欠損カテゴリを新たに作成する。\n",
    "機械学習では説明を要する場合に欠損によるバイアスが問題となりますが、   \n",
    "欠損としてコテごり分けすることで精度を大きく上げれるので、新たにカテゴリを作る方法も良い方法と思う。"
   ]
  },
  {
   "cell_type": "code",
   "execution_count": 22,
   "id": "active-society",
   "metadata": {},
   "outputs": [
    {
     "name": "stdout",
     "output_type": "stream",
     "text": [
      " White                 22371\n",
      "Missing                 6493\n",
      " Black                  2379\n",
      " Asian-Pac-Islander      849\n",
      " Amer-Indian-Eskimo      257\n",
      " Other                   212\n",
      "Name: Race_mar, dtype: int64\n"
     ]
    }
   ],
   "source": [
    "from numpy.random import *\n",
    "seed(100)\n",
    "df_adult = df_adult_m.copy()\n",
    "\n",
    "#Raceで欠損を作成する\n",
    "#全体の欠損率が20%、女性の欠損率が30%となるように設定\n",
    "p = 0.2\n",
    "p_f = 0.3\n",
    "p_m = (round(len(df_adult) * p) - df_adult.Gender.value_counts()[1] * p_f) / df_adult.Gender.value_counts()[0]\n",
    "\n",
    "#男性\n",
    "ix = df_adult['Gender'] == ' Male'\n",
    "seed(200)\n",
    "x = pd.Series(np.random.uniform(0.0, 1.0, len(df_adult)))\n",
    "x.index = df_adult.index\n",
    "df_adult['Race_mar'] = np.where((x < p_m) & (ix), np.nan, df_adult['Race'])\n",
    "\n",
    "#女性\n",
    "ix = df_adult['Gender'] == ' Male'\n",
    "x = pd.Series(np.random.uniform(0.0, 1.0, len(df_adult)))\n",
    "x.index = df_adult.index\n",
    "df_adult['Race_mar'] = np.where((x < p_f) & (~ix), np.nan, df_adult['Race_mar'])\n",
    "\n",
    "#欠損を適当なカテゴリ名（\"Missing\")という文字列で埋める\n",
    "df_adult['Race_mar'].fillna('Missing', inplace=True)\n",
    "#集計\n",
    "print(df_adult['Race_mar'].value_counts())"
   ]
  },
  {
   "cell_type": "code",
   "execution_count": 23,
   "id": "conservative-energy",
   "metadata": {},
   "outputs": [
    {
     "name": "stderr",
     "output_type": "stream",
     "text": [
      "/usr/local/lib/python3.9/site-packages/category_encoders/utils.py:21: FutureWarning: is_categorical is deprecated and will be removed in a future version.  Use is_categorical_dtype instead\n",
      "  elif pd.api.types.is_categorical(cols):\n"
     ]
    }
   ],
   "source": [
    "#One-Hotエンコーディング インスタンス化\n",
    "encoder = ce.OneHotEncoder(cols=['Race_mar'], use_cat_names=True)\n",
    "enc = encoder.fit(df_adult)\n",
    "df_adult = enc.transform(df_adult)"
   ]
  },
  {
   "cell_type": "code",
   "execution_count": 24,
   "id": "comfortable-chance",
   "metadata": {},
   "outputs": [
    {
     "data": {
      "text/html": [
       "<div>\n",
       "<style scoped>\n",
       "    .dataframe tbody tr th:only-of-type {\n",
       "        vertical-align: middle;\n",
       "    }\n",
       "\n",
       "    .dataframe tbody tr th {\n",
       "        vertical-align: top;\n",
       "    }\n",
       "\n",
       "    .dataframe thead th {\n",
       "        text-align: right;\n",
       "    }\n",
       "</style>\n",
       "<table border=\"1\" class=\"dataframe\">\n",
       "  <thead>\n",
       "    <tr style=\"text-align: right;\">\n",
       "      <th></th>\n",
       "      <th>Age</th>\n",
       "      <th>WorkClass</th>\n",
       "      <th>fnlwgt</th>\n",
       "      <th>Education</th>\n",
       "      <th>EducationNum</th>\n",
       "      <th>MaritalStatus</th>\n",
       "      <th>Occupation</th>\n",
       "      <th>Relationship</th>\n",
       "      <th>Race</th>\n",
       "      <th>Gender</th>\n",
       "      <th>...</th>\n",
       "      <th>CapitalLoss</th>\n",
       "      <th>HoursPerWeek</th>\n",
       "      <th>NativeCountry</th>\n",
       "      <th>Income</th>\n",
       "      <th>Race_mar_ White</th>\n",
       "      <th>Race_mar_ Black</th>\n",
       "      <th>Race_mar_Missing</th>\n",
       "      <th>Race_mar_ Asian-Pac-Islander</th>\n",
       "      <th>Race_mar_ Other</th>\n",
       "      <th>Race_mar_ Amer-Indian-Eskimo</th>\n",
       "    </tr>\n",
       "  </thead>\n",
       "  <tbody>\n",
       "    <tr>\n",
       "      <th>0</th>\n",
       "      <td>39</td>\n",
       "      <td>State-gov</td>\n",
       "      <td>77516</td>\n",
       "      <td>Bachelors</td>\n",
       "      <td>13</td>\n",
       "      <td>Never-married</td>\n",
       "      <td>Adm-clerical</td>\n",
       "      <td>Not-in-family</td>\n",
       "      <td>White</td>\n",
       "      <td>Male</td>\n",
       "      <td>...</td>\n",
       "      <td>0</td>\n",
       "      <td>40</td>\n",
       "      <td>United-States</td>\n",
       "      <td>&lt;=50K</td>\n",
       "      <td>1</td>\n",
       "      <td>0</td>\n",
       "      <td>0</td>\n",
       "      <td>0</td>\n",
       "      <td>0</td>\n",
       "      <td>0</td>\n",
       "    </tr>\n",
       "    <tr>\n",
       "      <th>1</th>\n",
       "      <td>50</td>\n",
       "      <td>Self-emp-not-inc</td>\n",
       "      <td>83311</td>\n",
       "      <td>Bachelors</td>\n",
       "      <td>13</td>\n",
       "      <td>Married-civ-spouse</td>\n",
       "      <td>Exec-managerial</td>\n",
       "      <td>Husband</td>\n",
       "      <td>White</td>\n",
       "      <td>Male</td>\n",
       "      <td>...</td>\n",
       "      <td>0</td>\n",
       "      <td>13</td>\n",
       "      <td>United-States</td>\n",
       "      <td>&lt;=50K</td>\n",
       "      <td>1</td>\n",
       "      <td>0</td>\n",
       "      <td>0</td>\n",
       "      <td>0</td>\n",
       "      <td>0</td>\n",
       "      <td>0</td>\n",
       "    </tr>\n",
       "    <tr>\n",
       "      <th>2</th>\n",
       "      <td>38</td>\n",
       "      <td>Private</td>\n",
       "      <td>215646</td>\n",
       "      <td>HS-grad</td>\n",
       "      <td>9</td>\n",
       "      <td>Divorced</td>\n",
       "      <td>Handlers-cleaners</td>\n",
       "      <td>Not-in-family</td>\n",
       "      <td>White</td>\n",
       "      <td>Male</td>\n",
       "      <td>...</td>\n",
       "      <td>0</td>\n",
       "      <td>40</td>\n",
       "      <td>United-States</td>\n",
       "      <td>&lt;=50K</td>\n",
       "      <td>1</td>\n",
       "      <td>0</td>\n",
       "      <td>0</td>\n",
       "      <td>0</td>\n",
       "      <td>0</td>\n",
       "      <td>0</td>\n",
       "    </tr>\n",
       "    <tr>\n",
       "      <th>3</th>\n",
       "      <td>53</td>\n",
       "      <td>Private</td>\n",
       "      <td>234721</td>\n",
       "      <td>11th</td>\n",
       "      <td>7</td>\n",
       "      <td>Married-civ-spouse</td>\n",
       "      <td>Handlers-cleaners</td>\n",
       "      <td>Husband</td>\n",
       "      <td>Black</td>\n",
       "      <td>Male</td>\n",
       "      <td>...</td>\n",
       "      <td>0</td>\n",
       "      <td>40</td>\n",
       "      <td>United-States</td>\n",
       "      <td>&lt;=50K</td>\n",
       "      <td>0</td>\n",
       "      <td>1</td>\n",
       "      <td>0</td>\n",
       "      <td>0</td>\n",
       "      <td>0</td>\n",
       "      <td>0</td>\n",
       "    </tr>\n",
       "    <tr>\n",
       "      <th>4</th>\n",
       "      <td>28</td>\n",
       "      <td>Private</td>\n",
       "      <td>338409</td>\n",
       "      <td>Bachelors</td>\n",
       "      <td>13</td>\n",
       "      <td>Married-civ-spouse</td>\n",
       "      <td>Prof-specialty</td>\n",
       "      <td>Wife</td>\n",
       "      <td>Black</td>\n",
       "      <td>Female</td>\n",
       "      <td>...</td>\n",
       "      <td>0</td>\n",
       "      <td>40</td>\n",
       "      <td>Cuba</td>\n",
       "      <td>&lt;=50K</td>\n",
       "      <td>0</td>\n",
       "      <td>0</td>\n",
       "      <td>1</td>\n",
       "      <td>0</td>\n",
       "      <td>0</td>\n",
       "      <td>0</td>\n",
       "    </tr>\n",
       "  </tbody>\n",
       "</table>\n",
       "<p>5 rows × 21 columns</p>\n",
       "</div>"
      ],
      "text/plain": [
       "   Age          WorkClass  fnlwgt   Education  EducationNum  \\\n",
       "0   39          State-gov   77516   Bachelors            13   \n",
       "1   50   Self-emp-not-inc   83311   Bachelors            13   \n",
       "2   38            Private  215646     HS-grad             9   \n",
       "3   53            Private  234721        11th             7   \n",
       "4   28            Private  338409   Bachelors            13   \n",
       "\n",
       "         MaritalStatus          Occupation    Relationship    Race   Gender  \\\n",
       "0        Never-married        Adm-clerical   Not-in-family   White     Male   \n",
       "1   Married-civ-spouse     Exec-managerial         Husband   White     Male   \n",
       "2             Divorced   Handlers-cleaners   Not-in-family   White     Male   \n",
       "3   Married-civ-spouse   Handlers-cleaners         Husband   Black     Male   \n",
       "4   Married-civ-spouse      Prof-specialty            Wife   Black   Female   \n",
       "\n",
       "   ...  CapitalLoss  HoursPerWeek   NativeCountry  Income Race_mar_ White  \\\n",
       "0  ...            0            40   United-States   <=50K               1   \n",
       "1  ...            0            13   United-States   <=50K               1   \n",
       "2  ...            0            40   United-States   <=50K               1   \n",
       "3  ...            0            40   United-States   <=50K               0   \n",
       "4  ...            0            40            Cuba   <=50K               0   \n",
       "\n",
       "   Race_mar_ Black  Race_mar_Missing  Race_mar_ Asian-Pac-Islander  \\\n",
       "0                0                 0                             0   \n",
       "1                0                 0                             0   \n",
       "2                0                 0                             0   \n",
       "3                1                 0                             0   \n",
       "4                0                 1                             0   \n",
       "\n",
       "   Race_mar_ Other  Race_mar_ Amer-Indian-Eskimo  \n",
       "0                0                             0  \n",
       "1                0                             0  \n",
       "2                0                             0  \n",
       "3                0                             0  \n",
       "4                0                             0  \n",
       "\n",
       "[5 rows x 21 columns]"
      ]
     },
     "execution_count": 24,
     "metadata": {},
     "output_type": "execute_result"
    }
   ],
   "source": [
    "df_adult.head()"
   ]
  },
  {
   "cell_type": "markdown",
   "id": "related-opera",
   "metadata": {},
   "source": [
    "# Chapter 2-7 データスケーリング"
   ]
  },
  {
   "cell_type": "markdown",
   "id": "advance-dress",
   "metadata": {},
   "source": [
    "異なった尺度を揃える処理をスケーリングと呼びます。"
   ]
  },
  {
   "cell_type": "code",
   "execution_count": 25,
   "id": "proof-collect",
   "metadata": {},
   "outputs": [
    {
     "data": {
      "text/html": [
       "<div>\n",
       "<style scoped>\n",
       "    .dataframe tbody tr th:only-of-type {\n",
       "        vertical-align: middle;\n",
       "    }\n",
       "\n",
       "    .dataframe tbody tr th {\n",
       "        vertical-align: top;\n",
       "    }\n",
       "\n",
       "    .dataframe thead th {\n",
       "        text-align: right;\n",
       "    }\n",
       "</style>\n",
       "<table border=\"1\" class=\"dataframe\">\n",
       "  <thead>\n",
       "    <tr style=\"text-align: right;\">\n",
       "      <th></th>\n",
       "      <th>count</th>\n",
       "      <th>mean</th>\n",
       "      <th>std</th>\n",
       "      <th>min</th>\n",
       "      <th>25%</th>\n",
       "      <th>50%</th>\n",
       "      <th>75%</th>\n",
       "      <th>max</th>\n",
       "    </tr>\n",
       "  </thead>\n",
       "  <tbody>\n",
       "    <tr>\n",
       "      <th>ID</th>\n",
       "      <td>30000.0</td>\n",
       "      <td>15000.500000</td>\n",
       "      <td>8660.398374</td>\n",
       "      <td>1.0</td>\n",
       "      <td>7500.75</td>\n",
       "      <td>15000.5</td>\n",
       "      <td>22500.25</td>\n",
       "      <td>30000.0</td>\n",
       "    </tr>\n",
       "    <tr>\n",
       "      <th>LIMIT_BAL</th>\n",
       "      <td>30000.0</td>\n",
       "      <td>167484.322667</td>\n",
       "      <td>129747.661567</td>\n",
       "      <td>10000.0</td>\n",
       "      <td>50000.00</td>\n",
       "      <td>140000.0</td>\n",
       "      <td>240000.00</td>\n",
       "      <td>1000000.0</td>\n",
       "    </tr>\n",
       "    <tr>\n",
       "      <th>SEX</th>\n",
       "      <td>30000.0</td>\n",
       "      <td>1.603733</td>\n",
       "      <td>0.489129</td>\n",
       "      <td>1.0</td>\n",
       "      <td>1.00</td>\n",
       "      <td>2.0</td>\n",
       "      <td>2.00</td>\n",
       "      <td>2.0</td>\n",
       "    </tr>\n",
       "    <tr>\n",
       "      <th>EDUCATION</th>\n",
       "      <td>30000.0</td>\n",
       "      <td>1.853133</td>\n",
       "      <td>0.790349</td>\n",
       "      <td>0.0</td>\n",
       "      <td>1.00</td>\n",
       "      <td>2.0</td>\n",
       "      <td>2.00</td>\n",
       "      <td>6.0</td>\n",
       "    </tr>\n",
       "    <tr>\n",
       "      <th>MARRIAGE</th>\n",
       "      <td>30000.0</td>\n",
       "      <td>1.551867</td>\n",
       "      <td>0.521970</td>\n",
       "      <td>0.0</td>\n",
       "      <td>1.00</td>\n",
       "      <td>2.0</td>\n",
       "      <td>2.00</td>\n",
       "      <td>3.0</td>\n",
       "    </tr>\n",
       "    <tr>\n",
       "      <th>AGE</th>\n",
       "      <td>30000.0</td>\n",
       "      <td>35.485500</td>\n",
       "      <td>9.217904</td>\n",
       "      <td>21.0</td>\n",
       "      <td>28.00</td>\n",
       "      <td>34.0</td>\n",
       "      <td>41.00</td>\n",
       "      <td>79.0</td>\n",
       "    </tr>\n",
       "    <tr>\n",
       "      <th>PAY_0</th>\n",
       "      <td>30000.0</td>\n",
       "      <td>-0.016700</td>\n",
       "      <td>1.123802</td>\n",
       "      <td>-2.0</td>\n",
       "      <td>-1.00</td>\n",
       "      <td>0.0</td>\n",
       "      <td>0.00</td>\n",
       "      <td>8.0</td>\n",
       "    </tr>\n",
       "    <tr>\n",
       "      <th>PAY_2</th>\n",
       "      <td>30000.0</td>\n",
       "      <td>-0.133767</td>\n",
       "      <td>1.197186</td>\n",
       "      <td>-2.0</td>\n",
       "      <td>-1.00</td>\n",
       "      <td>0.0</td>\n",
       "      <td>0.00</td>\n",
       "      <td>8.0</td>\n",
       "    </tr>\n",
       "    <tr>\n",
       "      <th>PAY_3</th>\n",
       "      <td>30000.0</td>\n",
       "      <td>-0.166200</td>\n",
       "      <td>1.196868</td>\n",
       "      <td>-2.0</td>\n",
       "      <td>-1.00</td>\n",
       "      <td>0.0</td>\n",
       "      <td>0.00</td>\n",
       "      <td>8.0</td>\n",
       "    </tr>\n",
       "    <tr>\n",
       "      <th>PAY_4</th>\n",
       "      <td>30000.0</td>\n",
       "      <td>-0.220667</td>\n",
       "      <td>1.169139</td>\n",
       "      <td>-2.0</td>\n",
       "      <td>-1.00</td>\n",
       "      <td>0.0</td>\n",
       "      <td>0.00</td>\n",
       "      <td>8.0</td>\n",
       "    </tr>\n",
       "    <tr>\n",
       "      <th>PAY_5</th>\n",
       "      <td>30000.0</td>\n",
       "      <td>-0.266200</td>\n",
       "      <td>1.133187</td>\n",
       "      <td>-2.0</td>\n",
       "      <td>-1.00</td>\n",
       "      <td>0.0</td>\n",
       "      <td>0.00</td>\n",
       "      <td>8.0</td>\n",
       "    </tr>\n",
       "    <tr>\n",
       "      <th>PAY_6</th>\n",
       "      <td>30000.0</td>\n",
       "      <td>-0.291100</td>\n",
       "      <td>1.149988</td>\n",
       "      <td>-2.0</td>\n",
       "      <td>-1.00</td>\n",
       "      <td>0.0</td>\n",
       "      <td>0.00</td>\n",
       "      <td>8.0</td>\n",
       "    </tr>\n",
       "    <tr>\n",
       "      <th>BILL_AMT1</th>\n",
       "      <td>30000.0</td>\n",
       "      <td>51223.330900</td>\n",
       "      <td>73635.860576</td>\n",
       "      <td>-165580.0</td>\n",
       "      <td>3558.75</td>\n",
       "      <td>22381.5</td>\n",
       "      <td>67091.00</td>\n",
       "      <td>964511.0</td>\n",
       "    </tr>\n",
       "    <tr>\n",
       "      <th>BILL_AMT2</th>\n",
       "      <td>30000.0</td>\n",
       "      <td>49179.075167</td>\n",
       "      <td>71173.768783</td>\n",
       "      <td>-69777.0</td>\n",
       "      <td>2984.75</td>\n",
       "      <td>21200.0</td>\n",
       "      <td>64006.25</td>\n",
       "      <td>983931.0</td>\n",
       "    </tr>\n",
       "    <tr>\n",
       "      <th>BILL_AMT3</th>\n",
       "      <td>30000.0</td>\n",
       "      <td>47013.154800</td>\n",
       "      <td>69349.387427</td>\n",
       "      <td>-157264.0</td>\n",
       "      <td>2666.25</td>\n",
       "      <td>20088.5</td>\n",
       "      <td>60164.75</td>\n",
       "      <td>1664089.0</td>\n",
       "    </tr>\n",
       "    <tr>\n",
       "      <th>BILL_AMT4</th>\n",
       "      <td>30000.0</td>\n",
       "      <td>43262.948967</td>\n",
       "      <td>64332.856134</td>\n",
       "      <td>-170000.0</td>\n",
       "      <td>2326.75</td>\n",
       "      <td>19052.0</td>\n",
       "      <td>54506.00</td>\n",
       "      <td>891586.0</td>\n",
       "    </tr>\n",
       "    <tr>\n",
       "      <th>BILL_AMT5</th>\n",
       "      <td>30000.0</td>\n",
       "      <td>40311.400967</td>\n",
       "      <td>60797.155770</td>\n",
       "      <td>-81334.0</td>\n",
       "      <td>1763.00</td>\n",
       "      <td>18104.5</td>\n",
       "      <td>50190.50</td>\n",
       "      <td>927171.0</td>\n",
       "    </tr>\n",
       "    <tr>\n",
       "      <th>BILL_AMT6</th>\n",
       "      <td>30000.0</td>\n",
       "      <td>38871.760400</td>\n",
       "      <td>59554.107537</td>\n",
       "      <td>-339603.0</td>\n",
       "      <td>1256.00</td>\n",
       "      <td>17071.0</td>\n",
       "      <td>49198.25</td>\n",
       "      <td>961664.0</td>\n",
       "    </tr>\n",
       "    <tr>\n",
       "      <th>PAY_AMT1</th>\n",
       "      <td>30000.0</td>\n",
       "      <td>5663.580500</td>\n",
       "      <td>16563.280354</td>\n",
       "      <td>0.0</td>\n",
       "      <td>1000.00</td>\n",
       "      <td>2100.0</td>\n",
       "      <td>5006.00</td>\n",
       "      <td>873552.0</td>\n",
       "    </tr>\n",
       "    <tr>\n",
       "      <th>PAY_AMT2</th>\n",
       "      <td>30000.0</td>\n",
       "      <td>5921.163500</td>\n",
       "      <td>23040.870402</td>\n",
       "      <td>0.0</td>\n",
       "      <td>833.00</td>\n",
       "      <td>2009.0</td>\n",
       "      <td>5000.00</td>\n",
       "      <td>1684259.0</td>\n",
       "    </tr>\n",
       "    <tr>\n",
       "      <th>PAY_AMT3</th>\n",
       "      <td>30000.0</td>\n",
       "      <td>5225.681500</td>\n",
       "      <td>17606.961470</td>\n",
       "      <td>0.0</td>\n",
       "      <td>390.00</td>\n",
       "      <td>1800.0</td>\n",
       "      <td>4505.00</td>\n",
       "      <td>896040.0</td>\n",
       "    </tr>\n",
       "    <tr>\n",
       "      <th>PAY_AMT4</th>\n",
       "      <td>30000.0</td>\n",
       "      <td>4826.076867</td>\n",
       "      <td>15666.159744</td>\n",
       "      <td>0.0</td>\n",
       "      <td>296.00</td>\n",
       "      <td>1500.0</td>\n",
       "      <td>4013.25</td>\n",
       "      <td>621000.0</td>\n",
       "    </tr>\n",
       "    <tr>\n",
       "      <th>PAY_AMT5</th>\n",
       "      <td>30000.0</td>\n",
       "      <td>4799.387633</td>\n",
       "      <td>15278.305679</td>\n",
       "      <td>0.0</td>\n",
       "      <td>252.50</td>\n",
       "      <td>1500.0</td>\n",
       "      <td>4031.50</td>\n",
       "      <td>426529.0</td>\n",
       "    </tr>\n",
       "    <tr>\n",
       "      <th>PAY_AMT6</th>\n",
       "      <td>30000.0</td>\n",
       "      <td>5215.502567</td>\n",
       "      <td>17777.465775</td>\n",
       "      <td>0.0</td>\n",
       "      <td>117.75</td>\n",
       "      <td>1500.0</td>\n",
       "      <td>4000.00</td>\n",
       "      <td>528666.0</td>\n",
       "    </tr>\n",
       "    <tr>\n",
       "      <th>default.payment.next.month</th>\n",
       "      <td>30000.0</td>\n",
       "      <td>0.221200</td>\n",
       "      <td>0.415062</td>\n",
       "      <td>0.0</td>\n",
       "      <td>0.00</td>\n",
       "      <td>0.0</td>\n",
       "      <td>0.00</td>\n",
       "      <td>1.0</td>\n",
       "    </tr>\n",
       "  </tbody>\n",
       "</table>\n",
       "</div>"
      ],
      "text/plain": [
       "                              count           mean            std       min  \\\n",
       "ID                          30000.0   15000.500000    8660.398374       1.0   \n",
       "LIMIT_BAL                   30000.0  167484.322667  129747.661567   10000.0   \n",
       "SEX                         30000.0       1.603733       0.489129       1.0   \n",
       "EDUCATION                   30000.0       1.853133       0.790349       0.0   \n",
       "MARRIAGE                    30000.0       1.551867       0.521970       0.0   \n",
       "AGE                         30000.0      35.485500       9.217904      21.0   \n",
       "PAY_0                       30000.0      -0.016700       1.123802      -2.0   \n",
       "PAY_2                       30000.0      -0.133767       1.197186      -2.0   \n",
       "PAY_3                       30000.0      -0.166200       1.196868      -2.0   \n",
       "PAY_4                       30000.0      -0.220667       1.169139      -2.0   \n",
       "PAY_5                       30000.0      -0.266200       1.133187      -2.0   \n",
       "PAY_6                       30000.0      -0.291100       1.149988      -2.0   \n",
       "BILL_AMT1                   30000.0   51223.330900   73635.860576 -165580.0   \n",
       "BILL_AMT2                   30000.0   49179.075167   71173.768783  -69777.0   \n",
       "BILL_AMT3                   30000.0   47013.154800   69349.387427 -157264.0   \n",
       "BILL_AMT4                   30000.0   43262.948967   64332.856134 -170000.0   \n",
       "BILL_AMT5                   30000.0   40311.400967   60797.155770  -81334.0   \n",
       "BILL_AMT6                   30000.0   38871.760400   59554.107537 -339603.0   \n",
       "PAY_AMT1                    30000.0    5663.580500   16563.280354       0.0   \n",
       "PAY_AMT2                    30000.0    5921.163500   23040.870402       0.0   \n",
       "PAY_AMT3                    30000.0    5225.681500   17606.961470       0.0   \n",
       "PAY_AMT4                    30000.0    4826.076867   15666.159744       0.0   \n",
       "PAY_AMT5                    30000.0    4799.387633   15278.305679       0.0   \n",
       "PAY_AMT6                    30000.0    5215.502567   17777.465775       0.0   \n",
       "default.payment.next.month  30000.0       0.221200       0.415062       0.0   \n",
       "\n",
       "                                 25%       50%        75%        max  \n",
       "ID                           7500.75   15000.5   22500.25    30000.0  \n",
       "LIMIT_BAL                   50000.00  140000.0  240000.00  1000000.0  \n",
       "SEX                             1.00       2.0       2.00        2.0  \n",
       "EDUCATION                       1.00       2.0       2.00        6.0  \n",
       "MARRIAGE                        1.00       2.0       2.00        3.0  \n",
       "AGE                            28.00      34.0      41.00       79.0  \n",
       "PAY_0                          -1.00       0.0       0.00        8.0  \n",
       "PAY_2                          -1.00       0.0       0.00        8.0  \n",
       "PAY_3                          -1.00       0.0       0.00        8.0  \n",
       "PAY_4                          -1.00       0.0       0.00        8.0  \n",
       "PAY_5                          -1.00       0.0       0.00        8.0  \n",
       "PAY_6                          -1.00       0.0       0.00        8.0  \n",
       "BILL_AMT1                    3558.75   22381.5   67091.00   964511.0  \n",
       "BILL_AMT2                    2984.75   21200.0   64006.25   983931.0  \n",
       "BILL_AMT3                    2666.25   20088.5   60164.75  1664089.0  \n",
       "BILL_AMT4                    2326.75   19052.0   54506.00   891586.0  \n",
       "BILL_AMT5                    1763.00   18104.5   50190.50   927171.0  \n",
       "BILL_AMT6                    1256.00   17071.0   49198.25   961664.0  \n",
       "PAY_AMT1                     1000.00    2100.0    5006.00   873552.0  \n",
       "PAY_AMT2                      833.00    2009.0    5000.00  1684259.0  \n",
       "PAY_AMT3                      390.00    1800.0    4505.00   896040.0  \n",
       "PAY_AMT4                      296.00    1500.0    4013.25   621000.0  \n",
       "PAY_AMT5                      252.50    1500.0    4031.50   426529.0  \n",
       "PAY_AMT6                      117.75    1500.0    4000.00   528666.0  \n",
       "default.payment.next.month      0.00       0.0       0.00        1.0  "
      ]
     },
     "execution_count": 25,
     "metadata": {},
     "output_type": "execute_result"
    }
   ],
   "source": [
    "import pandas as pd\n",
    "import numpy as np\n",
    "from pandas import DataFrame\n",
    "#preprosess モジュールのインポート\n",
    "from sklearn import preprocessing\n",
    "#データ分割用\n",
    "from sklearn.model_selection import train_test_split\n",
    "#ロジスティック回帰モデル作成のため\n",
    "from sklearn.linear_model import LogisticRegression\n",
    "from sklearn.metrics import accuracy_score\n",
    "#可視化のため\n",
    "import seaborn as sns\n",
    "import matplotlib.pyplot as plt\n",
    "#データ読み込み\n",
    "df = pd.read_csv('./genbapro_preprocessing/chapter2-data/UCI_Credit_Card.csv')\n",
    "#要約確認\n",
    "df.describe().T"
   ]
  },
  {
   "cell_type": "code",
   "execution_count": 26,
   "id": "decimal-canvas",
   "metadata": {},
   "outputs": [],
   "source": [
    "#train test データ分離\n",
    "X = df.drop(['ID', 'SEX', 'EDUCATION', 'MARRIAGE', 'AGE','default.payment.next.month'],axis=1)\n",
    "y = df['default.payment.next.month']\n",
    "X_train, X_test, y_train, y_test = train_test_split(X, y, test_size=0.2, random_state=0)"
   ]
  },
  {
   "cell_type": "markdown",
   "id": "superb-treasure",
   "metadata": {},
   "source": [
    "## Min-Max法"
   ]
  },
  {
   "cell_type": "code",
   "execution_count": 27,
   "id": "veterinary-administrator",
   "metadata": {},
   "outputs": [
    {
     "data": {
      "image/png": "[encoded data removed]",
      "text/plain": [
       "<Figure size 1008x288 with 2 Axes>"
      ]
     },
     "metadata": {
      "needs_background": "light"
     },
     "output_type": "display_data"
    }
   ],
   "source": [
    "#MinMaxScalerのインスタンス化\n",
    "min_max_scaler = preprocessing.MinMaxScaler()\n",
    "# train\n",
    "X_train_min_max = min_max_scaler.fit_transform(X_train)\n",
    "# test trainを基準にしないとリークしてしまう\n",
    "X_test_min_max = min_max_scaler.transform(X_test)\n",
    "\n",
    "#分布描画\n",
    "fontdic = {'size': 20}\n",
    "plt.figure(figsize=(14, 4))\n",
    "#変換前\n",
    "plt.subplot(1, 2, 1)\n",
    "plt.hist(X_train['BILL_AMT1'])\n",
    "plt.title('Before', fontdict=fontdic)\n",
    "plt.grid()\n",
    "#変換後\n",
    "plt.subplot(1, 2, 2)\n",
    "plt.hist(X_train_min_max[:, 8], color='red')\n",
    "plt.title('After', fontdict=fontdic)\n",
    "plt.grid()"
   ]
  },
  {
   "cell_type": "markdown",
   "id": "periodic-suggestion",
   "metadata": {},
   "source": [
    "## Zスコア標準化\n",
    "特徴量を平均０分散となるように変換します。"
   ]
  },
  {
   "cell_type": "code",
   "execution_count": 28,
   "id": "institutional-packaging",
   "metadata": {},
   "outputs": [
    {
     "data": {
      "image/png": "[encoded data removed]",
      "text/plain": [
       "<Figure size 1008x288 with 2 Axes>"
      ]
     },
     "metadata": {
      "needs_background": "light"
     },
     "output_type": "display_data"
    }
   ],
   "source": [
    "#zスコア変換\n",
    "standard_scaler = preprocessing.StandardScaler()  \n",
    "# train\n",
    "X_train_standard = standard_scaler.fit_transform(X_train)\n",
    "# test trainを基準にしないとリークしてしまう\n",
    "X_test_standard = standard_scaler.transform(X_test)\n",
    "\n",
    "#分布描画\n",
    "fontdic = {'size': 20}\n",
    "plt.figure(figsize=(14, 4))\n",
    "#変換前\n",
    "plt.subplot(1, 2, 1)\n",
    "plt.hist(X_train['BILL_AMT1'])\n",
    "plt.title('Before', fontdict=fontdic)\n",
    "plt.grid()\n",
    "#変換後\n",
    "plt.subplot(1, 2, 2)\n",
    "plt.hist(X_train_standard[:, 8], color='red')\n",
    "plt.title('After', fontdict=fontdic)\n",
    "plt.grid()"
   ]
  },
  {
   "cell_type": "markdown",
   "id": "eight-behavior",
   "metadata": {},
   "source": [
    "## 10進スケールの正規化\n",
    "対象変数の絶対値が最大値が１以下になるように１０の乗数で除する方法です。"
   ]
  },
  {
   "cell_type": "code",
   "execution_count": 29,
   "id": "narrative-guarantee",
   "metadata": {
    "tags": []
   },
   "outputs": [],
   "source": [
    "# 該当する関数がないので関数を定義\n",
    "# 10進法の変換関数\n",
    "def decimal_fit_trans(x):\n",
    "    #絶対値の最大値をカラムごとに取得\n",
    "    temp = np.nanmax(np.abs(x.values),axis=0)\n",
    "    print(\"temp\", temp)\n",
    "    arr = np.array([])\n",
    "    #カラムごとに除する定数を取得\n",
    "    for t in temp:\n",
    "        i = 0\n",
    "        while t/10**(i) > 1:\n",
    "            i += 1\n",
    "        # np.r_はhstack、np.c_はvstackと同様の使い方をする。\n",
    "        arr = np.r_[arr,1/10**(i)]\n",
    "    return  (arr)"
   ]
  },
  {
   "cell_type": "code",
   "execution_count": 30,
   "id": "coupled-angola",
   "metadata": {},
   "outputs": [
    {
     "name": "stdout",
     "output_type": "stream",
     "text": [
      "temp [8.000000e+05 8.000000e+00 7.000000e+00 8.000000e+00 8.000000e+00\n",
      " 8.000000e+00 8.000000e+00 7.468140e+05 7.439700e+05 1.664089e+06\n",
      " 7.068640e+05 8.235400e+05 6.999440e+05 8.735520e+05 1.684259e+06\n",
      " 8.890430e+05 6.210000e+05 3.880710e+05 5.271430e+05]\n",
      "temp [8.000000e+05 8.000000e+00 7.000000e+00 8.000000e+00 8.000000e+00\n",
      " 8.000000e+00 8.000000e+00 7.468140e+05 7.439700e+05 1.664089e+06\n",
      " 7.068640e+05 8.235400e+05 6.999440e+05 8.735520e+05 1.684259e+06\n",
      " 8.890430e+05 6.210000e+05 3.880710e+05 5.271430e+05]\n"
     ]
    },
    {
     "data": {
      "image/png": "[encoded data removed]",
      "text/plain": [
       "<Figure size 1008x288 with 2 Axes>"
      ]
     },
     "metadata": {
      "needs_background": "light"
     },
     "output_type": "display_data"
    }
   ],
   "source": [
    "X_train_decimal = X_train*decimal_fit_trans(X_train)\n",
    "X_test_decimal = X_test*decimal_fit_trans(X_train)\n",
    "#分布描画\n",
    "fontdic = {'size':20}\n",
    "plt.figure(figsize=(14,4))\n",
    "#変換前\n",
    "plt.subplot(1,2,1)\n",
    "plt.hist(X_train['BILL_AMT1'])\n",
    "plt.title('Before',fontdict=fontdic)\n",
    "plt.grid()\n",
    "#変換後\n",
    "plt.subplot(1,2,2)\n",
    "plt.hist(X_train_decimal['BILL_AMT1'],color='red')\n",
    "plt.title('After',fontdict=fontdic)\n",
    "plt.grid()"
   ]
  },
  {
   "cell_type": "markdown",
   "id": "behind-significance",
   "metadata": {},
   "source": [
    "## スケーリング方法比較"
   ]
  },
  {
   "cell_type": "code",
   "execution_count": 31,
   "id": "romantic-insured",
   "metadata": {},
   "outputs": [
    {
     "data": {
      "image/png": "[encoded data removed]",
      "text/plain": [
       "<Figure size 1008x720 with 19 Axes>"
      ]
     },
     "metadata": {
      "needs_background": "light"
     },
     "output_type": "display_data"
    }
   ],
   "source": [
    "#変換後比較\n",
    "plt.figure(figsize=(14, 10))\n",
    "for i, col in enumerate(X_train.columns):\n",
    "    plt.subplot(5, 4, i + 1)\n",
    "    plt.hist(\n",
    "        pd.DataFrame(X_train_min_max, columns=X_train.columns)[col],\n",
    "        color='blue',\n",
    "        alpha=0.5,\n",
    "        label='Min-Max')\n",
    "    plt.hist(\n",
    "        pd.DataFrame(X_train_standard, columns=X_train.columns)[col],\n",
    "        color='green',\n",
    "        alpha=0.5,\n",
    "        label='Standard')\n",
    "    plt.hist(X_train_decimal[col], color='red', alpha=0.5, label='Decimal')\n",
    "    plt.title(col)\n",
    "    plt.legend()"
   ]
  },
  {
   "cell_type": "code",
   "execution_count": 32,
   "id": "reliable-following",
   "metadata": {},
   "outputs": [
    {
     "name": "stdout",
     "output_type": "stream",
     "text": [
      "[0.7838333333333334, 0.8145, 0.817, 0.8141666666666667]\n"
     ]
    }
   ],
   "source": [
    "#モデルの生成\n",
    "clf = LogisticRegression()\n",
    "# 精度を格納するリスト\n",
    "l = []\n",
    "# 学習\n",
    "#スケーリングなし\n",
    "clf.fit(X_train, y_train)\n",
    "l.append(accuracy_score(y_test, clf.predict(X_test)))\n",
    "#min_max変換\n",
    "clf.fit(X_train_min_max, y_train)\n",
    "l.append(accuracy_score(y_test, clf.predict(X_test_min_max)))\n",
    "#zスコア変換\n",
    "clf.fit(X_train_standard, y_train)\n",
    "l.append(accuracy_score(y_test, clf.predict(X_test_standard)))\n",
    "#10進変換\n",
    "clf.fit(X_train_decimal, y_train)\n",
    "l.append(accuracy_score(y_test, clf.predict(X_test_decimal)))\n",
    "# 精度一覧\n",
    "print(l)"
   ]
  },
  {
   "cell_type": "markdown",
   "id": "single-trunk",
   "metadata": {},
   "source": [
    "# Chapter 2-8 データ変換"
   ]
  },
  {
   "cell_type": "markdown",
   "id": "contained-indiana",
   "metadata": {},
   "source": [
    "## 線形変換\n",
    "変数のグループで線型結合し新たな変数とします。  \n",
    "通常の回帰モデルやロジスティック回帰などの一般化線形モデルはリンク関数を通して、  \n",
    "変数に対して線形性を持っているので、変数の削減以上の効果は期待できない。  \n",
    "一方、データが周期性を持つ時系列の性質を持っている場合は有効になります。\n"
   ]
  },
  {
   "cell_type": "markdown",
   "id": "leading-table",
   "metadata": {},
   "source": [
    "## 二次型変換  \n",
    "直線のデータだけが上手くいくとは限らないなので、その時はこの方法を試す。"
   ]
  },
  {
   "cell_type": "code",
   "execution_count": 33,
   "id": "lightweight-sunglasses",
   "metadata": {},
   "outputs": [
    {
     "data": {
      "text/plain": [
       "<matplotlib.collections.PathCollection at 0xffff5821cfd0>"
      ]
     },
     "execution_count": 33,
     "metadata": {},
     "output_type": "execute_result"
    },
    {
     "data": {
      "image/png": "[encoded data removed]",
      "text/plain": [
       "<Figure size 360x360 with 1 Axes>"
      ]
     },
     "metadata": {
      "needs_background": "light"
     },
     "output_type": "display_data"
    }
   ],
   "source": [
    "import matplotlib.pyplot as plt\n",
    "import numpy as np\n",
    "import pandas as pd\n",
    "#人工データを作成\n",
    "from sklearn.datasets import make_circles\n",
    "\n",
    "X, y = make_circles(noise=0.02, random_state=0)  #ラベル付き円を作成\n",
    "plt.figure(figsize=(5, 5))\n",
    "plt.scatter(X[:, 0], X[:, 1], c=y, cmap='winter')"
   ]
  },
  {
   "cell_type": "code",
   "execution_count": 34,
   "id": "naughty-diploma",
   "metadata": {},
   "outputs": [
    {
     "data": {
      "text/plain": [
       "0.5"
      ]
     },
     "execution_count": 34,
     "metadata": {},
     "output_type": "execute_result"
    }
   ],
   "source": [
    "# ロジスティック回帰で分類\n",
    "from sklearn.linear_model import LogisticRegression\n",
    "from sklearn.metrics import accuracy_score\n",
    "\n",
    "#x軸y軸を説明変数としてロジスティック回帰を適用\n",
    "clf = LogisticRegression()\n",
    "X_train = X\n",
    "y_train = y\n",
    "clf.fit(X_train, y_train)\n",
    "accuracy_score(y_train, clf.predict(X_train))"
   ]
  },
  {
   "cell_type": "code",
   "execution_count": 35,
   "id": "necessary-croatia",
   "metadata": {},
   "outputs": [
    {
     "data": {
      "text/plain": [
       "1.0"
      ]
     },
     "execution_count": 35,
     "metadata": {},
     "output_type": "execute_result"
    }
   ],
   "source": [
    "#2次変換\n",
    "#モデルの生成\n",
    "clf_q = LogisticRegression()\n",
    "Z = (X[:, 0]**(2) + X[:, 1]**(2)).reshape(-1, 1)\n",
    "X_train = Z\n",
    "y_train = y\n",
    "clf_q.fit(X_train, y_train)\n",
    "accuracy_score(y_train, clf_q.predict(X_train))"
   ]
  },
  {
   "cell_type": "code",
   "execution_count": 36,
   "id": "placed-monitoring",
   "metadata": {},
   "outputs": [
    {
     "data": {
      "text/plain": [
       "array([-0.00330446])"
      ]
     },
     "execution_count": 36,
     "metadata": {},
     "output_type": "execute_result"
    }
   ],
   "source": [
    "clf.coef_[:,1]"
   ]
  },
  {
   "cell_type": "code",
   "execution_count": 37,
   "id": "concerned-tiffany",
   "metadata": {},
   "outputs": [
    {
     "data": {
      "text/plain": [
       "[<matplotlib.lines.Line2D at 0xffff57152a30>]"
      ]
     },
     "execution_count": 37,
     "metadata": {},
     "output_type": "execute_result"
    },
    {
     "data": {
      "image/png": "[encoded data removed]",
      "text/plain": [
       "<Figure size 360x360 with 1 Axes>"
      ]
     },
     "metadata": {
      "needs_background": "light"
     },
     "output_type": "display_data"
    }
   ],
   "source": [
    "plt.figure(figsize=(5,5))\n",
    "#通常の方法\n",
    "x_=np.linspace(-1,1,100)\n",
    "plt.scatter(X[:,0],X[:,1],c=y,cmap='winter')\n",
    "#log(p/(1-p)=1/2となる線を描画する（coef_:回帰変数、 intercept_ : 切片)\n",
    "plt.plot(x_,(-1*(clf.coef_[:,0]*x_)-clf.intercept_)/clf.coef_[:,1])\n",
    "plt.ylim([-1,1])\n",
    "\n",
    "#2次変換\n",
    "theta = np.arange(0,2*np.pi+1,0.1)\n",
    "xlist=[];ylist=[]\n",
    "r =  ((clf_q.intercept_/(-1*clf_q.coef_))**(1/2))[0,0] #半径\n",
    "for i in theta:\n",
    "    xlist.append(r*np.cos(i))\n",
    "    ylist.append(r*np.sin(i))\n",
    "plt.plot(xlist,ylist)"
   ]
  },
  {
   "cell_type": "markdown",
   "id": "distributed-haiti",
   "metadata": {},
   "source": [
    "## 変換の非多項式近似"
   ]
  },
  {
   "cell_type": "markdown",
   "id": "flexible-nerve",
   "metadata": {},
   "source": [
    "- 比例変数 : 距離と時間から速さ\n",
    "- GPSから得られる緯度経度データから移動距離を算出\n",
    "- 三角形の三点データから同じものか異なるかを分類\n",
    "\n",
    "様々な問題があり、ドメインの知識が重要になってくる。"
   ]
  },
  {
   "cell_type": "markdown",
   "id": "naval-metallic",
   "metadata": {},
   "source": [
    "## ランク変換"
   ]
  },
  {
   "cell_type": "markdown",
   "id": "pursuant-lodge",
   "metadata": {},
   "source": [
    "変数の値そのものではなく、その値が観測されたものの中での順位を用いて変数を変換する方法です。\n",
    "\n",
    "作業手順  \n",
    "1.全ての値に対して代償の順位を付けます。  \n",
    "2.累積分布関数の逆関数を使い、求めた順位を正規分布に従うように変換します。  \n",
    "\n",
    "回帰モデルなどの適用するときに有効。 (決定技などのモデルではなんの影響も与えません。）"
   ]
  },
  {
   "cell_type": "code",
   "execution_count": 38,
   "id": "basic-printing",
   "metadata": {},
   "outputs": [
    {
     "data": {
      "image/png": "[encoded data removed]",
      "text/plain": [
       "<Figure size 432x288 with 1 Axes>"
      ]
     },
     "metadata": {
      "needs_background": "light"
     },
     "output_type": "display_data"
    }
   ],
   "source": [
    "#人工的にデータを作成\n",
    "#y ~ N(3x+1,0.2) に従う(x in [0,1])\n",
    "np.random.seed(seed=1)\n",
    "x = np.random.rand(100)\n",
    "y = np.random.normal(3 * x + 1, 0.2)\n",
    "#xの外れ値を作成\n",
    "x = np.where(x == max(x), 3, x)\n",
    "plt.scatter(x=x, y=y)\n",
    "plt.grid()"
   ]
  },
  {
   "cell_type": "code",
   "execution_count": 39,
   "id": "vocal-picture",
   "metadata": {},
   "outputs": [],
   "source": [
    "#ランク算出のためのライブラリインポート\n",
    "from scipy.stats import rankdata\n",
    "#正規分布の累積分布関数の逆関数を計算するためにインポート\n",
    "from scipy.stats import norm\n",
    "#ランク変換関数定義\n",
    "def rank_fit_transform(x):\n",
    "  # norm.ppfの引数にはパーセンテージを取り、そのパーセンテージが発生する値の標準偏差乗数を返します。\n",
    "  return (norm.ppf((rankdata(x) - (3 / 8)) / (len(x) + (1 / 4))))"
   ]
  },
  {
   "cell_type": "code",
   "execution_count": 40,
   "id": "fatal-mediterranean",
   "metadata": {},
   "outputs": [
    {
     "name": "stdout",
     "output_type": "stream",
     "text": [
      "変換前_0.71387 変換後_0.91283\n"
     ]
    }
   ],
   "source": [
    "#線形回帰モデルの準備\n",
    "from sklearn import linear_model\n",
    "\n",
    "#ランク変換前\n",
    "clf = linear_model.LinearRegression()\n",
    "X = x.reshape(-1, 1)\n",
    "y = y\n",
    "clf.fit(X, y)\n",
    "clf.score(X, y)\n",
    "\n",
    "#ランク変換後\n",
    "clf_r = linear_model.LinearRegression()\n",
    "X_r = rank_fit_transform(x).reshape(-1, 1)\n",
    "y = y\n",
    "clf_r.fit(X_r, y)\n",
    "clf_r.score(X_r, y)\n",
    "#決定係数\n",
    "print(\"変換前_{:.5g}\".format(clf.score(X, y)), \"変換後_{:.5g}\".format(\n",
    "\tclf_r.score(X_r, y)))"
   ]
  },
  {
   "cell_type": "code",
   "execution_count": 41,
   "id": "universal-evaluation",
   "metadata": {},
   "outputs": [
    {
     "data": {
      "text/plain": [
       "Text(0.5, 1.0, 'After')"
      ]
     },
     "execution_count": 41,
     "metadata": {},
     "output_type": "execute_result"
    },
    {
     "data": {
      "image/png": "[encoded data removed]",
      "text/plain": [
       "<Figure size 1008x504 with 2 Axes>"
      ]
     },
     "metadata": {
      "needs_background": "light"
     },
     "output_type": "display_data"
    }
   ],
   "source": [
    "#直線当てはめを描画\n",
    "plt.figure(figsize=(14, 7))\n",
    "#変換なし\n",
    "plt.subplot(1,2,1)\n",
    "plt.scatter(X, y)\n",
    "plt.scatter(X, clf.predict(X), s=5) # 線の描写\n",
    "plt.grid()\n",
    "plt.title('Before')\n",
    "#ランク変換後\n",
    "plt.subplot(1,2,2)\n",
    "plt.scatter(X_r, y)\n",
    "plt.scatter(X_r, clf_r.predict(X_r), s=5) # 線の描写\n",
    "plt.grid()\n",
    "plt.title('After')"
   ]
  },
  {
   "cell_type": "markdown",
   "id": "blind-violation",
   "metadata": {},
   "source": [
    "## Box-Cox変換 (scipyを使用)\n",
    "1/2乗したり対数を取ったりする変数を一般化したもの。  \n",
    "右に長いテールを持つ分布や目的変数との非戦毛な関係を記述するために使います。\n",
    "\n",
    "代表的な方法にLOG変換などがある。"
   ]
  },
  {
   "cell_type": "code",
   "execution_count": 42,
   "id": "optional-rugby",
   "metadata": {},
   "outputs": [
    {
     "data": {
      "image/png": "[encoded data removed]",
      "text/plain": [
       "<Figure size 1008x288 with 2 Axes>"
      ]
     },
     "metadata": {
      "needs_background": "light"
     },
     "output_type": "display_data"
    }
   ],
   "source": [
    "#必要なライブラリ読み込む\n",
    "from scipy import stats  #boxcox変換のため\n",
    "from sklearn import linear_model  #線形回帰モデル\n",
    "from sklearn.model_selection import train_test_split  #訓練データ分割\n",
    "#UCI よりレンタル自転車のデータを読み込む\n",
    "df = pd.read_csv('./genbapro_preprocessing/chapter2-data/hour.csv')\n",
    "#描画準備\n",
    "plt.figure(figsize=(14, 4))\n",
    "#cntの変換前ヒストグラム\n",
    "plt.subplot(1, 2, 1)\n",
    "plt.hist(df['cnt'])\n",
    "plt.title('Before')\n",
    "plt.grid()\n",
    "\n",
    "#box-cox変換後の分布\n",
    "plt.subplot(1, 2, 2)\n",
    "bc, _ = stats.boxcox(df['cnt'])\n",
    "plt.hist(bc)\n",
    "plt.title('After')\n",
    "plt.grid()"
   ]
  },
  {
   "cell_type": "code",
   "execution_count": 43,
   "id": "small-wednesday",
   "metadata": {},
   "outputs": [
    {
     "data": {
      "text/plain": [
       "LinearRegression()"
      ]
     },
     "execution_count": 43,
     "metadata": {},
     "output_type": "execute_result"
    }
   ],
   "source": [
    "#データを訓練データとテストデータに分離\n",
    "X = df['temp'].values\n",
    "y = df['cnt'].values\n",
    "X_train, X_test, y_train, y_test = train_test_split(X, y, test_size=0.2, random_state=0)\n",
    "\n",
    "#boxcox変換\n",
    "y_train_bc, lambd = stats.boxcox(y_train)\n",
    "\n",
    "#変換前回帰\n",
    "clf = linear_model.LinearRegression()\n",
    "clf.fit(X_train.reshape(-1, 1), y_train.reshape(-1, 1))\n",
    "\n",
    "#変換後回帰\n",
    "clf_bc = linear_model.LinearRegression()\n",
    "clf_bc.fit(X_train.reshape(-1, 1), y_train_bc.reshape(-1, 1))"
   ]
  },
  {
   "cell_type": "code",
   "execution_count": 44,
   "id": "second-training",
   "metadata": {},
   "outputs": [
    {
     "data": {
      "text/plain": [
       "Text(0.5, 1.0, 'After')"
      ]
     },
     "execution_count": 44,
     "metadata": {},
     "output_type": "execute_result"
    },
    {
     "data": {
      "image/png": "[encoded data removed]",
      "text/plain": [
       "<Figure size 1008x288 with 2 Axes>"
      ]
     },
     "metadata": {
      "needs_background": "light"
     },
     "output_type": "display_data"
    }
   ],
   "source": [
    "#残差プロット\n",
    "#比較用y=0の線\n",
    "x = np.arange(0, 20)\n",
    "y = 0 * x\n",
    "\n",
    "plt.figure(figsize=(14, 4))\n",
    "#変換前\n",
    "plt.subplot(1,2,1)\n",
    "plt.scatter(\n",
    "    clf_bc.predict(X_train.reshape(-1, 1)),\n",
    "    y_train.reshape(-1, 1) - clf.predict(X_train.reshape(-1, 1)))\n",
    "plt.plot(x, y, color='red')\n",
    "plt.title('Before')\n",
    "#変換後\n",
    "plt.subplot(1,2,2)\n",
    "plt.scatter(\n",
    "    clf_bc.predict(X_train.reshape(-1, 1)),\n",
    "    y_train_bc.reshape(-1, 1) - clf_bc.predict(X_train.reshape(-1, 1)))\n",
    "plt.plot(x, y, color='red')\n",
    "plt.title('After')"
   ]
  },
  {
   "cell_type": "markdown",
   "id": "optimum-attitude",
   "metadata": {},
   "source": [
    "# Chapter 2-9 次元削除法"
   ]
  },
  {
   "cell_type": "markdown",
   "id": "demanding-nickel",
   "metadata": {},
   "source": [
    "特徴量が増える事は機械学習にとって説得力が増す良い傾向にあるが、  \n",
    "高次元の世界では低次元の直感に反することが起こる。  \n",
    "- データが巨大で計算量が大きくなる。\n",
    "- 次元の呪いで上手く学習できない。"
   ]
  },
  {
   "cell_type": "markdown",
   "id": "young-madness",
   "metadata": {},
   "source": [
    "## 主成分分析（PCA)"
   ]
  },
  {
   "cell_type": "markdown",
   "id": "accredited-queens",
   "metadata": {},
   "source": [
    "相関にある特徴量同士を合成して、なるべく情報量を失う事なく次元を削除する方法。  \n",
    "次元削除の目安として、削除前の次元の80%以上の情報量が得られること。"
   ]
  },
  {
   "cell_type": "code",
   "execution_count": 45,
   "id": "utility-sessions",
   "metadata": {},
   "outputs": [
    {
     "data": {
      "text/html": [
       "<div>\n",
       "<style scoped>\n",
       "    .dataframe tbody tr th:only-of-type {\n",
       "        vertical-align: middle;\n",
       "    }\n",
       "\n",
       "    .dataframe tbody tr th {\n",
       "        vertical-align: top;\n",
       "    }\n",
       "\n",
       "    .dataframe thead th {\n",
       "        text-align: right;\n",
       "    }\n",
       "</style>\n",
       "<table border=\"1\" class=\"dataframe\">\n",
       "  <thead>\n",
       "    <tr style=\"text-align: right;\">\n",
       "      <th>地域</th>\n",
       "      <th>北海道</th>\n",
       "      <th>青森県</th>\n",
       "      <th>岩手県</th>\n",
       "      <th>宮城県</th>\n",
       "      <th>秋田県</th>\n",
       "    </tr>\n",
       "  </thead>\n",
       "  <tbody>\n",
       "    <tr>\n",
       "      <th>農業</th>\n",
       "      <td>0.0321</td>\n",
       "      <td>0.0382</td>\n",
       "      <td>0.0256</td>\n",
       "      <td>0.0082</td>\n",
       "      <td>0.0235</td>\n",
       "    </tr>\n",
       "    <tr>\n",
       "      <th>林業</th>\n",
       "      <td>0.0013</td>\n",
       "      <td>0.0007</td>\n",
       "      <td>0.0038</td>\n",
       "      <td>0.0006</td>\n",
       "      <td>0.0040</td>\n",
       "    </tr>\n",
       "    <tr>\n",
       "      <th>水産業</th>\n",
       "      <td>0.0104</td>\n",
       "      <td>0.0061</td>\n",
       "      <td>0.0051</td>\n",
       "      <td>0.0044</td>\n",
       "      <td>0.0005</td>\n",
       "    </tr>\n",
       "    <tr>\n",
       "      <th>鉱業</th>\n",
       "      <td>0.0014</td>\n",
       "      <td>0.0022</td>\n",
       "      <td>0.0021</td>\n",
       "      <td>0.0012</td>\n",
       "      <td>0.0027</td>\n",
       "    </tr>\n",
       "    <tr>\n",
       "      <th>製造業</th>\n",
       "      <td>0.1041</td>\n",
       "      <td>0.1689</td>\n",
       "      <td>0.1421</td>\n",
       "      <td>0.1506</td>\n",
       "      <td>0.1516</td>\n",
       "    </tr>\n",
       "    <tr>\n",
       "      <th>建設業</th>\n",
       "      <td>0.0706</td>\n",
       "      <td>0.0661</td>\n",
       "      <td>0.1480</td>\n",
       "      <td>0.1279</td>\n",
       "      <td>0.0646</td>\n",
       "    </tr>\n",
       "    <tr>\n",
       "      <th>電気・ガス・水道・廃棄物処理業</th>\n",
       "      <td>0.0321</td>\n",
       "      <td>0.0283</td>\n",
       "      <td>0.0296</td>\n",
       "      <td>0.0258</td>\n",
       "      <td>0.0458</td>\n",
       "    </tr>\n",
       "    <tr>\n",
       "      <th>卸売・小売業</th>\n",
       "      <td>0.1289</td>\n",
       "      <td>0.1178</td>\n",
       "      <td>0.1051</td>\n",
       "      <td>0.1335</td>\n",
       "      <td>0.1039</td>\n",
       "    </tr>\n",
       "    <tr>\n",
       "      <th>金融・保険業</th>\n",
       "      <td>0.0344</td>\n",
       "      <td>0.0354</td>\n",
       "      <td>0.0375</td>\n",
       "      <td>0.0346</td>\n",
       "      <td>0.0391</td>\n",
       "    </tr>\n",
       "    <tr>\n",
       "      <th>不動産業</th>\n",
       "      <td>0.1104</td>\n",
       "      <td>0.1086</td>\n",
       "      <td>0.1122</td>\n",
       "      <td>0.1096</td>\n",
       "      <td>0.1283</td>\n",
       "    </tr>\n",
       "    <tr>\n",
       "      <th>運輸・郵便業</th>\n",
       "      <td>0.0761</td>\n",
       "      <td>0.0527</td>\n",
       "      <td>0.0537</td>\n",
       "      <td>0.0526</td>\n",
       "      <td>0.0412</td>\n",
       "    </tr>\n",
       "    <tr>\n",
       "      <th>情報通信業</th>\n",
       "      <td>0.0370</td>\n",
       "      <td>0.0257</td>\n",
       "      <td>0.0262</td>\n",
       "      <td>0.0369</td>\n",
       "      <td>0.0260</td>\n",
       "    </tr>\n",
       "    <tr>\n",
       "      <th>宿泊・飲食サービス業</th>\n",
       "      <td>0.0272</td>\n",
       "      <td>0.0220</td>\n",
       "      <td>0.0238</td>\n",
       "      <td>0.0231</td>\n",
       "      <td>0.0285</td>\n",
       "    </tr>\n",
       "    <tr>\n",
       "      <th>専門・科学技術、業務支援サービス業</th>\n",
       "      <td>0.0733</td>\n",
       "      <td>0.0539</td>\n",
       "      <td>0.0537</td>\n",
       "      <td>0.0733</td>\n",
       "      <td>0.0606</td>\n",
       "    </tr>\n",
       "    <tr>\n",
       "      <th>公務</th>\n",
       "      <td>0.0725</td>\n",
       "      <td>0.0991</td>\n",
       "      <td>0.0566</td>\n",
       "      <td>0.0597</td>\n",
       "      <td>0.0650</td>\n",
       "    </tr>\n",
       "    <tr>\n",
       "      <th>教育</th>\n",
       "      <td>0.0444</td>\n",
       "      <td>0.0433</td>\n",
       "      <td>0.0463</td>\n",
       "      <td>0.0427</td>\n",
       "      <td>0.0502</td>\n",
       "    </tr>\n",
       "    <tr>\n",
       "      <th>保健衛生・社会事業</th>\n",
       "      <td>0.0990</td>\n",
       "      <td>0.0886</td>\n",
       "      <td>0.0860</td>\n",
       "      <td>0.0748</td>\n",
       "      <td>0.1147</td>\n",
       "    </tr>\n",
       "    <tr>\n",
       "      <th>その他のサービス</th>\n",
       "      <td>0.0448</td>\n",
       "      <td>0.0426</td>\n",
       "      <td>0.0427</td>\n",
       "      <td>0.0406</td>\n",
       "      <td>0.0499</td>\n",
       "    </tr>\n",
       "  </tbody>\n",
       "</table>\n",
       "</div>"
      ],
      "text/plain": [
       "地域                    北海道     青森県     岩手県     宮城県     秋田県\n",
       "農業                 0.0321  0.0382  0.0256  0.0082  0.0235\n",
       "林業                 0.0013  0.0007  0.0038  0.0006  0.0040\n",
       "水産業                0.0104  0.0061  0.0051  0.0044  0.0005\n",
       "鉱業                 0.0014  0.0022  0.0021  0.0012  0.0027\n",
       "製造業                0.1041  0.1689  0.1421  0.1506  0.1516\n",
       "建設業                0.0706  0.0661  0.1480  0.1279  0.0646\n",
       "電気・ガス・水道・廃棄物処理業    0.0321  0.0283  0.0296  0.0258  0.0458\n",
       "卸売・小売業             0.1289  0.1178  0.1051  0.1335  0.1039\n",
       "金融・保険業             0.0344  0.0354  0.0375  0.0346  0.0391\n",
       "不動産業               0.1104  0.1086  0.1122  0.1096  0.1283\n",
       "運輸・郵便業             0.0761  0.0527  0.0537  0.0526  0.0412\n",
       "情報通信業              0.0370  0.0257  0.0262  0.0369  0.0260\n",
       "宿泊・飲食サービス業         0.0272  0.0220  0.0238  0.0231  0.0285\n",
       "専門・科学技術、業務支援サービス業  0.0733  0.0539  0.0537  0.0733  0.0606\n",
       "公務                 0.0725  0.0991  0.0566  0.0597  0.0650\n",
       "教育                 0.0444  0.0433  0.0463  0.0427  0.0502\n",
       "保健衛生・社会事業          0.0990  0.0886  0.0860  0.0748  0.1147\n",
       "その他のサービス           0.0448  0.0426  0.0427  0.0406  0.0499"
      ]
     },
     "execution_count": 45,
     "metadata": {},
     "output_type": "execute_result"
    }
   ],
   "source": [
    "from sklearn.decomposition import PCA  #主成分分析\n",
    "#ESTAT 県民総生産 (2015)データ 読み込む\n",
    "df = pd.read_csv('./genbapro_preprocessing/chapter2-data/FEI_PREF_2015.csv').set_index('地域')\n",
    "#データ中身確認\n",
    "df.head().T"
   ]
  },
  {
   "cell_type": "code",
   "execution_count": 46,
   "id": "august-motivation",
   "metadata": {},
   "outputs": [
    {
     "data": {
      "text/plain": [
       "(-0.05, 0.1)"
      ]
     },
     "execution_count": 46,
     "metadata": {},
     "output_type": "execute_result"
    },
    {
     "data": {
      "image/png": "[encoded data removed]",
      "text/plain": [
       "<Figure size 1152x504 with 2 Axes>"
      ]
     },
     "metadata": {
      "needs_background": "light"
     },
     "output_type": "display_data"
    }
   ],
   "source": [
    "#PCA\n",
    "pca = PCA()\n",
    "pca.fit(df[['情報通信業', '金融・保険業']])\n",
    "\n",
    "#図示する\n",
    "fig = plt.figure(figsize=(16, 7))\n",
    "ax1 = fig.add_subplot(1, 2, 1)\n",
    "ax2 = fig.add_subplot(1, 2, 2)\n",
    "ax1.scatter(df['情報通信業'], df['金融・保険業'])\n",
    "ax2.scatter(df['情報通信業'], df['金融・保険業'])\n",
    "#第一主成分の軸を図示\n",
    "y = (pca.components_[0][1] / pca.components_[0][0]) * (\n",
    "\tnp.linspace(0, 0.15, 100) - np.mean(df['情報通信業'])) + np.mean(df['金融・保険業'])\n",
    "ax2.plot(np.linspace(0, 0.15, 100), y, color='red')\n",
    "#第二主成分の軸を図示\n",
    "y = (pca.components_[1][1] / pca.components_[1][0]) * (\n",
    "\tnp.linspace(0, 0.15, 100) - np.mean(df['情報通信業'])) + np.mean(df['金融・保険業'])\n",
    "ax2.plot(np.linspace(0, 0.15, 100), y, color='red')\n",
    "#中心を赤でplot\n",
    "ax2.scatter(np.mean(df['情報通信業']), np.mean(df['金融・保険業']), color='red')\n",
    "#目盛の範囲を調整\n",
    "ax1.set_ylim(-0.05, 0.1)\n",
    "ax2.set_ylim(-0.05, 0.1)"
   ]
  },
  {
   "cell_type": "code",
   "execution_count": 47,
   "id": "british-plate",
   "metadata": {},
   "outputs": [
    {
     "data": {
      "text/plain": [
       "[<matplotlib.lines.Line2D at 0xffff56d46e80>]"
      ]
     },
     "execution_count": 47,
     "metadata": {},
     "output_type": "execute_result"
    },
    {
     "data": {
      "image/png": "[encoded data removed]",
      "text/plain": [
       "<Figure size 1008x504 with 1 Axes>"
      ]
     },
     "metadata": {
      "needs_background": "light"
     },
     "output_type": "display_data"
    }
   ],
   "source": [
    "#新しい直交座標系でプロット\n",
    "fig = plt.figure(figsize=(14, 7))\n",
    "ax = fig.add_subplot(1, 1, 1)\n",
    "#元の系列\n",
    "ax.scatter(\n",
    "\tpca.transform(df[['情報通信業', '金融・保険業']])[:, 0],\n",
    "\tpca.transform(df[['情報通信業', '金融・保険業']])[:, 1])\n",
    "#第一主成分の座標\n",
    "x = pca.transform(df[['情報通信業', '金融・保険業']])[:, 0]\n",
    "y = x * 0\n",
    "ax.scatter(x, y)\n",
    "ax.plot(\n",
    "\tnp.linspace(-0.02, 0.1, 100),\n",
    "\tnp.linspace(-0.02, 0.02, 100) * 0,\n",
    "\tcolor='red')\n",
    "#第二主成分の座標\n",
    "y = pca.transform(df[['情報通信業', '金融・保険業']])[:, 1]\n",
    "x = y * 0\n",
    "ax.scatter(x, y)\n",
    "ax.plot(\n",
    "\tnp.linspace(-0.02, 0.1, 100) * 0,\n",
    "\tnp.linspace(-0.02, 0.02, 100),\n",
    "\tcolor='red')"
   ]
  },
  {
   "cell_type": "code",
   "execution_count": 48,
   "id": "greek-aircraft",
   "metadata": {},
   "outputs": [
    {
     "name": "stdout",
     "output_type": "stream",
     "text": [
      "[0.87637202 0.12362798]\n"
     ]
    }
   ],
   "source": [
    "#寄与度\n",
    "print (pca.explained_variance_ratio_)"
   ]
  },
  {
   "cell_type": "markdown",
   "id": "excess-harbor",
   "metadata": {},
   "source": [
    "## 因子分析"
   ]
  },
  {
   "cell_type": "markdown",
   "id": "environmental-bruce",
   "metadata": {},
   "source": [
    "複数の相関する変数が、ある今日通院しより発生していると考え、この共通因子を求める手法。  \n",
    "主成分分析と同様に相関係数行列の固有値の大きさを情報量とみなし、その値が１より大きいものの数を因子数として定めると良い。"
   ]
  },
  {
   "cell_type": "code",
   "execution_count": 50,
   "id": "hindu-sheriff",
   "metadata": {},
   "outputs": [],
   "source": [
    "#因子分析用のライブラリを読み込む\n",
    "from factor_analyzer import FactorAnalyzer\n",
    "import matplotlib.pyplot as plt #可視化のため\n",
    "import numpy.linalg as LA #固有値計算のため\n",
    "\n",
    "#ESTAT 県民総生産 (2015)データ 読み込む\n",
    "df = pd.read_csv('./genbapro_preprocessing/chapter2-data/FEI_PREF_2015.csv').set_index('地域')\n",
    "U = df"
   ]
  },
  {
   "cell_type": "code",
   "execution_count": 52,
   "id": "administrative-reputation",
   "metadata": {},
   "outputs": [
    {
     "data": {
      "text/plain": [
       "[<matplotlib.lines.Line2D at 0xffff56f69190>]"
      ]
     },
     "execution_count": 52,
     "metadata": {},
     "output_type": "execute_result"
    },
    {
     "data": {
      "image/png": "[encoded data removed]",
      "text/plain": [
       "<Figure size 432x288 with 1 Axes>"
      ]
     },
     "metadata": {
      "needs_background": "light"
     },
     "output_type": "display_data"
    }
   ],
   "source": [
    "#固有値の大きさ\n",
    "ev, _ = LA.eig(U.corr())  #相関係数行列の固有値\n",
    "plt.bar(np.arange(len(ev)), ev)  #固有値プロット\n",
    "plt.plot([1] * 20, color='red')  #比較用のy=1の線をプロット"
   ]
  },
  {
   "cell_type": "code",
   "execution_count": 53,
   "id": "promotional-blocking",
   "metadata": {},
   "outputs": [
    {
     "data": {
      "text/plain": [
       "FactorAnalyzer(n_factors=5, rotation=None, rotation_kwargs={})"
      ]
     },
     "execution_count": 53,
     "metadata": {},
     "output_type": "execute_result"
    }
   ],
   "source": [
    "#因子分析のインスタンス作成\n",
    "fa = FactorAnalyzer(rotation=None, n_factors=5)  #回転させない\n",
    "#モデリング\n",
    "fa.fit(U)"
   ]
  },
  {
   "cell_type": "code",
   "execution_count": 58,
   "id": "innovative-cream",
   "metadata": {},
   "outputs": [
    {
     "name": "stderr",
     "output_type": "stream",
     "text": [
      "/usr/local/lib/python3.9/site-packages/matplotlib/backends/backend_agg.py:238: RuntimeWarning: Glyph 31532 missing from current font.\n",
      "  font.set_text(s, 0.0, flags=flags)\n",
      "/usr/local/lib/python3.9/site-packages/matplotlib/backends/backend_agg.py:238: RuntimeWarning: Glyph 22240 missing from current font.\n",
      "  font.set_text(s, 0.0, flags=flags)\n",
      "/usr/local/lib/python3.9/site-packages/matplotlib/backends/backend_agg.py:238: RuntimeWarning: Glyph 23376 missing from current font.\n",
      "  font.set_text(s, 0.0, flags=flags)\n",
      "/usr/local/lib/python3.9/site-packages/matplotlib/backends/backend_agg.py:238: RuntimeWarning: Glyph 36000 missing from current font.\n",
      "  font.set_text(s, 0.0, flags=flags)\n",
      "/usr/local/lib/python3.9/site-packages/matplotlib/backends/backend_agg.py:238: RuntimeWarning: Glyph 33655 missing from current font.\n",
      "  font.set_text(s, 0.0, flags=flags)\n",
      "/usr/local/lib/python3.9/site-packages/matplotlib/backends/backend_agg.py:238: RuntimeWarning: Glyph 37327 missing from current font.\n",
      "  font.set_text(s, 0.0, flags=flags)\n",
      "/usr/local/lib/python3.9/site-packages/matplotlib/backends/backend_agg.py:238: RuntimeWarning: Glyph 36786 missing from current font.\n",
      "  font.set_text(s, 0.0, flags=flags)\n",
      "/usr/local/lib/python3.9/site-packages/matplotlib/backends/backend_agg.py:238: RuntimeWarning: Glyph 26989 missing from current font.\n",
      "  font.set_text(s, 0.0, flags=flags)\n",
      "/usr/local/lib/python3.9/site-packages/matplotlib/backends/backend_agg.py:238: RuntimeWarning: Glyph 26519 missing from current font.\n",
      "  font.set_text(s, 0.0, flags=flags)\n",
      "/usr/local/lib/python3.9/site-packages/matplotlib/backends/backend_agg.py:238: RuntimeWarning: Glyph 27700 missing from current font.\n",
      "  font.set_text(s, 0.0, flags=flags)\n",
      "/usr/local/lib/python3.9/site-packages/matplotlib/backends/backend_agg.py:238: RuntimeWarning: Glyph 29987 missing from current font.\n",
      "  font.set_text(s, 0.0, flags=flags)\n",
      "/usr/local/lib/python3.9/site-packages/matplotlib/backends/backend_agg.py:238: RuntimeWarning: Glyph 37489 missing from current font.\n",
      "  font.set_text(s, 0.0, flags=flags)\n",
      "/usr/local/lib/python3.9/site-packages/matplotlib/backends/backend_agg.py:238: RuntimeWarning: Glyph 35069 missing from current font.\n",
      "  font.set_text(s, 0.0, flags=flags)\n",
      "/usr/local/lib/python3.9/site-packages/matplotlib/backends/backend_agg.py:238: RuntimeWarning: Glyph 36896 missing from current font.\n",
      "  font.set_text(s, 0.0, flags=flags)\n",
      "/usr/local/lib/python3.9/site-packages/matplotlib/backends/backend_agg.py:238: RuntimeWarning: Glyph 24314 missing from current font.\n",
      "  font.set_text(s, 0.0, flags=flags)\n",
      "/usr/local/lib/python3.9/site-packages/matplotlib/backends/backend_agg.py:238: RuntimeWarning: Glyph 35373 missing from current font.\n",
      "  font.set_text(s, 0.0, flags=flags)\n",
      "/usr/local/lib/python3.9/site-packages/matplotlib/backends/backend_agg.py:238: RuntimeWarning: Glyph 38651 missing from current font.\n",
      "  font.set_text(s, 0.0, flags=flags)\n",
      "/usr/local/lib/python3.9/site-packages/matplotlib/backends/backend_agg.py:238: RuntimeWarning: Glyph 27671 missing from current font.\n",
      "  font.set_text(s, 0.0, flags=flags)\n",
      "/usr/local/lib/python3.9/site-packages/matplotlib/backends/backend_agg.py:238: RuntimeWarning: Glyph 21368 missing from current font.\n",
      "  font.set_text(s, 0.0, flags=flags)\n",
      "/usr/local/lib/python3.9/site-packages/matplotlib/backends/backend_agg.py:238: RuntimeWarning: Glyph 22770 missing from current font.\n",
      "  font.set_text(s, 0.0, flags=flags)\n",
      "/usr/local/lib/python3.9/site-packages/matplotlib/backends/backend_agg.py:238: RuntimeWarning: Glyph 37329 missing from current font.\n",
      "  font.set_text(s, 0.0, flags=flags)\n",
      "/usr/local/lib/python3.9/site-packages/matplotlib/backends/backend_agg.py:238: RuntimeWarning: Glyph 34701 missing from current font.\n",
      "  font.set_text(s, 0.0, flags=flags)\n",
      "/usr/local/lib/python3.9/site-packages/matplotlib/backends/backend_agg.py:238: RuntimeWarning: Glyph 19981 missing from current font.\n",
      "  font.set_text(s, 0.0, flags=flags)\n",
      "/usr/local/lib/python3.9/site-packages/matplotlib/backends/backend_agg.py:238: RuntimeWarning: Glyph 21205 missing from current font.\n",
      "  font.set_text(s, 0.0, flags=flags)\n",
      "/usr/local/lib/python3.9/site-packages/matplotlib/backends/backend_agg.py:238: RuntimeWarning: Glyph 36939 missing from current font.\n",
      "  font.set_text(s, 0.0, flags=flags)\n",
      "/usr/local/lib/python3.9/site-packages/matplotlib/backends/backend_agg.py:238: RuntimeWarning: Glyph 36664 missing from current font.\n",
      "  font.set_text(s, 0.0, flags=flags)\n",
      "/usr/local/lib/python3.9/site-packages/matplotlib/backends/backend_agg.py:238: RuntimeWarning: Glyph 24773 missing from current font.\n",
      "  font.set_text(s, 0.0, flags=flags)\n",
      "/usr/local/lib/python3.9/site-packages/matplotlib/backends/backend_agg.py:238: RuntimeWarning: Glyph 22577 missing from current font.\n",
      "  font.set_text(s, 0.0, flags=flags)\n",
      "/usr/local/lib/python3.9/site-packages/matplotlib/backends/backend_agg.py:238: RuntimeWarning: Glyph 23487 missing from current font.\n",
      "  font.set_text(s, 0.0, flags=flags)\n",
      "/usr/local/lib/python3.9/site-packages/matplotlib/backends/backend_agg.py:238: RuntimeWarning: Glyph 27850 missing from current font.\n",
      "  font.set_text(s, 0.0, flags=flags)\n",
      "/usr/local/lib/python3.9/site-packages/matplotlib/backends/backend_agg.py:238: RuntimeWarning: Glyph 23554 missing from current font.\n",
      "  font.set_text(s, 0.0, flags=flags)\n",
      "/usr/local/lib/python3.9/site-packages/matplotlib/backends/backend_agg.py:238: RuntimeWarning: Glyph 38272 missing from current font.\n",
      "  font.set_text(s, 0.0, flags=flags)\n",
      "/usr/local/lib/python3.9/site-packages/matplotlib/backends/backend_agg.py:238: RuntimeWarning: Glyph 20844 missing from current font.\n",
      "  font.set_text(s, 0.0, flags=flags)\n",
      "/usr/local/lib/python3.9/site-packages/matplotlib/backends/backend_agg.py:238: RuntimeWarning: Glyph 21209 missing from current font.\n",
      "  font.set_text(s, 0.0, flags=flags)\n",
      "/usr/local/lib/python3.9/site-packages/matplotlib/backends/backend_agg.py:238: RuntimeWarning: Glyph 25945 missing from current font.\n",
      "  font.set_text(s, 0.0, flags=flags)\n",
      "/usr/local/lib/python3.9/site-packages/matplotlib/backends/backend_agg.py:238: RuntimeWarning: Glyph 32946 missing from current font.\n",
      "  font.set_text(s, 0.0, flags=flags)\n",
      "/usr/local/lib/python3.9/site-packages/matplotlib/backends/backend_agg.py:238: RuntimeWarning: Glyph 20445 missing from current font.\n",
      "  font.set_text(s, 0.0, flags=flags)\n",
      "/usr/local/lib/python3.9/site-packages/matplotlib/backends/backend_agg.py:238: RuntimeWarning: Glyph 20581 missing from current font.\n",
      "  font.set_text(s, 0.0, flags=flags)\n",
      "/usr/local/lib/python3.9/site-packages/matplotlib/backends/backend_agg.py:238: RuntimeWarning: Glyph 12381 missing from current font.\n",
      "  font.set_text(s, 0.0, flags=flags)\n",
      "/usr/local/lib/python3.9/site-packages/matplotlib/backends/backend_agg.py:238: RuntimeWarning: Glyph 12398 missing from current font.\n",
      "  font.set_text(s, 0.0, flags=flags)\n",
      "/usr/local/lib/python3.9/site-packages/matplotlib/backends/backend_agg.py:201: RuntimeWarning: Glyph 36786 missing from current font.\n",
      "  font.set_text(s, 0, flags=flags)\n",
      "/usr/local/lib/python3.9/site-packages/matplotlib/backends/backend_agg.py:201: RuntimeWarning: Glyph 26989 missing from current font.\n",
      "  font.set_text(s, 0, flags=flags)\n",
      "/usr/local/lib/python3.9/site-packages/matplotlib/backends/backend_agg.py:201: RuntimeWarning: Glyph 26519 missing from current font.\n",
      "  font.set_text(s, 0, flags=flags)\n",
      "/usr/local/lib/python3.9/site-packages/matplotlib/backends/backend_agg.py:201: RuntimeWarning: Glyph 27700 missing from current font.\n",
      "  font.set_text(s, 0, flags=flags)\n",
      "/usr/local/lib/python3.9/site-packages/matplotlib/backends/backend_agg.py:201: RuntimeWarning: Glyph 29987 missing from current font.\n",
      "  font.set_text(s, 0, flags=flags)\n",
      "/usr/local/lib/python3.9/site-packages/matplotlib/backends/backend_agg.py:201: RuntimeWarning: Glyph 37489 missing from current font.\n",
      "  font.set_text(s, 0, flags=flags)\n",
      "/usr/local/lib/python3.9/site-packages/matplotlib/backends/backend_agg.py:201: RuntimeWarning: Glyph 35069 missing from current font.\n",
      "  font.set_text(s, 0, flags=flags)\n",
      "/usr/local/lib/python3.9/site-packages/matplotlib/backends/backend_agg.py:201: RuntimeWarning: Glyph 36896 missing from current font.\n",
      "  font.set_text(s, 0, flags=flags)\n",
      "/usr/local/lib/python3.9/site-packages/matplotlib/backends/backend_agg.py:201: RuntimeWarning: Glyph 24314 missing from current font.\n",
      "  font.set_text(s, 0, flags=flags)\n",
      "/usr/local/lib/python3.9/site-packages/matplotlib/backends/backend_agg.py:201: RuntimeWarning: Glyph 35373 missing from current font.\n",
      "  font.set_text(s, 0, flags=flags)\n",
      "/usr/local/lib/python3.9/site-packages/matplotlib/backends/backend_agg.py:201: RuntimeWarning: Glyph 38651 missing from current font.\n",
      "  font.set_text(s, 0, flags=flags)\n",
      "/usr/local/lib/python3.9/site-packages/matplotlib/backends/backend_agg.py:201: RuntimeWarning: Glyph 27671 missing from current font.\n",
      "  font.set_text(s, 0, flags=flags)\n",
      "/usr/local/lib/python3.9/site-packages/matplotlib/backends/backend_agg.py:201: RuntimeWarning: Glyph 21368 missing from current font.\n",
      "  font.set_text(s, 0, flags=flags)\n",
      "/usr/local/lib/python3.9/site-packages/matplotlib/backends/backend_agg.py:201: RuntimeWarning: Glyph 22770 missing from current font.\n",
      "  font.set_text(s, 0, flags=flags)\n",
      "/usr/local/lib/python3.9/site-packages/matplotlib/backends/backend_agg.py:201: RuntimeWarning: Glyph 37329 missing from current font.\n",
      "  font.set_text(s, 0, flags=flags)\n",
      "/usr/local/lib/python3.9/site-packages/matplotlib/backends/backend_agg.py:201: RuntimeWarning: Glyph 34701 missing from current font.\n",
      "  font.set_text(s, 0, flags=flags)\n",
      "/usr/local/lib/python3.9/site-packages/matplotlib/backends/backend_agg.py:201: RuntimeWarning: Glyph 19981 missing from current font.\n",
      "  font.set_text(s, 0, flags=flags)\n",
      "/usr/local/lib/python3.9/site-packages/matplotlib/backends/backend_agg.py:201: RuntimeWarning: Glyph 21205 missing from current font.\n",
      "  font.set_text(s, 0, flags=flags)\n",
      "/usr/local/lib/python3.9/site-packages/matplotlib/backends/backend_agg.py:201: RuntimeWarning: Glyph 36939 missing from current font.\n",
      "  font.set_text(s, 0, flags=flags)\n",
      "/usr/local/lib/python3.9/site-packages/matplotlib/backends/backend_agg.py:201: RuntimeWarning: Glyph 36664 missing from current font.\n",
      "  font.set_text(s, 0, flags=flags)\n",
      "/usr/local/lib/python3.9/site-packages/matplotlib/backends/backend_agg.py:201: RuntimeWarning: Glyph 24773 missing from current font.\n",
      "  font.set_text(s, 0, flags=flags)\n",
      "/usr/local/lib/python3.9/site-packages/matplotlib/backends/backend_agg.py:201: RuntimeWarning: Glyph 22577 missing from current font.\n",
      "  font.set_text(s, 0, flags=flags)\n",
      "/usr/local/lib/python3.9/site-packages/matplotlib/backends/backend_agg.py:201: RuntimeWarning: Glyph 23487 missing from current font.\n",
      "  font.set_text(s, 0, flags=flags)\n",
      "/usr/local/lib/python3.9/site-packages/matplotlib/backends/backend_agg.py:201: RuntimeWarning: Glyph 27850 missing from current font.\n",
      "  font.set_text(s, 0, flags=flags)\n",
      "/usr/local/lib/python3.9/site-packages/matplotlib/backends/backend_agg.py:201: RuntimeWarning: Glyph 23554 missing from current font.\n",
      "  font.set_text(s, 0, flags=flags)\n",
      "/usr/local/lib/python3.9/site-packages/matplotlib/backends/backend_agg.py:201: RuntimeWarning: Glyph 38272 missing from current font.\n",
      "  font.set_text(s, 0, flags=flags)\n",
      "/usr/local/lib/python3.9/site-packages/matplotlib/backends/backend_agg.py:201: RuntimeWarning: Glyph 20844 missing from current font.\n",
      "  font.set_text(s, 0, flags=flags)\n",
      "/usr/local/lib/python3.9/site-packages/matplotlib/backends/backend_agg.py:201: RuntimeWarning: Glyph 21209 missing from current font.\n",
      "  font.set_text(s, 0, flags=flags)\n",
      "/usr/local/lib/python3.9/site-packages/matplotlib/backends/backend_agg.py:201: RuntimeWarning: Glyph 25945 missing from current font.\n",
      "  font.set_text(s, 0, flags=flags)\n",
      "/usr/local/lib/python3.9/site-packages/matplotlib/backends/backend_agg.py:201: RuntimeWarning: Glyph 32946 missing from current font.\n",
      "  font.set_text(s, 0, flags=flags)\n",
      "/usr/local/lib/python3.9/site-packages/matplotlib/backends/backend_agg.py:201: RuntimeWarning: Glyph 20445 missing from current font.\n",
      "  font.set_text(s, 0, flags=flags)\n",
      "/usr/local/lib/python3.9/site-packages/matplotlib/backends/backend_agg.py:201: RuntimeWarning: Glyph 20581 missing from current font.\n",
      "  font.set_text(s, 0, flags=flags)\n",
      "/usr/local/lib/python3.9/site-packages/matplotlib/backends/backend_agg.py:201: RuntimeWarning: Glyph 12381 missing from current font.\n",
      "  font.set_text(s, 0, flags=flags)\n",
      "/usr/local/lib/python3.9/site-packages/matplotlib/backends/backend_agg.py:201: RuntimeWarning: Glyph 12398 missing from current font.\n",
      "  font.set_text(s, 0, flags=flags)\n",
      "/usr/local/lib/python3.9/site-packages/matplotlib/backends/backend_agg.py:201: RuntimeWarning: Glyph 31532 missing from current font.\n",
      "  font.set_text(s, 0, flags=flags)\n",
      "/usr/local/lib/python3.9/site-packages/matplotlib/backends/backend_agg.py:201: RuntimeWarning: Glyph 22240 missing from current font.\n",
      "  font.set_text(s, 0, flags=flags)\n",
      "/usr/local/lib/python3.9/site-packages/matplotlib/backends/backend_agg.py:201: RuntimeWarning: Glyph 23376 missing from current font.\n",
      "  font.set_text(s, 0, flags=flags)\n",
      "/usr/local/lib/python3.9/site-packages/matplotlib/backends/backend_agg.py:201: RuntimeWarning: Glyph 36000 missing from current font.\n",
      "  font.set_text(s, 0, flags=flags)\n",
      "/usr/local/lib/python3.9/site-packages/matplotlib/backends/backend_agg.py:201: RuntimeWarning: Glyph 33655 missing from current font.\n",
      "  font.set_text(s, 0, flags=flags)\n",
      "/usr/local/lib/python3.9/site-packages/matplotlib/backends/backend_agg.py:201: RuntimeWarning: Glyph 37327 missing from current font.\n",
      "  font.set_text(s, 0, flags=flags)\n"
     ]
    },
    {
     "data": {
      "image/png": "[encoded data removed]",
      "text/plain": [
       "<Figure size 1440x1440 with 5 Axes>"
      ]
     },
     "metadata": {
      "needs_background": "light"
     },
     "output_type": "display_data"
    }
   ],
   "source": [
    "#因子負荷量 プロット\n",
    "fig = plt.figure(figsize=(20,20))\n",
    "#ax = []\n",
    "for i in np.arange(5):\n",
    "    ax = fig.add_subplot(3,2,i+1)\n",
    "    plt.title('第'+str(i+1)+'因子負荷量')\n",
    "    ax.bar([i[0:2] for i in U.columns],fa.loadings_[:,i]) #ラベルの先頭2文字のみ出力"
   ]
  },
  {
   "cell_type": "markdown",
   "id": "hindu-portsmouth",
   "metadata": {},
   "source": [
    "## 多次元尺度構成法"
   ]
  },
  {
   "cell_type": "markdown",
   "id": "spoken-prison",
   "metadata": {},
   "source": [
    "距離の外面を用意てデータを低次元にマッピングする手法。  \n",
    "連続的な間隔尺度のみでなく、アンケート後段階評価のような順序尺度に対しても適用可能です。"
   ]
  },
  {
   "cell_type": "code",
   "execution_count": 59,
   "id": "latin-state",
   "metadata": {},
   "outputs": [],
   "source": [
    "#多次元尺度構成法ライブラリ読み込む\n",
    "from sklearn.manifold import MDS\n",
    "from sklearn.datasets import load_wine\n",
    "import matplotlib.pyplot as plt\n",
    "\n",
    "#ワインデータ読み込み\n",
    "data = load_wine()\n",
    "X = pd.DataFrame(data.data, columns=data.feature_names)\n",
    "y = data.target\n",
    "\n",
    "#MDSインスタンス作成しfitさせる\n",
    "embedding = MDS(\n",
    "\tn_components=2, metric=True,\n",
    "\trandom_state=1)  #metricのデフォルトはTrue 間隔尺度であるため計量MDSを実行\n",
    "X_mds = embedding.fit_transform(X)"
   ]
  },
  {
   "cell_type": "code",
   "execution_count": 56,
   "id": "developed-dylan",
   "metadata": {},
   "outputs": [
    {
     "data": {
      "text/plain": [
       "([<matplotlib.axis.XTick at 0xffff5bacf490>,\n",
       "  <matplotlib.axis.XTick at 0xffff5bacf4c0>,\n",
       "  <matplotlib.axis.XTick at 0xffff5ba6c160>,\n",
       "  <matplotlib.axis.XTick at 0xffff5ba343d0>,\n",
       "  <matplotlib.axis.XTick at 0xffff5d67e130>,\n",
       "  <matplotlib.axis.XTick at 0xffff5b948af0>,\n",
       "  <matplotlib.axis.XTick at 0xffff5b948c10>,\n",
       "  <matplotlib.axis.XTick at 0xffff5b948b50>,\n",
       "  <matplotlib.axis.XTick at 0xffff5b72c040>,\n",
       "  <matplotlib.axis.XTick at 0xffff5b72c550>,\n",
       "  <matplotlib.axis.XTick at 0xffff5b72cfd0>,\n",
       "  <matplotlib.axis.XTick at 0xffff5b72c3a0>,\n",
       "  <matplotlib.axis.XTick at 0xffff5b9485e0>],\n",
       " [Text(0, 0, ''),\n",
       "  Text(0, 0, ''),\n",
       "  Text(0, 0, ''),\n",
       "  Text(0, 0, ''),\n",
       "  Text(0, 0, ''),\n",
       "  Text(0, 0, ''),\n",
       "  Text(0, 0, ''),\n",
       "  Text(0, 0, ''),\n",
       "  Text(0, 0, ''),\n",
       "  Text(0, 0, ''),\n",
       "  Text(0, 0, ''),\n",
       "  Text(0, 0, ''),\n",
       "  Text(0, 0, '')])"
      ]
     },
     "execution_count": 56,
     "metadata": {},
     "output_type": "execute_result"
    },
    {
     "name": "stderr",
     "output_type": "stream",
     "text": [
      "/usr/local/lib/python3.9/site-packages/matplotlib/backends/backend_agg.py:238: RuntimeWarning: Glyph 27425 missing from current font.\n",
      "  font.set_text(s, 0.0, flags=flags)\n",
      "/usr/local/lib/python3.9/site-packages/matplotlib/backends/backend_agg.py:238: RuntimeWarning: Glyph 20803 missing from current font.\n",
      "  font.set_text(s, 0.0, flags=flags)\n",
      "/usr/local/lib/python3.9/site-packages/matplotlib/backends/backend_agg.py:238: RuntimeWarning: Glyph 25968 missing from current font.\n",
      "  font.set_text(s, 0.0, flags=flags)\n",
      "/usr/local/lib/python3.9/site-packages/matplotlib/backends/backend_agg.py:238: RuntimeWarning: Glyph 12473 missing from current font.\n",
      "  font.set_text(s, 0.0, flags=flags)\n",
      "/usr/local/lib/python3.9/site-packages/matplotlib/backends/backend_agg.py:238: RuntimeWarning: Glyph 12488 missing from current font.\n",
      "  font.set_text(s, 0.0, flags=flags)\n",
      "/usr/local/lib/python3.9/site-packages/matplotlib/backends/backend_agg.py:238: RuntimeWarning: Glyph 12524 missing from current font.\n",
      "  font.set_text(s, 0.0, flags=flags)\n",
      "/usr/local/lib/python3.9/site-packages/matplotlib/backends/backend_agg.py:238: RuntimeWarning: Glyph 20516 missing from current font.\n",
      "  font.set_text(s, 0.0, flags=flags)\n",
      "/usr/local/lib/python3.9/site-packages/matplotlib/backends/backend_agg.py:201: RuntimeWarning: Glyph 27425 missing from current font.\n",
      "  font.set_text(s, 0, flags=flags)\n",
      "/usr/local/lib/python3.9/site-packages/matplotlib/backends/backend_agg.py:201: RuntimeWarning: Glyph 20803 missing from current font.\n",
      "  font.set_text(s, 0, flags=flags)\n",
      "/usr/local/lib/python3.9/site-packages/matplotlib/backends/backend_agg.py:201: RuntimeWarning: Glyph 25968 missing from current font.\n",
      "  font.set_text(s, 0, flags=flags)\n",
      "/usr/local/lib/python3.9/site-packages/matplotlib/backends/backend_agg.py:201: RuntimeWarning: Glyph 12473 missing from current font.\n",
      "  font.set_text(s, 0, flags=flags)\n",
      "/usr/local/lib/python3.9/site-packages/matplotlib/backends/backend_agg.py:201: RuntimeWarning: Glyph 12488 missing from current font.\n",
      "  font.set_text(s, 0, flags=flags)\n",
      "/usr/local/lib/python3.9/site-packages/matplotlib/backends/backend_agg.py:201: RuntimeWarning: Glyph 12524 missing from current font.\n",
      "  font.set_text(s, 0, flags=flags)\n",
      "/usr/local/lib/python3.9/site-packages/matplotlib/backends/backend_agg.py:201: RuntimeWarning: Glyph 20516 missing from current font.\n",
      "  font.set_text(s, 0, flags=flags)\n"
     ]
    },
    {
     "data": {
      "image/png": "[encoded data removed]",
      "text/plain": [
       "<Figure size 432x288 with 1 Axes>"
      ]
     },
     "metadata": {
      "needs_background": "light"
     },
     "output_type": "display_data"
    }
   ],
   "source": [
    "#次元ごとのストレス値\n",
    "l = []\n",
    "for i in np.arange(len(X.columns)):\n",
    "\tembedding = MDS(\n",
    "    \tn_components=i + 1, metric=True,\n",
    "    \trandom_state=1)  #metricのデフォルトはTrue 間隔尺度であるため計量MDSを実行\n",
    "\tX_mds = embedding.fit_transform(X)\n",
    "\tl.append(embedding.stress_)\n",
    "\n",
    "plt.plot(np.arange(len(X.columns)) + 1, l, color='red')\n",
    "plt.xlabel('次元数')\n",
    "plt.ylabel('ストレス値')\n",
    "plt.xlim(0, 13)\n",
    "plt.xticks(np.arange(len(X.columns)) + 1)"
   ]
  },
  {
   "cell_type": "markdown",
   "id": "empty-being",
   "metadata": {},
   "source": [
    "２次元以降のストレスフリーなので、２次元にマッピングが妥当！！"
   ]
  },
  {
   "cell_type": "code",
   "execution_count": 57,
   "id": "suffering-suggestion",
   "metadata": {},
   "outputs": [
    {
     "data": {
      "image/png": "[encoded data removed]",
      "text/plain": [
       "<Figure size 1008x720 with 1 Axes>"
      ]
     },
     "metadata": {
      "needs_background": "light"
     },
     "output_type": "display_data"
    }
   ],
   "source": [
    "#2次元に配置する\n",
    "fig = plt.figure(figsize=(14, 10))\n",
    "ax = fig.add_subplot(1, 1, 1)\n",
    "X_mds[y == 0, 0]\n",
    "for i, j, k in zip(np.arange(3), ['blue', 'red', 'green'], ['^', 's', 'o']):\n",
    "\tax.scatter(X_mds[y == i, 0], X_mds[y == i, 1], color=j, marker=k)"
   ]
  },
  {
   "cell_type": "markdown",
   "id": "light-colon",
   "metadata": {},
   "source": [
    "局所不可"
   ]
  },
  {
   "cell_type": "code",
   "execution_count": null,
   "id": "wound-bradley",
   "metadata": {},
   "outputs": [],
   "source": []
  },
  {
   "cell_type": "code",
   "execution_count": null,
   "id": "roman-construction",
   "metadata": {},
   "outputs": [],
   "source": []
  },
  {
   "cell_type": "code",
   "execution_count": null,
   "id": "impaired-questionnaire",
   "metadata": {},
   "outputs": [],
   "source": []
  },
  {
   "cell_type": "code",
   "execution_count": null,
   "id": "corrected-render",
   "metadata": {},
   "outputs": [],
   "source": []
  },
  {
   "cell_type": "markdown",
   "id": "banner-lying",
   "metadata": {},
   "source": [
    "# Chapter 2-10 特徴量選択"
   ]
  },
  {
   "cell_type": "markdown",
   "id": "daily-above",
   "metadata": {},
   "source": [
    "特徴量の中から重要なものを探し、不要なものを取り除くプロセス。  \n",
    "- モデルの精度向上\n",
    "- モデル構築時間の短縮化\n",
    "- モデルの可視化、理解の容易化"
   ]
  },
  {
   "cell_type": "markdown",
   "id": "usual-plain",
   "metadata": {},
   "source": [
    "### 特徴量選択の３手法\n",
    "- fitter法 計算コストが少ない。\n",
    "- Wrapper法 変数間の相互の影響を考慮できる。\n",
    "- Embedded法 学習モデルのアルゴリズムを使用。 Wrapperよりは計算コストが少ない。"
   ]
  },
  {
   "cell_type": "code",
   "execution_count": 64,
   "id": "applied-major",
   "metadata": {},
   "outputs": [
    {
     "name": "stderr",
     "output_type": "stream",
     "text": [
      "/usr/local/lib/python3.9/site-packages/category_encoders/utils.py:21: FutureWarning: is_categorical is deprecated and will be removed in a future version.  Use is_categorical_dtype instead\n",
      "  elif pd.api.types.is_categorical(cols):\n",
      "/usr/local/lib/python3.9/site-packages/category_encoders/utils.py:21: FutureWarning: is_categorical is deprecated and will be removed in a future version.  Use is_categorical_dtype instead\n",
      "  elif pd.api.types.is_categorical(cols):\n"
     ]
    }
   ],
   "source": [
    "#データをトレーニング・テストに分けるモジュール\n",
    "from sklearn.model_selection import train_test_split\n",
    "#ロジスティック回帰モデル\n",
    "from sklearn.linear_model import LogisticRegression\n",
    "#正答率算出\n",
    "from sklearn.metrics import accuracy_score\n",
    "#category encoder インポート\n",
    "import category_encoders as ce\n",
    "import numpy as np\n",
    "import pandas as pd\n",
    "import matplotlib.pyplot as plt\n",
    "\n",
    "#データ 読み込み\n",
    "df_adult = df_adult_m.copy()\n",
    "\n",
    "#ターゲット変数1/0エンコーディング\n",
    "df_adult['Income'] = (df_adult['Income'] == ' >50K').astype(int)\n",
    "#特徴量取得\n",
    "X_adult = df_adult.drop(['Income'], axis=1)\n",
    "#ターゲット変数を取得\n",
    "y_adult = df_adult['Income']\n",
    "#訓練・検証データを分離\n",
    "X_adult_train, X_adult_test, y_adult_train, y_adult_test = train_test_split(\n",
    "    X_adult, y_adult, test_size=0.2, random_state=1)\n",
    "\n",
    "#ターゲットエンコーダ インスタンス化\n",
    "encoder = ce.TargetEncoder(cols=['Education', 'Occupation', 'NativeCountry'])\n",
    "enc = encoder.fit(X_adult_train, y_adult_train)\n",
    "X_adult_train = enc.transform(X_adult_train)\n",
    "X_adult_test = enc.transform(X_adult_test)\n",
    "\n",
    "#One-Hotエンコーディング インスタンス化\n",
    "encoder = ce.OneHotEncoder(\n",
    "    cols=['WorkClass', 'MaritalStatus', 'Relationship', 'Race', 'Gender'],\n",
    "    use_cat_names=True)\n",
    "enc = encoder.fit(X_adult_train)\n",
    "X_adult_train = enc.transform(X_adult_train)\n",
    "X_adult_test = enc.transform(X_adult_test)\n",
    "\n",
    "#One-Hotエンコーディングで冗長になった変数を落とす\n",
    "drop_l = [\n",
    "    [col for col in X_adult_train.columns if col.find('WorkClass') >= 0][0], [\n",
    "        col for col in X_adult_train.columns if col.find('MaritalStatus') >= 0\n",
    "    ][0], [\n",
    "        col for col in X_adult_train.columns if col.find('Relationship') >= 0\n",
    "    ][0], [col for col in X_adult_train.columns if col.find('Race') >= 0][0],\n",
    "    [col for col in X_adult_train.columns if col.find('Gender') >= 0][0]\n",
    "]\n",
    "X_adult_train = X_adult_train.drop(drop_l, axis=1)\n",
    "X_adult_test = X_adult_test.drop(drop_l, axis=1)"
   ]
  },
  {
   "cell_type": "code",
   "execution_count": 65,
   "id": "phantom-oxygen",
   "metadata": {},
   "outputs": [
    {
     "name": "stdout",
     "output_type": "stream",
     "text": [
      "特徴量 : Index(['Age', 'WorkClass_ Private', 'WorkClass_ State-gov', 'WorkClass_ ?',\n",
      "       'WorkClass_ Federal-gov', 'WorkClass_ Local-gov',\n",
      "       'WorkClass_ Self-emp-inc', 'WorkClass_ Never-worked',\n",
      "       'WorkClass_ Without-pay', 'fnlwgt', 'Education', 'EducationNum',\n",
      "       'MaritalStatus_ Never-married', 'MaritalStatus_ Divorced',\n",
      "       'MaritalStatus_ Widowed', 'MaritalStatus_ Married-spouse-absent',\n",
      "       'MaritalStatus_ Separated', 'MaritalStatus_ Married-AF-spouse',\n",
      "       'Occupation', 'Relationship_ Not-in-family',\n",
      "       'Relationship_ Other-relative', 'Relationship_ Unmarried',\n",
      "       'Relationship_ Own-child', 'Relationship_ Wife', 'Race_ Black',\n",
      "       'Race_ Asian-Pac-Islander', 'Race_ Other', 'Race_ Amer-Indian-Eskimo',\n",
      "       'Gender_ Female', 'CapitalGain', 'CapitalLoss', 'HoursPerWeek',\n",
      "       'NativeCountry'],\n",
      "      dtype='object') \n",
      "訓練 : 0.7950322481572482 \n",
      "検証 : 0.8066943037002917 \n"
     ]
    }
   ],
   "source": [
    "#すべての特徴量\n",
    "features_all = X_adult_train.columns\n",
    "print('特徴量 : {} '.format(features_all))\n",
    "#比較用として全ての特徴量でモデル作成\n",
    "#フルモデルと比較\n",
    "reg = LogisticRegression().fit(X_adult_train, y_adult_train)\n",
    "score_all = accuracy_score(y_adult_test, reg.predict(X_adult_test))\n",
    "print('訓練 : {} '.format(\n",
    "    accuracy_score(y_adult_train, reg.predict(X_adult_train))))\n",
    "print('検証 : {} '.format(\n",
    "    accuracy_score(y_adult_test, reg.predict(X_adult_test))))"
   ]
  },
  {
   "cell_type": "markdown",
   "id": "premium-thunder",
   "metadata": {},
   "source": [
    "### Filter法 \n",
    "単一の特徴量とターゲット変数tの関係の強弱で特徴量を選択。  \n",
    "モデル学習の前に変数をより分けられるからこの名がついた。  \n",
    "ターゲット変数と特徴量の何かしらの尺度で評価して遠別する。\n",
    "\n",
    "- 分散   特徴調のみで判断試合場合。全特徴量のスケールが同じ場合。\n",
    "- ピアソンの相関関係  特徴りょう、ターゲット変数が数値の場合。\n",
    "- x^2統計量  特徴量、ターゲット編数がカテゴリ軽変数の場合。\n",
    "- F値　　特徴量が数値orカテゴリ変数、ターゲットヘンスが数値orカテゴリ軽変数の場合。"
   ]
  },
  {
   "cell_type": "code",
   "execution_count": 66,
   "id": "compressed-conviction",
   "metadata": {
    "tags": []
   },
   "outputs": [
    {
     "name": "stderr",
     "output_type": "stream",
     "text": [
      "/usr/local/lib/python3.9/site-packages/sklearn/linear_model/_logistic.py:763: ConvergenceWarning: lbfgs failed to converge (status=1):\n",
      "STOP: TOTAL NO. of ITERATIONS REACHED LIMIT.\n",
      "\n",
      "Increase the number of iterations (max_iter) or scale the data as shown in:\n",
      "    https://scikit-learn.org/stable/modules/preprocessing.html\n",
      "Please also refer to the documentation for alternative solver options:\n",
      "    https://scikit-learn.org/stable/modules/linear_model.html#logistic-regression\n",
      "  n_iter_i = _check_optimize_result(\n",
      "/usr/local/lib/python3.9/site-packages/sklearn/linear_model/_logistic.py:763: ConvergenceWarning: lbfgs failed to converge (status=1):\n",
      "STOP: TOTAL NO. of ITERATIONS REACHED LIMIT.\n",
      "\n",
      "Increase the number of iterations (max_iter) or scale the data as shown in:\n",
      "    https://scikit-learn.org/stable/modules/preprocessing.html\n",
      "Please also refer to the documentation for alternative solver options:\n",
      "    https://scikit-learn.org/stable/modules/linear_model.html#logistic-regression\n",
      "  n_iter_i = _check_optimize_result(\n",
      "/usr/local/lib/python3.9/site-packages/sklearn/linear_model/_logistic.py:763: ConvergenceWarning: lbfgs failed to converge (status=1):\n",
      "STOP: TOTAL NO. of ITERATIONS REACHED LIMIT.\n",
      "\n",
      "Increase the number of iterations (max_iter) or scale the data as shown in:\n",
      "    https://scikit-learn.org/stable/modules/preprocessing.html\n",
      "Please also refer to the documentation for alternative solver options:\n",
      "    https://scikit-learn.org/stable/modules/linear_model.html#logistic-regression\n",
      "  n_iter_i = _check_optimize_result(\n",
      "/usr/local/lib/python3.9/site-packages/sklearn/linear_model/_logistic.py:763: ConvergenceWarning: lbfgs failed to converge (status=1):\n",
      "STOP: TOTAL NO. of ITERATIONS REACHED LIMIT.\n",
      "\n",
      "Increase the number of iterations (max_iter) or scale the data as shown in:\n",
      "    https://scikit-learn.org/stable/modules/preprocessing.html\n",
      "Please also refer to the documentation for alternative solver options:\n",
      "    https://scikit-learn.org/stable/modules/linear_model.html#logistic-regression\n",
      "  n_iter_i = _check_optimize_result(\n",
      "/usr/local/lib/python3.9/site-packages/sklearn/linear_model/_logistic.py:763: ConvergenceWarning: lbfgs failed to converge (status=1):\n",
      "STOP: TOTAL NO. of ITERATIONS REACHED LIMIT.\n",
      "\n",
      "Increase the number of iterations (max_iter) or scale the data as shown in:\n",
      "    https://scikit-learn.org/stable/modules/preprocessing.html\n",
      "Please also refer to the documentation for alternative solver options:\n",
      "    https://scikit-learn.org/stable/modules/linear_model.html#logistic-regression\n",
      "  n_iter_i = _check_optimize_result(\n",
      "/usr/local/lib/python3.9/site-packages/sklearn/linear_model/_logistic.py:763: ConvergenceWarning: lbfgs failed to converge (status=1):\n",
      "STOP: TOTAL NO. of ITERATIONS REACHED LIMIT.\n",
      "\n",
      "Increase the number of iterations (max_iter) or scale the data as shown in:\n",
      "    https://scikit-learn.org/stable/modules/preprocessing.html\n",
      "Please also refer to the documentation for alternative solver options:\n",
      "    https://scikit-learn.org/stable/modules/linear_model.html#logistic-regression\n",
      "  n_iter_i = _check_optimize_result(\n",
      "/usr/local/lib/python3.9/site-packages/sklearn/linear_model/_logistic.py:763: ConvergenceWarning: lbfgs failed to converge (status=1):\n",
      "STOP: TOTAL NO. of ITERATIONS REACHED LIMIT.\n",
      "\n",
      "Increase the number of iterations (max_iter) or scale the data as shown in:\n",
      "    https://scikit-learn.org/stable/modules/preprocessing.html\n",
      "Please also refer to the documentation for alternative solver options:\n",
      "    https://scikit-learn.org/stable/modules/linear_model.html#logistic-regression\n",
      "  n_iter_i = _check_optimize_result(\n",
      "/usr/local/lib/python3.9/site-packages/sklearn/linear_model/_logistic.py:763: ConvergenceWarning: lbfgs failed to converge (status=1):\n",
      "STOP: TOTAL NO. of ITERATIONS REACHED LIMIT.\n",
      "\n",
      "Increase the number of iterations (max_iter) or scale the data as shown in:\n",
      "    https://scikit-learn.org/stable/modules/preprocessing.html\n",
      "Please also refer to the documentation for alternative solver options:\n",
      "    https://scikit-learn.org/stable/modules/linear_model.html#logistic-regression\n",
      "  n_iter_i = _check_optimize_result(\n",
      "/usr/local/lib/python3.9/site-packages/sklearn/linear_model/_logistic.py:763: ConvergenceWarning: lbfgs failed to converge (status=1):\n",
      "STOP: TOTAL NO. of ITERATIONS REACHED LIMIT.\n",
      "\n",
      "Increase the number of iterations (max_iter) or scale the data as shown in:\n",
      "    https://scikit-learn.org/stable/modules/preprocessing.html\n",
      "Please also refer to the documentation for alternative solver options:\n",
      "    https://scikit-learn.org/stable/modules/linear_model.html#logistic-regression\n",
      "  n_iter_i = _check_optimize_result(\n",
      "/usr/local/lib/python3.9/site-packages/sklearn/linear_model/_logistic.py:763: ConvergenceWarning: lbfgs failed to converge (status=1):\n",
      "STOP: TOTAL NO. of ITERATIONS REACHED LIMIT.\n",
      "\n",
      "Increase the number of iterations (max_iter) or scale the data as shown in:\n",
      "    https://scikit-learn.org/stable/modules/preprocessing.html\n",
      "Please also refer to the documentation for alternative solver options:\n",
      "    https://scikit-learn.org/stable/modules/linear_model.html#logistic-regression\n",
      "  n_iter_i = _check_optimize_result(\n",
      "/usr/local/lib/python3.9/site-packages/sklearn/linear_model/_logistic.py:763: ConvergenceWarning: lbfgs failed to converge (status=1):\n",
      "STOP: TOTAL NO. of ITERATIONS REACHED LIMIT.\n",
      "\n",
      "Increase the number of iterations (max_iter) or scale the data as shown in:\n",
      "    https://scikit-learn.org/stable/modules/preprocessing.html\n",
      "Please also refer to the documentation for alternative solver options:\n",
      "    https://scikit-learn.org/stable/modules/linear_model.html#logistic-regression\n",
      "  n_iter_i = _check_optimize_result(\n",
      "/usr/local/lib/python3.9/site-packages/sklearn/linear_model/_logistic.py:763: ConvergenceWarning: lbfgs failed to converge (status=1):\n",
      "STOP: TOTAL NO. of ITERATIONS REACHED LIMIT.\n",
      "\n",
      "Increase the number of iterations (max_iter) or scale the data as shown in:\n",
      "    https://scikit-learn.org/stable/modules/preprocessing.html\n",
      "Please also refer to the documentation for alternative solver options:\n",
      "    https://scikit-learn.org/stable/modules/linear_model.html#logistic-regression\n",
      "  n_iter_i = _check_optimize_result(\n",
      "/usr/local/lib/python3.9/site-packages/sklearn/linear_model/_logistic.py:763: ConvergenceWarning: lbfgs failed to converge (status=1):\n",
      "STOP: TOTAL NO. of ITERATIONS REACHED LIMIT.\n",
      "\n",
      "Increase the number of iterations (max_iter) or scale the data as shown in:\n",
      "    https://scikit-learn.org/stable/modules/preprocessing.html\n",
      "Please also refer to the documentation for alternative solver options:\n",
      "    https://scikit-learn.org/stable/modules/linear_model.html#logistic-regression\n",
      "  n_iter_i = _check_optimize_result(\n",
      "/usr/local/lib/python3.9/site-packages/sklearn/linear_model/_logistic.py:763: ConvergenceWarning: lbfgs failed to converge (status=1):\n",
      "STOP: TOTAL NO. of ITERATIONS REACHED LIMIT.\n",
      "\n",
      "Increase the number of iterations (max_iter) or scale the data as shown in:\n",
      "    https://scikit-learn.org/stable/modules/preprocessing.html\n",
      "Please also refer to the documentation for alternative solver options:\n",
      "    https://scikit-learn.org/stable/modules/linear_model.html#logistic-regression\n",
      "  n_iter_i = _check_optimize_result(\n",
      "/usr/local/lib/python3.9/site-packages/sklearn/linear_model/_logistic.py:763: ConvergenceWarning: lbfgs failed to converge (status=1):\n",
      "STOP: TOTAL NO. of ITERATIONS REACHED LIMIT.\n",
      "\n",
      "Increase the number of iterations (max_iter) or scale the data as shown in:\n",
      "    https://scikit-learn.org/stable/modules/preprocessing.html\n",
      "Please also refer to the documentation for alternative solver options:\n",
      "    https://scikit-learn.org/stable/modules/linear_model.html#logistic-regression\n",
      "  n_iter_i = _check_optimize_result(\n",
      "/usr/local/lib/python3.9/site-packages/sklearn/linear_model/_logistic.py:763: ConvergenceWarning: lbfgs failed to converge (status=1):\n",
      "STOP: TOTAL NO. of ITERATIONS REACHED LIMIT.\n",
      "\n",
      "Increase the number of iterations (max_iter) or scale the data as shown in:\n",
      "    https://scikit-learn.org/stable/modules/preprocessing.html\n",
      "Please also refer to the documentation for alternative solver options:\n",
      "    https://scikit-learn.org/stable/modules/linear_model.html#logistic-regression\n",
      "  n_iter_i = _check_optimize_result(\n",
      "/usr/local/lib/python3.9/site-packages/sklearn/linear_model/_logistic.py:763: ConvergenceWarning: lbfgs failed to converge (status=1):\n",
      "STOP: TOTAL NO. of ITERATIONS REACHED LIMIT.\n",
      "\n",
      "Increase the number of iterations (max_iter) or scale the data as shown in:\n",
      "    https://scikit-learn.org/stable/modules/preprocessing.html\n",
      "Please also refer to the documentation for alternative solver options:\n",
      "    https://scikit-learn.org/stable/modules/linear_model.html#logistic-regression\n",
      "  n_iter_i = _check_optimize_result(\n",
      "/usr/local/lib/python3.9/site-packages/sklearn/linear_model/_logistic.py:763: ConvergenceWarning: lbfgs failed to converge (status=1):\n",
      "STOP: TOTAL NO. of ITERATIONS REACHED LIMIT.\n",
      "\n",
      "Increase the number of iterations (max_iter) or scale the data as shown in:\n",
      "    https://scikit-learn.org/stable/modules/preprocessing.html\n",
      "Please also refer to the documentation for alternative solver options:\n",
      "    https://scikit-learn.org/stable/modules/linear_model.html#logistic-regression\n",
      "  n_iter_i = _check_optimize_result(\n",
      "/usr/local/lib/python3.9/site-packages/sklearn/linear_model/_logistic.py:763: ConvergenceWarning: lbfgs failed to converge (status=1):\n",
      "STOP: TOTAL NO. of ITERATIONS REACHED LIMIT.\n",
      "\n",
      "Increase the number of iterations (max_iter) or scale the data as shown in:\n",
      "    https://scikit-learn.org/stable/modules/preprocessing.html\n",
      "Please also refer to the documentation for alternative solver options:\n",
      "    https://scikit-learn.org/stable/modules/linear_model.html#logistic-regression\n",
      "  n_iter_i = _check_optimize_result(\n",
      "/usr/local/lib/python3.9/site-packages/sklearn/linear_model/_logistic.py:763: ConvergenceWarning: lbfgs failed to converge (status=1):\n",
      "STOP: TOTAL NO. of ITERATIONS REACHED LIMIT.\n",
      "\n",
      "Increase the number of iterations (max_iter) or scale the data as shown in:\n",
      "    https://scikit-learn.org/stable/modules/preprocessing.html\n",
      "Please also refer to the documentation for alternative solver options:\n",
      "    https://scikit-learn.org/stable/modules/linear_model.html#logistic-regression\n",
      "  n_iter_i = _check_optimize_result(\n",
      "/usr/local/lib/python3.9/site-packages/sklearn/linear_model/_logistic.py:763: ConvergenceWarning: lbfgs failed to converge (status=1):\n",
      "STOP: TOTAL NO. of ITERATIONS REACHED LIMIT.\n",
      "\n",
      "Increase the number of iterations (max_iter) or scale the data as shown in:\n",
      "    https://scikit-learn.org/stable/modules/preprocessing.html\n",
      "Please also refer to the documentation for alternative solver options:\n",
      "    https://scikit-learn.org/stable/modules/linear_model.html#logistic-regression\n",
      "  n_iter_i = _check_optimize_result(\n",
      "/usr/local/lib/python3.9/site-packages/sklearn/linear_model/_logistic.py:763: ConvergenceWarning: lbfgs failed to converge (status=1):\n",
      "STOP: TOTAL NO. of ITERATIONS REACHED LIMIT.\n",
      "\n",
      "Increase the number of iterations (max_iter) or scale the data as shown in:\n",
      "    https://scikit-learn.org/stable/modules/preprocessing.html\n",
      "Please also refer to the documentation for alternative solver options:\n",
      "    https://scikit-learn.org/stable/modules/linear_model.html#logistic-regression\n",
      "  n_iter_i = _check_optimize_result(\n",
      "/usr/local/lib/python3.9/site-packages/sklearn/linear_model/_logistic.py:763: ConvergenceWarning: lbfgs failed to converge (status=1):\n",
      "STOP: TOTAL NO. of ITERATIONS REACHED LIMIT.\n",
      "\n",
      "Increase the number of iterations (max_iter) or scale the data as shown in:\n",
      "    https://scikit-learn.org/stable/modules/preprocessing.html\n",
      "Please also refer to the documentation for alternative solver options:\n",
      "    https://scikit-learn.org/stable/modules/linear_model.html#logistic-regression\n",
      "  n_iter_i = _check_optimize_result(\n",
      "/usr/local/lib/python3.9/site-packages/sklearn/linear_model/_logistic.py:763: ConvergenceWarning: lbfgs failed to converge (status=1):\n",
      "STOP: TOTAL NO. of ITERATIONS REACHED LIMIT.\n",
      "\n",
      "Increase the number of iterations (max_iter) or scale the data as shown in:\n",
      "    https://scikit-learn.org/stable/modules/preprocessing.html\n",
      "Please also refer to the documentation for alternative solver options:\n",
      "    https://scikit-learn.org/stable/modules/linear_model.html#logistic-regression\n",
      "  n_iter_i = _check_optimize_result(\n",
      "/usr/local/lib/python3.9/site-packages/sklearn/linear_model/_logistic.py:763: ConvergenceWarning: lbfgs failed to converge (status=1):\n",
      "STOP: TOTAL NO. of ITERATIONS REACHED LIMIT.\n",
      "\n",
      "Increase the number of iterations (max_iter) or scale the data as shown in:\n",
      "    https://scikit-learn.org/stable/modules/preprocessing.html\n",
      "Please also refer to the documentation for alternative solver options:\n",
      "    https://scikit-learn.org/stable/modules/linear_model.html#logistic-regression\n",
      "  n_iter_i = _check_optimize_result(\n"
     ]
    },
    {
     "data": {
      "text/plain": [
       "Text(0.5, 1.0, 'Feature selection by using F value')"
      ]
     },
     "execution_count": 66,
     "metadata": {},
     "output_type": "execute_result"
    },
    {
     "data": {
      "image/png": "[encoded data removed]",
      "text/plain": [
       "<Figure size 1008x504 with 1 Axes>"
      ]
     },
     "metadata": {
      "needs_background": "light"
     },
     "output_type": "display_data"
    }
   ],
   "source": [
    "#単変量Filterモジュール読み込む\n",
    "from sklearn.feature_selection import SelectKBest, f_regression, f_classif, chi2\n",
    "\n",
    "#F値でfeature selection filter法\n",
    "tr_score = []  #訓練スコアを入れるリスト\n",
    "te_score = []  #検証スコアを入れるリスト\n",
    "features = []  #特徴量を入れるりスト\n",
    "\n",
    "#Kごとに精度評価\n",
    "for i in np.arange(len(X_adult_train.columns)):\n",
    "    \n",
    "    sel = SelectKBest(f_classif, k=i + 1).fit(X_adult_train, y_adult_train)\n",
    "    X_train_sel = sel.transform(X_adult_train)\n",
    "    X_test_sel = sel.transform(X_adult_test)\n",
    "    \n",
    "    reg = LogisticRegression().fit(X_train_sel, y_adult_train)\n",
    "    \n",
    "    tr_score.append(accuracy_score(y_adult_train, reg.predict(X_train_sel)))\n",
    "    te_score.append(accuracy_score(y_adult_test, reg.predict(X_test_sel)))\n",
    "    features.append(X_adult_train.columns[sel.get_support()])\n",
    "\n",
    "#kごとに精度がどのように変わったか可視化する\n",
    "plt.figure(figsize=(14, 7))\n",
    "plt.plot(np.arange(len(X_adult_train.columns)) + 1, tr_score, label='Train')\n",
    "plt.plot(np.arange(len(X_adult_train.columns)) + 1, te_score, label='Test')\n",
    "plt.ylabel('Accuracy')\n",
    "plt.xlabel('The Number of features')\n",
    "plt.xticks(np.arange(1, 1 + len(X_adult_train.columns)))\n",
    "plt.legend(fontsize=14)\n",
    "plt.grid()\n",
    "plt.title('Feature selection by using F value')"
   ]
  },
  {
   "cell_type": "code",
   "execution_count": 67,
   "id": "wicked-insulation",
   "metadata": {},
   "outputs": [
    {
     "name": "stdout",
     "output_type": "stream",
     "text": [
      "12\n"
     ]
    }
   ],
   "source": [
    "#訓練データの精度最大となるk\n",
    "print (tr_score.index(np.max(tr_score)))"
   ]
  },
  {
   "cell_type": "code",
   "execution_count": 68,
   "id": "white-vision",
   "metadata": {},
   "outputs": [
    {
     "name": "stdout",
     "output_type": "stream",
     "text": [
      "特徴量 : Index(['Age', 'WorkClass_ Self-emp-inc', 'Education', 'EducationNum',\n",
      "       'MaritalStatus_ Never-married', 'Occupation',\n",
      "       'Relationship_ Not-in-family', 'Relationship_ Unmarried',\n",
      "       'Relationship_ Own-child', 'Gender_ Female', 'CapitalGain',\n",
      "       'CapitalLoss', 'HoursPerWeek'],\n",
      "      dtype='object') \n",
      "訓練 : 0.8444026412776413 \n",
      "検証 : 0.8427759864885613 \n"
     ]
    }
   ],
   "source": [
    "#訓練データで精度最大になる変数の数と組み合わせ\n",
    "features_sel_filter = features[tr_score.index(np.max(tr_score))]\n",
    "print ('特徴量 : {} '.format(features_sel_filter))\n",
    "print ('訓練 : {} '.format((tr_score[tr_score.index(np.max(tr_score))])))\n",
    "print ('検証 : {} '.format((te_score[tr_score.index(np.max(tr_score))])))"
   ]
  },
  {
   "cell_type": "markdown",
   "id": "sharing-stability",
   "metadata": {},
   "source": [
    "### Warpper法  \n",
    "特徴量の集合毎にモデルを作成しその精度を元に特徴量を選択。  \n",
    "- SFG  空集合からモデル制度のような基準に従って特徴料をつい介していく方法。\n",
    "- SBG  特徴量全ての集合から開始し、最も重要ではない変数を一つずつ取り除く方法。\n",
    "- stepwise  SFGとSBGを同時に行う方法。　"
   ]
  },
  {
   "cell_type": "code",
   "execution_count": 70,
   "id": "historical-lewis",
   "metadata": {},
   "outputs": [],
   "source": [
    "#wrapper法実行モジュール読み込む\n",
    "from mlxtend.feature_selection import SequentialFeatureSelector as SFS\n",
    "from mlxtend.plotting import plot_sequential_feature_selection as plot_sfs"
   ]
  },
  {
   "cell_type": "markdown",
   "id": "nuclear-queen",
   "metadata": {},
   "source": [
    "### Sequence Forward Generation"
   ]
  },
  {
   "cell_type": "code",
   "execution_count": 71,
   "id": "gross-dakota",
   "metadata": {},
   "outputs": [
    {
     "name": "stderr",
     "output_type": "stream",
     "text": [
      "[Parallel(n_jobs=-1)]: Using backend LokyBackend with 4 concurrent workers.\n",
      "[Parallel(n_jobs=-1)]: Done  26 out of  33 | elapsed:    1.0s remaining:    0.3s\n",
      "[Parallel(n_jobs=-1)]: Done  33 out of  33 | elapsed:    1.1s finished\n",
      "\n",
      "[2021-04-10 04:30:05] Features: 1/33 -- score: 0.7969134699318948[Parallel(n_jobs=-1)]: Using backend LokyBackend with 4 concurrent workers.\n",
      "[Parallel(n_jobs=-1)]: Done  32 out of  32 | elapsed:    1.8s finished\n",
      "\n",
      "[2021-04-10 04:30:07] Features: 2/33 -- score: 0.8104267713233666[Parallel(n_jobs=-1)]: Using backend LokyBackend with 4 concurrent workers.\n",
      "[Parallel(n_jobs=-1)]: Done  31 out of  31 | elapsed:    2.4s finished\n",
      "\n",
      "[2021-04-10 04:30:10] Features: 3/33 -- score: 0.8114633796739661[Parallel(n_jobs=-1)]: Using backend LokyBackend with 4 concurrent workers.\n",
      "[Parallel(n_jobs=-1)]: Done  30 out of  30 | elapsed:    2.2s finished\n",
      "\n",
      "[2021-04-10 04:30:12] Features: 4/33 -- score: 0.8116939344239945[Parallel(n_jobs=-1)]: Using backend LokyBackend with 4 concurrent workers.\n",
      "[Parallel(n_jobs=-1)]: Done  29 out of  29 | elapsed:    2.9s finished\n",
      "\n",
      "[2021-04-10 04:30:15] Features: 5/33 -- score: 0.821560373324038[Parallel(n_jobs=-1)]: Using backend LokyBackend with 4 concurrent workers.\n",
      "[Parallel(n_jobs=-1)]: Done  28 out of  28 | elapsed:    3.9s finished\n",
      "\n",
      "[2021-04-10 04:30:19] Features: 6/33 -- score: 0.826128857886229[Parallel(n_jobs=-1)]: Using backend LokyBackend with 4 concurrent workers.\n",
      "[Parallel(n_jobs=-1)]: Done  27 out of  27 | elapsed:    4.2s finished\n",
      "\n",
      "[2021-04-10 04:30:23] Features: 7/33 -- score: 0.8375692594649227[Parallel(n_jobs=-1)]: Using backend LokyBackend with 4 concurrent workers.\n",
      "[Parallel(n_jobs=-1)]: Done  26 out of  26 | elapsed:    3.8s finished\n",
      "\n",
      "[2021-04-10 04:30:27] Features: 8/33 -- score: 0.8432892060065831[Parallel(n_jobs=-1)]: Using backend LokyBackend with 4 concurrent workers.\n",
      "[Parallel(n_jobs=-1)]: Done  25 out of  25 | elapsed:    3.5s finished\n",
      "\n",
      "[2021-04-10 04:30:30] Features: 9/33 -- score: 0.846129992788946[Parallel(n_jobs=-1)]: Using backend LokyBackend with 4 concurrent workers.\n",
      "[Parallel(n_jobs=-1)]: Done  24 out of  24 | elapsed:    3.8s finished\n",
      "\n",
      "[2021-04-10 04:30:34] Features: 10/33 -- score: 0.8472433618324109[Parallel(n_jobs=-1)]: Using backend LokyBackend with 4 concurrent workers.\n",
      "[Parallel(n_jobs=-1)]: Done  23 out of  23 | elapsed:    3.7s finished\n",
      "\n",
      "[2021-04-10 04:30:38] Features: 11/33 -- score: 0.8474737102364909[Parallel(n_jobs=-1)]: Using backend LokyBackend with 4 concurrent workers.\n",
      "[Parallel(n_jobs=-1)]: Done  22 out of  22 | elapsed:    3.4s finished\n",
      "\n",
      "[2021-04-10 04:30:42] Features: 12/33 -- score: 0.8476273790121851[Parallel(n_jobs=-1)]: Using backend LokyBackend with 4 concurrent workers.\n",
      "[Parallel(n_jobs=-1)]: Done  21 out of  21 | elapsed:    3.3s finished\n",
      "\n",
      "[2021-04-10 04:30:45] Features: 13/33 -- score: 0.84708984044668[Parallel(n_jobs=-1)]: Using backend LokyBackend with 4 concurrent workers.\n",
      "[Parallel(n_jobs=-1)]: Done  20 out of  20 | elapsed:    3.2s finished\n",
      "\n",
      "[2021-04-10 04:30:48] Features: 14/33 -- score: 0.8473970969335888[Parallel(n_jobs=-1)]: Using backend LokyBackend with 4 concurrent workers.\n",
      "[Parallel(n_jobs=-1)]: Done  19 out of  19 | elapsed:    3.3s finished\n",
      "\n",
      "[2021-04-10 04:30:52] Features: 15/33 -- score: 0.8473202920237343[Parallel(n_jobs=-1)]: Using backend LokyBackend with 4 concurrent workers.\n",
      "[Parallel(n_jobs=-1)]: Done  18 out of  18 | elapsed:    3.1s finished\n",
      "\n",
      "[2021-04-10 04:30:55] Features: 16/33 -- score: 0.8473970969335886[Parallel(n_jobs=-1)]: Using backend LokyBackend with 4 concurrent workers.\n",
      "[Parallel(n_jobs=-1)]: Done  17 out of  17 | elapsed:    3.1s finished\n",
      "\n",
      "[2021-04-10 04:30:58] Features: 17/33 -- score: 0.8476657740976142[Parallel(n_jobs=-1)]: Using backend LokyBackend with 4 concurrent workers.\n",
      "[Parallel(n_jobs=-1)]: Done  16 out of  16 | elapsed:    2.9s finished\n",
      "\n",
      "[2021-04-10 04:31:01] Features: 18/33 -- score: 0.848049739690901[Parallel(n_jobs=-1)]: Using backend LokyBackend with 4 concurrent workers.\n",
      "[Parallel(n_jobs=-1)]: Done  15 out of  15 | elapsed:    2.8s finished\n",
      "\n",
      "[2021-04-10 04:31:04] Features: 19/33 -- score: 0.8478193839173231[Parallel(n_jobs=-1)]: Using backend LokyBackend with 4 concurrent workers.\n",
      "[Parallel(n_jobs=-1)]: Done  14 out of  14 | elapsed:    2.9s finished\n",
      "\n",
      "[2021-04-10 04:31:07] Features: 20/33 -- score: 0.8474737544534798[Parallel(n_jobs=-1)]: Using backend LokyBackend with 4 concurrent workers.\n",
      "[Parallel(n_jobs=-1)]: Done  13 out of  13 | elapsed:    2.7s remaining:    0.0s\n",
      "[Parallel(n_jobs=-1)]: Done  13 out of  13 | elapsed:    2.7s finished\n",
      "\n",
      "[2021-04-10 04:31:10] Features: 21/33 -- score: 0.8482415824670795[Parallel(n_jobs=-1)]: Using backend LokyBackend with 4 concurrent workers.\n",
      "[Parallel(n_jobs=-1)]: Done  12 out of  12 | elapsed:    2.4s remaining:    0.0s\n",
      "[Parallel(n_jobs=-1)]: Done  12 out of  12 | elapsed:    2.4s finished\n",
      "\n",
      "[2021-04-10 04:31:12] Features: 22/33 -- score: 0.8479729421505449[Parallel(n_jobs=-1)]: Using backend LokyBackend with 4 concurrent workers.\n",
      "[Parallel(n_jobs=-1)]: Done  11 out of  11 | elapsed:    2.3s finished\n",
      "\n",
      "[2021-04-10 04:31:15] Features: 23/33 -- score: 0.8473202920237342[Parallel(n_jobs=-1)]: Using backend LokyBackend with 4 concurrent workers.\n",
      "[Parallel(n_jobs=-1)]: Done  10 out of  10 | elapsed:    2.2s finished\n",
      "\n",
      "[2021-04-10 04:31:17] Features: 24/33 -- score: 0.8471283239660871[Parallel(n_jobs=-1)]: Using backend LokyBackend with 4 concurrent workers.\n",
      "[Parallel(n_jobs=-1)]: Done   7 out of   9 | elapsed:    1.7s remaining:    0.5s\n",
      "[Parallel(n_jobs=-1)]: Done   9 out of   9 | elapsed:    2.0s finished\n",
      "\n",
      "[2021-04-10 04:31:19] Features: 25/33 -- score: 0.8473970969335888[Parallel(n_jobs=-1)]: Using backend LokyBackend with 4 concurrent workers.\n",
      "[Parallel(n_jobs=-1)]: Done   6 out of   8 | elapsed:    1.8s remaining:    0.6s\n",
      "[Parallel(n_jobs=-1)]: Done   8 out of   8 | elapsed:    1.8s finished\n",
      "\n",
      "[2021-04-10 04:31:21] Features: 26/33 -- score: 0.8480881200373339[Parallel(n_jobs=-1)]: Using backend LokyBackend with 4 concurrent workers.\n",
      "[Parallel(n_jobs=-1)]: Done   4 out of   7 | elapsed:    1.0s remaining:    0.7s\n",
      "[Parallel(n_jobs=-1)]: Done   7 out of   7 | elapsed:    1.7s finished\n",
      "\n",
      "[2021-04-10 04:31:23] Features: 27/33 -- score: 0.8464756369917856[Parallel(n_jobs=-1)]: Using backend LokyBackend with 4 concurrent workers.\n",
      "[Parallel(n_jobs=-1)]: Done   3 out of   6 | elapsed:    0.9s remaining:    0.9s\n",
      "[Parallel(n_jobs=-1)]: Done   6 out of   6 | elapsed:    1.6s finished\n",
      "\n",
      "[2021-04-10 04:31:25] Features: 28/33 -- score: 0.8460151907465633[Parallel(n_jobs=-1)]: Using backend LokyBackend with 4 concurrent workers.\n",
      "[Parallel(n_jobs=-1)]: Done   5 out of   5 | elapsed:    1.3s finished\n",
      "\n",
      "[2021-04-10 04:31:26] Features: 29/33 -- score: 0.8450552472853532[Parallel(n_jobs=-1)]: Using backend LokyBackend with 4 concurrent workers.\n",
      "[Parallel(n_jobs=-1)]: Done   4 out of   4 | elapsed:    0.9s finished\n",
      "\n",
      "[2021-04-10 04:31:27] Features: 30/33 -- score: 0.8449015858791571[Parallel(n_jobs=-1)]: Using backend LokyBackend with 4 concurrent workers.\n",
      "[Parallel(n_jobs=-1)]: Done   3 out of   3 | elapsed:    0.8s finished\n",
      "\n",
      "[2021-04-10 04:31:28] Features: 31/33 -- score: 0.8396422108641877[Parallel(n_jobs=-1)]: Using backend LokyBackend with 4 concurrent workers.\n",
      "[Parallel(n_jobs=-1)]: Done   2 out of   2 | elapsed:    0.6s finished\n",
      "\n",
      "[2021-04-10 04:31:29] Features: 32/33 -- score: 0.8288157990249416[Parallel(n_jobs=-1)]: Using backend LokyBackend with 4 concurrent workers.\n",
      "[Parallel(n_jobs=-1)]: Done   1 out of   1 | elapsed:    0.4s finished\n",
      "\n",
      "[2021-04-10 04:31:29] Features: 33/33 -- score: 0.7957232591310845"
     ]
    }
   ],
   "source": [
    "#SFSインスタンス化\n",
    "sfs = SFS(LogisticRegression(),  #利用するモデル\n",
    "           k_features=(1,33), #特徴量の数 1-33個の間でCVスコアベストを探す\n",
    "           forward=True, #フォワード型\n",
    "           floating=False, #フローティングの有無\n",
    "           verbose=2,\n",
    "           scoring='accuracy',#精度指標\n",
    "           cv=5,\n",
    "          n_jobs=-1)\n",
    "\n",
    "sfs = sfs.fit(X_adult_train, y_adult_train)"
   ]
  },
  {
   "cell_type": "code",
   "execution_count": 72,
   "id": "drawn-dylan",
   "metadata": {},
   "outputs": [
    {
     "data": {
      "image/png": "[encoded data removed]",
      "text/plain": [
       "<Figure size 1008x504 with 1 Axes>"
      ]
     },
     "metadata": {
      "needs_background": "light"
     },
     "output_type": "display_data"
    }
   ],
   "source": [
    "fig1 = plot_sfs(sfs.get_metric_dict(), kind='std_dev', figsize=(14, 7))\n",
    "plt.title('Sequence Forward Generation (w. StdDev)')\n",
    "plt.grid()"
   ]
  },
  {
   "cell_type": "code",
   "execution_count": 73,
   "id": "graduate-library",
   "metadata": {},
   "outputs": [
    {
     "name": "stdout",
     "output_type": "stream",
     "text": [
      "特徴量 : ['WorkClass_ State-gov', 'WorkClass_ ?', 'WorkClass_ Federal-gov', 'WorkClass_ Local-gov', 'WorkClass_ Self-emp-inc', 'WorkClass_ Never-worked', 'WorkClass_ Without-pay', 'Education', 'EducationNum', 'MaritalStatus_ Divorced', 'MaritalStatus_ Married-spouse-absent', 'Occupation', 'Relationship_ Not-in-family', 'Relationship_ Other-relative', 'Relationship_ Unmarried', 'Relationship_ Own-child', 'Race_ Other', 'Race_ Amer-Indian-Eskimo', 'CapitalGain', 'CapitalLoss', 'NativeCountry'] \n",
      "訓練 : 0.8474738943488943 \n",
      "検証 : 0.8475356978350991 \n"
     ]
    },
    {
     "name": "stderr",
     "output_type": "stream",
     "text": [
      "/usr/local/lib/python3.9/site-packages/sklearn/linear_model/_logistic.py:763: ConvergenceWarning: lbfgs failed to converge (status=1):\n",
      "STOP: TOTAL NO. of ITERATIONS REACHED LIMIT.\n",
      "\n",
      "Increase the number of iterations (max_iter) or scale the data as shown in:\n",
      "    https://scikit-learn.org/stable/modules/preprocessing.html\n",
      "Please also refer to the documentation for alternative solver options:\n",
      "    https://scikit-learn.org/stable/modules/linear_model.html#logistic-regression\n",
      "  n_iter_i = _check_optimize_result(\n"
     ]
    }
   ],
   "source": [
    "#選ばれた特徴量のサブセットでモデルを作成\n",
    "features_sel_wrapper_sfg = list(sfs.k_feature_names_)\n",
    "reg = LogisticRegression().fit(X_adult_train[features_sel_wrapper_sfg],\n",
    "                               y_adult_train)\n",
    "print('特徴量 : {} '.format(features_sel_wrapper_sfg))\n",
    "print('訓練 : {} '.format(\n",
    "    accuracy_score(y_adult_train,\n",
    "                   reg.predict(X_adult_train[features_sel_wrapper_sfg]))))\n",
    "print('検証 : {} '.format(\n",
    "    accuracy_score(y_adult_test,\n",
    "                   reg.predict(X_adult_test[features_sel_wrapper_sfg]))))\n",
    "score_sel_wrapper_sfg = accuracy_score(\n",
    "    y_adult_test, reg.predict(X_adult_test[features_sel_wrapper_sfg]))"
   ]
  },
  {
   "cell_type": "markdown",
   "id": "black-nerve",
   "metadata": {},
   "source": [
    "### Sequential Backward Generation"
   ]
  },
  {
   "cell_type": "code",
   "execution_count": 74,
   "id": "circular-casting",
   "metadata": {},
   "outputs": [
    {
     "name": "stderr",
     "output_type": "stream",
     "text": [
      "[Parallel(n_jobs=-1)]: Using backend LokyBackend with 4 concurrent workers.\n",
      "[Parallel(n_jobs=-1)]: Done  33 out of  33 | elapsed:    4.8s finished\n",
      "\n",
      "[2021-04-10 04:31:35] Features: 32/1 -- score: 0.8288157990249416[Parallel(n_jobs=-1)]: Using backend LokyBackend with 4 concurrent workers.\n",
      "[Parallel(n_jobs=-1)]: Done  32 out of  32 | elapsed:    7.3s finished\n",
      "\n",
      "[2021-04-10 04:31:42] Features: 31/1 -- score: 0.8396422108641877[Parallel(n_jobs=-1)]: Using backend LokyBackend with 4 concurrent workers.\n",
      "[Parallel(n_jobs=-1)]: Done  31 out of  31 | elapsed:    7.1s finished\n",
      "\n",
      "[2021-04-10 04:31:49] Features: 30/1 -- score: 0.8449015858791571[Parallel(n_jobs=-1)]: Using backend LokyBackend with 4 concurrent workers.\n",
      "[Parallel(n_jobs=-1)]: Done  30 out of  30 | elapsed:    7.2s finished\n",
      "\n",
      "[2021-04-10 04:31:56] Features: 29/1 -- score: 0.8458229647564804[Parallel(n_jobs=-1)]: Using backend LokyBackend with 4 concurrent workers.\n",
      "[Parallel(n_jobs=-1)]: Done  29 out of  29 | elapsed:    7.1s finished\n",
      "\n",
      "[2021-04-10 04:32:04] Features: 28/1 -- score: 0.8470132124047816[Parallel(n_jobs=-1)]: Using backend LokyBackend with 4 concurrent workers.\n",
      "[Parallel(n_jobs=-1)]: Done  28 out of  28 | elapsed:    6.5s finished\n",
      "\n",
      "[2021-04-10 04:32:10] Features: 27/1 -- score: 0.8473970895640905[Parallel(n_jobs=-1)]: Using backend LokyBackend with 4 concurrent workers.\n",
      "[Parallel(n_jobs=-1)]: Done  27 out of  27 | elapsed:    6.0s finished\n",
      "\n",
      "[2021-04-10 04:32:16] Features: 26/1 -- score: 0.8465908959430545[Parallel(n_jobs=-1)]: Using backend LokyBackend with 4 concurrent workers.\n",
      "[Parallel(n_jobs=-1)]: Done  26 out of  26 | elapsed:    6.0s finished\n",
      "\n",
      "[2021-04-10 04:32:23] Features: 25/1 -- score: 0.8468597204970433[Parallel(n_jobs=-1)]: Using backend LokyBackend with 4 concurrent workers.\n",
      "[Parallel(n_jobs=-1)]: Done  25 out of  25 | elapsed:    5.6s finished\n",
      "\n",
      "[2021-04-10 04:32:28] Features: 24/1 -- score: 0.8463989499939016[Parallel(n_jobs=-1)]: Using backend LokyBackend with 4 concurrent workers.\n",
      "[Parallel(n_jobs=-1)]: Done  24 out of  24 | elapsed:    5.1s finished\n",
      "\n",
      "[2021-04-10 04:32:33] Features: 23/1 -- score: 0.8469364148644252[Parallel(n_jobs=-1)]: Using backend LokyBackend with 4 concurrent workers.\n",
      "[Parallel(n_jobs=-1)]: Done  23 out of  23 | elapsed:    4.8s finished\n",
      "\n",
      "[2021-04-10 04:32:38] Features: 22/1 -- score: 0.8475890944692285[Parallel(n_jobs=-1)]: Using backend LokyBackend with 4 concurrent workers.\n",
      "[Parallel(n_jobs=-1)]: Done  22 out of  22 | elapsed:    4.8s finished\n",
      "\n",
      "[2021-04-10 04:32:43] Features: 21/1 -- score: 0.8465525819221051[Parallel(n_jobs=-1)]: Using backend LokyBackend with 4 concurrent workers.\n",
      "[Parallel(n_jobs=-1)]: Done  21 out of  21 | elapsed:    4.3s finished\n",
      "\n",
      "[2021-04-10 04:32:48] Features: 20/1 -- score: 0.8468980713654833[Parallel(n_jobs=-1)]: Using backend LokyBackend with 4 concurrent workers.\n",
      "[Parallel(n_jobs=-1)]: Done  20 out of  20 | elapsed:    3.8s finished\n",
      "\n",
      "[2021-04-10 04:32:52] Features: 19/1 -- score: 0.8472052246794176[Parallel(n_jobs=-1)]: Using backend LokyBackend with 4 concurrent workers.\n",
      "[Parallel(n_jobs=-1)]: Done  19 out of  19 | elapsed:    3.4s finished\n",
      "\n",
      "[2021-04-10 04:32:55] Features: 18/1 -- score: 0.8466677671783923[Parallel(n_jobs=-1)]: Using backend LokyBackend with 4 concurrent workers.\n",
      "[Parallel(n_jobs=-1)]: Done  18 out of  18 | elapsed:    3.5s finished\n",
      "\n",
      "[2021-04-10 04:32:59] Features: 17/1 -- score: 0.8473970158691089[Parallel(n_jobs=-1)]: Using backend LokyBackend with 4 concurrent workers.\n",
      "[Parallel(n_jobs=-1)]: Done  17 out of  17 | elapsed:    3.2s finished\n",
      "\n",
      "[2021-04-10 04:33:02] Features: 16/1 -- score: 0.8476272611002145[Parallel(n_jobs=-1)]: Using backend LokyBackend with 4 concurrent workers.\n",
      "[Parallel(n_jobs=-1)]: Done  16 out of  16 | elapsed:    2.8s finished\n",
      "\n",
      "[2021-04-10 04:33:05] Features: 15/1 -- score: 0.8473585028717091[Parallel(n_jobs=-1)]: Using backend LokyBackend with 4 concurrent workers.\n",
      "[Parallel(n_jobs=-1)]: Done  15 out of  15 | elapsed:    2.7s finished\n",
      "\n",
      "[2021-04-10 04:33:08] Features: 14/1 -- score: 0.847473717605989[Parallel(n_jobs=-1)]: Using backend LokyBackend with 4 concurrent workers.\n",
      "[Parallel(n_jobs=-1)]: Done  14 out of  14 | elapsed:    2.5s finished\n",
      "\n",
      "[2021-04-10 04:33:10] Features: 13/1 -- score: 0.8464371387333822[Parallel(n_jobs=-1)]: Using backend LokyBackend with 4 concurrent workers.\n",
      "[Parallel(n_jobs=-1)]: Done  13 out of  13 | elapsed:    2.3s remaining:    0.0s\n",
      "[Parallel(n_jobs=-1)]: Done  13 out of  13 | elapsed:    2.3s finished\n",
      "\n",
      "[2021-04-10 04:33:13] Features: 12/1 -- score: 0.8472818306128216[Parallel(n_jobs=-1)]: Using backend LokyBackend with 4 concurrent workers.\n",
      "[Parallel(n_jobs=-1)]: Done  12 out of  12 | elapsed:    2.2s remaining:    0.0s\n",
      "[Parallel(n_jobs=-1)]: Done  12 out of  12 | elapsed:    2.2s finished\n",
      "\n",
      "[2021-04-10 04:33:15] Features: 11/1 -- score: 0.8468594994120983[Parallel(n_jobs=-1)]: Using backend LokyBackend with 4 concurrent workers.\n",
      "[Parallel(n_jobs=-1)]: Done  11 out of  11 | elapsed:    1.9s finished\n",
      "\n",
      "[2021-04-10 04:33:17] Features: 10/1 -- score: 0.8464371829503712[Parallel(n_jobs=-1)]: Using backend LokyBackend with 4 concurrent workers.\n",
      "[Parallel(n_jobs=-1)]: Done  10 out of  10 | elapsed:    1.6s finished\n",
      "\n",
      "[2021-04-10 04:33:19] Features: 9/1 -- score: 0.8459765229897022[Parallel(n_jobs=-1)]: Using backend LokyBackend with 4 concurrent workers.\n",
      "[Parallel(n_jobs=-1)]: Done   7 out of   9 | elapsed:    1.1s remaining:    0.3s\n",
      "[Parallel(n_jobs=-1)]: Done   9 out of   9 | elapsed:    1.6s finished\n",
      "\n",
      "[2021-04-10 04:33:20] Features: 8/1 -- score: 0.8439033062885033[Parallel(n_jobs=-1)]: Using backend LokyBackend with 4 concurrent workers.\n",
      "[Parallel(n_jobs=-1)]: Done   6 out of   8 | elapsed:    1.2s remaining:    0.4s\n",
      "[Parallel(n_jobs=-1)]: Done   8 out of   8 | elapsed:    1.3s finished\n",
      "\n",
      "[2021-04-10 04:33:22] Features: 7/1 -- score: 0.8425596920139327[Parallel(n_jobs=-1)]: Using backend LokyBackend with 4 concurrent workers.\n",
      "[Parallel(n_jobs=-1)]: Done   4 out of   7 | elapsed:    0.6s remaining:    0.5s\n",
      "[Parallel(n_jobs=-1)]: Done   7 out of   7 | elapsed:    1.2s finished\n",
      "\n",
      "[2021-04-10 04:33:23] Features: 6/1 -- score: 0.8408704556450172[Parallel(n_jobs=-1)]: Using backend LokyBackend with 4 concurrent workers.\n",
      "[Parallel(n_jobs=-1)]: Done   3 out of   6 | elapsed:    0.6s remaining:    0.6s\n",
      "[Parallel(n_jobs=-1)]: Done   6 out of   6 | elapsed:    1.1s finished\n",
      "\n",
      "[2021-04-10 04:33:24] Features: 5/1 -- score: 0.8356111101080405[Parallel(n_jobs=-1)]: Using backend LokyBackend with 4 concurrent workers.\n",
      "[Parallel(n_jobs=-1)]: Done   5 out of   5 | elapsed:    0.7s finished\n",
      "\n",
      "[2021-04-10 04:33:25] Features: 4/1 -- score: 0.8298524147450393[Parallel(n_jobs=-1)]: Using backend LokyBackend with 4 concurrent workers.\n",
      "[Parallel(n_jobs=-1)]: Done   4 out of   4 | elapsed:    0.5s finished\n",
      "\n",
      "[2021-04-10 04:33:25] Features: 3/1 -- score: 0.8186809114153158[Parallel(n_jobs=-1)]: Using backend LokyBackend with 4 concurrent workers.\n",
      "[Parallel(n_jobs=-1)]: Done   3 out of   3 | elapsed:    0.3s finished\n",
      "\n",
      "[2021-04-10 04:33:26] Features: 2/1 -- score: 0.8038235977963726[Parallel(n_jobs=-1)]: Using backend LokyBackend with 4 concurrent workers.\n",
      "[Parallel(n_jobs=-1)]: Done   2 out of   2 | elapsed:    0.1s finished\n",
      "\n",
      "[2021-04-10 04:33:26] Features: 1/1 -- score: 0.7969134699318948"
     ]
    }
   ],
   "source": [
    "#SFSインスタンス化\n",
    "sbs = SFS(LogisticRegression(),  #利用するモデル\n",
    "           k_features=(1,33), #特徴量の数 1-33個の間でCVスコアベストを探す\n",
    "           forward=False, #バックワード型\n",
    "           floating=False, #フローティングの有無\n",
    "           verbose=2,\n",
    "           scoring='accuracy',#精度指標\n",
    "           cv=5,\n",
    "          n_jobs=-1)\n",
    "\n",
    "sbs = sbs.fit(X_adult_train, y_adult_train)"
   ]
  },
  {
   "cell_type": "code",
   "execution_count": 75,
   "id": "virtual-denver",
   "metadata": {},
   "outputs": [
    {
     "data": {
      "image/png": "[encoded data removed]",
      "text/plain": [
       "<Figure size 1008x504 with 1 Axes>"
      ]
     },
     "metadata": {
      "needs_background": "light"
     },
     "output_type": "display_data"
    }
   ],
   "source": [
    "fig1 = plot_sfs(sbs.get_metric_dict(), kind='std_dev', figsize=(14, 7))\n",
    "plt.title('Sequence Backward Generation (w. StdDev)')\n",
    "plt.grid()"
   ]
  },
  {
   "cell_type": "code",
   "execution_count": 76,
   "id": "extra-action",
   "metadata": {},
   "outputs": [
    {
     "name": "stdout",
     "output_type": "stream",
     "text": [
      "特徴量 : ['WorkClass_ Federal-gov', 'WorkClass_ Local-gov', 'WorkClass_ Self-emp-inc', 'EducationNum', 'MaritalStatus_ Never-married', 'MaritalStatus_ Divorced', 'MaritalStatus_ Widowed', 'MaritalStatus_ Separated', 'Occupation', 'Relationship_ Not-in-family', 'Relationship_ Other-relative', 'Relationship_ Own-child', 'Race_ Other', 'Race_ Amer-Indian-Eskimo', 'CapitalGain', 'CapitalLoss'] \n",
      "訓練 : 0.8470899877149877 \n",
      "検証 : 0.8478427759864886 \n"
     ]
    },
    {
     "name": "stderr",
     "output_type": "stream",
     "text": [
      "/usr/local/lib/python3.9/site-packages/sklearn/linear_model/_logistic.py:763: ConvergenceWarning: lbfgs failed to converge (status=1):\n",
      "STOP: TOTAL NO. of ITERATIONS REACHED LIMIT.\n",
      "\n",
      "Increase the number of iterations (max_iter) or scale the data as shown in:\n",
      "    https://scikit-learn.org/stable/modules/preprocessing.html\n",
      "Please also refer to the documentation for alternative solver options:\n",
      "    https://scikit-learn.org/stable/modules/linear_model.html#logistic-regression\n",
      "  n_iter_i = _check_optimize_result(\n"
     ]
    }
   ],
   "source": [
    "#選ばれた特徴量のサブセットでモデルを作成\n",
    "features_sel_wrapper_sbg = list(sbs.k_feature_names_)\n",
    "reg = LogisticRegression().fit(X_adult_train[features_sel_wrapper_sbg],\n",
    "                               y_adult_train)\n",
    "print('特徴量 : {} '.format(features_sel_wrapper_sbg))\n",
    "print('訓練 : {} '.format(\n",
    "    accuracy_score(y_adult_train,\n",
    "                   reg.predict(X_adult_train[features_sel_wrapper_sbg]))))\n",
    "print('検証 : {} '.format(\n",
    "    accuracy_score(y_adult_test,\n",
    "                   reg.predict(X_adult_test[features_sel_wrapper_sbg]))))\n",
    "score_sel_wrapper_sbg = accuracy_score(\n",
    "    y_adult_test, reg.predict(X_adult_test[features_sel_wrapper_sbg]))"
   ]
  },
  {
   "cell_type": "markdown",
   "id": "differential-diary",
   "metadata": {},
   "source": [
    "### Bidirectional Generation\n",
    "\n"
   ]
  },
  {
   "cell_type": "code",
   "execution_count": 78,
   "id": "failing-winter",
   "metadata": {},
   "outputs": [
    {
     "name": "stderr",
     "output_type": "stream",
     "text": [
      "[Parallel(n_jobs=-1)]: Using backend LokyBackend with 4 concurrent workers.\n",
      "[Parallel(n_jobs=-1)]: Done  33 out of  33 | elapsed:    0.6s finished\n",
      "\n",
      "[2021-04-10 04:33:27] Features: 1/33 -- score: 0.7969134699318948[Parallel(n_jobs=-1)]: Using backend LokyBackend with 4 concurrent workers.\n",
      "[Parallel(n_jobs=-1)]: Done  32 out of  32 | elapsed:    1.8s finished\n",
      "[Parallel(n_jobs=-1)]: Using backend LokyBackend with 4 concurrent workers.\n",
      "[Parallel(n_jobs=-1)]: Done   1 out of   1 | elapsed:    0.1s finished\n",
      "\n",
      "[2021-04-10 04:33:28] Features: 2/33 -- score: 0.8104267713233666[Parallel(n_jobs=-1)]: Using backend LokyBackend with 4 concurrent workers.\n",
      "[Parallel(n_jobs=-1)]: Done  31 out of  31 | elapsed:    2.2s finished\n",
      "[Parallel(n_jobs=-1)]: Using backend LokyBackend with 4 concurrent workers.\n",
      "[Parallel(n_jobs=-1)]: Done   2 out of   2 | elapsed:    0.2s finished\n",
      "\n",
      "[2021-04-10 04:33:31] Features: 3/33 -- score: 0.8114633796739661[Parallel(n_jobs=-1)]: Using backend LokyBackend with 4 concurrent workers.\n",
      "[Parallel(n_jobs=-1)]: Done  30 out of  30 | elapsed:    2.2s finished\n",
      "[Parallel(n_jobs=-1)]: Using backend LokyBackend with 4 concurrent workers.\n",
      "[Parallel(n_jobs=-1)]: Done   3 out of   3 | elapsed:    0.3s finished\n",
      "\n",
      "[2021-04-10 04:33:33] Features: 4/33 -- score: 0.8116939344239945[Parallel(n_jobs=-1)]: Using backend LokyBackend with 4 concurrent workers.\n",
      "[Parallel(n_jobs=-1)]: Done  29 out of  29 | elapsed:    2.8s finished\n",
      "[Parallel(n_jobs=-1)]: Using backend LokyBackend with 4 concurrent workers.\n",
      "[Parallel(n_jobs=-1)]: Done   4 out of   4 | elapsed:    0.4s finished\n",
      "\n",
      "[2021-04-10 04:33:37] Features: 5/33 -- score: 0.821560373324038[Parallel(n_jobs=-1)]: Using backend LokyBackend with 4 concurrent workers.\n",
      "[Parallel(n_jobs=-1)]: Done  28 out of  28 | elapsed:    3.8s finished\n",
      "[Parallel(n_jobs=-1)]: Using backend LokyBackend with 4 concurrent workers.\n",
      "[Parallel(n_jobs=-1)]: Done   5 out of   5 | elapsed:    0.8s finished\n",
      "\n",
      "[2021-04-10 04:33:41] Features: 6/33 -- score: 0.826128857886229[Parallel(n_jobs=-1)]: Using backend LokyBackend with 4 concurrent workers.\n",
      "[Parallel(n_jobs=-1)]: Done  27 out of  27 | elapsed:    4.1s finished\n",
      "[Parallel(n_jobs=-1)]: Using backend LokyBackend with 4 concurrent workers.\n",
      "[Parallel(n_jobs=-1)]: Done   3 out of   6 | elapsed:    0.6s remaining:    0.6s\n",
      "[Parallel(n_jobs=-1)]: Done   6 out of   6 | elapsed:    1.1s finished\n",
      "\n",
      "[2021-04-10 04:33:47] Features: 7/33 -- score: 0.8375692594649227[Parallel(n_jobs=-1)]: Using backend LokyBackend with 4 concurrent workers.\n",
      "[Parallel(n_jobs=-1)]: Done  26 out of  26 | elapsed:    4.2s finished\n",
      "[Parallel(n_jobs=-1)]: Using backend LokyBackend with 4 concurrent workers.\n",
      "[Parallel(n_jobs=-1)]: Done   4 out of   7 | elapsed:    0.7s remaining:    0.5s\n",
      "[Parallel(n_jobs=-1)]: Done   7 out of   7 | elapsed:    1.2s finished\n",
      "\n",
      "[2021-04-10 04:33:52] Features: 8/33 -- score: 0.8432892060065831[Parallel(n_jobs=-1)]: Using backend LokyBackend with 4 concurrent workers.\n",
      "[Parallel(n_jobs=-1)]: Done  25 out of  25 | elapsed:    3.7s finished\n",
      "[Parallel(n_jobs=-1)]: Using backend LokyBackend with 4 concurrent workers.\n",
      "[Parallel(n_jobs=-1)]: Done   6 out of   8 | elapsed:    1.1s remaining:    0.4s\n",
      "[Parallel(n_jobs=-1)]: Done   8 out of   8 | elapsed:    1.2s finished\n",
      "\n",
      "[2021-04-10 04:33:57] Features: 9/33 -- score: 0.846129992788946[Parallel(n_jobs=-1)]: Using backend LokyBackend with 4 concurrent workers.\n",
      "[Parallel(n_jobs=-1)]: Done  24 out of  24 | elapsed:    3.7s finished\n",
      "[Parallel(n_jobs=-1)]: Using backend LokyBackend with 4 concurrent workers.\n",
      "[Parallel(n_jobs=-1)]: Done   7 out of   9 | elapsed:    1.1s remaining:    0.3s\n",
      "[Parallel(n_jobs=-1)]: Done   9 out of   9 | elapsed:    1.5s finished\n",
      "\n",
      "[2021-04-10 04:34:03] Features: 10/33 -- score: 0.8472433618324109[Parallel(n_jobs=-1)]: Using backend LokyBackend with 4 concurrent workers.\n",
      "[Parallel(n_jobs=-1)]: Done  23 out of  23 | elapsed:    3.7s finished\n",
      "[Parallel(n_jobs=-1)]: Using backend LokyBackend with 4 concurrent workers.\n",
      "[Parallel(n_jobs=-1)]: Done  10 out of  10 | elapsed:    1.6s finished\n",
      "\n",
      "[2021-04-10 04:34:08] Features: 11/33 -- score: 0.8474737102364909[Parallel(n_jobs=-1)]: Using backend LokyBackend with 4 concurrent workers.\n",
      "[Parallel(n_jobs=-1)]: Done  22 out of  22 | elapsed:    3.4s finished\n",
      "[Parallel(n_jobs=-1)]: Using backend LokyBackend with 4 concurrent workers.\n",
      "[Parallel(n_jobs=-1)]: Done  11 out of  11 | elapsed:    1.8s finished\n",
      "\n",
      "[2021-04-10 04:34:14] Features: 12/33 -- score: 0.8476273790121851[Parallel(n_jobs=-1)]: Using backend LokyBackend with 4 concurrent workers.\n",
      "[Parallel(n_jobs=-1)]: Done  21 out of  21 | elapsed:    3.2s finished\n",
      "[Parallel(n_jobs=-1)]: Using backend LokyBackend with 4 concurrent workers.\n",
      "[Parallel(n_jobs=-1)]: Done  12 out of  12 | elapsed:    1.8s remaining:    0.0s\n",
      "[Parallel(n_jobs=-1)]: Done  12 out of  12 | elapsed:    1.8s finished\n",
      "\n",
      "[2021-04-10 04:34:19] Features: 13/33 -- score: 0.84708984044668[Parallel(n_jobs=-1)]: Using backend LokyBackend with 4 concurrent workers.\n",
      "[Parallel(n_jobs=-1)]: Done  20 out of  20 | elapsed:    3.3s finished\n",
      "[Parallel(n_jobs=-1)]: Using backend LokyBackend with 4 concurrent workers.\n",
      "[Parallel(n_jobs=-1)]: Done  13 out of  13 | elapsed:    2.2s remaining:    0.0s\n",
      "[Parallel(n_jobs=-1)]: Done  13 out of  13 | elapsed:    2.2s finished\n",
      "\n",
      "[2021-04-10 04:34:24] Features: 14/33 -- score: 0.8473970969335888[Parallel(n_jobs=-1)]: Using backend LokyBackend with 4 concurrent workers.\n",
      "[Parallel(n_jobs=-1)]: Done  19 out of  19 | elapsed:    3.1s finished\n",
      "[Parallel(n_jobs=-1)]: Using backend LokyBackend with 4 concurrent workers.\n",
      "[Parallel(n_jobs=-1)]: Done  14 out of  14 | elapsed:    2.2s finished\n",
      "[Parallel(n_jobs=-1)]: Using backend LokyBackend with 4 concurrent workers.\n",
      "[Parallel(n_jobs=-1)]: Done  13 out of  13 | elapsed:    2.1s remaining:    0.0s\n",
      "[Parallel(n_jobs=-1)]: Done  13 out of  13 | elapsed:    2.1s finished\n",
      "\n",
      "[2021-04-10 04:34:32] Features: 14/33 -- score: 0.8475122158643924[Parallel(n_jobs=-1)]: Using backend LokyBackend with 4 concurrent workers.\n",
      "[Parallel(n_jobs=-1)]: Done  19 out of  19 | elapsed:    3.2s finished\n",
      "[Parallel(n_jobs=-1)]: Using backend LokyBackend with 4 concurrent workers.\n",
      "[Parallel(n_jobs=-1)]: Done  14 out of  14 | elapsed:    2.2s finished\n",
      "\n",
      "[2021-04-10 04:34:38] Features: 15/33 -- score: 0.8473202920237343[Parallel(n_jobs=-1)]: Using backend LokyBackend with 4 concurrent workers.\n",
      "[Parallel(n_jobs=-1)]: Done  18 out of  18 | elapsed:    3.0s finished\n",
      "[Parallel(n_jobs=-1)]: Using backend LokyBackend with 4 concurrent workers.\n",
      "[Parallel(n_jobs=-1)]: Done  15 out of  15 | elapsed:    2.8s finished\n",
      "\n",
      "[2021-04-10 04:34:44] Features: 16/33 -- score: 0.8473970969335886[Parallel(n_jobs=-1)]: Using backend LokyBackend with 4 concurrent workers.\n",
      "[Parallel(n_jobs=-1)]: Done  17 out of  17 | elapsed:    3.1s finished\n",
      "[Parallel(n_jobs=-1)]: Using backend LokyBackend with 4 concurrent workers.\n",
      "[Parallel(n_jobs=-1)]: Done  16 out of  16 | elapsed:    2.5s finished\n",
      "\n",
      "[2021-04-10 04:34:50] Features: 17/33 -- score: 0.8476657740976142[Parallel(n_jobs=-1)]: Using backend LokyBackend with 4 concurrent workers.\n",
      "[Parallel(n_jobs=-1)]: Done  16 out of  16 | elapsed:    2.7s finished\n",
      "[Parallel(n_jobs=-1)]: Using backend LokyBackend with 4 concurrent workers.\n",
      "[Parallel(n_jobs=-1)]: Done  17 out of  17 | elapsed:    3.3s finished\n",
      "[Parallel(n_jobs=-1)]: Using backend LokyBackend with 4 concurrent workers.\n",
      "[Parallel(n_jobs=-1)]: Done  16 out of  16 | elapsed:    2.6s finished\n",
      "\n",
      "[2021-04-10 04:34:59] Features: 17/33 -- score: 0.8480881126678357[Parallel(n_jobs=-1)]: Using backend LokyBackend with 4 concurrent workers.\n",
      "[Parallel(n_jobs=-1)]: Done  16 out of  16 | elapsed:    2.8s finished\n",
      "[Parallel(n_jobs=-1)]: Using backend LokyBackend with 4 concurrent workers.\n",
      "[Parallel(n_jobs=-1)]: Done  17 out of  17 | elapsed:    2.9s finished\n",
      "\n",
      "[2021-04-10 04:35:05] Features: 18/33 -- score: 0.848049739690901[Parallel(n_jobs=-1)]: Using backend LokyBackend with 4 concurrent workers.\n",
      "[Parallel(n_jobs=-1)]: Done  15 out of  15 | elapsed:    2.9s finished\n",
      "[Parallel(n_jobs=-1)]: Using backend LokyBackend with 4 concurrent workers.\n",
      "[Parallel(n_jobs=-1)]: Done  18 out of  18 | elapsed:    3.4s finished\n",
      "[Parallel(n_jobs=-1)]: Using backend LokyBackend with 4 concurrent workers.\n",
      "[Parallel(n_jobs=-1)]: Done  17 out of  17 | elapsed:    3.5s finished\n",
      "\n",
      "[2021-04-10 04:35:15] Features: 18/33 -- score: 0.8482800143999993[Parallel(n_jobs=-1)]: Using backend LokyBackend with 4 concurrent workers.\n",
      "[Parallel(n_jobs=-1)]: Done  15 out of  15 | elapsed:    2.9s finished\n",
      "[Parallel(n_jobs=-1)]: Using backend LokyBackend with 4 concurrent workers.\n",
      "[Parallel(n_jobs=-1)]: Done  18 out of  18 | elapsed:    3.2s finished\n",
      "\n",
      "[2021-04-10 04:35:21] Features: 19/33 -- score: 0.848510392282072[Parallel(n_jobs=-1)]: Using backend LokyBackend with 4 concurrent workers.\n",
      "[Parallel(n_jobs=-1)]: Done  14 out of  14 | elapsed:    2.7s finished\n",
      "[Parallel(n_jobs=-1)]: Using backend LokyBackend with 4 concurrent workers.\n",
      "[Parallel(n_jobs=-1)]: Done  19 out of  19 | elapsed:    3.6s finished\n",
      "\n",
      "[2021-04-10 04:35:28] Features: 20/33 -- score: 0.8476273937511815[Parallel(n_jobs=-1)]: Using backend LokyBackend with 4 concurrent workers.\n",
      "[Parallel(n_jobs=-1)]: Done  13 out of  13 | elapsed:    2.5s remaining:    0.0s\n",
      "[Parallel(n_jobs=-1)]: Done  13 out of  13 | elapsed:    2.5s finished\n",
      "[Parallel(n_jobs=-1)]: Using backend LokyBackend with 4 concurrent workers.\n",
      "[Parallel(n_jobs=-1)]: Done  20 out of  20 | elapsed:    3.8s finished\n",
      "\n",
      "[2021-04-10 04:35:34] Features: 21/33 -- score: 0.8470897962296909[Parallel(n_jobs=-1)]: Using backend LokyBackend with 4 concurrent workers.\n",
      "[Parallel(n_jobs=-1)]: Done  12 out of  12 | elapsed:    2.4s remaining:    0.0s\n",
      "[Parallel(n_jobs=-1)]: Done  12 out of  12 | elapsed:    2.4s finished\n",
      "[Parallel(n_jobs=-1)]: Using backend LokyBackend with 4 concurrent workers.\n",
      "[Parallel(n_jobs=-1)]: Done  21 out of  21 | elapsed:    4.4s finished\n",
      "[Parallel(n_jobs=-1)]: Using backend LokyBackend with 4 concurrent workers.\n",
      "[Parallel(n_jobs=-1)]: Done  20 out of  20 | elapsed:    3.9s finished\n",
      "\n",
      "[2021-04-10 04:35:45] Features: 21/33 -- score: 0.8482032315986394[Parallel(n_jobs=-1)]: Using backend LokyBackend with 4 concurrent workers.\n",
      "[Parallel(n_jobs=-1)]: Done  12 out of  12 | elapsed:    2.4s remaining:    0.0s\n",
      "[Parallel(n_jobs=-1)]: Done  12 out of  12 | elapsed:    2.4s finished\n",
      "[Parallel(n_jobs=-1)]: Using backend LokyBackend with 4 concurrent workers.\n",
      "[Parallel(n_jobs=-1)]: Done  21 out of  21 | elapsed:    4.5s finished\n",
      "\n",
      "[2021-04-10 04:35:52] Features: 22/33 -- score: 0.8477809151369124[Parallel(n_jobs=-1)]: Using backend LokyBackend with 4 concurrent workers.\n",
      "[Parallel(n_jobs=-1)]: Done  11 out of  11 | elapsed:    2.4s finished\n",
      "[Parallel(n_jobs=-1)]: Using backend LokyBackend with 4 concurrent workers.\n",
      "[Parallel(n_jobs=-1)]: Done  22 out of  22 | elapsed:    5.1s finished\n",
      "\n",
      "[2021-04-10 04:36:00] Features: 23/33 -- score: 0.8473586355226761[Parallel(n_jobs=-1)]: Using backend LokyBackend with 4 concurrent workers.\n",
      "[Parallel(n_jobs=-1)]: Done  10 out of  10 | elapsed:    2.4s finished\n",
      "[Parallel(n_jobs=-1)]: Using backend LokyBackend with 4 concurrent workers.\n",
      "[Parallel(n_jobs=-1)]: Done  23 out of  23 | elapsed:    4.7s finished\n",
      "\n",
      "[2021-04-10 04:36:07] Features: 24/33 -- score: 0.8474737765619743[Parallel(n_jobs=-1)]: Using backend LokyBackend with 4 concurrent workers.\n",
      "[Parallel(n_jobs=-1)]: Done   7 out of   9 | elapsed:    1.7s remaining:    0.5s\n",
      "[Parallel(n_jobs=-1)]: Done   9 out of   9 | elapsed:    2.1s finished\n",
      "[Parallel(n_jobs=-1)]: Using backend LokyBackend with 4 concurrent workers.\n",
      "[Parallel(n_jobs=-1)]: Done  24 out of  24 | elapsed:    5.2s finished\n",
      "[Parallel(n_jobs=-1)]: Using backend LokyBackend with 4 concurrent workers.\n",
      "[Parallel(n_jobs=-1)]: Done  23 out of  23 | elapsed:    4.7s finished\n",
      "[Parallel(n_jobs=-1)]: Using backend LokyBackend with 4 concurrent workers.\n",
      "[Parallel(n_jobs=-1)]: Done  22 out of  22 | elapsed:    4.6s finished\n",
      "[Parallel(n_jobs=-1)]: Using backend LokyBackend with 4 concurrent workers.\n",
      "[Parallel(n_jobs=-1)]: Done  21 out of  21 | elapsed:    4.3s finished\n",
      "\n",
      "[2021-04-10 04:36:29] Features: 22/33 -- score: 0.8483183800074359[Parallel(n_jobs=-1)]: Using backend LokyBackend with 4 concurrent workers.\n",
      "[Parallel(n_jobs=-1)]: Done  11 out of  11 | elapsed:    2.3s finished\n",
      "[Parallel(n_jobs=-1)]: Using backend LokyBackend with 4 concurrent workers.\n",
      "[Parallel(n_jobs=-1)]: Done  22 out of  22 | elapsed:    4.8s finished\n",
      "\n",
      "[2021-04-10 04:36:36] Features: 23/33 -- score: 0.8478577126772686[Parallel(n_jobs=-1)]: Using backend LokyBackend with 4 concurrent workers.\n",
      "[Parallel(n_jobs=-1)]: Done  10 out of  10 | elapsed:    2.4s finished\n",
      "[Parallel(n_jobs=-1)]: Using backend LokyBackend with 4 concurrent workers.\n",
      "[Parallel(n_jobs=-1)]: Done  23 out of  23 | elapsed:    4.8s finished\n",
      "\n",
      "[2021-04-10 04:36:43] Features: 24/33 -- score: 0.8479728905640578[Parallel(n_jobs=-1)]: Using backend LokyBackend with 4 concurrent workers.\n",
      "[Parallel(n_jobs=-1)]: Done   7 out of   9 | elapsed:    1.7s remaining:    0.5s\n",
      "[Parallel(n_jobs=-1)]: Done   9 out of   9 | elapsed:    2.1s finished\n",
      "[Parallel(n_jobs=-1)]: Using backend LokyBackend with 4 concurrent workers.\n",
      "[Parallel(n_jobs=-1)]: Done  24 out of  24 | elapsed:    5.1s finished\n",
      "[Parallel(n_jobs=-1)]: Using backend LokyBackend with 4 concurrent workers.\n",
      "[Parallel(n_jobs=-1)]: Done  23 out of  23 | elapsed:    4.7s finished\n",
      "\n",
      "[2021-04-10 04:36:55] Features: 24/33 -- score: 0.8479729200420504[Parallel(n_jobs=-1)]: Using backend LokyBackend with 4 concurrent workers.\n",
      "[Parallel(n_jobs=-1)]: Done   7 out of   9 | elapsed:    1.7s remaining:    0.5s\n",
      "[Parallel(n_jobs=-1)]: Done   9 out of   9 | elapsed:    2.1s finished\n",
      "[Parallel(n_jobs=-1)]: Using backend LokyBackend with 4 concurrent workers.\n",
      "[Parallel(n_jobs=-1)]: Done  24 out of  24 | elapsed:    5.3s finished\n",
      "\n",
      "[2021-04-10 04:37:03] Features: 25/33 -- score: 0.8478577495247596[Parallel(n_jobs=-1)]: Using backend LokyBackend with 4 concurrent workers.\n",
      "[Parallel(n_jobs=-1)]: Done   6 out of   8 | elapsed:    1.8s remaining:    0.6s\n",
      "[Parallel(n_jobs=-1)]: Done   8 out of   8 | elapsed:    1.8s finished\n",
      "[Parallel(n_jobs=-1)]: Using backend LokyBackend with 4 concurrent workers.\n",
      "[Parallel(n_jobs=-1)]: Done  25 out of  25 | elapsed:    5.6s finished\n",
      "\n",
      "[2021-04-10 04:37:11] Features: 26/33 -- score: 0.846744491023767[Parallel(n_jobs=-1)]: Using backend LokyBackend with 4 concurrent workers.\n",
      "[Parallel(n_jobs=-1)]: Done   4 out of   7 | elapsed:    0.9s remaining:    0.7s\n",
      "[Parallel(n_jobs=-1)]: Done   7 out of   7 | elapsed:    1.7s finished\n",
      "[Parallel(n_jobs=-1)]: Using backend LokyBackend with 4 concurrent workers.\n",
      "[Parallel(n_jobs=-1)]: Done  26 out of  26 | elapsed:    5.8s finished\n",
      "[Parallel(n_jobs=-1)]: Using backend LokyBackend with 4 concurrent workers.\n",
      "[Parallel(n_jobs=-1)]: Done  25 out of  25 | elapsed:    5.8s finished\n",
      "\n",
      "[2021-04-10 04:37:24] Features: 26/33 -- score: 0.8480496512569232[Parallel(n_jobs=-1)]: Using backend LokyBackend with 4 concurrent workers.\n",
      "[Parallel(n_jobs=-1)]: Done   4 out of   7 | elapsed:    0.9s remaining:    0.7s\n",
      "[Parallel(n_jobs=-1)]: Done   7 out of   7 | elapsed:    1.7s finished\n",
      "[Parallel(n_jobs=-1)]: Using backend LokyBackend with 4 concurrent workers.\n",
      "[Parallel(n_jobs=-1)]: Done  26 out of  26 | elapsed:    5.8s finished\n",
      "\n",
      "[2021-04-10 04:37:32] Features: 27/33 -- score: 0.8473202920237342[Parallel(n_jobs=-1)]: Using backend LokyBackend with 4 concurrent workers.\n",
      "[Parallel(n_jobs=-1)]: Done   3 out of   6 | elapsed:    0.9s remaining:    0.9s\n",
      "[Parallel(n_jobs=-1)]: Done   6 out of   6 | elapsed:    1.6s finished\n",
      "[Parallel(n_jobs=-1)]: Using backend LokyBackend with 4 concurrent workers.\n",
      "[Parallel(n_jobs=-1)]: Done  27 out of  27 | elapsed:    5.8s finished\n",
      "\n",
      "[2021-04-10 04:37:39] Features: 28/33 -- score: 0.8463221377145491[Parallel(n_jobs=-1)]: Using backend LokyBackend with 4 concurrent workers.\n",
      "[Parallel(n_jobs=-1)]: Done   5 out of   5 | elapsed:    1.3s finished\n",
      "[Parallel(n_jobs=-1)]: Using backend LokyBackend with 4 concurrent workers.\n",
      "[Parallel(n_jobs=-1)]: Done  28 out of  28 | elapsed:    6.4s finished\n",
      "[Parallel(n_jobs=-1)]: Using backend LokyBackend with 4 concurrent workers.\n",
      "[Parallel(n_jobs=-1)]: Done  27 out of  27 | elapsed:    5.7s finished\n",
      "\n",
      "[2021-04-10 04:37:53] Features: 28/33 -- score: 0.8463987657564476[Parallel(n_jobs=-1)]: Using backend LokyBackend with 4 concurrent workers.\n",
      "[Parallel(n_jobs=-1)]: Done   5 out of   5 | elapsed:    1.3s finished\n",
      "[Parallel(n_jobs=-1)]: Using backend LokyBackend with 4 concurrent workers.\n",
      "[Parallel(n_jobs=-1)]: Done  28 out of  28 | elapsed:    6.4s finished\n",
      "\n",
      "[2021-04-10 04:38:01] Features: 29/33 -- score: 0.8454773795096262[Parallel(n_jobs=-1)]: Using backend LokyBackend with 4 concurrent workers.\n",
      "[Parallel(n_jobs=-1)]: Done   4 out of   4 | elapsed:    0.9s finished\n",
      "[Parallel(n_jobs=-1)]: Using backend LokyBackend with 4 concurrent workers.\n",
      "[Parallel(n_jobs=-1)]: Done  29 out of  29 | elapsed:    6.7s finished\n",
      "[Parallel(n_jobs=-1)]: Using backend LokyBackend with 4 concurrent workers.\n",
      "[Parallel(n_jobs=-1)]: Done  28 out of  28 | elapsed:    6.3s finished\n",
      "[Parallel(n_jobs=-1)]: Using backend LokyBackend with 4 concurrent workers.\n",
      "[Parallel(n_jobs=-1)]: Done  27 out of  27 | elapsed:    5.8s finished\n",
      "[Parallel(n_jobs=-1)]: Using backend LokyBackend with 4 concurrent workers.\n",
      "[Parallel(n_jobs=-1)]: Done  26 out of  26 | elapsed:    5.9s finished\n",
      "\n",
      "[2021-04-10 04:38:27] Features: 27/33 -- score: 0.8473970895640905[Parallel(n_jobs=-1)]: Using backend LokyBackend with 4 concurrent workers.\n",
      "[Parallel(n_jobs=-1)]: Done   3 out of   6 | elapsed:    0.9s remaining:    0.9s\n",
      "[Parallel(n_jobs=-1)]: Done   6 out of   6 | elapsed:    1.6s finished\n",
      "[Parallel(n_jobs=-1)]: Using backend LokyBackend with 4 concurrent workers.\n",
      "[Parallel(n_jobs=-1)]: Done  27 out of  27 | elapsed:    5.8s finished\n",
      "\n",
      "[2021-04-10 04:38:35] Features: 28/33 -- score: 0.8470132124047816[Parallel(n_jobs=-1)]: Using backend LokyBackend with 4 concurrent workers.\n",
      "[Parallel(n_jobs=-1)]: Done   5 out of   5 | elapsed:    1.3s finished\n",
      "[Parallel(n_jobs=-1)]: Using backend LokyBackend with 4 concurrent workers.\n",
      "[Parallel(n_jobs=-1)]: Done  28 out of  28 | elapsed:    6.2s finished\n",
      "\n",
      "[2021-04-10 04:38:43] Features: 29/33 -- score: 0.8458229647564804[Parallel(n_jobs=-1)]: Using backend LokyBackend with 4 concurrent workers.\n",
      "[Parallel(n_jobs=-1)]: Done   4 out of   4 | elapsed:    0.9s finished\n",
      "[Parallel(n_jobs=-1)]: Using backend LokyBackend with 4 concurrent workers.\n",
      "[Parallel(n_jobs=-1)]: Done  29 out of  29 | elapsed:    6.7s finished\n",
      "\n",
      "[2021-04-10 04:38:50] Features: 30/33 -- score: 0.8449015858791571[Parallel(n_jobs=-1)]: Using backend LokyBackend with 4 concurrent workers.\n",
      "[Parallel(n_jobs=-1)]: Done   3 out of   3 | elapsed:    0.8s finished\n",
      "[Parallel(n_jobs=-1)]: Using backend LokyBackend with 4 concurrent workers.\n",
      "[Parallel(n_jobs=-1)]: Done  30 out of  30 | elapsed:    6.8s finished\n",
      "\n",
      "[2021-04-10 04:38:58] Features: 31/33 -- score: 0.8396422108641877[Parallel(n_jobs=-1)]: Using backend LokyBackend with 4 concurrent workers.\n",
      "[Parallel(n_jobs=-1)]: Done   2 out of   2 | elapsed:    0.6s finished\n",
      "[Parallel(n_jobs=-1)]: Using backend LokyBackend with 4 concurrent workers.\n",
      "[Parallel(n_jobs=-1)]: Done  31 out of  31 | elapsed:    7.0s finished\n",
      "\n",
      "[2021-04-10 04:39:06] Features: 32/33 -- score: 0.8288157990249416[Parallel(n_jobs=-1)]: Using backend LokyBackend with 4 concurrent workers.\n",
      "[Parallel(n_jobs=-1)]: Done   1 out of   1 | elapsed:    0.4s finished\n",
      "[Parallel(n_jobs=-1)]: Using backend LokyBackend with 4 concurrent workers.\n",
      "[Parallel(n_jobs=-1)]: Done  32 out of  32 | elapsed:    4.6s finished\n",
      "\n",
      "[2021-04-10 04:39:11] Features: 33/33 -- score: 0.7957232591310845"
     ]
    }
   ],
   "source": [
    "#SFSインスタンス化\n",
    "sfsf = SFS(\n",
    "    LogisticRegression(),  #利用するモデル\n",
    "    k_features=(1, 33),  #特徴量の数 1-33個の間でCVスコアベストを探す\n",
    "    forward=True,  #フォワード型\n",
    "    floating=True,  #フローティングの有無 Trueとする\n",
    "    verbose=2,\n",
    "    scoring='accuracy',  #精度指標\n",
    "    cv=5,\n",
    "    n_jobs=-1)\n",
    "\n",
    "sfsf = sfsf.fit(X_adult_train, y_adult_train)"
   ]
  },
  {
   "cell_type": "code",
   "execution_count": 79,
   "id": "preceding-queensland",
   "metadata": {},
   "outputs": [
    {
     "data": {
      "image/png": "[encoded data removed]",
      "text/plain": [
       "<Figure size 1008x504 with 1 Axes>"
      ]
     },
     "metadata": {
      "needs_background": "light"
     },
     "output_type": "display_data"
    }
   ],
   "source": [
    "fig1 = plot_sfs(sfsf.get_metric_dict(), kind='std_dev', figsize=(14, 7))\n",
    "plt.title('Bidirectional Generation (w. StdDev)')\n",
    "plt.grid()"
   ]
  },
  {
   "cell_type": "code",
   "execution_count": 80,
   "id": "smart-honduras",
   "metadata": {},
   "outputs": [
    {
     "name": "stdout",
     "output_type": "stream",
     "text": [
      "特徴量 : ['WorkClass_ State-gov', 'WorkClass_ Federal-gov', 'WorkClass_ Self-emp-inc', 'WorkClass_ Never-worked', 'WorkClass_ Without-pay', 'Education', 'EducationNum', 'MaritalStatus_ Divorced', 'MaritalStatus_ Married-spouse-absent', 'MaritalStatus_ Married-AF-spouse', 'Occupation', 'Relationship_ Not-in-family', 'Relationship_ Other-relative', 'Relationship_ Unmarried', 'Relationship_ Own-child', 'Race_ Amer-Indian-Eskimo', 'CapitalGain', 'CapitalLoss', 'NativeCountry'] \n",
      "訓練 : 0.8485488329238329 \n",
      "検証 : 0.8476892369107938 \n"
     ]
    },
    {
     "name": "stderr",
     "output_type": "stream",
     "text": [
      "/usr/local/lib/python3.9/site-packages/sklearn/linear_model/_logistic.py:763: ConvergenceWarning: lbfgs failed to converge (status=1):\n",
      "STOP: TOTAL NO. of ITERATIONS REACHED LIMIT.\n",
      "\n",
      "Increase the number of iterations (max_iter) or scale the data as shown in:\n",
      "    https://scikit-learn.org/stable/modules/preprocessing.html\n",
      "Please also refer to the documentation for alternative solver options:\n",
      "    https://scikit-learn.org/stable/modules/linear_model.html#logistic-regression\n",
      "  n_iter_i = _check_optimize_result(\n"
     ]
    }
   ],
   "source": [
    "#選ばれた特徴量のサブセットでモデルを作成\n",
    "features_sel_wrapper_bg = list(sfsf.k_feature_names_)\n",
    "reg = LogisticRegression().fit(X_adult_train[features_sel_wrapper_bg],\n",
    "                               y_adult_train)\n",
    "print('特徴量 : {} '.format(features_sel_wrapper_bg))\n",
    "print('訓練 : {} '.format(\n",
    "    accuracy_score(y_adult_train,\n",
    "                   reg.predict(X_adult_train[features_sel_wrapper_bg]))))\n",
    "print('検証 : {} '.format(\n",
    "    accuracy_score(y_adult_test,\n",
    "                   reg.predict(X_adult_test[features_sel_wrapper_bg]))))\n",
    "score_sel_wrapper_bg = accuracy_score(\n",
    "    y_adult_test, reg.predict(X_adult_test[features_sel_wrapper_bg]))"
   ]
  },
  {
   "cell_type": "markdown",
   "id": "controlled-bouquet",
   "metadata": {},
   "source": [
    "### Embedded法\n",
    "\n",
    "Lass回帰やTreeベースモデルの学習アルゴリズム内で特徴量を計算し、  \n",
    "アルゴリズム自らが特徴量を選択する。これを用意て特徴量の組み合わせを見つける手法。  \n",
    "組み合わせ1つ１つに対して再学習しないので学習コストも減らせる。"
   ]
  },
  {
   "cell_type": "code",
   "execution_count": 81,
   "id": "latest-issue",
   "metadata": {},
   "outputs": [],
   "source": [
    "#SelectFromModelモジュール読み込み\n",
    "from sklearn.feature_selection import SelectFromModel\n",
    "#標準化モジュール読み込む\n",
    "from sklearn.preprocessing import StandardScaler"
   ]
  },
  {
   "cell_type": "markdown",
   "id": "declared-religious",
   "metadata": {},
   "source": [
    "### Lasso回帰"
   ]
  },
  {
   "cell_type": "code",
   "execution_count": 82,
   "id": "moral-broadcasting",
   "metadata": {},
   "outputs": [],
   "source": [
    "#標準化\n",
    "scaler = StandardScaler()\n",
    "scaler.fit(X_adult_train)\n",
    "X_adult_train_standard = scaler.transform(X_adult_train)\n",
    "X_adult_test_standard = scaler.transform(X_adult_test)"
   ]
  },
  {
   "cell_type": "code",
   "execution_count": 83,
   "id": "plastic-avenue",
   "metadata": {},
   "outputs": [
    {
     "data": {
      "text/plain": [
       "SelectFromModel(estimator=LogisticRegression(penalty='l1', solver='liblinear'),\n",
       "                threshold='mean')"
      ]
     },
     "execution_count": 83,
     "metadata": {},
     "output_type": "execute_result"
    }
   ],
   "source": [
    "#lasso selectFromModelインスタンス作成\n",
    "embeded_selector = SelectFromModel(\n",
    "    LogisticRegression(C=1.0, penalty=\"l1\", solver='liblinear'),\n",
    "    threshold='mean')\n",
    "embeded_selector.fit(X_adult_train_standard, y_adult_train)"
   ]
  },
  {
   "cell_type": "code",
   "execution_count": 84,
   "id": "seasonal-vault",
   "metadata": {},
   "outputs": [
    {
     "name": "stdout",
     "output_type": "stream",
     "text": [
      "特徴量 : Index(['Age', 'EducationNum', 'MaritalStatus_ Never-married',\n",
      "       'MaritalStatus_ Divorced', 'MaritalStatus_ Separated', 'Occupation',\n",
      "       'Relationship_ Own-child', 'Relationship_ Wife', 'Gender_ Female',\n",
      "       'CapitalGain', 'HoursPerWeek'],\n",
      "      dtype='object') \n",
      "訓練 : 0.836916461916462 \n",
      "検証 : 0.8347919545524336 \n"
     ]
    },
    {
     "name": "stderr",
     "output_type": "stream",
     "text": [
      "/usr/local/lib/python3.9/site-packages/sklearn/linear_model/_logistic.py:763: ConvergenceWarning: lbfgs failed to converge (status=1):\n",
      "STOP: TOTAL NO. of ITERATIONS REACHED LIMIT.\n",
      "\n",
      "Increase the number of iterations (max_iter) or scale the data as shown in:\n",
      "    https://scikit-learn.org/stable/modules/preprocessing.html\n",
      "Please also refer to the documentation for alternative solver options:\n",
      "    https://scikit-learn.org/stable/modules/linear_model.html#logistic-regression\n",
      "  n_iter_i = _check_optimize_result(\n"
     ]
    }
   ],
   "source": [
    "#選ばれた特徴量のサブセットでモデルを作成\n",
    "features_sel_embedded_lasso = X_adult_train.columns[\n",
    "    embeded_selector.get_support()]\n",
    "reg = LogisticRegression()\n",
    "#モデル作成\n",
    "reg.fit(embeded_selector.transform(X_adult_train), y_adult_train)\n",
    "print('特徴量 : {} '.format(features_sel_embedded_lasso))\n",
    "print('訓練 : {} '.format(\n",
    "    accuracy_score(y_adult_train,\n",
    "                   reg.predict(embeded_selector.transform(X_adult_train)))))\n",
    "print('検証 : {} '.format(\n",
    "    accuracy_score(y_adult_test,\n",
    "                   reg.predict(embeded_selector.transform(X_adult_test)))))\n",
    "score_sel_embedded_lasso = accuracy_score(\n",
    "    y_adult_test, reg.predict(embeded_selector.transform(X_adult_test)))"
   ]
  },
  {
   "cell_type": "markdown",
   "id": "ongoing-poison",
   "metadata": {},
   "source": [
    "### RandomForest"
   ]
  },
  {
   "cell_type": "code",
   "execution_count": 85,
   "id": "loose-hunter",
   "metadata": {},
   "outputs": [
    {
     "name": "stderr",
     "output_type": "stream",
     "text": [
      "/usr/local/lib/python3.9/site-packages/sklearn/utils/validation.py:70: FutureWarning: Pass threshold=mean as keyword args. From version 1.0 (renaming of 0.25) passing these as positional arguments will result in an error\n",
      "  warnings.warn(f\"Pass {args_msg} as keyword args. From version \"\n"
     ]
    },
    {
     "name": "stdout",
     "output_type": "stream",
     "text": [
      "特徴量 : Index(['Age', 'Education', 'EducationNum', 'MaritalStatus_ Never-married',\n",
      "       'MaritalStatus_ Divorced', 'Occupation', 'Relationship_ Not-in-family',\n",
      "       'Gender_ Female', 'CapitalGain', 'CapitalLoss', 'HoursPerWeek'],\n",
      "      dtype='object') \n",
      "訓練 : 0.8215985872235873 \n",
      "検証 : 0.8229694457239367 \n"
     ]
    },
    {
     "name": "stderr",
     "output_type": "stream",
     "text": [
      "/usr/local/lib/python3.9/site-packages/sklearn/linear_model/_logistic.py:763: ConvergenceWarning: lbfgs failed to converge (status=1):\n",
      "STOP: TOTAL NO. of ITERATIONS REACHED LIMIT.\n",
      "\n",
      "Increase the number of iterations (max_iter) or scale the data as shown in:\n",
      "    https://scikit-learn.org/stable/modules/preprocessing.html\n",
      "Please also refer to the documentation for alternative solver options:\n",
      "    https://scikit-learn.org/stable/modules/linear_model.html#logistic-regression\n",
      "  n_iter_i = _check_optimize_result(\n"
     ]
    }
   ],
   "source": [
    "#RaondomForest\n",
    "from sklearn.ensemble import RandomForestClassifier\n",
    "\n",
    "#RondomForest SelectFromModelインスタンス作成\n",
    "embeded_selector = SelectFromModel(\n",
    "    RandomForestClassifier(\n",
    "        n_estimators=100, random_state=0, min_samples_leaf=50), \"mean\")\n",
    "embeded_selector.fit(X_adult_train, y_adult_train)\n",
    "\n",
    "#選ばれた特徴量のサブセットでモデルを作成\n",
    "features_sel_embedded_rf = X_adult_train.columns[\n",
    "    embeded_selector.get_support()]\n",
    "reg = LogisticRegression()\n",
    "#モデル作成\n",
    "reg.fit(embeded_selector.transform(X_adult_train), y_adult_train)\n",
    "print('特徴量 : {} '.format(features_sel_embedded_rf))\n",
    "print('訓練 : {} '.format(\n",
    "    accuracy_score(y_adult_train,\n",
    "                   reg.predict(embeded_selector.transform(X_adult_train)))))\n",
    "print('検証 : {} '.format(\n",
    "    accuracy_score(y_adult_test,\n",
    "                   reg.predict(embeded_selector.transform(X_adult_test)))))\n",
    "score_sel_embedded_rf = accuracy_score(\n",
    "    y_adult_test, reg.predict(embeded_selector.transform(X_adult_test)))"
   ]
  },
  {
   "cell_type": "code",
   "execution_count": null,
   "id": "running-sheet",
   "metadata": {},
   "outputs": [],
   "source": []
  }
 ],
 "metadata": {
  "kernelspec": {
   "display_name": "Python 3",
   "language": "python",
   "name": "python3"
  },
  "language_info": {
   "codemirror_mode": {
    "name": "ipython",
    "version": 3
   },
   "file_extension": ".py",
   "mimetype": "text/x-python",
   "name": "python",
   "nbconvert_exporter": "python",
   "pygments_lexer": "ipython3",
   "version": "3.9.2"
  }
 },
 "nbformat": 4,
 "nbformat_minor": 5
}
