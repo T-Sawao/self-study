{
 "cells": [
  {
   "cell_type": "markdown",
   "id": "beneficial-crowd",
   "metadata": {},
   "source": [
    "# 現場のプロが伝える前処理技術 Chapter4    "
   ]
  },
  {
   "cell_type": "markdown",
   "id": "promotional-grace",
   "metadata": {},
   "source": [
    "# Chapter4-1画像認識の流れ"
   ]
  },
  {
   "cell_type": "markdown",
   "id": "recreational-korean",
   "metadata": {},
   "source": [
    "画像の撮影 → アノテーション  \n",
    "↓  \n",
    "画像の読み込み → 切り抜き、リサイズ → 画像の結合  \n",
    "↓\n",
    "データ分割 → オーグメンテーション → 特徴量作成  \n",
    "↓  \n",
    "モデル構築 → ハイパーパラメーター調整 → 学習 → 評価  \n",
    "\n",
    "\n",
    "テーブルデータや自然言語処理とは異なり、欠損や異常値が含まれることがほとんどないので、画像認識における前処理は工程が少ない。  \n",
    "但しデータ数が少ないと見当違いな推定を行う事があるので、多くのデータを扱う必要があります。"
   ]
  },
  {
   "cell_type": "markdown",
   "id": "internal-essence",
   "metadata": {},
   "source": [
    "# Chapter4-2 ディレクトリ構成"
   ]
  },
  {
   "cell_type": "markdown",
   "id": "interior-belle",
   "metadata": {},
   "source": [
    "様々なデータを扱うのでフォルダがぐちゃぐちゃしない様にはじめに構成を決めて入れて行く。"
   ]
  },
  {
   "cell_type": "markdown",
   "id": "apart-american",
   "metadata": {},
   "source": [
    "### 1.src ----------------------------------------\n",
    ".pyファイルなど、決まった一連の流れを処理に適したファイルをれれる。  \n",
    "初めはnotebookでソースコードの確認を行い、決まったら.pyファイルにしてこのディレクトリの配下に置く。  \n",
    "データの取得、前処理、モデリング、評価など\n",
    "- 1-1.preparation  \n",
    "  データベースやカメラからデータを取得するコードを格納する。\n",
    "- 1-2.processing  \n",
    "  取得したデータを前処理し、機械学習に入力可能な形式に変換するコードを作成する。\n",
    "- 1-3.modeling  \n",
    "  モデリングと評価のためのコードを格納する。\n",
    "\n",
    "### 2.test ---------------------------------------\n",
    "作成したソースコードのバグチェックをするためのテストプログラムを格納する。\n",
    "\n",
    "### 3.model --------------------------------------\n",
    "学習したモデルをPickeleやJoblibなどの形式で出力してこのディレクトリに格納する。  \n",
    "モデルを作成した日や学習データの条件などを.csvやテキストで残してください。\n",
    "\n",
    "### 4.data ---------------------------------------\n",
    "実験に使用するためのデータを保存します。  \n",
    "元データと前処理後のデータは分けて格納します。\n",
    "- 4-1.raw  \n",
    "  preparationディレクトリに入っている前処理コードを実行して取得したデータをそのまま格納します。\n",
    "- 4-2.processed  \n",
    "  processingディレクトリに入っている前処理コードを実行して作成した前処理後データを格納します。  \n",
    "  このデータをモデルに入力する事で学習、予測する事ができます。\n",
    "\n",
    "### 5.notebook -----------------------------------\n",
    "notebook形式のファイルを格納します。  \n",
    "notebook形式はコードの一部を記載して試す場合や逐次出力や可視化する場合や、  \n",
    "一度読み込んだデータを何度も処理することに向いています。  \n",
    "- 5-1.eda  \n",
    "  EDA（探索的データ分析）を行ったNotebookを格納します。  \n",
    "  EDAはデータ全体の傾向を掴むために行います。\n",
    "- 5-2.poc  \n",
    "  サンプルコードを試したい場合ややりたいことを実現できそうか試すためのPoCを行う祭のnotebookを格納します。\n",
    "- 5-3.modeling  \n",
    "  モデル構築や学習、予測の処理を記載したnotebookを格納します。\n",
    "- 5-4.evluation  \n",
    "  モデルの評価を行うnotebookを格納します。"
   ]
  },
  {
   "cell_type": "markdown",
   "id": "regulation-newfoundland",
   "metadata": {},
   "source": [
    "### ディレクトリを作成するコマンド"
   ]
  },
  {
   "cell_type": "code",
   "execution_count": 3,
   "id": "egyptian-coordinate",
   "metadata": {},
   "outputs": [],
   "source": [
    "# mkdirに--parentesオプションをつける事で簡単に作成できます。  \n",
    "# mkdir --parentes ./project/src/preparation\n",
    "# mkdir --parentes ./project/src/modeling"
   ]
  },
  {
   "cell_type": "markdown",
   "id": "cross-meaning",
   "metadata": {},
   "source": [
    "# Chapter4-3 画像の撮影"
   ]
  },
  {
   "cell_type": "code",
   "execution_count": null,
   "id": "cooperative-revision",
   "metadata": {},
   "outputs": [],
   "source": []
  }
 ],
 "metadata": {
  "kernelspec": {
   "display_name": "Python 3",
   "language": "python",
   "name": "python3"
  },
  "language_info": {
   "codemirror_mode": {
    "name": "ipython",
    "version": 3
   },
   "file_extension": ".py",
   "mimetype": "text/x-python",
   "name": "python",
   "nbconvert_exporter": "python",
   "pygments_lexer": "ipython3",
   "version": "3.8.6"
  }
 },
 "nbformat": 4,
 "nbformat_minor": 5
}
