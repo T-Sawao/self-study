{
 "cells": [
  {
   "cell_type": "markdown",
   "id": "diagnostic-reasoning",
   "metadata": {},
   "source": [
    "# 現場のプロが伝える前処理技術 Chapter3"
   ]
  },
  {
   "cell_type": "markdown",
   "id": "written-refund",
   "metadata": {},
   "source": [
    "# Chapter3-1 自然言語データの処理の基本"
   ]
  },
  {
   "cell_type": "markdown",
   "id": "convertible-premises",
   "metadata": {},
   "source": [
    "### 自然言語処理の作業手順\n",
    "\n",
    "テキスト読み込み  \n",
    "↓  \n",
    "クレイジング  \n",
    "↓　　　　　← データオーグメンテーション  \n",
    "形態素解析  \n",
    "↓　　　　　← データオーグメンテーション  \n",
    "ベクトル化  \n",
    "↓  \n",
    "学習/推定  \n",
    "↓  \n",
    "可視化/評価  → 改善ループ  \n",
    "↓  \n",
    "レポート作成/報告  → フィードバック"
   ]
  },
  {
   "cell_type": "markdown",
   "id": "sought-vocabulary",
   "metadata": {},
   "source": [
    "## Chapter3-2 テキスト読み込み"
   ]
  },
  {
   "cell_type": "markdown",
   "id": "prompt-harassment",
   "metadata": {},
   "source": [
    "#### 3-2-1 一覧データの取得"
   ]
  },
  {
   "cell_type": "code",
   "execution_count": 18,
   "id": "political-terrorism",
   "metadata": {},
   "outputs": [
    {
     "name": "stdout",
     "output_type": "stream",
     "text": [
      "CPU times: user 176 ms, sys: 15.4 ms, total: 192 ms\n",
      "Wall time: 474 ms\n"
     ]
    },
    {
     "data": {
      "text/html": [
       "<div>\n",
       "<style scoped>\n",
       "    .dataframe tbody tr th:only-of-type {\n",
       "        vertical-align: middle;\n",
       "    }\n",
       "\n",
       "    .dataframe tbody tr th {\n",
       "        vertical-align: top;\n",
       "    }\n",
       "\n",
       "    .dataframe thead th {\n",
       "        text-align: right;\n",
       "    }\n",
       "</style>\n",
       "<table border=\"1\" class=\"dataframe\">\n",
       "  <thead>\n",
       "    <tr style=\"text-align: right;\">\n",
       "      <th></th>\n",
       "      <th>作品id</th>\n",
       "      <th>作品名</th>\n",
       "      <th>作品名読み</th>\n",
       "      <th>ソート用読み</th>\n",
       "      <th>副題</th>\n",
       "      <th>副題読み</th>\n",
       "      <th>原題</th>\n",
       "      <th>初出</th>\n",
       "      <th>分類番号</th>\n",
       "      <th>文字遣い種別</th>\n",
       "      <th>...</th>\n",
       "      <th>テキストファイル最終更新日</th>\n",
       "      <th>テキストファイル符号化方式</th>\n",
       "      <th>テキストファイル文字集合</th>\n",
       "      <th>テキストファイル修正回数</th>\n",
       "      <th>XHTML/HTMLファイルURL</th>\n",
       "      <th>XHTML/HTMLファイル最終更新日</th>\n",
       "      <th>XHTML/HTMLファイル符号化方式</th>\n",
       "      <th>XHTML/HTMLファイル文字集合</th>\n",
       "      <th>XHTML/HTMLファイル修正回数</th>\n",
       "      <th>file</th>\n",
       "    </tr>\n",
       "  </thead>\n",
       "  <tbody>\n",
       "    <tr>\n",
       "      <th>0</th>\n",
       "      <td>000002</td>\n",
       "      <td>三十三の死</td>\n",
       "      <td>さんじゅうさんのし</td>\n",
       "      <td>さんしゆうさんのし</td>\n",
       "      <td>NaN</td>\n",
       "      <td>NaN</td>\n",
       "      <td>NaN</td>\n",
       "      <td>NaN</td>\n",
       "      <td>NDC 913</td>\n",
       "      <td>旧字旧仮名</td>\n",
       "      <td>...</td>\n",
       "      <td>2005-12-28</td>\n",
       "      <td>ShiftJIS</td>\n",
       "      <td>JIS X 0208</td>\n",
       "      <td>2</td>\n",
       "      <td>http://www.aozora.gr.jp/cards/000012/files/2_2...</td>\n",
       "      <td>2005-12-28</td>\n",
       "      <td>ShiftJIS</td>\n",
       "      <td>JIS X 0208</td>\n",
       "      <td>0</td>\n",
       "      <td>2_20959.html</td>\n",
       "    </tr>\n",
       "    <tr>\n",
       "      <th>1</th>\n",
       "      <td>000005</td>\n",
       "      <td>あいびき</td>\n",
       "      <td>あいびき</td>\n",
       "      <td>あいひき</td>\n",
       "      <td>NaN</td>\n",
       "      <td>NaN</td>\n",
       "      <td>NaN</td>\n",
       "      <td>NaN</td>\n",
       "      <td>NDC 983</td>\n",
       "      <td>新字新仮名</td>\n",
       "      <td>...</td>\n",
       "      <td>2006-01-06</td>\n",
       "      <td>ShiftJIS</td>\n",
       "      <td>JIS X 0208</td>\n",
       "      <td>3</td>\n",
       "      <td>http://www.aozora.gr.jp/cards/000005/files/5_2...</td>\n",
       "      <td>2006-01-06</td>\n",
       "      <td>ShiftJIS</td>\n",
       "      <td>JIS X 0208</td>\n",
       "      <td>0</td>\n",
       "      <td>5_21310.html</td>\n",
       "    </tr>\n",
       "  </tbody>\n",
       "</table>\n",
       "<p>2 rows × 56 columns</p>\n",
       "</div>"
      ],
      "text/plain": [
       "     作品id    作品名      作品名読み     ソート用読み   副題 副題読み   原題   初出     分類番号 文字遣い種別  \\\n",
       "0  000002  三十三の死  さんじゅうさんのし  さんしゆうさんのし  NaN  NaN  NaN  NaN  NDC 913  旧字旧仮名   \n",
       "1  000005   あいびき       あいびき       あいひき  NaN  NaN  NaN  NaN  NDC 983  新字新仮名   \n",
       "\n",
       "   ... テキストファイル最終更新日 テキストファイル符号化方式 テキストファイル文字集合 テキストファイル修正回数  \\\n",
       "0  ...    2005-12-28      ShiftJIS   JIS X 0208            2   \n",
       "1  ...    2006-01-06      ShiftJIS   JIS X 0208            3   \n",
       "\n",
       "                                   XHTML/HTMLファイルURL XHTML/HTMLファイル最終更新日  \\\n",
       "0  http://www.aozora.gr.jp/cards/000012/files/2_2...          2005-12-28   \n",
       "1  http://www.aozora.gr.jp/cards/000005/files/5_2...          2006-01-06   \n",
       "\n",
       "  XHTML/HTMLファイル符号化方式 XHTML/HTMLファイル文字集合 XHTML/HTMLファイル修正回数          file  \n",
       "0            ShiftJIS         JIS X 0208                  0  2_20959.html  \n",
       "1            ShiftJIS         JIS X 0208                  0  5_21310.html  \n",
       "\n",
       "[2 rows x 56 columns]"
      ]
     },
     "execution_count": 18,
     "metadata": {},
     "output_type": "execute_result"
    }
   ],
   "source": [
    "%%time\n",
    "import numpy\n",
    "import pandas\n",
    "\n",
    "# 青空文庫の一覧データのURLにアクセスし、データフレームとして保持\n",
    "aozora_list_url = \"http://aozora-word.hahasoha.net/aozora_word_list_utf8.csv.gz\"\n",
    "df = pandas.read_csv(aozora_list_url, header=0, encoding=\"UTF-8\")\n",
    "df.head(2)"
   ]
  },
  {
   "cell_type": "markdown",
   "id": "dated-renaissance",
   "metadata": {},
   "source": [
    "#### 3-2-2 一覧データの理解"
   ]
  },
  {
   "cell_type": "code",
   "execution_count": 3,
   "id": "copyrighted-digest",
   "metadata": {},
   "outputs": [
    {
     "data": {
      "text/plain": [
       "235"
      ]
     },
     "execution_count": 3,
     "metadata": {},
     "output_type": "execute_result"
    }
   ],
   "source": [
    "# 再現性を担保するため、乱数のシードを明示的に指定\n",
    "seed = 1\n",
    "rs = numpy.random.RandomState(seed)\n",
    "\n",
    "# ランダムサンプリング\n",
    "sample_idx = rs.randint(0, len(df))\n",
    "sample_idx"
   ]
  },
  {
   "cell_type": "code",
   "execution_count": 4,
   "id": "incredible-dress",
   "metadata": {},
   "outputs": [
    {
     "data": {
      "text/plain": [
       "作品id                                                              000246\n",
       "作品名                                                                  畜犬談\n",
       "作品名読み                                                             ちくけんだん\n",
       "ソート用読み                                                            ちくけんたん\n",
       "副題                                                           ―伊馬鵜平君に与える―\n",
       "副題読み                                                      ―いまうへいくんにあたえる―\n",
       "原題                                                                   NaN\n",
       "初出                                                    「文学者」1939（昭和14）年8月\n",
       "分類番号                                                             NDC 913\n",
       "文字遣い種別                                                             新字新仮名\n",
       "作品著作権フラグ                                                              なし\n",
       "公開日                                                           1999-04-12\n",
       "最終更新日                                                         2012-10-31\n",
       "図書カードurl               http://www.aozora.gr.jp/cards/000035/card246.html\n",
       "人物id                                                                  35\n",
       "姓                                                                     太宰\n",
       "名                                                                      治\n",
       "姓読み                                                                  だざい\n",
       "名読み                                                                  おさむ\n",
       "姓読みソート用                                                              たさい\n",
       "名読みソート用                                                              おさむ\n",
       "姓ローマ字                                                              Dazai\n",
       "名ローマ字                                                              Osamu\n",
       "役割フラグ                                                                 著者\n",
       "生年月日                                                          1909-06-19\n",
       "没年月日                                                          1948-06-13\n",
       "人物著作権フラグ                                                              なし\n",
       "底本名1                                                       日本文学全集70　太宰治集\n",
       "底本出版社名1                                                              集英社\n",
       "底本初版発行年1                                                   1972（昭和47）年3月\n",
       "入力に使用した版1                                                            NaN\n",
       "校正に使用した版1                                                            NaN\n",
       "底本の親本名1                                                              NaN\n",
       "底本の親本出版社名1                                                           NaN\n",
       "底本の親本初版発行年1                                                          NaN\n",
       "底本名2                                                                 NaN\n",
       "底本出版社名2                                                              NaN\n",
       "底本初版発行年2                                                             NaN\n",
       "入力に使用した版2                                                            NaN\n",
       "校正に使用した版2                                                            NaN\n",
       "底本の親本名2                                                              NaN\n",
       "底本の親本出版社名2                                                           NaN\n",
       "底本の親本初版発行年2                                                          NaN\n",
       "入力者                                                                   網迫\n",
       "校正者                                                                 田尻幹二\n",
       "テキストファイルurl            http://www.aozora.gr.jp/cards/000035/files/246...\n",
       "テキストファイル最終更新日                                                 2009-03-06\n",
       "テキストファイル符号化方式                                                   ShiftJIS\n",
       "テキストファイル文字集合                                                  JIS X 0208\n",
       "テキストファイル修正回数                                                           2\n",
       "XHTML/HTMLファイルURL      http://www.aozora.gr.jp/cards/000035/files/246...\n",
       "XHTML/HTMLファイル最終更新日                                           2009-03-06\n",
       "XHTML/HTMLファイル符号化方式                                             ShiftJIS\n",
       "XHTML/HTMLファイル文字集合                                            JIS X 0208\n",
       "XHTML/HTMLファイル修正回数                                                     0\n",
       "file                                                      246_34649.html\n",
       "Name: 235, dtype: object"
      ]
     },
     "execution_count": 4,
     "metadata": {},
     "output_type": "execute_result"
    }
   ],
   "source": [
    "df.iloc[sample_idx]"
   ]
  },
  {
   "cell_type": "code",
   "execution_count": 20,
   "id": "governmental-truth",
   "metadata": {},
   "outputs": [
    {
     "data": {
      "text/plain": [
       "テキストファイルurl            http://www.aozora.gr.jp/cards/000035/files/246...\n",
       "XHTML/HTMLファイルURL      http://www.aozora.gr.jp/cards/000035/files/246...\n",
       "XHTML/HTMLファイル符号化方式                                             ShiftJIS\n",
       "分類番号                                                             NDC 913\n",
       "Name: 235, dtype: object"
      ]
     },
     "execution_count": 20,
     "metadata": {},
     "output_type": "execute_result"
    }
   ],
   "source": [
    "# 情報量が多すぎるので表示される情報を絞る。\n",
    "# 分類番号は文章分類で使用する。\n",
    "df.iloc[sample_idx][[\"テキストファイルurl\", \"XHTML/HTMLファイルURL\", \"XHTML/HTMLファイル符号化方式\", \"分類番号\"]]"
   ]
  },
  {
   "cell_type": "markdown",
   "id": "czech-bottom",
   "metadata": {},
   "source": [
    "#### HTMLのテキスト取得手順\n",
    "- URLにリクエストして、レスポンスを取得。\n",
    "- HTTPコードが200以上の時は、例外処理。\n",
    "- HTMLオブジェクトを取得\n",
    "- HTMLオブジェクトからテキストコンテンツを取得し表示\n",
    "  -  最初の100文字\n",
    "  -  区切り線\n",
    "  -  最後の100文字"
   ]
  },
  {
   "cell_type": "code",
   "execution_count": 21,
   "id": "secret-thousand",
   "metadata": {},
   "outputs": [
    {
     "data": {
      "text/plain": [
       "('http://www.aozora.gr.jp/cards/000035/files/246_ruby_1636.zip',\n",
       " 'http://www.aozora.gr.jp/cards/000035/files/246_34649.html',\n",
       " 'ShiftJIS')"
      ]
     },
     "execution_count": 21,
     "metadata": {},
     "output_type": "execute_result"
    }
   ],
   "source": [
    "sample_zip_url = df.iloc[sample_idx][\"テキストファイルurl\"]    # zip\n",
    "sample_html_url = df.iloc[sample_idx][\"XHTML/HTMLファイルURL\"]    # html\n",
    "sample_encoding = df.iloc[sample_idx][\"XHTML/HTMLファイル符号化方式\"]    # encoding\n",
    "sample_zip_url, sample_html_url, sample_encoding"
   ]
  },
  {
   "cell_type": "code",
   "execution_count": 22,
   "id": "future-heart",
   "metadata": {},
   "outputs": [
    {
     "name": "stdout",
     "output_type": "stream",
     "text": [
      "\n",
      "\n",
      "\t\n",
      "\t\n",
      "\t\n",
      "\t太宰治 畜犬談 ―伊馬鵜平君に与える―\n",
      "\t\n",
      "\t\n",
      "\t\n",
      "\n",
      "\n",
      "畜犬談\n",
      "―伊馬鵜平君に与える―\n",
      "太宰治\n",
      "\n",
      "\n",
      "\n",
      "\n",
      "　私は、犬については自信がある。いつの日か、かならず喰（く）いつかれるであろうという自信である。私は、きっと噛（か）まれるにちがいない。自信が\n",
      "\n",
      "~ ~ ~ ~ ~ ~ ~ ~ ~ ~ ~ ~ ~ ~ ~ ~ ~ ~ ~ ~ ~ ~ ~ ~ ~ ~ ~ ~ ~ ~ ~ ~ ~ ~ ~ ~ ~ ~ ~ ~ ~ ~ ~ ~ ~ ~ ~ ~ ~ ~ \n",
      "~ ~ ~ ~ ~ ~ ~ ~ ~ ~ ~ ~ ~ ~ ~ ~ ~ ~ ~ ~ ~ ~ ~ ~ ~ ~ ~ ~ ~ ~ ~ ~ ~ ~ ~ ~ ~ ~ ~ ~ ~ ~ ~ ~ ~ ~ ~ ~ ~ ~  \n",
      "\n",
      "ーネットの図書館、青空文庫（http://www.aozora.gr.jp/）で作られました。入力、校正、制作にあたったのは、ボランティアの皆さんです。\n",
      "\n",
      "\n",
      "\n",
      "\n",
      "\n",
      "\n",
      "●表記について\n",
      "\n",
      "\tこのファイルは W3C 勧告 XHTML1.1 にそった形式で作成されています。\n",
      "\n",
      "\n",
      "\n",
      "\n"
     ]
    }
   ],
   "source": [
    "import lxml.html\n",
    "import requests\n",
    "\n",
    "html = None\n",
    "\n",
    "# 指定されたURL にリクエストし、レスポンスを取得\n",
    "response = requests.get(sample_html_url)\n",
    "\n",
    "# HTTPコードが200以外の場合は、例外処理\n",
    "if response.status_code != 200:\n",
    "    raise Exception(f\"HTTP Error. status code: {response.status_code}\")\n",
    "\n",
    "# HTMLオブジェクトを取得\n",
    "html = lxml.html.fromstring(response.content)\n",
    "\n",
    "\n",
    "# HTMLオブジェクトから、テキストコンテンツを取得し表示\n",
    "# - 最初の150文字\n",
    "print(html.text_content()[:150])\n",
    "\n",
    "# - 区切り線を表示\n",
    "print(\"\\n\", \"~ \" * 50, sep=\"\")\n",
    "print(\"~ \" * 50, \"\\n\")\n",
    "\n",
    "# - 最後の150文字\n",
    "print(html.text_content()[-150:])"
   ]
  },
  {
   "cell_type": "markdown",
   "id": "dirty-detail",
   "metadata": {},
   "source": [
    "#### 3-2-4 テキストデータの取得(ZIP)"
   ]
  },
  {
   "cell_type": "code",
   "execution_count": 15,
   "id": "equal-chinese",
   "metadata": {},
   "outputs": [
    {
     "name": "stdout",
     "output_type": "stream",
     "text": [
      "畜犬談\n",
      "―伊馬鵜平君に与える―\n",
      "太宰治\n",
      "\n",
      "-------------------------------------------------------\n",
      "【テキスト中に現れる記号について】\n",
      "\n",
      "《》：ルビ\n",
      "（例）喰《く》いつかれる\n",
      "\n",
      "｜：ルビの付く文字列の始まりを特定する記号\n",
      "（例）十匹｜這《は》っている\n",
      "-------------------------------------------------------\n",
      "\n",
      "　私は、犬については自信がある。いつの日か、かならず喰《く》いつかれるであろうという自信である。私は、きっと噛《か》まれるにちがいない。自信があるのである。よくぞ、きょうまで喰いつ\n",
      "\n",
      "~ ~ ~ ~ ~ ~ ~ ~ ~ ~ ~ ~ ~ ~ ~ ~ ~ ~ ~ ~ ~ ~ ~ ~ ~ ~ ~ ~ ~ ~ ~ ~ ~ ~ ~ ~ ~ ~ ~ ~ ~ ~ ~ ~ ~ ~ ~ ~ ~ ~ \n",
      "~ ~ ~ ~ ~ ~ ~ ~ ~ ~ ~ ~ ~ ~ ~ ~ ~ ~ ~ ~ ~ ~ ~ ~ ~ ~ ~ ~ ~ ~ ~ ~ ~ ~ ~ ~ ~ ~ ~ ~ ~ ~ ~ ~ ~ ~ ~ ~ ~ ~  \n",
      "\n",
      "かい？」\n",
      "「ええ」家内は、浮かぬ顔をしていた。\n",
      "「ポチにやれ、二つあるなら、二つやれ。おまえも我慢しろ。皮膚病なんてのは、すぐなおるよ」\n",
      "「ええ」家内は、やはり浮かぬ顔をしていた。\n",
      "\n",
      "\n",
      "\n",
      "底本：「日本文学全集70　太宰治集」集英社\n",
      "　　　1972（昭和47）年3月初版\n",
      "初出：「文学者」\n",
      "　　　1939（昭和14）年8月\n",
      "入力：網迫\n",
      "校正：田尻幹二\n",
      "1999年4月12日公開\n",
      "2009年3月6日修正\n",
      "青空文庫作成ファイル：\n",
      "このファイルは、インターネットの図書館、青空文庫（http://www.aozora.gr.jp/）で作られました。入力、校正、制作にあたったのは、ボランティアの皆さんです。\n",
      "\n"
     ]
    }
   ],
   "source": [
    "import io\n",
    "import requests\n",
    "import zipfile\n",
    "\n",
    "# URLからダウンロード\n",
    "response = requests.get(sample_zip_url)\n",
    "\n",
    "# ダウンロードしたzipデータをファイルとして展開（解答）\n",
    "z = zipfile.ZipFile(io.BytesIO(response.content))\n",
    "z.extractall(\"./data\")\n",
    "\n",
    "# ローカルのテキストファイルパスを変数として保持\n",
    "txt_file = \"./data/\" + z.infolist()[0].filename\n",
    "\n",
    "# エンコーディングを指定して、テキストファイルを読み込み\n",
    "with open(txt_file, \"r\", encoding=sample_encoding) as f:\n",
    "    # ファイル全体を読み込み内容を保持\n",
    "    content = f.read()\n",
    "\n",
    "    # 最初の300文字を表示\n",
    "    print(content[:300])\n",
    "\n",
    "    # 区切り線を表示\n",
    "    print(\"\\n\", \"~ \" * 50, sep=\"\")\n",
    "    print(\"~ \" * 50, \"\\n\")\n",
    "\n",
    "    # 最後の100文字を表示\n",
    "    print(content[-300:])"
   ]
  },
  {
   "cell_type": "markdown",
   "id": "natural-infrastructure",
   "metadata": {
    "tags": []
   },
   "source": [
    "#### 3-2-5 エンコーディング\n",
    "- LINUX系OSのデフォルトはUTF-8\n",
    "- windowsはShirt-JIS、またはその拡張版のCPS932\n",
    "\n",
    "google colabはUTF-8をデフォルトとしている。  \n",
    "自然言語でもUTF-8が多い。\n"
   ]
  },
  {
   "cell_type": "code",
   "execution_count": 29,
   "id": "adjacent-reply",
   "metadata": {},
   "outputs": [
    {
     "name": "stdout",
     "output_type": "stream",
     "text": [
      "Traceback (most recent call last):\n",
      "  File \"<ipython-input-29-b1c27d6ca8fc>\", line 4, in <module>\n",
      "    lines = f.readlines()\n",
      "  File \"/usr/local/lib/python3.9/codecs.py\", line 322, in decode\n",
      "    (result, consumed) = self._buffer_decode(data, self.errors, final)\n",
      "UnicodeDecodeError: 'utf-8' codec can't decode byte 0x92 in position 0: invalid start byte\n",
      "\n"
     ]
    }
   ],
   "source": [
    "import traceback\n",
    "try:\n",
    "    with open(txt_file, \"r\") as f:\n",
    "        lines = f.readlines()\n",
    "except UnicodeDecodeError as e:\n",
    "    stack_trace = traceback.format_exc(chain=e)\n",
    "    print(stack_trace)"
   ]
  },
  {
   "cell_type": "code",
   "execution_count": 31,
   "id": "global-raise",
   "metadata": {},
   "outputs": [
    {
     "data": {
      "text/plain": [
       "'UTF-8'"
      ]
     },
     "execution_count": 31,
     "metadata": {},
     "output_type": "execute_result"
    }
   ],
   "source": [
    "import locale\n",
    "locale.getpreferredencoding(False)"
   ]
  },
  {
   "cell_type": "code",
   "execution_count": 25,
   "id": "experimental-convergence",
   "metadata": {},
   "outputs": [
    {
     "data": {
      "text/plain": [
       "'ShiftJIS'"
      ]
     },
     "execution_count": 25,
     "metadata": {},
     "output_type": "execute_result"
    }
   ],
   "source": [
    "# 一覧からの取得した文字コードを確認\n",
    "sample_encoding"
   ]
  },
  {
   "cell_type": "code",
   "execution_count": 26,
   "id": "younger-seeking",
   "metadata": {},
   "outputs": [
    {
     "name": "stdout",
     "output_type": "stream",
     "text": [
      "Traceback (most recent call last):\n",
      "  File \"<ipython-input-26-22eb386eb1ee>\", line 4, in <module>\n",
      "    lines = f.readlines()\n",
      "  File \"/usr/local/lib/python3.9/codecs.py\", line 322, in decode\n",
      "    (result, consumed) = self._buffer_decode(data, self.errors, final)\n",
      "UnicodeDecodeError: 'utf-8' codec can't decode byte 0x92 in position 0: invalid start byte\n",
      "\n"
     ]
    }
   ],
   "source": [
    "# UTF-8 を明示的に指定\n",
    "try:\n",
    "    with open(txt_file, \"r\", encoding=\"UTF-8\") as f:\n",
    "        lines = f.readlines()\n",
    "except UnicodeDecodeError as e:\n",
    "    stack_trace = traceback.format_exc(chain=e)\n",
    "    print(stack_trace)"
   ]
  },
  {
   "cell_type": "code",
   "execution_count": 27,
   "id": "fourth-picnic",
   "metadata": {},
   "outputs": [],
   "source": [
    "# Shift-JIS を明示的に指定\n",
    "with open(txt_file, \"r\", encoding=\"Shift-JIS\") as f:\n",
    "    lines = f.readlines()"
   ]
  },
  {
   "cell_type": "code",
   "execution_count": 28,
   "id": "organic-lender",
   "metadata": {},
   "outputs": [],
   "source": [
    "# CP9328 を明示的に指定\n",
    "with open(txt_file, \"r\", encoding=\"CP932\") as f:\n",
    "    lines = f.readlines()"
   ]
  },
  {
   "cell_type": "markdown",
   "id": "strange-storage",
   "metadata": {},
   "source": [
    "#### 3-2-6-1 TSV(タブ区切り)形式\n",
    "csvではカンマなどを含む区切り位置が多少面倒な事がある、TSVでは値に入る事がほとんど無い区切り文字を使用することで、  \n",
    "区切り位置が入っているか確認して加工する必要がなくなります。  \n",
    "\n",
    "Excelをコピーしてテキストファイルに入れるとTSV型式になるので比較的よく見る。"
   ]
  },
  {
   "cell_type": "code",
   "execution_count": 32,
   "id": "fallen-commonwealth",
   "metadata": {},
   "outputs": [
    {
     "name": "stdout",
     "output_type": "stream",
     "text": [
      "awesomebook  genbapro_chapter2.ipynb  genbapro_preprocessing\n",
      "data\t     genbapro_chapter3.ipynb  preprocessing.book.ipynb\n",
      "-----\n",
      "04-21-1991\t9:09\t58\t100\n",
      "04-21-1991\t9:09\t33\t009\n",
      "04-21-1991\t9:09\t34\t013\n",
      "04-21-1991\t17:08\t62\t119\n",
      "04-21-1991\t17:08\t33\t007\n",
      "-----\n",
      "Diabetes-Data  diabetes-data.tar.Z\tgenbapro_preprocessing\n",
      "awesomebook    genbapro_chapter2.ipynb\tpreprocessing.book.ipynb\n",
      "data\t       genbapro_chapter3.ipynb\n"
     ]
    }
   ],
   "source": [
    "!rm -rf diabetes-data* Diabetes-Data\n",
    "!ls\n",
    "!echo \"-----\"\n",
    "!curl -sSLO https://archive.ics.uci.edu/ml/machine-learning-databases/diabetes/diabetes-data.tar.Z\n",
    "!tar xzf diabetes-data.tar.Z\n",
    "!head -n 5 Diabetes-Data/data-01\n",
    "!echo \"-----\"\n",
    "!ls"
   ]
  },
  {
   "cell_type": "code",
   "execution_count": 33,
   "id": "psychological-tulsa",
   "metadata": {},
   "outputs": [
    {
     "data": {
      "text/html": [
       "<div>\n",
       "<style scoped>\n",
       "    .dataframe tbody tr th:only-of-type {\n",
       "        vertical-align: middle;\n",
       "    }\n",
       "\n",
       "    .dataframe tbody tr th {\n",
       "        vertical-align: top;\n",
       "    }\n",
       "\n",
       "    .dataframe thead th {\n",
       "        text-align: right;\n",
       "    }\n",
       "</style>\n",
       "<table border=\"1\" class=\"dataframe\">\n",
       "  <thead>\n",
       "    <tr style=\"text-align: right;\">\n",
       "      <th></th>\n",
       "      <th>date</th>\n",
       "      <th>time</th>\n",
       "      <th>code</th>\n",
       "      <th>value</th>\n",
       "    </tr>\n",
       "  </thead>\n",
       "  <tbody>\n",
       "    <tr>\n",
       "      <th>0</th>\n",
       "      <td>04-21-1991</td>\n",
       "      <td>9:09</td>\n",
       "      <td>58</td>\n",
       "      <td>100</td>\n",
       "    </tr>\n",
       "    <tr>\n",
       "      <th>1</th>\n",
       "      <td>04-21-1991</td>\n",
       "      <td>9:09</td>\n",
       "      <td>33</td>\n",
       "      <td>9</td>\n",
       "    </tr>\n",
       "    <tr>\n",
       "      <th>2</th>\n",
       "      <td>04-21-1991</td>\n",
       "      <td>9:09</td>\n",
       "      <td>34</td>\n",
       "      <td>13</td>\n",
       "    </tr>\n",
       "  </tbody>\n",
       "</table>\n",
       "</div>"
      ],
      "text/plain": [
       "         date  time  code  value\n",
       "0  04-21-1991  9:09    58    100\n",
       "1  04-21-1991  9:09    33      9\n",
       "2  04-21-1991  9:09    34     13"
      ]
     },
     "execution_count": 33,
     "metadata": {},
     "output_type": "execute_result"
    }
   ],
   "source": [
    "# ダウンロードしたデータを読み込む\n",
    "df = pandas.read_csv(\"Diabetes-Data/data-01\", sep=\"\\t\", header=None)\n",
    "\n",
    "# データの可読性を上げるため、カラムを設定\n",
    "df.columns = [\"date\", \"time\", \"code\", \"value\"]\n",
    "df.head(3)"
   ]
  },
  {
   "cell_type": "code",
   "execution_count": 34,
   "id": "south-topic",
   "metadata": {},
   "outputs": [],
   "source": [
    "# 使用したファイルを削除\n",
    "!rm -rf diabetes-data.*\n",
    "!rm -rf Diabetes-Data"
   ]
  },
  {
   "cell_type": "markdown",
   "id": "noted-attachment",
   "metadata": {},
   "source": [
    "#### 3-2-6-2 Excel 形式\n",
    "\n",
    "CSV型式やTSV型式に変換することで読み込めます。  \n",
    "pandasはそのままExcelから読み込めるようになっています。"
   ]
  },
  {
   "cell_type": "code",
   "execution_count": 40,
   "id": "classified-moldova",
   "metadata": {},
   "outputs": [
    {
     "name": "stdout",
     "output_type": "stream",
     "text": [
      "Collecting PyV8\n",
      "  Using cached PyV8-0.5.zip (22 kB)\n",
      "Building wheels for collected packages: PyV8\n",
      "  Building wheel for PyV8 (setup.py) ... \u001b[?25lerror\n",
      "\u001b[31m  ERROR: Command errored out with exit status 1:\n",
      "   command: /usr/local/bin/python -u -c 'import sys, setuptools, tokenize; sys.argv[0] = '\"'\"'/tmp/pip-install-jb0eowk0/pyv8_8c8c2cf0b7864209a81fdbe9939e96f4/setup.py'\"'\"'; __file__='\"'\"'/tmp/pip-install-jb0eowk0/pyv8_8c8c2cf0b7864209a81fdbe9939e96f4/setup.py'\"'\"';f=getattr(tokenize, '\"'\"'open'\"'\"', open)(__file__);code=f.read().replace('\"'\"'\\r\\n'\"'\"', '\"'\"'\\n'\"'\"');f.close();exec(compile(code, __file__, '\"'\"'exec'\"'\"'))' bdist_wheel -d /tmp/pip-wheel-8pk8wzfj\n",
      "       cwd: /tmp/pip-install-jb0eowk0/pyv8_8c8c2cf0b7864209a81fdbe9939e96f4/\n",
      "  Complete output (17 lines):\n",
      "  running bdist_wheel\n",
      "  running build\n",
      "  running build_py\n",
      "  creating build\n",
      "  creating build/lib.linux-aarch64-3.9\n",
      "  copying PyV8.py -> build/lib.linux-aarch64-3.9\n",
      "  running build_ext\n",
      "  building '_PyV8' extension\n",
      "  creating build/temp.linux-aarch64-3.9\n",
      "  creating build/temp.linux-aarch64-3.9/src\n",
      "  gcc -pthread -Wno-unused-result -Wsign-compare -DNDEBUG -g -fwrapv -O3 -Wall -fPIC -DBOOST_PYTHON_STATIC_LIB -Ilib/python/inc -Ilib/boost/inc -Ilib/v8/inc -I/usr/local/include/python3.9 -c src/Context.cpp -o build/temp.linux-aarch64-3.9/src/Context.o\n",
      "  In file included from src/Context.cpp:1:\n",
      "  src/Context.h:5:10: fatal error: boost/shared_ptr.hpp: No such file or directory\n",
      "   #include <boost/shared_ptr.hpp>\n",
      "            ^~~~~~~~~~~~~~~~~~~~~~\n",
      "  compilation terminated.\n",
      "  error: command '/usr/bin/gcc' failed with exit code 1\n",
      "  ----------------------------------------\u001b[0m\n",
      "\u001b[31m  ERROR: Failed building wheel for PyV8\u001b[0m\n",
      "\u001b[?25h  Running setup.py clean for PyV8\n",
      "Failed to build PyV8\n",
      "Installing collected packages: PyV8\n",
      "    Running setup.py install for PyV8 ... \u001b[?25lerror\n",
      "\u001b[31m    ERROR: Command errored out with exit status 1:\n",
      "     command: /usr/local/bin/python -u -c 'import sys, setuptools, tokenize; sys.argv[0] = '\"'\"'/tmp/pip-install-jb0eowk0/pyv8_8c8c2cf0b7864209a81fdbe9939e96f4/setup.py'\"'\"'; __file__='\"'\"'/tmp/pip-install-jb0eowk0/pyv8_8c8c2cf0b7864209a81fdbe9939e96f4/setup.py'\"'\"';f=getattr(tokenize, '\"'\"'open'\"'\"', open)(__file__);code=f.read().replace('\"'\"'\\r\\n'\"'\"', '\"'\"'\\n'\"'\"');f.close();exec(compile(code, __file__, '\"'\"'exec'\"'\"'))' install --record /tmp/pip-record-gh_oznf7/install-record.txt --single-version-externally-managed --compile --install-headers /usr/local/include/python3.9/PyV8\n",
      "         cwd: /tmp/pip-install-jb0eowk0/pyv8_8c8c2cf0b7864209a81fdbe9939e96f4/\n",
      "    Complete output (17 lines):\n",
      "    running install\n",
      "    running build\n",
      "    running build_py\n",
      "    creating build\n",
      "    creating build/lib.linux-aarch64-3.9\n",
      "    copying PyV8.py -> build/lib.linux-aarch64-3.9\n",
      "    running build_ext\n",
      "    building '_PyV8' extension\n",
      "    creating build/temp.linux-aarch64-3.9\n",
      "    creating build/temp.linux-aarch64-3.9/src\n",
      "    gcc -pthread -Wno-unused-result -Wsign-compare -DNDEBUG -g -fwrapv -O3 -Wall -fPIC -DBOOST_PYTHON_STATIC_LIB -Ilib/python/inc -Ilib/boost/inc -Ilib/v8/inc -I/usr/local/include/python3.9 -c src/Context.cpp -o build/temp.linux-aarch64-3.9/src/Context.o\n",
      "    In file included from src/Context.cpp:1:\n",
      "    src/Context.h:5:10: fatal error: boost/shared_ptr.hpp: No such file or directory\n",
      "     #include <boost/shared_ptr.hpp>\n",
      "              ^~~~~~~~~~~~~~~~~~~~~~\n",
      "    compilation terminated.\n",
      "    error: command '/usr/bin/gcc' failed with exit code 1\n",
      "    ----------------------------------------\u001b[0m\n",
      "\u001b[31mERROR: Command errored out with exit status 1: /usr/local/bin/python -u -c 'import sys, setuptools, tokenize; sys.argv[0] = '\"'\"'/tmp/pip-install-jb0eowk0/pyv8_8c8c2cf0b7864209a81fdbe9939e96f4/setup.py'\"'\"'; __file__='\"'\"'/tmp/pip-install-jb0eowk0/pyv8_8c8c2cf0b7864209a81fdbe9939e96f4/setup.py'\"'\"';f=getattr(tokenize, '\"'\"'open'\"'\"', open)(__file__);code=f.read().replace('\"'\"'\\r\\n'\"'\"', '\"'\"'\\n'\"'\"');f.close();exec(compile(code, __file__, '\"'\"'exec'\"'\"'))' install --record /tmp/pip-record-gh_oznf7/install-record.txt --single-version-externally-managed --compile --install-headers /usr/local/include/python3.9/PyV8 Check the logs for full command output.\u001b[0m\n",
      "\u001b[?25hNote: you may need to restart the kernel to use updated packages.\n"
     ]
    }
   ],
   "source": [
    "pip install xls"
   ]
  },
  {
   "cell_type": "code",
   "execution_count": 41,
   "id": "analyzed-child",
   "metadata": {},
   "outputs": [
    {
     "ename": "ImportError",
     "evalue": "Missing optional dependency 'xlrd'. Install xlrd >= 1.0.0 for Excel support Use pip or conda to install xlrd.",
     "output_type": "error",
     "traceback": [
      "\u001b[0;31m---------------------------------------------------------------------------\u001b[0m",
      "\u001b[0;31mImportError\u001b[0m                               Traceback (most recent call last)",
      "\u001b[0;32m<ipython-input-41-7d3040618b72>\u001b[0m in \u001b[0;36m<module>\u001b[0;34m\u001b[0m\n\u001b[1;32m      1\u001b[0m \u001b[0mxls_url\u001b[0m \u001b[0;34m=\u001b[0m \u001b[0;34m\"http://www.city.chofu.tokyo.jp/www/contents/1557709709559/simple/86.xls\"\u001b[0m\u001b[0;34m\u001b[0m\u001b[0;34m\u001b[0m\u001b[0m\n\u001b[0;32m----> 2\u001b[0;31m \u001b[0mpandas\u001b[0m\u001b[0;34m.\u001b[0m\u001b[0mread_excel\u001b[0m\u001b[0;34m(\u001b[0m\u001b[0mxls_url\u001b[0m\u001b[0;34m,\u001b[0m \u001b[0mheader\u001b[0m\u001b[0;34m=\u001b[0m\u001b[0;36m1\u001b[0m\u001b[0;34m)\u001b[0m\u001b[0;34m\u001b[0m\u001b[0;34m\u001b[0m\u001b[0m\n\u001b[0m",
      "\u001b[0;32m/usr/local/lib/python3.9/site-packages/pandas/util/_decorators.py\u001b[0m in \u001b[0;36mwrapper\u001b[0;34m(*args, **kwargs)\u001b[0m\n\u001b[1;32m    297\u001b[0m                 )\n\u001b[1;32m    298\u001b[0m                 \u001b[0mwarnings\u001b[0m\u001b[0;34m.\u001b[0m\u001b[0mwarn\u001b[0m\u001b[0;34m(\u001b[0m\u001b[0mmsg\u001b[0m\u001b[0;34m,\u001b[0m \u001b[0mFutureWarning\u001b[0m\u001b[0;34m,\u001b[0m \u001b[0mstacklevel\u001b[0m\u001b[0;34m=\u001b[0m\u001b[0mstacklevel\u001b[0m\u001b[0;34m)\u001b[0m\u001b[0;34m\u001b[0m\u001b[0;34m\u001b[0m\u001b[0m\n\u001b[0;32m--> 299\u001b[0;31m             \u001b[0;32mreturn\u001b[0m \u001b[0mfunc\u001b[0m\u001b[0;34m(\u001b[0m\u001b[0;34m*\u001b[0m\u001b[0margs\u001b[0m\u001b[0;34m,\u001b[0m \u001b[0;34m**\u001b[0m\u001b[0mkwargs\u001b[0m\u001b[0;34m)\u001b[0m\u001b[0;34m\u001b[0m\u001b[0;34m\u001b[0m\u001b[0m\n\u001b[0m\u001b[1;32m    300\u001b[0m \u001b[0;34m\u001b[0m\u001b[0m\n\u001b[1;32m    301\u001b[0m         \u001b[0;32mreturn\u001b[0m \u001b[0mwrapper\u001b[0m\u001b[0;34m\u001b[0m\u001b[0;34m\u001b[0m\u001b[0m\n",
      "\u001b[0;32m/usr/local/lib/python3.9/site-packages/pandas/io/excel/_base.py\u001b[0m in \u001b[0;36mread_excel\u001b[0;34m(io, sheet_name, header, names, index_col, usecols, squeeze, dtype, engine, converters, true_values, false_values, skiprows, nrows, na_values, keep_default_na, na_filter, verbose, parse_dates, date_parser, thousands, comment, skipfooter, convert_float, mangle_dupe_cols, storage_options)\u001b[0m\n\u001b[1;32m    334\u001b[0m     \u001b[0;32mif\u001b[0m \u001b[0;32mnot\u001b[0m \u001b[0misinstance\u001b[0m\u001b[0;34m(\u001b[0m\u001b[0mio\u001b[0m\u001b[0;34m,\u001b[0m \u001b[0mExcelFile\u001b[0m\u001b[0;34m)\u001b[0m\u001b[0;34m:\u001b[0m\u001b[0;34m\u001b[0m\u001b[0;34m\u001b[0m\u001b[0m\n\u001b[1;32m    335\u001b[0m         \u001b[0mshould_close\u001b[0m \u001b[0;34m=\u001b[0m \u001b[0;32mTrue\u001b[0m\u001b[0;34m\u001b[0m\u001b[0;34m\u001b[0m\u001b[0m\n\u001b[0;32m--> 336\u001b[0;31m         \u001b[0mio\u001b[0m \u001b[0;34m=\u001b[0m \u001b[0mExcelFile\u001b[0m\u001b[0;34m(\u001b[0m\u001b[0mio\u001b[0m\u001b[0;34m,\u001b[0m \u001b[0mstorage_options\u001b[0m\u001b[0;34m=\u001b[0m\u001b[0mstorage_options\u001b[0m\u001b[0;34m,\u001b[0m \u001b[0mengine\u001b[0m\u001b[0;34m=\u001b[0m\u001b[0mengine\u001b[0m\u001b[0;34m)\u001b[0m\u001b[0;34m\u001b[0m\u001b[0;34m\u001b[0m\u001b[0m\n\u001b[0m\u001b[1;32m    337\u001b[0m     \u001b[0;32melif\u001b[0m \u001b[0mengine\u001b[0m \u001b[0;32mand\u001b[0m \u001b[0mengine\u001b[0m \u001b[0;34m!=\u001b[0m \u001b[0mio\u001b[0m\u001b[0;34m.\u001b[0m\u001b[0mengine\u001b[0m\u001b[0;34m:\u001b[0m\u001b[0;34m\u001b[0m\u001b[0;34m\u001b[0m\u001b[0m\n\u001b[1;32m    338\u001b[0m         raise ValueError(\n",
      "\u001b[0;32m/usr/local/lib/python3.9/site-packages/pandas/io/excel/_base.py\u001b[0m in \u001b[0;36m__init__\u001b[0;34m(self, path_or_buffer, engine, storage_options)\u001b[0m\n\u001b[1;32m   1129\u001b[0m         \u001b[0mself\u001b[0m\u001b[0;34m.\u001b[0m\u001b[0mstorage_options\u001b[0m \u001b[0;34m=\u001b[0m \u001b[0mstorage_options\u001b[0m\u001b[0;34m\u001b[0m\u001b[0;34m\u001b[0m\u001b[0m\n\u001b[1;32m   1130\u001b[0m \u001b[0;34m\u001b[0m\u001b[0m\n\u001b[0;32m-> 1131\u001b[0;31m         \u001b[0mself\u001b[0m\u001b[0;34m.\u001b[0m\u001b[0m_reader\u001b[0m \u001b[0;34m=\u001b[0m \u001b[0mself\u001b[0m\u001b[0;34m.\u001b[0m\u001b[0m_engines\u001b[0m\u001b[0;34m[\u001b[0m\u001b[0mengine\u001b[0m\u001b[0;34m]\u001b[0m\u001b[0;34m(\u001b[0m\u001b[0mself\u001b[0m\u001b[0;34m.\u001b[0m\u001b[0m_io\u001b[0m\u001b[0;34m,\u001b[0m \u001b[0mstorage_options\u001b[0m\u001b[0;34m=\u001b[0m\u001b[0mstorage_options\u001b[0m\u001b[0;34m)\u001b[0m\u001b[0;34m\u001b[0m\u001b[0;34m\u001b[0m\u001b[0m\n\u001b[0m\u001b[1;32m   1132\u001b[0m \u001b[0;34m\u001b[0m\u001b[0m\n\u001b[1;32m   1133\u001b[0m     \u001b[0;32mdef\u001b[0m \u001b[0m__fspath__\u001b[0m\u001b[0;34m(\u001b[0m\u001b[0mself\u001b[0m\u001b[0;34m)\u001b[0m\u001b[0;34m:\u001b[0m\u001b[0;34m\u001b[0m\u001b[0;34m\u001b[0m\u001b[0m\n",
      "\u001b[0;32m/usr/local/lib/python3.9/site-packages/pandas/io/excel/_xlrd.py\u001b[0m in \u001b[0;36m__init__\u001b[0;34m(self, filepath_or_buffer, storage_options)\u001b[0m\n\u001b[1;32m     22\u001b[0m         \"\"\"\n\u001b[1;32m     23\u001b[0m         \u001b[0merr_msg\u001b[0m \u001b[0;34m=\u001b[0m \u001b[0;34m\"Install xlrd >= 1.0.0 for Excel support\"\u001b[0m\u001b[0;34m\u001b[0m\u001b[0;34m\u001b[0m\u001b[0m\n\u001b[0;32m---> 24\u001b[0;31m         \u001b[0mimport_optional_dependency\u001b[0m\u001b[0;34m(\u001b[0m\u001b[0;34m\"xlrd\"\u001b[0m\u001b[0;34m,\u001b[0m \u001b[0mextra\u001b[0m\u001b[0;34m=\u001b[0m\u001b[0merr_msg\u001b[0m\u001b[0;34m)\u001b[0m\u001b[0;34m\u001b[0m\u001b[0;34m\u001b[0m\u001b[0m\n\u001b[0m\u001b[1;32m     25\u001b[0m         \u001b[0msuper\u001b[0m\u001b[0;34m(\u001b[0m\u001b[0;34m)\u001b[0m\u001b[0;34m.\u001b[0m\u001b[0m__init__\u001b[0m\u001b[0;34m(\u001b[0m\u001b[0mfilepath_or_buffer\u001b[0m\u001b[0;34m,\u001b[0m \u001b[0mstorage_options\u001b[0m\u001b[0;34m=\u001b[0m\u001b[0mstorage_options\u001b[0m\u001b[0;34m)\u001b[0m\u001b[0;34m\u001b[0m\u001b[0;34m\u001b[0m\u001b[0m\n\u001b[1;32m     26\u001b[0m \u001b[0;34m\u001b[0m\u001b[0m\n",
      "\u001b[0;32m/usr/local/lib/python3.9/site-packages/pandas/compat/_optional.py\u001b[0m in \u001b[0;36mimport_optional_dependency\u001b[0;34m(name, extra, raise_on_missing, on_version)\u001b[0m\n\u001b[1;32m    107\u001b[0m     \u001b[0;32mexcept\u001b[0m \u001b[0mImportError\u001b[0m\u001b[0;34m:\u001b[0m\u001b[0;34m\u001b[0m\u001b[0;34m\u001b[0m\u001b[0m\n\u001b[1;32m    108\u001b[0m         \u001b[0;32mif\u001b[0m \u001b[0mraise_on_missing\u001b[0m\u001b[0;34m:\u001b[0m\u001b[0;34m\u001b[0m\u001b[0;34m\u001b[0m\u001b[0m\n\u001b[0;32m--> 109\u001b[0;31m             \u001b[0;32mraise\u001b[0m \u001b[0mImportError\u001b[0m\u001b[0;34m(\u001b[0m\u001b[0mmsg\u001b[0m\u001b[0;34m)\u001b[0m \u001b[0;32mfrom\u001b[0m \u001b[0;32mNone\u001b[0m\u001b[0;34m\u001b[0m\u001b[0;34m\u001b[0m\u001b[0m\n\u001b[0m\u001b[1;32m    110\u001b[0m         \u001b[0;32melse\u001b[0m\u001b[0;34m:\u001b[0m\u001b[0;34m\u001b[0m\u001b[0;34m\u001b[0m\u001b[0m\n\u001b[1;32m    111\u001b[0m             \u001b[0;32mreturn\u001b[0m \u001b[0;32mNone\u001b[0m\u001b[0;34m\u001b[0m\u001b[0;34m\u001b[0m\u001b[0m\n",
      "\u001b[0;31mImportError\u001b[0m: Missing optional dependency 'xlrd'. Install xlrd >= 1.0.0 for Excel support Use pip or conda to install xlrd."
     ]
    }
   ],
   "source": [
    "xls_url = \"http://www.city.chofu.tokyo.jp/www/contents/1557709709559/simple/86.xls\"\n",
    "pandas.read_excel(xls_url, header=1)"
   ]
  },
  {
   "cell_type": "markdown",
   "id": "hired-gasoline",
   "metadata": {},
   "source": [
    "#### 3-2-63 JSON形式\n",
    "Webアプリケーションの業務利用など多く使われており、近年増えている。"
   ]
  },
  {
   "cell_type": "code",
   "execution_count": 51,
   "id": "solved-bride",
   "metadata": {},
   "outputs": [
    {
     "name": "stdout",
     "output_type": "stream",
     "text": [
      "Hit:1 http://deb.debian.org/debian buster InRelease\n",
      "Hit:2 http://security.debian.org/debian-security buster/updates InRelease\n",
      "Hit:3 http://deb.debian.org/debian buster-updates InRelease\n",
      "Reading package lists...\n",
      "Building dependency tree...\n",
      "Reading state information...\n",
      "30 packages can be upgraded. Run 'apt list --upgradable' to see them.\n",
      "Reading package lists...\n",
      "Building dependency tree...\n",
      "Reading state information...\n",
      "autoconf is already the newest version (2.69-11).\n",
      "automake is already the newest version (1:1.16.1-4).\n",
      "build-essential is already the newest version (12.6).\n",
      "libtool is already the newest version (2.4.6-9).\n",
      "python-dev is already the newest version (2.7.16-1).\n",
      "0 upgraded, 0 newly installed, 0 to remove and 30 not upgraded.\n",
      "Reading package lists...\n",
      "Building dependency tree...\n",
      "Reading state information...\n",
      "The following additional packages will be installed:\n",
      "  libjq1 libonig5\n",
      "The following NEW packages will be installed:\n",
      "  jq libjq1 libonig5\n",
      "0 upgraded, 3 newly installed, 0 to remove and 30 not upgraded.\n",
      "Need to get 325 kB of archives.\n",
      "After this operation, 1019 kB of additional disk space will be used.\n",
      "Do you want to continue? [Y/n] Abort.\n"
     ]
    },
    {
     "name": "stderr",
     "output_type": "stream",
     "text": [
      "\n",
      "WARNING: apt does not have a stable CLI interface. Use with caution in scripts.\n",
      "\n",
      "\n",
      "WARNING: apt does not have a stable CLI interface. Use with caution in scripts.\n",
      "\n",
      "\n",
      "WARNING: apt does not have a stable CLI interface. Use with caution in scripts.\n",
      "\n"
     ]
    },
    {
     "ename": "CalledProcessError",
     "evalue": "Command 'b'apt update -y\\napt install -y autoconf automake build-essential libtool python-dev\\napt install jq  # \\xe3\\x82\\xb3\\xe3\\x83\\x9e\\xe3\\x83\\xb3\\xe3\\x83\\x89\\xe3\\x83\\xa9\\xe3\\x82\\xa4\\xe3\\x83\\xb3\\npip install jq==0.1.8  # python \\xe3\\x83\\xa2\\xe3\\x82\\xb8\\xe3\\x83\\xa5\\xe3\\x83\\xbc\\xe3\\x83\\xab\\n'' returned non-zero exit status 1.",
     "output_type": "error",
     "traceback": [
      "\u001b[0;31m---------------------------------------------------------------------------\u001b[0m",
      "\u001b[0;31mCalledProcessError\u001b[0m                        Traceback (most recent call last)",
      "\u001b[0;32m<ipython-input-51-13fadff89d65>\u001b[0m in \u001b[0;36m<module>\u001b[0;34m\u001b[0m\n\u001b[0;32m----> 1\u001b[0;31m \u001b[0mget_ipython\u001b[0m\u001b[0;34m(\u001b[0m\u001b[0;34m)\u001b[0m\u001b[0;34m.\u001b[0m\u001b[0mrun_cell_magic\u001b[0m\u001b[0;34m(\u001b[0m\u001b[0;34m'bash'\u001b[0m\u001b[0;34m,\u001b[0m \u001b[0;34m''\u001b[0m\u001b[0;34m,\u001b[0m \u001b[0;34m'apt update -y\\napt install -y autoconf automake build-essential libtool python-dev\\napt install jq  # コマンドライン\\npip install jq==0.1.8  # python モジュール\\n'\u001b[0m\u001b[0;34m)\u001b[0m\u001b[0;34m\u001b[0m\u001b[0;34m\u001b[0m\u001b[0m\n\u001b[0m",
      "\u001b[0;32m/usr/local/lib/python3.9/site-packages/IPython/core/interactiveshell.py\u001b[0m in \u001b[0;36mrun_cell_magic\u001b[0;34m(self, magic_name, line, cell)\u001b[0m\n\u001b[1;32m   2397\u001b[0m             \u001b[0;32mwith\u001b[0m \u001b[0mself\u001b[0m\u001b[0;34m.\u001b[0m\u001b[0mbuiltin_trap\u001b[0m\u001b[0;34m:\u001b[0m\u001b[0;34m\u001b[0m\u001b[0;34m\u001b[0m\u001b[0m\n\u001b[1;32m   2398\u001b[0m                 \u001b[0margs\u001b[0m \u001b[0;34m=\u001b[0m \u001b[0;34m(\u001b[0m\u001b[0mmagic_arg_s\u001b[0m\u001b[0;34m,\u001b[0m \u001b[0mcell\u001b[0m\u001b[0;34m)\u001b[0m\u001b[0;34m\u001b[0m\u001b[0;34m\u001b[0m\u001b[0m\n\u001b[0;32m-> 2399\u001b[0;31m                 \u001b[0mresult\u001b[0m \u001b[0;34m=\u001b[0m \u001b[0mfn\u001b[0m\u001b[0;34m(\u001b[0m\u001b[0;34m*\u001b[0m\u001b[0margs\u001b[0m\u001b[0;34m,\u001b[0m \u001b[0;34m**\u001b[0m\u001b[0mkwargs\u001b[0m\u001b[0;34m)\u001b[0m\u001b[0;34m\u001b[0m\u001b[0;34m\u001b[0m\u001b[0m\n\u001b[0m\u001b[1;32m   2400\u001b[0m             \u001b[0;32mreturn\u001b[0m \u001b[0mresult\u001b[0m\u001b[0;34m\u001b[0m\u001b[0;34m\u001b[0m\u001b[0m\n\u001b[1;32m   2401\u001b[0m \u001b[0;34m\u001b[0m\u001b[0m\n",
      "\u001b[0;32m/usr/local/lib/python3.9/site-packages/IPython/core/magics/script.py\u001b[0m in \u001b[0;36mnamed_script_magic\u001b[0;34m(line, cell)\u001b[0m\n\u001b[1;32m    140\u001b[0m             \u001b[0;32melse\u001b[0m\u001b[0;34m:\u001b[0m\u001b[0;34m\u001b[0m\u001b[0;34m\u001b[0m\u001b[0m\n\u001b[1;32m    141\u001b[0m                 \u001b[0mline\u001b[0m \u001b[0;34m=\u001b[0m \u001b[0mscript\u001b[0m\u001b[0;34m\u001b[0m\u001b[0;34m\u001b[0m\u001b[0m\n\u001b[0;32m--> 142\u001b[0;31m             \u001b[0;32mreturn\u001b[0m \u001b[0mself\u001b[0m\u001b[0;34m.\u001b[0m\u001b[0mshebang\u001b[0m\u001b[0;34m(\u001b[0m\u001b[0mline\u001b[0m\u001b[0;34m,\u001b[0m \u001b[0mcell\u001b[0m\u001b[0;34m)\u001b[0m\u001b[0;34m\u001b[0m\u001b[0;34m\u001b[0m\u001b[0m\n\u001b[0m\u001b[1;32m    143\u001b[0m \u001b[0;34m\u001b[0m\u001b[0m\n\u001b[1;32m    144\u001b[0m         \u001b[0;31m# write a basic docstring:\u001b[0m\u001b[0;34m\u001b[0m\u001b[0;34m\u001b[0m\u001b[0;34m\u001b[0m\u001b[0m\n",
      "\u001b[0;32m<decorator-gen-103>\u001b[0m in \u001b[0;36mshebang\u001b[0;34m(self, line, cell)\u001b[0m\n",
      "\u001b[0;32m/usr/local/lib/python3.9/site-packages/IPython/core/magic.py\u001b[0m in \u001b[0;36m<lambda>\u001b[0;34m(f, *a, **k)\u001b[0m\n\u001b[1;32m    185\u001b[0m     \u001b[0;31m# but it's overkill for just that one bit of state.\u001b[0m\u001b[0;34m\u001b[0m\u001b[0;34m\u001b[0m\u001b[0;34m\u001b[0m\u001b[0m\n\u001b[1;32m    186\u001b[0m     \u001b[0;32mdef\u001b[0m \u001b[0mmagic_deco\u001b[0m\u001b[0;34m(\u001b[0m\u001b[0marg\u001b[0m\u001b[0;34m)\u001b[0m\u001b[0;34m:\u001b[0m\u001b[0;34m\u001b[0m\u001b[0;34m\u001b[0m\u001b[0m\n\u001b[0;32m--> 187\u001b[0;31m         \u001b[0mcall\u001b[0m \u001b[0;34m=\u001b[0m \u001b[0;32mlambda\u001b[0m \u001b[0mf\u001b[0m\u001b[0;34m,\u001b[0m \u001b[0;34m*\u001b[0m\u001b[0ma\u001b[0m\u001b[0;34m,\u001b[0m \u001b[0;34m**\u001b[0m\u001b[0mk\u001b[0m\u001b[0;34m:\u001b[0m \u001b[0mf\u001b[0m\u001b[0;34m(\u001b[0m\u001b[0;34m*\u001b[0m\u001b[0ma\u001b[0m\u001b[0;34m,\u001b[0m \u001b[0;34m**\u001b[0m\u001b[0mk\u001b[0m\u001b[0;34m)\u001b[0m\u001b[0;34m\u001b[0m\u001b[0;34m\u001b[0m\u001b[0m\n\u001b[0m\u001b[1;32m    188\u001b[0m \u001b[0;34m\u001b[0m\u001b[0m\n\u001b[1;32m    189\u001b[0m         \u001b[0;32mif\u001b[0m \u001b[0mcallable\u001b[0m\u001b[0;34m(\u001b[0m\u001b[0marg\u001b[0m\u001b[0;34m)\u001b[0m\u001b[0;34m:\u001b[0m\u001b[0;34m\u001b[0m\u001b[0;34m\u001b[0m\u001b[0m\n",
      "\u001b[0;32m/usr/local/lib/python3.9/site-packages/IPython/core/magics/script.py\u001b[0m in \u001b[0;36mshebang\u001b[0;34m(self, line, cell)\u001b[0m\n\u001b[1;32m    243\u001b[0m             \u001b[0msys\u001b[0m\u001b[0;34m.\u001b[0m\u001b[0mstderr\u001b[0m\u001b[0;34m.\u001b[0m\u001b[0mflush\u001b[0m\u001b[0;34m(\u001b[0m\u001b[0;34m)\u001b[0m\u001b[0;34m\u001b[0m\u001b[0;34m\u001b[0m\u001b[0m\n\u001b[1;32m    244\u001b[0m         \u001b[0;32mif\u001b[0m \u001b[0margs\u001b[0m\u001b[0;34m.\u001b[0m\u001b[0mraise_error\u001b[0m \u001b[0;32mand\u001b[0m \u001b[0mp\u001b[0m\u001b[0;34m.\u001b[0m\u001b[0mreturncode\u001b[0m\u001b[0;34m!=\u001b[0m\u001b[0;36m0\u001b[0m\u001b[0;34m:\u001b[0m\u001b[0;34m\u001b[0m\u001b[0;34m\u001b[0m\u001b[0m\n\u001b[0;32m--> 245\u001b[0;31m             \u001b[0;32mraise\u001b[0m \u001b[0mCalledProcessError\u001b[0m\u001b[0;34m(\u001b[0m\u001b[0mp\u001b[0m\u001b[0;34m.\u001b[0m\u001b[0mreturncode\u001b[0m\u001b[0;34m,\u001b[0m \u001b[0mcell\u001b[0m\u001b[0;34m,\u001b[0m \u001b[0moutput\u001b[0m\u001b[0;34m=\u001b[0m\u001b[0mout\u001b[0m\u001b[0;34m,\u001b[0m \u001b[0mstderr\u001b[0m\u001b[0;34m=\u001b[0m\u001b[0merr\u001b[0m\u001b[0;34m)\u001b[0m\u001b[0;34m\u001b[0m\u001b[0;34m\u001b[0m\u001b[0m\n\u001b[0m\u001b[1;32m    246\u001b[0m \u001b[0;34m\u001b[0m\u001b[0m\n\u001b[1;32m    247\u001b[0m     \u001b[0;32mdef\u001b[0m \u001b[0m_run_script\u001b[0m\u001b[0;34m(\u001b[0m\u001b[0mself\u001b[0m\u001b[0;34m,\u001b[0m \u001b[0mp\u001b[0m\u001b[0;34m,\u001b[0m \u001b[0mcell\u001b[0m\u001b[0;34m,\u001b[0m \u001b[0mto_close\u001b[0m\u001b[0;34m)\u001b[0m\u001b[0;34m:\u001b[0m\u001b[0;34m\u001b[0m\u001b[0;34m\u001b[0m\u001b[0m\n",
      "\u001b[0;31mCalledProcessError\u001b[0m: Command 'b'apt update -y\\napt install -y autoconf automake build-essential libtool python-dev\\napt install jq  # \\xe3\\x82\\xb3\\xe3\\x83\\x9e\\xe3\\x83\\xb3\\xe3\\x83\\x89\\xe3\\x83\\xa9\\xe3\\x82\\xa4\\xe3\\x83\\xb3\\npip install jq==0.1.8  # python \\xe3\\x83\\xa2\\xe3\\x82\\xb8\\xe3\\x83\\xa5\\xe3\\x83\\xbc\\xe3\\x83\\xab\\n'' returned non-zero exit status 1."
     ]
    }
   ],
   "source": [
    "%%bash\n",
    "apt update -y\n",
    "apt install -y autoconf automake build-essential libtool python-dev\n",
    "apt install jq  # コマンドライン\n",
    "pip install jq==0.1.8  # python モジュール"
   ]
  },
  {
   "cell_type": "code",
   "execution_count": null,
   "id": "behavioral-volume",
   "metadata": {},
   "outputs": [],
   "source": [
    "%%bash\n",
    "# Wikipedia API へアクセスして、取得した内容(JSON形式のデータ)を `wikipedia.json` に保存\n",
    "curl -sS -XPOST \\\n",
    "    \"https://ja.wikipedia.org/w/api.php?format=json&action=query&prop=extracts&exlimit=1\" \\\n",
    "    --data-urlencode \"titles=自然言語\" -o wikipedia.json\n",
    "\n",
    "# 保存した内容(JSON形式)を整形して表示\n",
    "cat wikipedia.json | jq ."
   ]
  },
  {
   "cell_type": "code",
   "execution_count": 43,
   "id": "northern-opportunity",
   "metadata": {},
   "outputs": [
    {
     "ename": "ModuleNotFoundError",
     "evalue": "No module named 'jq'",
     "output_type": "error",
     "traceback": [
      "\u001b[0;31m---------------------------------------------------------------------------\u001b[0m",
      "\u001b[0;31mModuleNotFoundError\u001b[0m                       Traceback (most recent call last)",
      "\u001b[0;32m<ipython-input-43-e4bf4c027f09>\u001b[0m in \u001b[0;36m<module>\u001b[0;34m\u001b[0m\n\u001b[1;32m      1\u001b[0m \u001b[0;32mimport\u001b[0m \u001b[0mjson\u001b[0m\u001b[0;34m\u001b[0m\u001b[0;34m\u001b[0m\u001b[0m\n\u001b[0;32m----> 2\u001b[0;31m \u001b[0;32mfrom\u001b[0m \u001b[0mjq\u001b[0m \u001b[0;32mimport\u001b[0m \u001b[0mjq\u001b[0m\u001b[0;34m\u001b[0m\u001b[0;34m\u001b[0m\u001b[0m\n\u001b[0m\u001b[1;32m      3\u001b[0m \u001b[0;34m\u001b[0m\u001b[0m\n\u001b[1;32m      4\u001b[0m \u001b[0;31m# JSON形式のファイルを読み込む\u001b[0m\u001b[0;34m\u001b[0m\u001b[0;34m\u001b[0m\u001b[0;34m\u001b[0m\u001b[0m\n\u001b[1;32m      5\u001b[0m \u001b[0;32mwith\u001b[0m \u001b[0mopen\u001b[0m\u001b[0;34m(\u001b[0m\u001b[0;34m\"wikipedia.json\"\u001b[0m\u001b[0;34m,\u001b[0m \u001b[0;34m\"r\"\u001b[0m\u001b[0;34m)\u001b[0m \u001b[0;32mas\u001b[0m \u001b[0mf\u001b[0m\u001b[0;34m:\u001b[0m\u001b[0;34m\u001b[0m\u001b[0;34m\u001b[0m\u001b[0m\n",
      "\u001b[0;31mModuleNotFoundError\u001b[0m: No module named 'jq'"
     ]
    }
   ],
   "source": [
    "import json\n",
    "from jq import jq\n",
    "\n",
    "# JSON形式のファイルを読み込む\n",
    "with open(\"wikipedia.json\", \"r\") as f:\n",
    "    jsn = json.load(f)\n",
    "\n",
    "# JSONオブジェクトを表示\n",
    "print(jsn)"
   ]
  },
  {
   "cell_type": "code",
   "execution_count": 44,
   "id": "included-spring",
   "metadata": {},
   "outputs": [
    {
     "ename": "NameError",
     "evalue": "name 'jq' is not defined",
     "output_type": "error",
     "traceback": [
      "\u001b[0;31m---------------------------------------------------------------------------\u001b[0m",
      "\u001b[0;31mNameError\u001b[0m                                 Traceback (most recent call last)",
      "\u001b[0;32m<ipython-input-44-3607f84f6b5b>\u001b[0m in \u001b[0;36m<module>\u001b[0;34m\u001b[0m\n\u001b[1;32m      1\u001b[0m \u001b[0;31m# Wikipedia ページの本文をテキストとして抽出\u001b[0m\u001b[0;34m\u001b[0m\u001b[0;34m\u001b[0m\u001b[0;34m\u001b[0m\u001b[0m\n\u001b[0;32m----> 2\u001b[0;31m \u001b[0mtext\u001b[0m \u001b[0;34m=\u001b[0m \u001b[0mjq\u001b[0m\u001b[0;34m(\u001b[0m\u001b[0;34m'.query.pages.\"68\".extract'\u001b[0m\u001b[0;34m)\u001b[0m\u001b[0;34m.\u001b[0m\u001b[0mtransform\u001b[0m\u001b[0;34m(\u001b[0m\u001b[0mjsn\u001b[0m\u001b[0;34m,\u001b[0m \u001b[0mtext_output\u001b[0m\u001b[0;34m=\u001b[0m\u001b[0;32mTrue\u001b[0m\u001b[0;34m)\u001b[0m\u001b[0;34m\u001b[0m\u001b[0;34m\u001b[0m\u001b[0m\n\u001b[0m\u001b[1;32m      3\u001b[0m \u001b[0;34m\u001b[0m\u001b[0m\n\u001b[1;32m      4\u001b[0m \u001b[0;31m# 抽出した本文を表示\u001b[0m\u001b[0;34m\u001b[0m\u001b[0;34m\u001b[0m\u001b[0;34m\u001b[0m\u001b[0m\n\u001b[1;32m      5\u001b[0m \u001b[0mprint\u001b[0m\u001b[0;34m(\u001b[0m\u001b[0mtext\u001b[0m\u001b[0;34m)\u001b[0m\u001b[0;34m\u001b[0m\u001b[0;34m\u001b[0m\u001b[0m\n",
      "\u001b[0;31mNameError\u001b[0m: name 'jq' is not defined"
     ]
    }
   ],
   "source": [
    "# Wikipedia ページの本文をテキストとして抽出\n",
    "text = jq('.query.pages.\"68\".extract').transform(jsn, text_output=True)\n",
    "\n",
    "# 抽出した本文を表示\n",
    "print(text)"
   ]
  },
  {
   "cell_type": "code",
   "execution_count": 45,
   "id": "subtle-flavor",
   "metadata": {},
   "outputs": [
    {
     "ename": "NameError",
     "evalue": "name 'text' is not defined",
     "output_type": "error",
     "traceback": [
      "\u001b[0;31m---------------------------------------------------------------------------\u001b[0m",
      "\u001b[0;31mNameError\u001b[0m                                 Traceback (most recent call last)",
      "\u001b[0;32m<ipython-input-45-6134f3aec92a>\u001b[0m in \u001b[0;36m<module>\u001b[0;34m\u001b[0m\n\u001b[1;32m      2\u001b[0m \u001b[0;34m\u001b[0m\u001b[0m\n\u001b[1;32m      3\u001b[0m \u001b[0;31m# HTMLタグを削除\u001b[0m\u001b[0;34m\u001b[0m\u001b[0;34m\u001b[0m\u001b[0;34m\u001b[0m\u001b[0m\n\u001b[0;32m----> 4\u001b[0;31m \u001b[0mformatted\u001b[0m \u001b[0;34m=\u001b[0m \u001b[0mre\u001b[0m\u001b[0;34m.\u001b[0m\u001b[0msub\u001b[0m\u001b[0;34m(\u001b[0m\u001b[0;34mr\"</?\\w+(\\s+[^>]+)?>\"\u001b[0m\u001b[0;34m,\u001b[0m \u001b[0;34m\"\"\u001b[0m\u001b[0;34m,\u001b[0m \u001b[0mtext\u001b[0m\u001b[0;34m)\u001b[0m\u001b[0;34m\u001b[0m\u001b[0;34m\u001b[0m\u001b[0m\n\u001b[0m\u001b[1;32m      5\u001b[0m \u001b[0;34m\u001b[0m\u001b[0m\n\u001b[1;32m      6\u001b[0m \u001b[0;31m# `\\n` という文字列を、改行コードに変更\u001b[0m\u001b[0;34m\u001b[0m\u001b[0;34m\u001b[0m\u001b[0;34m\u001b[0m\u001b[0m\n",
      "\u001b[0;31mNameError\u001b[0m: name 'text' is not defined"
     ]
    }
   ],
   "source": [
    "import re\n",
    "\n",
    "# HTMLタグを削除\n",
    "formatted = re.sub(r\"</?\\w+(\\s+[^>]+)?>\", \"\", text)\n",
    "\n",
    "# `\\n` という文字列を、改行コードに変更\n",
    "formatted = formatted.replace(\"\\\\n\", \"\\n\")\n",
    "\n",
    "# 整形後のテキストを表示\n",
    "print(formatted[:150], \"...\")"
   ]
  },
  {
   "cell_type": "code",
   "execution_count": 52,
   "id": "central-surname",
   "metadata": {},
   "outputs": [
    {
     "name": "stderr",
     "output_type": "stream",
     "text": [
      "bash: line 4: jq: command not found\n",
      "curl: (23) Failed writing body (0 != 5746)\n"
     ]
    }
   ],
   "source": [
    "%%bash\n",
    "curl -sS \\\n",
    "    \"https://ja.wikipedia.org/w/api.php?format=json&action=query&prop=extracts&exlimit=1&explaintext=true\" \\\n",
    "    --data-urlencode \"titles=自然言語\" \\\n",
    "| jq '.query.pages.\"68\".extract' \\\n",
    "| cut -c-100    # 先頭100バイトだけ表示\n"
   ]
  },
  {
   "cell_type": "code",
   "execution_count": 53,
   "id": "constant-relaxation",
   "metadata": {},
   "outputs": [
    {
     "name": "stderr",
     "output_type": "stream",
     "text": [
      "bash: line 6: jq: command not found\n",
      "curl: (23) Failed writing body (0 != 5746)\n"
     ]
    }
   ],
   "source": [
    "%%bash\n",
    "curl -sS -XPOST \\\n",
    "    \"https://ja.wikipedia.org/w/api.php?format=json&action=query&prop=extracts\" \\\n",
    "    --data \"exlimit=1\" \\\n",
    "    --data \"explaintext=true\" \\\n",
    "    --data-urlencode \"titles=自然言語\" \\\n",
    "| jq '.query.pages.\"68\".extract' \\\n",
    "| cut -c-100    # 先頭100バイトだけ表示"
   ]
  },
  {
   "cell_type": "markdown",
   "id": "blessed-render",
   "metadata": {},
   "source": [
    "# Chapter3-3 データクレンジング"
   ]
  },
  {
   "cell_type": "markdown",
   "id": "talented-positive",
   "metadata": {},
   "source": [
    "形態素解析するために不要なものを取り除く処理。  \n",
    "\n",
    "クレンジング対象  \n",
    "- ヘッダ、フッタ情報 (タイトルや作者などのメタ情報、文末の文章説明)\n",
    "- 文章の始まり、終わり、改行や会話、段落の先頭の全角スペース（\\u3000)\n",
    "- ふりがなやルビ\n",
    "\n",
    "処理後に綺麗な処理ができているか確認し、イメージ通りに出来るまで繰り返し分集合を作る。"
   ]
  },
  {
   "cell_type": "markdown",
   "id": "artificial-transfer",
   "metadata": {},
   "source": [
    "## 3-3-1 テキスト文書の不要文字の削除\n"
   ]
  },
  {
   "cell_type": "code",
   "execution_count": 55,
   "id": "virtual-snake",
   "metadata": {},
   "outputs": [],
   "source": [
    "with open(txt_file, \"r\", encoding=sample_encoding) as f:\n",
    "    # ファイル全体を読み込み、内容を保持\n",
    "    lines = f.readlines()"
   ]
  },
  {
   "cell_type": "code",
   "execution_count": 56,
   "id": "eight-destruction",
   "metadata": {},
   "outputs": [
    {
     "name": "stdout",
     "output_type": "stream",
     "text": [
      "畜犬談\n",
      " ―伊馬鵜平君に与える―\n",
      " 太宰治\n",
      " \n",
      " -------------------------------------------------------\n",
      " 【テキスト中に現れる記号について】\n",
      " \n",
      " 《》：ルビ\n",
      " （例）喰《く》いつかれる\n",
      " \n",
      " ｜：ルビの付く文字列の始まりを特定する記号\n",
      " （例）十匹｜這《は》っている\n",
      " -------------------------------------------------------\n",
      " \n",
      " 　私は、犬については自信がある。いつの日か、かならず喰《く》いつかれるであろうという自信である。私は、きっと噛《か》まれるにちがいない。自信があるのである。よくぞ、きょうまで喰いつかれもせず無事に過してきたものだと不思議な気さえしているのである。諸君、犬は猛獣である。馬を斃《たお》し、たまさかには獅子《しし》と戦ってさえこれを征服するとかいうではないか。さもありなんと私はひとり淋しく首肯《しゅこう》しているのだ。あの犬の、鋭い牙《きば》を見るがよい。ただものではない。いまは、あのように街路で無心のふうを装い、とるに足らぬもののごとくみずから卑下して、芥箱《ごみばこ》を覗《のぞ》きまわったりなどしてみせているが、もともと馬を斃すほどの猛獣である。いつなんどき、怒り狂い、その本性を暴露するか、わかったものではない。犬はかならず鎖に固くしばりつけておくべきである。少しの油断もあってはならぬ。世の多くの飼い主は、みずから恐ろしき猛獣を養い、これに日々わずかの残飯《ざんぱん》を与えているという理由だけにて、まったくこの猛獣に心をゆるし、エスやエスやなど、気楽に呼んで、さながら家族の一員のごとく身辺に近づかしめ、三歳のわが愛子をして、その猛獣の耳をぐいと引っぱらせて大笑いしている図にいたっては、戦慄《せんりつ》、眼を蓋《おお》わざるを得ないのである。不意に、わんといって喰いついたら、どうする気だろう。気をつけなければならぬ。飼い主でさえ、噛みつかれぬとは保証できがたい猛獣を、（飼い主だから、絶対に喰いつかれぬということは愚かな気のいい迷信にすぎない。あの恐ろしい牙のある以上、かならず噛む。けっして噛まないということは、科学的に証明できるはずはないのである）その猛獣を、放し飼いにして、往来をうろうろ徘徊《はいかい》させておくとは、どんなものであろうか。昨年の晩秋、私の友人が、ついにこれの被害を受けた。いたましい犠牲者である。友人の話によると、友人は何もせず横丁を懐手《ふところで》してぶらぶら歩いていると、犬が道路上にちゃんと坐っていた。友人は、やはり何もせず、その犬の傍を通った。犬はその時、いやな横目を使ったという。何事もなく通りすぎた、とたん、わんといって右の脚《あし》に喰いついたという。災難である。一瞬のことである。友人は、呆然自失《ぼうぜんじしつ》したという。ややあって、くやし涙が沸いて出た。さもありなん、と私は、やはり淋しく首肯している。そうなってしまったら、ほんとうに、どうしようも、ないではないか。友人は、痛む脚をひきずって病院へ行き手当を受けた。それから二十一日間、病院へ通ったのである。三週間である。脚の傷がなおっても、体内に恐水病といういまわしい病気の毒が、あるいは注入されてあるかもしれぬという懸念《けねん》から、その防毒の注射をしてもらわなければならぬのである。飼い主に談判するなど、その友人の弱気をもってしては、とてもできぬことである。じっと堪《こら》えて、おのれの不運に溜息《ためいき》ついているだけなのである。しかも、注射代などけっして安いものではなく、そのような余分の貯《たくわ》えは失礼ながら友人にあるはずもなく、いずれは苦しい算段をしたにちがいないので、とにかくこれは、ひどい災難である。大災難である。また、うっかり注射でも怠《おこた》ろうものなら、恐水病といって、発熱悩乱の苦しみあって、果ては貌《かお》が犬に似てきて、四つ這《ば》いになり、ただわんわんと吠ゆるばかりだという、そんな凄惨《せいさん》な病気になるかもしれないということなのである。注射を受けながらの、友人の憂慮、不安は、どんなだったろう。友人は苦労人で、ちゃんとできた人であるから、醜くとり乱すこともなく、三七、二十一日病院に通い、注射を受けて、いまは元気に立ち働いているが、もしこれが私だったら、その犬、生かしておかないだろう。私は、人の三倍も四倍も復讐心《ふくしゅうしん》の強い男なのであるから、また、そうなると人の五倍も六倍も残忍性を発揮してしまう男なのであるから、たちどころにその犬の頭蓋骨《ずがいこつ》を、めちゃめちゃに粉砕《ふんさい》し、眼玉をくり抜き、ぐしゃぐしゃに噛んで、べっと吐き捨て、それでも足りずに近所近辺の飼い犬ことごとく毒殺してしまうであろう。こちらが何もせぬのに、突然わんといって噛みつくとはなんという無礼、狂暴の仕草《しぐさ》であろう。いかに畜生といえども許しがたい。畜生ふびんのゆえをもって、人はこれを甘やかしているからいけないのだ。容赦《ようしゃ》なく酷刑《こっけい》に処すべきである。昨秋、友人の遭難を聞いて、私の畜犬に対する日ごろの憎悪は、その極点に達した。青い焔《ほのお》が燃え上るほどの、思いつめたる憎悪である。\n",
      "\n"
     ]
    }
   ],
   "source": [
    "print(*lines[:15])"
   ]
  },
  {
   "cell_type": "code",
   "execution_count": 57,
   "id": "constitutional-movement",
   "metadata": {},
   "outputs": [
    {
     "name": "stdout",
     "output_type": "stream",
     "text": [
      "「ポチにやれ、二つあるなら、二つやれ。おまえも我慢しろ。皮膚病なんてのは、すぐなおるよ」\n",
      " 「ええ」家内は、やはり浮かぬ顔をしていた。\n",
      " \n",
      " \n",
      " \n",
      " 底本：「日本文学全集70　太宰治集」集英社\n",
      " 　　　1972（昭和47）年3月初版\n",
      " 初出：「文学者」\n",
      " 　　　1939（昭和14）年8月\n",
      " 入力：網迫\n",
      " 校正：田尻幹二\n",
      " 1999年4月12日公開\n",
      " 2009年3月6日修正\n",
      " 青空文庫作成ファイル：\n",
      " このファイルは、インターネットの図書館、青空文庫（http://www.aozora.gr.jp/）で作られました。入力、校正、制作にあたったのは、ボランティアの皆さんです。\n",
      "\n"
     ]
    }
   ],
   "source": [
    "print(*lines[-15:])"
   ]
  },
  {
   "cell_type": "code",
   "execution_count": 60,
   "id": "computational-gabriel",
   "metadata": {},
   "outputs": [
    {
     "name": "stdout",
     "output_type": "stream",
     "text": [
      "13 70\n"
     ]
    }
   ],
   "source": [
    "# 文章の開始行、末尾行インデックス番号の取得\n",
    "import re\n",
    "idx_start, idx_end = -1, -1\n",
    "for idx, line in enumerate(lines):\n",
    "    # 本文の開始行のインデックス（番号）を特定する\n",
    "    if re.search(r\"^---\", line):\n",
    "        idx_start = idx + 1\n",
    "\n",
    "    # 本文の末尾行のインデックス（番号）を特定する\n",
    "    if re.search(r\"^底本：\", line):\n",
    "        idx_end = idx - 1\n",
    "\n",
    "print(idx_start, idx_end)"
   ]
  },
  {
   "cell_type": "code",
   "execution_count": 61,
   "id": "afraid-bouquet",
   "metadata": {},
   "outputs": [],
   "source": [
    "# 開始行と末尾行間のインデックス毎にfor文内の処理を行う。\n",
    "prepped_lines = []\n",
    "for line in lines[idx_start:idx_end]:\n",
    "    # 行の前後の空白コード(半角スペース、改行コードなど))を削除\n",
    "    line = line.strip()\n",
    "\n",
    "    # ルビを削除\n",
    "    line = re.sub(r\"｜\", \"\", line)\n",
    "    line = re.sub(r\"《.*?》\", \"\", line)\n",
    "\n",
    "    # 入力者の注釈を削除\n",
    "    line = re.sub(r\"※?［＃.*?］\", \"\", line)\n",
    "\n",
    "    # Unicode の全角スペースを削除\n",
    "    line = re.sub(r\"\\u3000+\", \" \", line)\n",
    "\n",
    "    # 変換後の行が空行の場合は、スキップ\n",
    "    if line == \"\":\n",
    "        continue\n",
    "    prepped_lines.append(line)\n"
   ]
  },
  {
   "cell_type": "markdown",
   "id": "documented-starter",
   "metadata": {},
   "source": [
    "まとめ\n",
    "- 削除の指定には正規表現を使用する。\n",
    "- 最短一致(.*?)にしないと、最初から最後の間まで全部削除される可能性があるため。\n",
    "- 全角スペースは半角スペースに変換し、何か文字列があれば処理済みの行の配列に保持している。\n",
    "\n",
    "慣れないうちは、変換結果を見ながらPDCA細かく回していく。"
   ]
  },
  {
   "cell_type": "code",
   "execution_count": 67,
   "id": "systematic-london",
   "metadata": {},
   "outputs": [
    {
     "name": "stdout",
     "output_type": "stream",
     "text": [
      "sample_line_idx: 47\n"
     ]
    },
    {
     "data": {
      "text/plain": [
       "['「ポチ、食え」私はポチを見たくなかった。ぼんやりそこに立ったまま、「ポチ、食え」足もとで、ぺちゃぺちゃ食べている音がする。一分たたぬうちに死ぬはずだ。',\n",
       " '私は猫背になって、のろのろ歩いた。霧が深い。ほんのちかくの山が、ぼんやり黒く見えるだけだ。南アルプス連峰も、富士山も、何も見えない。朝露で、下駄がびしょぬれである。私はいっそうひどい猫背になって、のろのろ帰途についた。橋を渡り、中学校のまえまで来て、振り向くとポチが、ちゃんといた。面目なげに、首を垂れ、私の視線をそっとそらした。',\n",
       " '私も、もう大人である。いたずらな感傷はなかった。すぐ事態を察知した。薬品が効かなかったのだ。うなずいて、もうすでに私は、白紙還元である。家へ帰って、',\n",
       " '「だめだよ。薬が効かないのだ。ゆるしてやろうよ。あいつには、罪がなかったんだぜ。芸術家は、もともと弱い者の味方だったはずなんだ」私は、途中で考えてきたことをそのまま言ってみた。「弱者の友なんだ。芸術家にとって、これが出発で、また最高の目的なんだ。こんな単純なこと、僕は忘れていた。僕だけじゃない。みんなが、忘れているんだ。僕は、ポチを東京へ連れてゆこうと思うよ。友がもしポチの恰好を笑ったら、ぶん殴ってやる。卵あるかい？」',\n",
       " '「ええ」家内は、浮かぬ顔をしていた。',\n",
       " '「ポチにやれ、二つあるなら、二つやれ。おまえも我慢しろ。皮膚病なんてのは、すぐなおるよ」',\n",
       " '「ええ」家内は、やはり浮かぬ顔をしていた。']"
      ]
     },
     "execution_count": 67,
     "metadata": {},
     "output_type": "execute_result"
    }
   ],
   "source": [
    "# 最初の10行を表示\n",
    "# prepped_lines[:10]\n",
    "# 最後の10行を表示\n",
    "# prepped_lines[-10:]\n",
    "\n",
    "# 再現性を担保するため、乱数のシードを明示的に指定\n",
    "numpy.random.seed(7)\n",
    "\n",
    "# ランダムに選んだ行から10行を表示\n",
    "sample_line_idx = numpy.random.randint(0, len(prepped_lines))\n",
    "print(\"sample_line_idx:\", sample_line_idx)\n",
    "prepped_lines[sample_line_idx:sample_line_idx+10]"
   ]
  },
  {
   "cell_type": "markdown",
   "id": "spare-invalid",
   "metadata": {},
   "source": [
    "## 3-3-2 HTML文書から本文のみ取得／抽出"
   ]
  },
  {
   "cell_type": "code",
   "execution_count": 68,
   "id": "rubber-requirement",
   "metadata": {},
   "outputs": [
    {
     "name": "stdout",
     "output_type": "stream",
     "text": [
      "\n",
      "\n",
      "\n",
      "\n",
      "　私は、犬については自信がある。いつの日か、かならず喰（く）いつかれるであろうという自信である。私は、きっと噛（か）まれるにちがいない。自信があるのである。よくぞ、きょうまで喰いつかれ\n",
      "\n",
      "~ ~ ~ ~ ~ ~ ~ ~ ~ ~ ~ ~ ~ ~ ~ ~ ~ ~ ~ ~ ~ ~ ~ ~ ~ ~ ~ ~ ~ ~ ~ ~ ~ ~ ~ ~ ~ ~ ~ ~ ~ ~ ~ ~ ~ ~ ~ ~ ~ ~ \n",
      "~ ~ ~ ~ ~ ~ ~ ~ ~ ~ ~ ~ ~ ~ ~ ~ ~ ~ ~ ~ ~ ~ ~ ~ ~ ~ ~ ~ ~ ~ ~ ~ ~ ~ ~ ~ ~ ~ ~ ~ ~ ~ ~ ~ ~ ~ ~ ~ ~ ~  \n",
      "\n",
      "い？」\n",
      "「ええ」家内は、浮かぬ顔をしていた。\n",
      "「ポチにやれ、二つあるなら、二つやれ。おまえも我慢しろ。皮膚病なんてのは、すぐなおるよ」\n",
      "「ええ」家内は、やはり浮かぬ顔をしていた。\n",
      "\n",
      "\n",
      "\n",
      "\n"
     ]
    }
   ],
   "source": [
    "# XPathを利用して、本文のみを抽出\n",
    "main_text = html.xpath(\"//div[@class='main_text']\")\n",
    "content = main_text[0].text_content()\n",
    "\n",
    "# 最初の100文字を表示\n",
    "print(content[:100])\n",
    "\n",
    "# 区切り線を表示\n",
    "print(\"\\n\", \"~ \" * 50, sep=\"\")\n",
    "print(\"~ \" * 50, \"\\n\")\n",
    "\n",
    "# 最後の100文字を表示\n",
    "print(content[-100:])"
   ]
  },
  {
   "cell_type": "markdown",
   "id": "terminal-biography",
   "metadata": {},
   "source": [
    "### 3-3-2-1 行分割"
   ]
  },
  {
   "cell_type": "markdown",
   "id": "mature-native",
   "metadata": {},
   "source": [
    "文字列型を行単位に分割したリスト型へ変換する処理。  \n",
    "一般的に行末端記号は、CRLF(\\r\\n)である文章と、LF(\\n)である文章がある。"
   ]
  },
  {
   "cell_type": "code",
   "execution_count": 69,
   "id": "political-conducting",
   "metadata": {},
   "outputs": [],
   "source": [
    "# 行末記号をLF(\\n)に統一 ... CRLF(\\r\\n) を LF(\\n)に変換\n",
    "content = content.replace(\"\\r\\n\", \"\\n\")\n",
    "\n",
    "# 行単位に分割\n",
    "lines = content.split(\"\\n\")"
   ]
  },
  {
   "cell_type": "code",
   "execution_count": 72,
   "id": "offensive-proceeding",
   "metadata": {},
   "outputs": [
    {
     "data": {
      "text/plain": [
       "['\\u3000私は猫背（ねこぜ）になって、のろのろ歩いた。霧が深い。ほんのちかくの山が、ぼんやり黒く見えるだけだ。南アルプス連峰も、富士山も、何も見えない。朝露で、下駄がびしょぬれである。私はいっそうひどい猫背になって、のろのろ帰途についた。橋を渡り、中学校のまえまで来て、振り向くとポチが、ちゃんといた。面目なげに、首を垂れ、私の視線をそっとそらした。',\n",
       " '\\u3000私も、もう大人である。いたずらな感傷はなかった。すぐ事態を察知した。薬品が効かなかったのだ。うなずいて、もうすでに私は、白紙還元である。家へ帰って、',\n",
       " '「だめだよ。薬が効かないのだ。ゆるしてやろうよ。あいつには、罪がなかったんだぜ。芸術家は、もともと弱い者の味方だったはずなんだ」私は、途中で考えてきたことをそのまま言ってみた。「弱者の友なんだ。芸術家にとって、これが出発で、また最高の目的なんだ。こんな単純なこと、僕は忘れていた。僕だけじゃない。みんなが、忘れているんだ。僕は、ポチを東京へ連れてゆこうと思うよ。友がもしポチの恰好（かっこう）を笑ったら、ぶん殴（なぐ）ってやる。卵あるかい？」',\n",
       " '「ええ」家内は、浮かぬ顔をしていた。',\n",
       " '「ポチにやれ、二つあるなら、二つやれ。おまえも我慢しろ。皮膚病なんてのは、すぐなおるよ」',\n",
       " '「ええ」家内は、やはり浮かぬ顔をしていた。',\n",
       " '',\n",
       " '',\n",
       " '',\n",
       " '']"
      ]
     },
     "execution_count": 72,
     "metadata": {},
     "output_type": "execute_result"
    }
   ],
   "source": [
    "# 最初の10行を確認\n",
    "# lines[:10]\n",
    "# 最後の10行を確認\n",
    "lines[-10:]"
   ]
  },
  {
   "cell_type": "markdown",
   "id": "fantastic-catholic",
   "metadata": {},
   "source": [
    "### 3-3-2-2 不要文字列の削除・変換"
   ]
  },
  {
   "cell_type": "code",
   "execution_count": 73,
   "id": "measured-donor",
   "metadata": {},
   "outputs": [],
   "source": [
    "import re\n",
    "\n",
    "prepped_lines = []\n",
    "for line in lines:\n",
    "    # 行の先頭、末尾の空白・改行コードを削除\n",
    "    line = line.strip()\n",
    "\n",
    "    # Unicode の全角スペースを削除\n",
    "    line = re.sub(r\"\\u3000\", \" \", line)\n",
    "\n",
    "    # ふりがなを削除\n",
    "    line = re.sub(r\"（.*?）\", \"\", line)\n",
    "\n",
    "    # 上記変換により、空行になったらスキップ\n",
    "    if line == \"\":\n",
    "        continue\n",
    "\n",
    "    # 変換後の line を処理済行リストとして保持\n",
    "    prepped_lines.append(line)"
   ]
  },
  {
   "cell_type": "code",
   "execution_count": 75,
   "id": "infectious-journey",
   "metadata": {},
   "outputs": [
    {
     "data": {
      "text/plain": [
       "['「よし！ 強いぞ」ほめてやって私は歩きだし、橋をかたかた渡って、ここはもう練兵場である。',\n",
       " 'むかしポチは、この練兵場に捨てられた。だからいま、また、この練兵場へ帰ってきたのだ。おまえのふるさとで死ぬがよい。',\n",
       " '私は立ちどまり、ぼとりと牛肉の大片を私の足もとへ落として、',\n",
       " '「ポチ、食え」私はポチを見たくなかった。ぼんやりそこに立ったまま、「ポチ、食え」足もとで、ぺちゃぺちゃ食べている音がする。一分たたぬうちに死ぬはずだ。',\n",
       " '私は猫背になって、のろのろ歩いた。霧が深い。ほんのちかくの山が、ぼんやり黒く見えるだけだ。南アルプス連峰も、富士山も、何も見えない。朝露で、下駄がびしょぬれである。私はいっそうひどい猫背になって、のろのろ帰途についた。橋を渡り、中学校のまえまで来て、振り向くとポチが、ちゃんといた。面目なげに、首を垂れ、私の視線をそっとそらした。',\n",
       " '私も、もう大人である。いたずらな感傷はなかった。すぐ事態を察知した。薬品が効かなかったのだ。うなずいて、もうすでに私は、白紙還元である。家へ帰って、',\n",
       " '「だめだよ。薬が効かないのだ。ゆるしてやろうよ。あいつには、罪がなかったんだぜ。芸術家は、もともと弱い者の味方だったはずなんだ」私は、途中で考えてきたことをそのまま言ってみた。「弱者の友なんだ。芸術家にとって、これが出発で、また最高の目的なんだ。こんな単純なこと、僕は忘れていた。僕だけじゃない。みんなが、忘れているんだ。僕は、ポチを東京へ連れてゆこうと思うよ。友がもしポチの恰好を笑ったら、ぶん殴ってやる。卵あるかい？」',\n",
       " '「ええ」家内は、浮かぬ顔をしていた。',\n",
       " '「ポチにやれ、二つあるなら、二つやれ。おまえも我慢しろ。皮膚病なんてのは、すぐなおるよ」',\n",
       " '「ええ」家内は、やはり浮かぬ顔をしていた。']"
      ]
     },
     "execution_count": 75,
     "metadata": {},
     "output_type": "execute_result"
    }
   ],
   "source": [
    "# 作成した処理済行リストの最初の10行を確認\n",
    "# prepped_lines[:10]\n",
    "# 作成した処理済行リストの最後の10行を確認\n",
    "prepped_lines[-10:]"
   ]
  },
  {
   "cell_type": "markdown",
   "id": "unlike-railway",
   "metadata": {},
   "source": [
    "# Chapter3-4 形態素解析"
   ]
  },
  {
   "cell_type": "markdown",
   "id": "latter-cancellation",
   "metadata": {},
   "source": [
    "## 3-4-1 MeCab"
   ]
  },
  {
   "cell_type": "code",
   "execution_count": 1,
   "id": "analyzed-employee",
   "metadata": {
    "collapsed": true,
    "jupyter": {
     "outputs_hidden": true
    },
    "tags": []
   },
   "outputs": [
    {
     "name": "stdout",
     "output_type": "stream",
     "text": [
      "Hit:1 http://deb.debian.org/debian buster InRelease\n",
      "Hit:2 http://security.debian.org/debian-security buster/updates InRelease\n",
      "Hit:3 http://deb.debian.org/debian buster-updates InRelease\n",
      "Reading package lists... Done\u001b[33m\u001b[33m\n",
      "Building dependency tree       \n",
      "Reading state information... Done\n",
      "30 packages can be upgraded. Run 'apt list --upgradable' to see them.\n",
      "Reading package lists... Done\n",
      "Building dependency tree       \n",
      "Reading state information... Done\n",
      "The following additional packages will be installed:\n",
      "  libmecab2 mecab-ipadic mecab-jumandic mecab-jumandic-utf8\n",
      "The following NEW packages will be installed:\n",
      "  libmecab-dev libmecab2 mecab mecab-ipadic mecab-ipadic-utf8 mecab-jumandic\n",
      "  mecab-jumandic-utf8 mecab-utils\n",
      "0 upgraded, 8 newly installed, 0 to remove and 30 not upgraded.\n",
      "Need to get 23.6 MB of archives.\n",
      "After this operation, 276 MB of additional disk space will be used.\n",
      "Get:1 http://deb.debian.org/debian buster/main arm64 libmecab2 arm64 0.996-6 [230 kB]\n",
      "Get:2 http://deb.debian.org/debian buster/main arm64 libmecab-dev arm64 0.996-6 [303 kB]\n",
      "Get:3 http://deb.debian.org/debian buster/main arm64 mecab-utils arm64 0.996-6 [7724 B]\n",
      "Get:4 http://deb.debian.org/debian buster/main arm64 mecab-jumandic-utf8 all 7.0-20130310-7 [16.2 MB]\n",
      "Get:5 http://deb.debian.org/debian buster/main arm64 mecab-jumandic all 7.0-20130310-7 [3720 B]\n",
      "Get:6 http://deb.debian.org/debian buster/main arm64 mecab-ipadic all 2.7.0-20070801+main-2.1 [6714 kB]\n",
      "Get:7 http://deb.debian.org/debian buster/main arm64 mecab arm64 0.996-6 [161 kB]\n",
      "Get:8 http://deb.debian.org/debian buster/main arm64 mecab-ipadic-utf8 all 2.7.0-20070801+main-2.1 [5356 B]\n",
      "Fetched 23.6 MB in 1s (43.4 MB/s)           \u001b[0m\u001b[33m\n",
      "debconf: delaying package configuration, since apt-utils is not installed\n",
      "\n",
      "\u001b7\u001b[0;23r\u001b8\u001b[1ASelecting previously unselected package libmecab2:arm64.\n",
      "(Reading database ... 24742 files and directories currently installed.)\n",
      "Preparing to unpack .../0-libmecab2_0.996-6_arm64.deb ...\n",
      "\u001b7\u001b[24;0f\u001b[42m\u001b[30mProgress: [  0%]\u001b[49m\u001b[39m [..........................................................] \u001b8\u001b7\u001b[24;0f\u001b[42m\u001b[30mProgress: [  3%]\u001b[49m\u001b[39m [#.........................................................] \u001b8Unpacking libmecab2:arm64 (0.996-6) ...\n",
      "\u001b7\u001b[24;0f\u001b[42m\u001b[30mProgress: [  6%]\u001b[49m\u001b[39m [###.......................................................] \u001b8Selecting previously unselected package libmecab-dev.\n",
      "Preparing to unpack .../1-libmecab-dev_0.996-6_arm64.deb ...\n",
      "\u001b7\u001b[24;0f\u001b[42m\u001b[30mProgress: [  9%]\u001b[49m\u001b[39m [#####.....................................................] \u001b8Unpacking libmecab-dev (0.996-6) ...\n",
      "\u001b7\u001b[24;0f\u001b[42m\u001b[30mProgress: [ 12%]\u001b[49m\u001b[39m [#######...................................................] \u001b8Selecting previously unselected package mecab-utils.\n",
      "Preparing to unpack .../2-mecab-utils_0.996-6_arm64.deb ...\n",
      "\u001b7\u001b[24;0f\u001b[42m\u001b[30mProgress: [ 15%]\u001b[49m\u001b[39m [########..................................................] \u001b8Unpacking mecab-utils (0.996-6) ...\n",
      "\u001b7\u001b[24;0f\u001b[42m\u001b[30mProgress: [ 18%]\u001b[49m\u001b[39m [##########................................................] \u001b8Selecting previously unselected package mecab-jumandic-utf8.\n",
      "Preparing to unpack .../3-mecab-jumandic-utf8_7.0-20130310-7_all.deb ...\n",
      "\u001b7\u001b[24;0f\u001b[42m\u001b[30mProgress: [ 21%]\u001b[49m\u001b[39m [############..............................................] \u001b8Unpacking mecab-jumandic-utf8 (7.0-20130310-7) ...\n",
      "\u001b7\u001b[24;0f\u001b[42m\u001b[30mProgress: [ 24%]\u001b[49m\u001b[39m [##############............................................] \u001b8Selecting previously unselected package mecab-jumandic.\n",
      "Preparing to unpack .../4-mecab-jumandic_7.0-20130310-7_all.deb ...\n",
      "\u001b7\u001b[24;0f\u001b[42m\u001b[30mProgress: [ 27%]\u001b[49m\u001b[39m [###############...........................................] \u001b8Unpacking mecab-jumandic (7.0-20130310-7) ...\n",
      "\u001b7\u001b[24;0f\u001b[42m\u001b[30mProgress: [ 30%]\u001b[49m\u001b[39m [#################.........................................] \u001b8Selecting previously unselected package mecab-ipadic.\n",
      "Preparing to unpack .../5-mecab-ipadic_2.7.0-20070801+main-2.1_all.deb ...\n",
      "\u001b7\u001b[24;0f\u001b[42m\u001b[30mProgress: [ 33%]\u001b[49m\u001b[39m [###################.......................................] \u001b8Unpacking mecab-ipadic (2.7.0-20070801+main-2.1) ...\n",
      "\u001b7\u001b[24;0f\u001b[42m\u001b[30mProgress: [ 36%]\u001b[49m\u001b[39m [#####################.....................................] \u001b8Selecting previously unselected package mecab.\n",
      "Preparing to unpack .../6-mecab_0.996-6_arm64.deb ...\n",
      "\u001b7\u001b[24;0f\u001b[42m\u001b[30mProgress: [ 39%]\u001b[49m\u001b[39m [######################....................................] \u001b8Unpacking mecab (0.996-6) ...\n",
      "\u001b7\u001b[24;0f\u001b[42m\u001b[30mProgress: [ 42%]\u001b[49m\u001b[39m [########################..................................] \u001b8Selecting previously unselected package mecab-ipadic-utf8.\n",
      "Preparing to unpack .../7-mecab-ipadic-utf8_2.7.0-20070801+main-2.1_all.deb ...\n",
      "\u001b7\u001b[24;0f\u001b[42m\u001b[30mProgress: [ 45%]\u001b[49m\u001b[39m [##########################................................] \u001b8Unpacking mecab-ipadic-utf8 (2.7.0-20070801+main-2.1) ...\n",
      "\u001b7\u001b[24;0f\u001b[42m\u001b[30mProgress: [ 48%]\u001b[49m\u001b[39m [############################..............................] \u001b8Setting up libmecab2:arm64 (0.996-6) ...\n",
      "\u001b7\u001b[24;0f\u001b[42m\u001b[30mProgress: [ 52%]\u001b[49m\u001b[39m [#############################.............................] \u001b8\u001b7\u001b[24;0f\u001b[42m\u001b[30mProgress: [ 55%]\u001b[49m\u001b[39m [###############################...........................] \u001b8Setting up libmecab-dev (0.996-6) ...\n",
      "\u001b7\u001b[24;0f\u001b[42m\u001b[30mProgress: [ 58%]\u001b[49m\u001b[39m [#################################.........................] \u001b8\u001b7\u001b[24;0f\u001b[42m\u001b[30mProgress: [ 61%]\u001b[49m\u001b[39m [###################################.......................] \u001b8Setting up mecab-utils (0.996-6) ...\n",
      "\u001b7\u001b[24;0f\u001b[42m\u001b[30mProgress: [ 64%]\u001b[49m\u001b[39m [####################################......................] \u001b8\u001b7\u001b[24;0f\u001b[42m\u001b[30mProgress: [ 67%]\u001b[49m\u001b[39m [######################################....................] \u001b8Setting up mecab-ipadic (2.7.0-20070801+main-2.1) ...\n",
      "\u001b7\u001b[24;0f\u001b[42m\u001b[30mProgress: [ 70%]\u001b[49m\u001b[39m [########################################..................] \u001b8Compiling IPA dictionary for Mecab.  This takes long time...\n",
      "reading /usr/share/mecab/dic/ipadic/unk.def ... 40\n",
      "emitting double-array: 100% |###########################################| \n",
      "/usr/share/mecab/dic/ipadic/model.def is not found. skipped.\n",
      "reading /usr/share/mecab/dic/ipadic/Noun.others.csv ... 151\n",
      "reading /usr/share/mecab/dic/ipadic/Adverb.csv ... 3032\n",
      "reading /usr/share/mecab/dic/ipadic/Noun.proper.csv ... 27328\n",
      "reading /usr/share/mecab/dic/ipadic/Adnominal.csv ... 135\n",
      "reading /usr/share/mecab/dic/ipadic/Interjection.csv ... 252\n",
      "reading /usr/share/mecab/dic/ipadic/Noun.nai.csv ... 42\n",
      "reading /usr/share/mecab/dic/ipadic/Noun.demonst.csv ... 120\n",
      "reading /usr/share/mecab/dic/ipadic/Conjunction.csv ... 171\n",
      "reading /usr/share/mecab/dic/ipadic/Postp-col.csv ... 91\n",
      "reading /usr/share/mecab/dic/ipadic/Symbol.csv ... 208\n",
      "reading /usr/share/mecab/dic/ipadic/Noun.number.csv ... 42\n",
      "reading /usr/share/mecab/dic/ipadic/Adj.csv ... 27210\n",
      "reading /usr/share/mecab/dic/ipadic/Noun.adverbal.csv ... 795\n",
      "reading /usr/share/mecab/dic/ipadic/Filler.csv ... 19\n",
      "reading /usr/share/mecab/dic/ipadic/Others.csv ... 2\n",
      "reading /usr/share/mecab/dic/ipadic/Suffix.csv ... 1393\n",
      "reading /usr/share/mecab/dic/ipadic/Postp.csv ... 146\n",
      "reading /usr/share/mecab/dic/ipadic/Noun.adjv.csv ... 3328\n",
      "reading /usr/share/mecab/dic/ipadic/Verb.csv ... 130750\n",
      "reading /usr/share/mecab/dic/ipadic/Noun.verbal.csv ... 12146\n",
      "reading /usr/share/mecab/dic/ipadic/Auxil.csv ... 199\n",
      "reading /usr/share/mecab/dic/ipadic/Noun.place.csv ... 72999\n",
      "reading /usr/share/mecab/dic/ipadic/Prefix.csv ... 221\n",
      "reading /usr/share/mecab/dic/ipadic/Noun.csv ... 60477\n",
      "reading /usr/share/mecab/dic/ipadic/Noun.name.csv ... 34202\n",
      "reading /usr/share/mecab/dic/ipadic/Noun.org.csv ... 16668\n",
      "emitting double-array: 100% |###########################################| \n",
      "reading /usr/share/mecab/dic/ipadic/matrix.def ... 1316x1316\n",
      "emitting matrix      : 100% |###########################################|                       | \n",
      "\n",
      "done!\n",
      "update-alternatives: using /var/lib/mecab/dic/ipadic to provide /var/lib/mecab/dic/debian (mecab-dictionary) in auto mode\n",
      "\u001b7\u001b[24;0f\u001b[42m\u001b[30mProgress: [ 73%]\u001b[49m\u001b[39m [##########################################................] \u001b8Setting up mecab (0.996-6) ...\n",
      "\u001b7\u001b[24;0f\u001b[42m\u001b[30mProgress: [ 76%]\u001b[49m\u001b[39m [###########################################...............] \u001b8debconf: unable to initialize frontend: Dialog\n",
      "debconf: (No usable dialog-like program is installed, so the dialog based frontend cannot be used. at /usr/share/perl5/Debconf/FrontEnd/Dialog.pm line 76.)\n",
      "debconf: falling back to frontend: Readline\n",
      "Compiling IPA dictionary for Mecab.  This takes long time...\n",
      "reading /usr/share/mecab/dic/ipadic/unk.def ... 40\n",
      "emitting double-array: 100% |###########################################| \n",
      "/usr/share/mecab/dic/ipadic/model.def is not found. skipped.\n",
      "reading /usr/share/mecab/dic/ipadic/Noun.others.csv ... 151\n",
      "reading /usr/share/mecab/dic/ipadic/Adverb.csv ... 3032\n",
      "reading /usr/share/mecab/dic/ipadic/Noun.proper.csv ... 27328\n",
      "reading /usr/share/mecab/dic/ipadic/Adnominal.csv ... 135\n",
      "reading /usr/share/mecab/dic/ipadic/Interjection.csv ... 252\n",
      "reading /usr/share/mecab/dic/ipadic/Noun.nai.csv ... 42\n",
      "reading /usr/share/mecab/dic/ipadic/Noun.demonst.csv ... 120\n",
      "reading /usr/share/mecab/dic/ipadic/Conjunction.csv ... 171\n",
      "reading /usr/share/mecab/dic/ipadic/Postp-col.csv ... 91\n",
      "reading /usr/share/mecab/dic/ipadic/Symbol.csv ... 208\n",
      "reading /usr/share/mecab/dic/ipadic/Noun.number.csv ... 42\n",
      "reading /usr/share/mecab/dic/ipadic/Adj.csv ... 27210\n",
      "reading /usr/share/mecab/dic/ipadic/Noun.adverbal.csv ... 795\n",
      "reading /usr/share/mecab/dic/ipadic/Filler.csv ... 19\n",
      "reading /usr/share/mecab/dic/ipadic/Others.csv ... 2\n",
      "reading /usr/share/mecab/dic/ipadic/Suffix.csv ... 1393\n",
      "reading /usr/share/mecab/dic/ipadic/Postp.csv ... 146\n",
      "reading /usr/share/mecab/dic/ipadic/Noun.adjv.csv ... 3328\n",
      "reading /usr/share/mecab/dic/ipadic/Verb.csv ... 130750\n",
      "reading /usr/share/mecab/dic/ipadic/Noun.verbal.csv ... 12146\n",
      "reading /usr/share/mecab/dic/ipadic/Auxil.csv ... 199\n",
      "reading /usr/share/mecab/dic/ipadic/Noun.place.csv ... 72999\n",
      "reading /usr/share/mecab/dic/ipadic/Prefix.csv ... 221\n",
      "reading /usr/share/mecab/dic/ipadic/Noun.csv ... 60477\n",
      "reading /usr/share/mecab/dic/ipadic/Noun.name.csv ... 34202\n",
      "reading /usr/share/mecab/dic/ipadic/Noun.org.csv ... 16668\n",
      "emitting double-array: 100% |###########################################| \n",
      "reading /usr/share/mecab/dic/ipadic/matrix.def ... 1316x1316\n",
      "emitting matrix      : 100% |###########################################| \n",
      "\n",
      "done!\n",
      "\u001b7\u001b[24;0f\u001b[42m\u001b[30mProgress: [ 79%]\u001b[49m\u001b[39m [#############################################.............] \u001b8Setting up mecab-jumandic-utf8 (7.0-20130310-7) ...\n",
      "\u001b7\u001b[24;0f\u001b[42m\u001b[30mProgress: [ 82%]\u001b[49m\u001b[39m [###############################################...........] \u001b8Compiling Juman dictionary for Mecab.\n",
      "reading /usr/share/mecab/dic/juman/unk.def ... 37\n",
      "emitting double-array: 100% |###########################################| \n",
      "reading /usr/share/mecab/dic/juman/Rengo.csv ... 1118\n",
      "reading /usr/share/mecab/dic/juman/Wikipedia.csv ... 167709\n",
      "reading /usr/share/mecab/dic/juman/ContentW.csv ... 551145\n",
      "reading /usr/share/mecab/dic/juman/Noun.suusi.csv ... 49\n",
      "reading /usr/share/mecab/dic/juman/Auto.csv ... 18931\n",
      "reading /usr/share/mecab/dic/juman/Special.csv ... 158\n",
      "reading /usr/share/mecab/dic/juman/Emoticon.csv ... 972\n",
      "reading /usr/share/mecab/dic/juman/Noun.koyuu.csv ... 7964\n",
      "reading /usr/share/mecab/dic/juman/Assert.csv ... 34\n",
      "reading /usr/share/mecab/dic/juman/Noun.hukusi.csv ... 81\n",
      "reading /usr/share/mecab/dic/juman/Suffix.csv ... 2128\n",
      "reading /usr/share/mecab/dic/juman/Postp.csv ... 108\n",
      "reading /usr/share/mecab/dic/juman/Noun.keishiki.csv ... 8\n",
      "reading /usr/share/mecab/dic/juman/Prefix.csv ... 90\n",
      "reading /usr/share/mecab/dic/juman/Demonstrative.csv ... 97\n",
      "reading /usr/share/mecab/dic/juman/AuxV.csv ... 593\n",
      "emitting double-array: 100% |###########################################| \n",
      "reading /usr/share/mecab/dic/juman/matrix.def ... 1876x1876\n",
      "emitting matrix      : 100% |###########################################| \n",
      "\n",
      "done!\n",
      "\u001b7\u001b[24;0f\u001b[42m\u001b[30mProgress: [ 85%]\u001b[49m\u001b[39m [#################################################.........] \u001b8Setting up mecab-ipadic-utf8 (2.7.0-20070801+main-2.1) ...\n",
      "\u001b7\u001b[24;0f\u001b[42m\u001b[30mProgress: [ 88%]\u001b[49m\u001b[39m [##################################################........] \u001b8Compiling IPA dictionary for Mecab.  This takes long time...\n",
      "reading /usr/share/mecab/dic/ipadic/unk.def ... 40\n",
      "emitting double-array: 100% |###########################################| \n",
      "/usr/share/mecab/dic/ipadic/model.def is not found. skipped.\n",
      "reading /usr/share/mecab/dic/ipadic/Noun.others.csv ... 151\n",
      "reading /usr/share/mecab/dic/ipadic/Adverb.csv ... 3032\n",
      "reading /usr/share/mecab/dic/ipadic/Noun.proper.csv ... 27328\n",
      "reading /usr/share/mecab/dic/ipadic/Adnominal.csv ... 135\n",
      "reading /usr/share/mecab/dic/ipadic/Interjection.csv ... 252\n",
      "reading /usr/share/mecab/dic/ipadic/Noun.nai.csv ... 42\n",
      "reading /usr/share/mecab/dic/ipadic/Noun.demonst.csv ... 120\n",
      "reading /usr/share/mecab/dic/ipadic/Conjunction.csv ... 171\n",
      "reading /usr/share/mecab/dic/ipadic/Postp-col.csv ... 91\n",
      "reading /usr/share/mecab/dic/ipadic/Symbol.csv ... 208\n",
      "reading /usr/share/mecab/dic/ipadic/Noun.number.csv ... 42\n",
      "reading /usr/share/mecab/dic/ipadic/Adj.csv ... 27210\n",
      "reading /usr/share/mecab/dic/ipadic/Noun.adverbal.csv ... 795\n",
      "reading /usr/share/mecab/dic/ipadic/Filler.csv ... 19\n",
      "reading /usr/share/mecab/dic/ipadic/Others.csv ... 2\n",
      "reading /usr/share/mecab/dic/ipadic/Suffix.csv ... 1393\n",
      "reading /usr/share/mecab/dic/ipadic/Postp.csv ... 146\n",
      "reading /usr/share/mecab/dic/ipadic/Noun.adjv.csv ... 3328\n",
      "reading /usr/share/mecab/dic/ipadic/Verb.csv ... 130750\n",
      "reading /usr/share/mecab/dic/ipadic/Noun.verbal.csv ... 12146\n",
      "reading /usr/share/mecab/dic/ipadic/Auxil.csv ... 199\n",
      "reading /usr/share/mecab/dic/ipadic/Noun.place.csv ... 72999\n",
      "reading /usr/share/mecab/dic/ipadic/Prefix.csv ... 221\n",
      "reading /usr/share/mecab/dic/ipadic/Noun.csv ... 60477\n",
      "reading /usr/share/mecab/dic/ipadic/Noun.name.csv ... 34202\n",
      "reading /usr/share/mecab/dic/ipadic/Noun.org.csv ... 16668\n",
      "emitting double-array: 100% |###########################################| \n",
      "reading /usr/share/mecab/dic/ipadic/matrix.def ... 1316x1316\n",
      "emitting matrix      : 100% |###########################################| \n",
      "\n",
      "done!\n",
      "update-alternatives: using /var/lib/mecab/dic/ipadic-utf8 to provide /var/lib/mecab/dic/debian (mecab-dictionary) in auto mode\n",
      "\u001b7\u001b[24;0f\u001b[42m\u001b[30mProgress: [ 91%]\u001b[49m\u001b[39m [####################################################......] \u001b8Setting up mecab-jumandic (7.0-20130310-7) ...\n",
      "\u001b7\u001b[24;0f\u001b[42m\u001b[30mProgress: [ 94%]\u001b[49m\u001b[39m [######################################################....] \u001b8\u001b7\u001b[24;0f\u001b[42m\u001b[30mProgress: [ 97%]\u001b[49m\u001b[39m [########################################################..] \u001b8Processing triggers for libc-bin (2.28-10) ...\n",
      "\n",
      "\u001b7\u001b[0;24r\u001b8\u001b[1A\u001b[J"
     ]
    }
   ],
   "source": [
    "# MeCab をインストール\n",
    "!apt update\n",
    "!apt install -y libmecab-dev mecab mecab-ipadic-utf8 mecab-utils"
   ]
  },
  {
   "cell_type": "code",
   "execution_count": 9,
   "id": "effective-casino",
   "metadata": {},
   "outputs": [
    {
     "name": "stdout",
     "output_type": "stream",
     "text": [
      "\u001b[31mERROR: Could not find a version that satisfies the requirement mecab-ipadic\u001b[0m\n",
      "\u001b[31mERROR: No matching distribution found for mecab-ipadic\u001b[0m\n",
      "Note: you may need to restart the kernel to use updated packages.\n"
     ]
    }
   ],
   "source": [
    "pip install mecab-ipadic"
   ]
  },
  {
   "cell_type": "code",
   "execution_count": 2,
   "id": "twenty-salmon",
   "metadata": {},
   "outputs": [
    {
     "name": "stdout",
     "output_type": "stream",
     "text": [
      "Sat Apr 10 07:44:44 JST 2021\n",
      "awesomebook\n",
      "data\n",
      "genbapro_chapter2.ipynb\n",
      "genbapro_chapter3.ipynb\n",
      "genbapro_preprocessing\n",
      "preprocessing.book.ipynb\n",
      "Requirement already satisfied: unidic-lite in /usr/local/lib/python3.9/site-packages (1.0.8)\n",
      "Sat Apr 10 07:45:02 JST 2021\n"
     ]
    },
    {
     "name": "stderr",
     "output_type": "stream",
     "text": [
      "Cloning into 'mecab-ipadic-neologd'...\n",
      "error: RPC failed; curl 56 GnuTLS recv error (-54): Error in the pull function.\n",
      "fatal: the remote end hung up unexpectedly\n",
      "fatal: early EOF\n",
      "fatal: index-pack failed\n",
      "bash: line 14: cd: mecab-ipadic-neologd: No such file or directory\n"
     ]
    }
   ],
   "source": [
    "%%bash\n",
    "# NEologd 辞書をインストール\n",
    "\n",
    "## 開始時刻を表示\n",
    "date\n",
    "\n",
    "## 古い辞書があれば削除\n",
    "rm -rf mecab-ipadic-neologd\n",
    "\n",
    "## 辞書のgit リポジトリをclone\n",
    "git clone https://github.com/neologd/mecab-ipadic-neologd.git\n",
    "ls\n",
    "\n",
    "## 辞書をインストール\n",
    "cd mecab-ipadic-neologd && bin/install-mecab-ipadic-neologd -n -a -y\n",
    "\n",
    "## [issue](https://github.com/SamuraiT/mecab-python3#common-issues) への対応\n",
    "pip install unidic-lite\n",
    "\n",
    "## 修了時刻を表示\n",
    "date"
   ]
  },
  {
   "cell_type": "code",
   "execution_count": null,
   "id": "entire-matrix",
   "metadata": {},
   "outputs": [],
   "source": []
  }
 ],
 "metadata": {
  "kernelspec": {
   "display_name": "Python 3",
   "language": "python",
   "name": "python3"
  },
  "language_info": {
   "codemirror_mode": {
    "name": "ipython",
    "version": 3
   },
   "file_extension": ".py",
   "mimetype": "text/x-python",
   "name": "python",
   "nbconvert_exporter": "python",
   "pygments_lexer": "ipython3",
   "version": "3.9.2"
  }
 },
 "nbformat": 4,
 "nbformat_minor": 5
}
