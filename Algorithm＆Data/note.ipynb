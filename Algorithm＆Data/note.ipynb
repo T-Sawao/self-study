{
 "cells": [
  {
   "cell_type": "markdown",
   "id": "opened-hazard",
   "metadata": {},
   "source": [
    "# アルゴリズムとデータ構造"
   ]
  },
  {
   "cell_type": "markdown",
   "id": "combined-drink",
   "metadata": {},
   "source": [
    "# 第一章 アルゴリズム"
   ]
  },
  {
   "cell_type": "markdown",
   "id": "boxed-bunny",
   "metadata": {},
   "source": [
    "## アルゴリズムとは  \n",
    "問題を解くための方法や手順の事。  \n",
    "生活のなかの身近なところに存在する。"
   ]
  },
  {
   "cell_type": "markdown",
   "id": "twelve-diversity",
   "metadata": {},
   "source": [
    "## 様々なアルゴリズム\n",
    "\n",
    "### 二分探索法\n",
    "数字の並びに対して真ん中で半分に絞り、それを１つの値になるまで繰り返す探索手法\n",
    "\n",
    "### 線形探索法\n",
    "順番に１つずつ調べていく手法。非効率！！\n",
    "\n",
    "### 深さ優先探索\n",
    "無数の選択肢を決め打ちして試す方法、行き詰まったら一歩戻って再度やり直す。  \n",
    "例：将棋ゲーム、\n",
    "  →13章:トポロジカルソートの実現に使用されている。\n",
    "  →05章:探索結果をメモすることで、動的計画法になる。\n",
    "  \n",
    "### 幅優先探索\n",
    "出発点から近いところから順番に探索する手法。\n",
    "例:迷路の最短ルート検索\n",
    "\n",
    "### マッチング  \n",
    "２つのカテゴリ間のつながりについて考える。\n",
    "例：インターネット広告配信、レコメンドシステム、マッチングアプリ\n",
    "  →16章:詳細説明"
   ]
  },
  {
   "cell_type": "markdown",
   "id": "freelance-waste",
   "metadata": {},
   "source": [
    "## アルゴリズムを学ぶ意義\n",
    "問題が解かなくても、問題解決するための手順がわかるようになり、問題解決の幅を広げられる。"
   ]
  },
  {
   "cell_type": "markdown",
   "id": "acoustic-senator",
   "metadata": {},
   "source": [
    "## 問題"
   ]
  },
  {
   "cell_type": "markdown",
   "id": "equivalent-omaha",
   "metadata": {},
   "source": [
    "### 1.1の解答"
   ]
  },
  {
   "cell_type": "code",
   "execution_count": 1,
   "id": "restricted-mailing",
   "metadata": {},
   "outputs": [],
   "source": [
    "import numpy as np"
   ]
  },
  {
   "cell_type": "code",
   "execution_count": 2,
   "id": "permanent-river",
   "metadata": {},
   "outputs": [
    {
     "name": "stdout",
     "output_type": "stream",
     "text": [
      "27\n",
      "31\n",
      "29\n",
      "28\n",
      "Aさんの年齢は、28歳です\n"
     ]
    }
   ],
   "source": [
    "def binary_search(data, value):\n",
    "    left = 0                       # 探索する範囲の左端を設定\n",
    "    right = len(data) - 1          # 探索する範囲の右端を設定\n",
    "    while left <= right:\n",
    "        mid = (left + right) // 2  # 探索する範囲の中央を計算\n",
    "        print(data[mid])\n",
    "        \n",
    "        if data[mid] == value:  # 中央の値と一致した場合は位置を返す\n",
    "            return data[mid]\n",
    "        elif data[mid] < value: # 中央の値より大きい場合は探索範囲の左を変える\n",
    "            left = mid + 1\n",
    "        else:                   # 中央の値より小さい場合は探索範囲の右を変える\n",
    "            right = mid - 1\n",
    "    return -1                   # 見つからなかった場合\n",
    "\n",
    "data  = np.arange(20,36)\n",
    "x = binary_search(data, 28)\n",
    "print(f\"Aさんの年齢は、{x}歳です\")"
   ]
  },
  {
   "cell_type": "markdown",
   "id": "alert-kinase",
   "metadata": {},
   "source": [
    "### 1.2の解答"
   ]
  },
  {
   "cell_type": "code",
   "execution_count": 3,
   "id": "collectible-basement",
   "metadata": {},
   "outputs": [
    {
     "name": "stdout",
     "output_type": "stream",
     "text": [
      "49\n",
      "74\n",
      "87\n",
      "93\n",
      "96\n",
      "98\n",
      "99\n",
      "Aさんの年齢は、99歳です\n"
     ]
    }
   ],
   "source": [
    "data  = np.arange(0,100)\n",
    "x = binary_search(data, 99)\n",
    "print(f\"Aさんの年齢は、{x}歳です\")"
   ]
  },
  {
   "cell_type": "markdown",
   "id": "historic-pharmacy",
   "metadata": {},
   "source": [
    "６回では解は導き出せないが、７回目で解を導ける。"
   ]
  },
  {
   "cell_type": "markdown",
   "id": "designing-disposition",
   "metadata": {},
   "source": [
    "### 1.3の解答"
   ]
  },
  {
   "cell_type": "code",
   "execution_count": 4,
   "id": "underlying-focus",
   "metadata": {},
   "outputs": [
    {
     "data": {
      "text/plain": [
       "945"
      ]
     },
     "execution_count": 4,
     "metadata": {},
     "output_type": "execute_result"
    }
   ],
   "source": [
    "#試行結果のみ\n",
    "\n",
    "a = 27\n",
    "b = 35\n",
    "\n",
    "ans =a*b\n",
    "ans"
   ]
  },
  {
   "cell_type": "markdown",
   "id": "straight-steps",
   "metadata": {},
   "source": [
    "# 第二章 計算量とオーダー記法"
   ]
  },
  {
   "cell_type": "markdown",
   "id": "julian-insulation",
   "metadata": {},
   "source": [
    "## オーダー記法の考え方\n",
    "\n",
    "- 一重のfor文をO(N)と記載し、Nに比例して計算時間が掛かる。  \n",
    "- 二重のfor文となると$O(N^2)$に比例する。  \n",
    "- 定数倍や低次の項を無視する。\n"
   ]
  },
  {
   "cell_type": "markdown",
   "id": "fabulous-coordinate",
   "metadata": {},
   "source": [
    "## 計算量の使い方"
   ]
  },
  {
   "cell_type": "markdown",
   "id": "promising-oliver",
   "metadata": {},
   "source": [
    "- 計算実行時間の制限\n",
    "- 解きたい問題のサイズ\n",
    "\n",
    "上記二点からどの程度の計算量を達成すれば良いかが逆算出来る。　\n",
    "\n",
    "**1秒間で処理できる計算ステップ回数の目安 : $10^9 = 1,000,000,000$回程度**\n",
    "\n",
    "指数時間（$O/N!,2^N$)は、非常に時間が掛かり、$NlogNやN√N$である多項式時間は短時間でできる。"
   ]
  },
  {
   "cell_type": "markdown",
   "id": "cross-france",
   "metadata": {},
   "source": [
    "# 第三章 設計技法 全探索"
   ]
  },
  {
   "cell_type": "markdown",
   "id": "electronic-hawaii",
   "metadata": {},
   "source": [
    "## 全探索とは、\n",
    "解きたい問題に対して、全ての可能性を試す方法\n"
   ]
  },
  {
   "cell_type": "markdown",
   "id": "acceptable-equation",
   "metadata": {},
   "source": [
    "## 3.3 線形探索法\n",
    "\n",
    "１つ１つの要素を順に調べて行く探索法\n"
   ]
  },
  {
   "cell_type": "code",
   "execution_count": 5,
   "id": "permanent-carry",
   "metadata": {},
   "outputs": [
    {
     "name": "stdout",
     "output_type": "stream",
     "text": [
      "[83  9 24 47 44 14 53 47 75 82 53 89 26 87 56 59 62 92 69 79 22 75 15 76\n",
      "  6 32 49 89 44  7 18 37  8 84 83 53 79 20 66 37 90 16 24 42 51 46 40 20\n",
      " 66 35  8 91 11  7 78 65 56 33 17 20 94  8 12 13 74 47 95 25 70 43 84 61\n",
      " 34 34 19 72 53 54 64 66 42 11 61 61 57 53 40 29 67 59 57  2 45 81 57 98\n",
      "  1 16 89 73]\n",
      "[37]\n"
     ]
    },
    {
     "data": {
      "text/plain": [
       "[32, 40]"
      ]
     },
     "execution_count": 5,
     "metadata": {},
     "output_type": "execute_result"
    }
   ],
   "source": [
    "# 線形探索法--------------------------------------------\n",
    "\n",
    "def linear_search(data, value):\n",
    "    count = 0\n",
    "    id = []\n",
    "\n",
    "    for i in data:\n",
    "        count +=1\n",
    "        if i == value:\n",
    "            id.append(count)\n",
    "    return id\n",
    "#------------------------------------------------------\n",
    "\n",
    "data  = np.random.randint(1,100,100)\n",
    "print(data)\n",
    "value = np.random.randint(1,100,1)\n",
    "print(value)\n",
    "\n",
    "ans = linear_search(data, value)\n",
    "ans"
   ]
  },
  {
   "cell_type": "markdown",
   "id": "senior-birthday",
   "metadata": {},
   "source": [
    "## 3.4 ペアの全探索"
   ]
  },
  {
   "cell_type": "code",
   "execution_count": 6,
   "id": "every-weapon",
   "metadata": {},
   "outputs": [
    {
     "name": "stdout",
     "output_type": "stream",
     "text": [
      "Kの値は[9]です\n",
      "[4 1 3]\n",
      "[0 3 5]\n"
     ]
    }
   ],
   "source": [
    "N = 3\n",
    "K =  np.random.randint(0,10,1)\n",
    "a = np.random.randint(0,10,N)\n",
    "b = np.random.randint(0,10,N)\n",
    "print(f\"Kの値は{K}です\")\n",
    "print(a)\n",
    "print(b)"
   ]
  },
  {
   "cell_type": "code",
   "execution_count": 7,
   "id": "breeding-celebration",
   "metadata": {},
   "outputs": [
    {
     "name": "stdout",
     "output_type": "stream",
     "text": [
      "[[4, 5]]\n",
      "9\n",
      "1\n"
     ]
    }
   ],
   "source": [
    "id = []\n",
    "min = 1000\n",
    "count = 0\n",
    "count_id = 0\n",
    "\n",
    "for i in a:\n",
    "    for j in b:\n",
    "        x = i+j\n",
    "        if x >= K:\n",
    "            count += 1\n",
    "            id.append([i,j])\n",
    "            if min > x:\n",
    "                min = x\n",
    "                count_id = count\n",
    "            \n",
    "print(id)\n",
    "print(min)\n",
    "print(count_id)"
   ]
  },
  {
   "cell_type": "markdown",
   "id": "filled-think",
   "metadata": {},
   "source": [
    "## 3.5 組み合わせの全探索"
   ]
  },
  {
   "cell_type": "markdown",
   "id": "practical-shift",
   "metadata": {},
   "source": [
    "ビット演算が出てくるので分かりづらい。\n",
    "\n",
    "ビット演算の参考ページ  \n",
    "https://qiita.com/Ingward/items/43acda931c8a62c70d2f#:~:text=%3C%3C%EF%BC%88%E5%B7%A6%E3%83%93%E3%83%83%E3%83%88%E3%82%B7%E3%83%95%E3%83%88%EF%BC%89"
   ]
  },
  {
   "cell_type": "code",
   "execution_count": 8,
   "id": "southwest-moral",
   "metadata": {},
   "outputs": [
    {
     "name": "stdout",
     "output_type": "stream",
     "text": [
      "aの値は5です\n",
      "[3 9 7 5 4]\n"
     ]
    }
   ],
   "source": [
    "a = np.random.randint(0,10,5)\n",
    "k = 10\n",
    "\n",
    "print(f\"aの値は{len(a)}です\")\n",
    "print(a)"
   ]
  },
  {
   "cell_type": "code",
   "execution_count": 9,
   "id": "organic-coupon",
   "metadata": {},
   "outputs": [
    {
     "name": "stdout",
     "output_type": "stream",
     "text": [
      "Yes\n"
     ]
    }
   ],
   "source": [
    "#判定用の変数\n",
    "cnt = 0\n",
    "\n",
    "#全探索\n",
    "for i in range(1<<len(a)):\n",
    "    l = []\n",
    "    for j in range(len(a)):\n",
    "        if (i>>j & 1) == 1:\n",
    "            l.append(a[j])\n",
    "    if sum(l) == k:\n",
    "        cnt += 1\n",
    "print('Yes' if cnt>=1 else 'No')"
   ]
  },
  {
   "cell_type": "markdown",
   "id": "running-aluminum",
   "metadata": {},
   "source": [
    "## 問題"
   ]
  },
  {
   "cell_type": "markdown",
   "id": "indonesian-plain",
   "metadata": {},
   "source": [
    "### 3.1"
   ]
  },
  {
   "cell_type": "code",
   "execution_count": 10,
   "id": "quarterly-testimony",
   "metadata": {},
   "outputs": [
    {
     "name": "stdout",
     "output_type": "stream",
     "text": [
      "[20 31 32 32 21 22 35 33 21 35 29 20 35 23 25 33 24 34 31 25 22 22 22 32\n",
      " 29 22 34 24 22 24 32 26 34 29 26 20 26 30 30 32 25 32 20 26 28 32 35 32\n",
      " 33 24 35 33 31 25 30 31 31 22 24 26 23 25 27 29 27 24 25 24 26 24 24 30\n",
      " 30 25 27 29 35 35 35 22 23 29 32 20 21 22 30 20 23 32 24 24 31 34 24 32\n",
      " 32 29 24 33]\n",
      "[44]\n"
     ]
    },
    {
     "data": {
      "text/plain": [
       "44"
      ]
     },
     "execution_count": 10,
     "metadata": {},
     "output_type": "execute_result"
    }
   ],
   "source": [
    "def found(data, v):\n",
    "    found_id = []\n",
    "    for i in range(len(data)):\n",
    "        if data[i] == v:\n",
    "            found_id.append(i)\n",
    "    print(found_id)\n",
    "    return np.array(([found_id])).max()\n",
    "#     if fuound_id == :\n",
    "#         return NO\n",
    "#     else:\n",
    "#         return np.array(([found_id])).max()\n",
    "            \n",
    "data = np.random.randint(20,36,100)\n",
    "v = 28\n",
    "print(data)\n",
    "found(data, v)"
   ]
  },
  {
   "cell_type": "markdown",
   "id": "frozen-atlantic",
   "metadata": {},
   "source": [
    "### 3.2の解答"
   ]
  },
  {
   "cell_type": "code",
   "execution_count": 11,
   "id": "answering-queen",
   "metadata": {},
   "outputs": [
    {
     "name": "stdout",
     "output_type": "stream",
     "text": [
      "data: [4 2 3 2 1 7 7 7 4 1 9 6 6 8 3 5 0 2 7 0]\n",
      "v: 4\n",
      "4のカウント数は、2です。\n"
     ]
    }
   ],
   "source": [
    "def count(data, v):\n",
    "    count = 0\n",
    "    for i in range(len(data)):\n",
    "        if data[i] == v:\n",
    "            count += 1\n",
    "    return count\n",
    "\n",
    "data = np.random.randint(0,10,20)\n",
    "v = 4\n",
    "\n",
    "print(\"data:\", data)\n",
    "print(\"v:\",v)\n",
    "print(f\"{v}のカウント数は、{count(data, v)}です。\")"
   ]
  },
  {
   "cell_type": "markdown",
   "id": "random-history",
   "metadata": {},
   "source": [
    "### 3.3の解答"
   ]
  },
  {
   "cell_type": "code",
   "execution_count": 12,
   "id": "toxic-bible",
   "metadata": {},
   "outputs": [
    {
     "name": "stdout",
     "output_type": "stream",
     "text": [
      "[[2 3 3 4 5 6 6 7 8]]\n"
     ]
    },
    {
     "data": {
      "text/plain": [
       "array([3])"
      ]
     },
     "execution_count": 12,
     "metadata": {},
     "output_type": "execute_result"
    }
   ],
   "source": [
    "def search(data):\n",
    "    box = []\n",
    "    for i in data:\n",
    "        if i >= 2:\n",
    "            box.append(i)\n",
    "    box = np.sort(np.array([box]),axis=1)[::-1]\n",
    "    print(box)\n",
    "    return box[:,1]\n",
    "\n",
    "data = np.random.randint(0,10,10)\n",
    "search(data)"
   ]
  },
  {
   "cell_type": "markdown",
   "id": "alive-dispute",
   "metadata": {},
   "source": [
    "### 3.4の解答"
   ]
  },
  {
   "cell_type": "code",
   "execution_count": 13,
   "id": "musical-large",
   "metadata": {},
   "outputs": [
    {
     "name": "stdout",
     "output_type": "stream",
     "text": [
      "dataの値は: [5 7 4 2 9 2 1 8 9 9]\n"
     ]
    },
    {
     "data": {
      "text/plain": [
       "0"
      ]
     },
     "execution_count": 13,
     "metadata": {},
     "output_type": "execute_result"
    }
   ],
   "source": [
    "def search(data):\n",
    "    max = 0\n",
    "    a = 1\n",
    "    b = 0\n",
    "    ans = abs(data[a] - data[b])\n",
    "    if max < ans:\n",
    "        max == ans\n",
    "    return max\n",
    "\n",
    "data = np.random.randint(0,10,10)\n",
    "print(\"dataの値は:\", data)\n",
    "search(data)"
   ]
  },
  {
   "cell_type": "markdown",
   "id": "dressed-lighting",
   "metadata": {},
   "source": [
    "# 第四章 再帰と分割統治法"
   ]
  },
  {
   "cell_type": "markdown",
   "id": "inside-exploration",
   "metadata": {},
   "source": [
    "## 再帰とは\n",
    "自分自身を呼び出す事（再帰呼び出し）、その関数を再帰関数と言う。"
   ]
  },
  {
   "cell_type": "markdown",
   "id": "accomplished-shower",
   "metadata": {},
   "source": [
    "## 4.1 再帰関数のテンプレート式"
   ]
  },
  {
   "cell_type": "code",
   "execution_count": 14,
   "id": "running-formation",
   "metadata": {},
   "outputs": [
    {
     "name": "stdout",
     "output_type": "stream",
     "text": [
      "Falseの場合、nの値は： 5\n",
      "Falseの場合、nの値は： 4\n",
      "Falseの場合、nの値は： 3\n",
      "Falseの場合、nの値は： 2\n",
      "Falseの場合、nの値は： 1\n",
      "Trueの場合、nの値は： 0\n"
     ]
    },
    {
     "data": {
      "text/plain": [
       "15"
      ]
     },
     "execution_count": 14,
     "metadata": {},
     "output_type": "execute_result"
    }
   ],
   "source": [
    "def recursive_function(n):\n",
    "    if n < 1:\n",
    "        print(\"Trueの場合、nの値は：\",n)\n",
    "        return n\n",
    "        \n",
    "    \n",
    "    print(\"Falseの場合、nの値は：\",n)\n",
    "    return n + recursive_function(n-1)\n",
    "\n",
    "rf = recursive_function(5)\n",
    "rf"
   ]
  },
  {
   "cell_type": "markdown",
   "id": "mature-terrace",
   "metadata": {},
   "source": [
    "## 4.2 ユークリッドの互除法\n",
    "２つの整数m,nの最大公約数（GCD(m,n))を求めるアルゴリズム。\n",
    "\n",
    "**最大公約数の性質**  \n",
    "mをnで割った時の余りをrとすると、  \n",
    "$GCD(m, n) = GCD(n, r)$  \n",
    "が成立する。"
   ]
  },
  {
   "cell_type": "code",
   "execution_count": 15,
   "id": "altered-enlargement",
   "metadata": {},
   "outputs": [
    {
     "data": {
      "text/plain": [
       "3"
      ]
     },
     "execution_count": 15,
     "metadata": {},
     "output_type": "execute_result"
    }
   ],
   "source": [
    "def gcd(m, n):\n",
    "    if n == 0:\n",
    "        return m\n",
    "    return gcd(n, m % n)\n",
    "\n",
    "gcd(51, 15)"
   ]
  },
  {
   "cell_type": "markdown",
   "id": "institutional-invasion",
   "metadata": {},
   "source": [
    "## 4.3 フィボナッチ数列\n",
    "フィボナッチ数列とは、「1番目と2番目の数値は 1であり、3番目以降の数値は直前の2数の和である数列」のことです。"
   ]
  },
  {
   "cell_type": "code",
   "execution_count": 16,
   "id": "therapeutic-appointment",
   "metadata": {
    "tags": []
   },
   "outputs": [
    {
     "name": "stdout",
     "output_type": "stream",
     "text": [
      "5.69 µs ± 35.7 ns per loop (mean ± std. dev. of 7 runs, 100000 loops each)\n"
     ]
    }
   ],
   "source": [
    "%%timeit\n",
    "def fibonacci(n):\n",
    "#     print(n)\n",
    "    if n <= 2:\n",
    "#         print(\"a:\", n)\n",
    "        return 1\n",
    "    else:\n",
    "#         print(\"b:\", n)\n",
    "        return fibonacci(n - 2) + fibonacci(n - 1)\n",
    "    \n",
    "fibonacci(10)"
   ]
  },
  {
   "cell_type": "markdown",
   "id": "palestinian-aggregate",
   "metadata": {},
   "source": [
    "## 4.4 メモ化による計算量を減らす記法 = 動的計画法\n",
    "\n",
    "同じ引数に対する答えをメモ化し、２度目の再帰呼び出しを行わずにメモかした値を直接返す手法。  \n",
    "キャッシュとも呼ばれ、大幅な高速化が達成できます。"
   ]
  },
  {
   "cell_type": "code",
   "execution_count": 17,
   "id": "smart-meaning",
   "metadata": {},
   "outputs": [
    {
     "name": "stdout",
     "output_type": "stream",
     "text": [
      "684 ns ± 2.2 ns per loop (mean ± std. dev. of 7 runs, 1000000 loops each)\n"
     ]
    }
   ],
   "source": [
    "%%timeit\n",
    "def func(n):\n",
    "    # フィボナッチ数列をリストに保存していく、これにより繰り返しの計算を省ける！\n",
    "    fibonacci = [1,1]\n",
    "    # forループを回す\n",
    "    for i in range(2,n):\n",
    "        \n",
    "        # リストfibonacciの最後尾に直前2つの項の和を追加\n",
    "        fibonacci.append(fibonacci[i-2]+fibonacci[i-1])\n",
    "   \n",
    "    #returnでリストfibonacciの最後尾の値を返す\n",
    "    return fibonacci[n-1]\n",
    "   \n",
    "func(10)"
   ]
  },
  {
   "cell_type": "markdown",
   "id": "prostate-thinking",
   "metadata": {},
   "source": [
    "## 4.5 再帰関数を用いる全探索  \n",
    "3.5章でビット演算を用いたアルゴリズムで設計した部分和問題を再帰関数で解く。  \n"
   ]
  },
  {
   "cell_type": "markdown",
   "id": "known-rocket",
   "metadata": {},
   "source": [
    "###  注意事項\n",
    "Pythonでは再帰回数の上限が設定されています。（初期設定1000回)  \n",
    "そのため、競技プログラミングにおいては再帰関数の上限を十分大きい値に設定し直す必要があります。  \n",
    "（AtCoderでは上限回数を超えると「Runtime Error」になります）"
   ]
  },
  {
   "cell_type": "code",
   "execution_count": 18,
   "id": "generic-apache",
   "metadata": {},
   "outputs": [],
   "source": [
    "# pythonの再帰上限設定\n",
    "import sys\n",
    "sys.setrecursionlimit(4100000)"
   ]
  },
  {
   "cell_type": "code",
   "execution_count": 19,
   "id": "brutal-dealing",
   "metadata": {},
   "outputs": [
    {
     "data": {
      "text/plain": [
       "True"
      ]
     },
     "execution_count": 19,
     "metadata": {},
     "output_type": "execute_result"
    }
   ],
   "source": [
    "# input\n",
    "i = 4\n",
    "w = 14\n",
    "a = [3,2,6,5]\n",
    "\n",
    "# 再帰関数 ------------------------------\n",
    "def func(i, w, a):\n",
    "    if i == 0:\n",
    "        if w == 0:\n",
    "            return True\n",
    "        else:\n",
    "            return False\n",
    "        \n",
    "    #a[i - 1]を選ばない場合\n",
    "    if func(i - 1, w, a):\n",
    "        return True\n",
    "    \n",
    "    #a[i - 1]を選ぶ場合\n",
    "    if func(i - 1, w - a[i - 1], a):\n",
    "        return True\n",
    "    \n",
    "    return False\n",
    "# -------------------------------------\n",
    "\n",
    "ans = func(i,w,a)\n",
    "ans"
   ]
  },
  {
   "cell_type": "markdown",
   "id": "mighty-flesh",
   "metadata": {},
   "source": [
    "## 分割統治法  \n",
    "与えられた問題をいくつかの部分問題に分解し、各部分問題を再帰的に解き、  \n",
    "それらの解を組み合わせて元の問題の解を構成するアルゴリズムのこと。"
   ]
  },
  {
   "cell_type": "markdown",
   "id": "therapeutic-administration",
   "metadata": {},
   "source": [
    "## 問題"
   ]
  },
  {
   "cell_type": "markdown",
   "id": "eligible-mileage",
   "metadata": {},
   "source": [
    "### 4.1解答 トリボナッチ数列の再帰式"
   ]
  },
  {
   "cell_type": "code",
   "execution_count": 20,
   "id": "forty-revolution",
   "metadata": {},
   "outputs": [
    {
     "name": "stdout",
     "output_type": "stream",
     "text": [
      "17.6 µs ± 70.7 ns per loop (mean ± std. dev. of 7 runs, 100000 loops each)\n"
     ]
    }
   ],
   "source": [
    "%%timeit\n",
    "n = 10\n",
    "\n",
    "def tribonacci(n):\n",
    "    if n == 2:\n",
    "        return 1\n",
    "    elif n <= 1:\n",
    "        return 0\n",
    "    else:\n",
    "        return tribonacci(n-3)+tribonacci(n-2)+tribonacci(n-1)\n",
    "    \n",
    "tribonacci(n)"
   ]
  },
  {
   "cell_type": "markdown",
   "id": "answering-kennedy",
   "metadata": {},
   "source": [
    "### 4.2解答 問4.1の式にメモ化を行う。"
   ]
  },
  {
   "cell_type": "code",
   "execution_count": 21,
   "id": "ceramic-turtle",
   "metadata": {},
   "outputs": [
    {
     "name": "stdout",
     "output_type": "stream",
     "text": [
      "1.57 µs ± 14 ns per loop (mean ± std. dev. of 7 runs, 1000000 loops each)\n"
     ]
    }
   ],
   "source": [
    "%%timeit\n",
    "def tribonacci(signature, n):\n",
    "#     print(f\"tri({n}) を呼び出しました。\")\n",
    "    if n <= 3:\n",
    "        return signature[:3]\n",
    "    else:\n",
    "        result = tribonacci(signature, n-1)\n",
    "        ans = result + [sum(result[-3:])]\n",
    "#         print(f\"{n}項目:{ans}\")\n",
    "        return ans\n",
    "    \n",
    "x = tribonacci([0,0,1], 10)\n",
    "sum(x[-3:])"
   ]
  },
  {
   "cell_type": "markdown",
   "id": "superior-empty",
   "metadata": {},
   "source": [
    "# 第五章 動的計画法"
   ]
  },
  {
   "cell_type": "markdown",
   "id": "electric-agent",
   "metadata": {},
   "source": [
    "### 動的計画法とは  \n",
    "与えられた問題全体を一連の部分問題に上手に分解し、各部分問題に対する解をメモ化しながら、  \n",
    "小さな部分問題からより大きな部分問題へと順に解を求めて行く手法。  \n",
    "\n",
    "解決できる問題の幅が広いので取得が難しいが、一連の部分問題への分解の仕方だけで言うと、  \n",
    "パターンは限られるので、そこを習得することが重要です。"
   ]
  },
  {
   "cell_type": "markdown",
   "id": "blind-developer",
   "metadata": {},
   "source": [
    "## 5.2   グラフの問題として捉える"
   ]
  },
  {
   "cell_type": "markdown",
   "id": "infectious-stationery",
   "metadata": {},
   "source": [
    "###   グラフとは、  \n",
    "対象物の関係性を「丸」と「矢印」で表したものをグラフといい、丸を点、矢印を辺と言う。　　\n",
    "\n",
    "**例：frog問題**  \n",
    "- AからFまでの丸太を移動する >> 頂点0から点5までの移動。\n",
    "- カエルの移動コストの総和   >> 辿った各辺の重みの総和\n",
    "\n",
    "**以降の手順**\n",
    "\n",
    "1. 一度に求めるのは難しいので、頂点１までの最小コストを考える。  \n",
    "2. 頂点２までの最小コストを考える。  \n",
    "\n",
    "以降も同じ。  \n",
    "ポイントは最小のコストとなる物だけを考える。"
   ]
  },
  {
   "cell_type": "code",
   "execution_count": 61,
   "id": "located-ordering",
   "metadata": {},
   "outputs": [
    {
     "name": "stdout",
     "output_type": "stream",
     "text": [
      "14.3 µs ± 100 ns per loop (mean ± std. dev. of 7 runs, 100000 loops each)\n"
     ]
    }
   ],
   "source": [
    "%%timeit\n",
    "def flog(n):\n",
    "    h = (2,9,4,5,1,6,10) #各点の重み\n",
    "    w = np.zeros(len(h))\n",
    "\n",
    "    for i in range(1,n+1):\n",
    "        # 頂点1への最小コストを考える。\n",
    "        if i == 1:\n",
    "            w[i] = abs(h[i] - h[i - 1])\n",
    "        # 頂点２への最小コストを考える\n",
    "        else:\n",
    "            w[i] = np.min([w[i - 1] + abs(h[i] - h[i - 1]), w[i - 2] + abs(h[i] - h[i - 2])])\n",
    "        \n",
    "    return w\n",
    "\n",
    "flog(6)"
   ]
  },
  {
   "cell_type": "markdown",
   "id": "positive-attendance",
   "metadata": {},
   "source": [
    "### 部分構造最適性  \n",
    "元問題の最適性を考えるときに、小さな部分問題についても最適性が要求される構造。  \n",
    "\n",
    "上記のような構造を利用して各部分問題に対して最適化する手法を**動的計画法**という。"
   ]
  },
  {
   "cell_type": "markdown",
   "id": "egyptian-poker",
   "metadata": {},
   "source": [
    "## 動的計画法の諸概念"
   ]
  },
  {
   "cell_type": "markdown",
   "id": "optical-warren",
   "metadata": {},
   "source": [
    "- **緩和**:用意する配列に大きな値(inf)を入れておき、小さくして行くイメージ。**成立には点の値が確定していることが必要。**  \n",
    "- **遷移形式**:先程のコードは貰う配列形式（現在地からマイナスの処理)、逆にプラスするのを配る配列形式と呼ぶ。"
   ]
  },
  {
   "cell_type": "code",
   "execution_count": 65,
   "id": "prescribed-senior",
   "metadata": {},
   "outputs": [
    {
     "name": "stderr",
     "output_type": "stream",
     "text": [
      "UsageError: Line magic function `%%timeit` not found.\n"
     ]
    }
   ],
   "source": [
    "%%timeit\n",
    "#緩和の使用例\n",
    "def chmin(a,b):\n",
    "    if a > b:\n",
    "        a = b\n",
    "    \n",
    "def flag(n):\n",
    "    h = (2,9,4,5,1,6,10) #各点の重み\n",
    "    w = np.ones(len(h)) * 20\n",
    "\n",
    "    for i in range(1,n+1):\n",
    "        chmin([w[i], w[i - 1] + abs(h[i] - h[i - 1])])\n",
    "        if i > 1:\n",
    "            chmin([w[i], w[i - 2] + abs(h[i] - h[i - 2])])\n",
    "\n",
    "    return w\n",
    "\n",
    "flog(6)"
   ]
  },
  {
   "cell_type": "code",
   "execution_count": 64,
   "id": "referenced-alignment",
   "metadata": {},
   "outputs": [
    {
     "name": "stdout",
     "output_type": "stream",
     "text": [
      "14.3 µs ± 125 ns per loop (mean ± std. dev. of 7 runs, 100000 loops each)\n"
     ]
    }
   ],
   "source": [
    "%%timeit\n",
    "# 配る配列形式\n",
    "def chmin(a,b):\n",
    "    if a > b:\n",
    "        a = b\n",
    "    \n",
    "def flag(n):\n",
    "    h = (2,9,4,5,1,6,10) #各点の重み\n",
    "    w = np.ones(len(h)) * 20\n",
    "\n",
    "    for i in range(1,n+1):\n",
    "        if i + 1 < n:\n",
    "            chmin([w[i + 1], w[i] + abs(h[i] - h[i + 1])])\n",
    "        elif i + 2 < n:\n",
    "            chmin([w[i + 2], w[i] + abs(h[i] - h[i + 2])])\n",
    "\n",
    "    return w\n",
    "\n",
    "flog(6)"
   ]
  },
  {
   "cell_type": "markdown",
   "id": "manual-castle",
   "metadata": {},
   "source": [
    "## 5.4 ナップサック問題\n",
    "N地点まで移動する際に、各地点で荷物を拾う可否を決め、荷物のトータル価値を求める問題。  \n",
    "但し重さがｗを超えないようにする。\n",
    "\n",
    "### 考え方\n",
    "- i番目の品物を選ぶ： 選んだ後(i+1,w)なので、つまり選ぶ前は（i,w - weight[i])  \n",
    "- i番目の品物を選ばない: (i+1,w),(w[i],w)"
   ]
  },
  {
   "cell_type": "code",
   "execution_count": 25,
   "id": "beneficial-spine",
   "metadata": {},
   "outputs": [
    {
     "name": "stdout",
     "output_type": "stream",
     "text": [
      "99.0\n",
      "[[ 0.  0.  0.  0.  0.  0.  0.  0.  0.  0.  0.  0.  0.  0.]\n",
      " [ 0.  0.  3.  3.  3.  3.  3.  3.  3.  3.  3.  3.  3.  3.]\n",
      " [ 0.  2.  3.  5.  5.  5.  5.  5.  5.  5.  5.  5.  5.  5.]\n",
      " [ 0.  2.  3.  6.  8.  9. 11. 11. 11. 11. 11. 11. 11. 11.]\n",
      " [ 0.  2.  3.  6.  8.  9. 11. 11. 12. 12. 12. 12. 12. 12.]\n",
      " [ 0.  3.  5.  6.  9. 11. 12. 14. 14. 15. 15. 15. 15. 15.]\n",
      " [ 0.  3.  5.  6.  9. 85. 88. 90. 91. 94. 96. 97. 99. 99.]]\n"
     ]
    }
   ],
   "source": [
    "# %%timeit\n",
    "import numpy as np\n",
    "\n",
    "# 入力ーーーーーーーーーーーーーーーーーーーーーー\n",
    "# N,W = map(int,input().split()) # N =目的点までの距離 W =詰める荷物の量\n",
    "# w = [] # その点の重み\n",
    "# v = [] # その点の価値\n",
    "\n",
    "# for i in range(N):\n",
    "# 　　# mapは引数１を引数２に適用させる。つまり入力された文字列を空白で区切った整数値にする。\n",
    "#     x,y = map(int,input().split())\n",
    "#     w.append(x)\n",
    "#     v.append(y)   \n",
    "#ーーーーーーーーーーーーーーーーーーーーーーーーー  \n",
    "\n",
    "# サンプル---------------\n",
    "w = [2,1,3,2,1,5]\n",
    "v = [3,2,6,1,3,85]\n",
    "\n",
    "N = 6\n",
    "W = 13\n",
    "#----------------------\n",
    "\n",
    "# dp = [[0]*(W+1) for j in range(N+1)]          # DPテーブルの作成(for分バージョン)\n",
    "dp = np.zeros((N+1)*(W+1)).reshape((N+1),(W+1)) # DPテーブルの作成(numpyバージョン)\n",
    "\n",
    "for i in range(N):\n",
    "    for j in range(W+1):\n",
    "        if j < w[i]: # 選ばない時\n",
    "            dp[i+1][j] = dp[i][j]\n",
    "        else: # 選ぶ時\n",
    "            dp[i+1][j] = max(dp[i][j],dp[i][j-w[i]]+v[i])\n",
    "\n",
    "print(dp[N][W])\n",
    "print(dp)"
   ]
  },
  {
   "cell_type": "code",
   "execution_count": 67,
   "id": "allied-encyclopedia",
   "metadata": {},
   "outputs": [
    {
     "name": "stdout",
     "output_type": "stream",
     "text": [
      "[8 2 2 9 7 6 4 1 7 8]\n",
      "[8 2 2 9 7 6 4 1 7 8]\n",
      "[(7, -10) (2,  -9) (2,  -9) (6,  -8) (1,  -6) (4,  -6) (8,  -6) (7,  -5)\n",
      " (9,  -5) (8,  -2)]\n"
     ]
    }
   ],
   "source": [
    "# 新しく作る方法\n",
    "mydtype = np.dtype(\"i4,i8\")\n",
    "mydtype.names = (\"x\",\"y\")\n",
    "N = 10\n",
    "\n",
    "a = np.zeros(N, dtype = mydtype)\n",
    "a[\"x\"] = np.random.randint(0,10,N)\n",
    "a[\"y\"] = np.random.randint(-10,0,N)\n",
    "\n",
    "print(a[\"x\"])\n",
    "print(a[\"x\"])\n",
    "\n",
    "b = np.lexsort((a[\"x\"],a[\"y\"]))\n",
    "\n",
    "print(a[b])"
   ]
  },
  {
   "cell_type": "markdown",
   "id": "retained-family",
   "metadata": {},
   "source": [
    "## 6.1 二分探査法"
   ]
  },
  {
   "cell_type": "code",
   "execution_count": null,
   "id": "selected-insulin",
   "metadata": {},
   "outputs": [],
   "source": [
    "%%timeit\n",
    "def binary_search(data, value):\n",
    "    left = 0            # 探索する範囲の左端を設定\n",
    "    right = len(data) - 1            # 探索する範囲の右端を設定\n",
    "    while left <= right:\n",
    "        mid = (left + right) // 2            # 探索する範囲の中央を計算\n",
    "        if data[mid] == value:\n",
    "            # 中央の値と一致した場合は位置を返す\n",
    "            return mid\n",
    "        elif data[mid] < value:\n",
    "            # 中央の値より大きい場合は探索範囲の左を変える\n",
    "            left = mid + 1\n",
    "        else:\n",
    "            # 中央の値より小さい場合は探索範囲の右を変える\n",
    "            right = mid - 1\n",
    "    return -1            # 見つからなかった場合\n",
    "\n",
    "data = [10, 20, 30, 40, 50, 60, 70, 80, 90]\n",
    "binary_search(data, 90)"
   ]
  },
  {
   "cell_type": "code",
   "execution_count": null,
   "id": "fewer-mayor",
   "metadata": {},
   "outputs": [],
   "source": [
    "from bisect import bisect_left, bisect_right\n",
    " \n",
    "arr = [1,3,5,5,5,6,7] # 昇順にソートされている必要がある\n",
    "l = bisect_left(arr, 5)  # 5が入るべき境目のうち最も左側の境目を返す\n",
    "r = bisect_right(arr, 5) # 5が入るべき境目のうち最も右側の境目を返す\n",
    "print(l,r) # \"2 5\" が出力される"
   ]
  },
  {
   "cell_type": "code",
   "execution_count": null,
   "id": "blind-present",
   "metadata": {},
   "outputs": [],
   "source": [
    "%%timeit\n",
    "def binary_search(data, value):\n",
    "    l = bisect_left(data,value)\n",
    "    return l\n",
    "data = [10, 20, 30, 40, 50, 60, 70, 80, 90]\n",
    "binary_search(data, 90)"
   ]
  },
  {
   "cell_type": "code",
   "execution_count": null,
   "id": "juvenile-professional",
   "metadata": {},
   "outputs": [],
   "source": []
  },
  {
   "cell_type": "code",
   "execution_count": null,
   "id": "wrapped-traveler",
   "metadata": {},
   "outputs": [],
   "source": []
  },
  {
   "cell_type": "code",
   "execution_count": null,
   "id": "distinct-seventh",
   "metadata": {},
   "outputs": [],
   "source": []
  },
  {
   "cell_type": "code",
   "execution_count": null,
   "id": "instrumental-director",
   "metadata": {},
   "outputs": [],
   "source": []
  },
  {
   "cell_type": "code",
   "execution_count": null,
   "id": "romance-horizontal",
   "metadata": {},
   "outputs": [],
   "source": []
  },
  {
   "cell_type": "code",
   "execution_count": null,
   "id": "completed-bachelor",
   "metadata": {},
   "outputs": [],
   "source": []
  },
  {
   "cell_type": "code",
   "execution_count": null,
   "id": "spectacular-uncle",
   "metadata": {},
   "outputs": [],
   "source": []
  },
  {
   "cell_type": "code",
   "execution_count": null,
   "id": "running-newark",
   "metadata": {},
   "outputs": [],
   "source": []
  },
  {
   "cell_type": "code",
   "execution_count": null,
   "id": "adaptive-netherlands",
   "metadata": {},
   "outputs": [],
   "source": []
  },
  {
   "cell_type": "code",
   "execution_count": null,
   "id": "honest-constitution",
   "metadata": {},
   "outputs": [],
   "source": []
  },
  {
   "cell_type": "code",
   "execution_count": null,
   "id": "herbal-kingston",
   "metadata": {},
   "outputs": [],
   "source": []
  }
 ],
 "metadata": {
  "kernelspec": {
   "display_name": "Python 3",
   "language": "python",
   "name": "python3"
  },
  "language_info": {
   "codemirror_mode": {
    "name": "ipython",
    "version": 3
   },
   "file_extension": ".py",
   "mimetype": "text/x-python",
   "name": "python",
   "nbconvert_exporter": "python",
   "pygments_lexer": "ipython3",
   "version": "3.9.2"
  }
 },
 "nbformat": 4,
 "nbformat_minor": 5
}
