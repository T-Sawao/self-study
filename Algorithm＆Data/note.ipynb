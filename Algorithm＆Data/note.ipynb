{
 "cells": [
  {
   "cell_type": "markdown",
   "id": "dramatic-miniature",
   "metadata": {},
   "source": [
    "# アルゴリズムとデータ構造"
   ]
  },
  {
   "cell_type": "markdown",
   "id": "literary-render",
   "metadata": {},
   "source": [
    "# 第一章 アルゴリズム"
   ]
  },
  {
   "cell_type": "markdown",
   "id": "introductory-failing",
   "metadata": {},
   "source": [
    "## アルゴリズムとは  \n",
    "問題を解くための方法や手順の事。  \n",
    "生活のなかの身近なところに存在する。"
   ]
  },
  {
   "cell_type": "markdown",
   "id": "static-feelings",
   "metadata": {},
   "source": [
    "## 様々なアルゴリズム\n",
    "\n",
    "### 二分探索法\n",
    "数字の並びに対して真ん中で半分に絞り、それを１つの値になるまで繰り返す探索手法\n",
    "\n",
    "### 線形探索法\n",
    "順番に１つずつ調べていく手法。非効率！！\n",
    "\n",
    "### 深さ優先探索\n",
    "無数の選択肢を決め打ちして試す方法、行き詰まったら一歩戻って再度やり直す。  \n",
    "例：将棋ゲーム、\n",
    "  →13章:トポロジカルソートの実現に使用されている。\n",
    "  →05章:探索結果をメモすることで、動的計画法になる。\n",
    "  \n",
    "### 幅優先探索\n",
    "出発点から近いところから順番に探索する手法。\n",
    "例:迷路の最短ルート検索\n",
    "\n",
    "### マッチング  \n",
    "２つのカテゴリ間のつながりについて考える。\n",
    "例：インターネット広告配信、レコメンドシステム、マッチングアプリ\n",
    "  →16章:詳細説明"
   ]
  },
  {
   "cell_type": "markdown",
   "id": "adopted-insider",
   "metadata": {},
   "source": [
    "## アルゴリズムを学ぶ意義\n",
    "問題が解かなくても、問題解決するための手順がわかるようになり、問題解決の幅を広げられる。"
   ]
  },
  {
   "cell_type": "markdown",
   "id": "finite-senior",
   "metadata": {},
   "source": [
    "## 問題 2分探査法"
   ]
  },
  {
   "cell_type": "markdown",
   "id": "indonesian-prefix",
   "metadata": {},
   "source": [
    "### 1.1の解答"
   ]
  },
  {
   "cell_type": "code",
   "execution_count": 15,
   "id": "mental-marking",
   "metadata": {},
   "outputs": [],
   "source": [
    "import numpy as np"
   ]
  },
  {
   "cell_type": "code",
   "execution_count": 16,
   "id": "decreased-easter",
   "metadata": {},
   "outputs": [
    {
     "name": "stdout",
     "output_type": "stream",
     "text": [
      "27\n",
      "31\n",
      "29\n",
      "28\n",
      "Aさんの年齢は、28歳です\n"
     ]
    }
   ],
   "source": [
    "def binary_search(data, value):\n",
    "    left = 0                       # 探索する範囲の左端を設定\n",
    "    right = len(data) - 1          # 探索する範囲の右端を設定\n",
    "    while left <= right:\n",
    "        mid = (left + right) // 2  # 探索する範囲の中央を計算\n",
    "        print(data[mid])\n",
    "        \n",
    "        if data[mid] == value:  # 中央の値と一致した場合は位置を返す\n",
    "            return data[mid]\n",
    "        elif data[mid] < value: # 中央の値より大きい場合は探索範囲の左を変える\n",
    "            left = mid + 1\n",
    "        else:                   # 中央の値より小さい場合は探索範囲の右を変える\n",
    "            right = mid - 1\n",
    "    return -1                   # 見つからなかった場合\n",
    "\n",
    "data  = np.arange(20,36)\n",
    "x = binary_search(data, 28)\n",
    "print(f\"Aさんの年齢は、{x}歳です\")"
   ]
  },
  {
   "cell_type": "markdown",
   "id": "clean-visiting",
   "metadata": {},
   "source": [
    "### 1.2の解答"
   ]
  },
  {
   "cell_type": "code",
   "execution_count": 17,
   "id": "arctic-audit",
   "metadata": {},
   "outputs": [
    {
     "name": "stdout",
     "output_type": "stream",
     "text": [
      "49\n",
      "74\n",
      "87\n",
      "93\n",
      "96\n",
      "98\n",
      "99\n",
      "Aさんの年齢は、99歳です\n"
     ]
    }
   ],
   "source": [
    "data  = np.arange(0,100)\n",
    "x = binary_search(data, 99)\n",
    "print(f\"Aさんの年齢は、{x}歳です\")"
   ]
  },
  {
   "cell_type": "markdown",
   "id": "foster-location",
   "metadata": {},
   "source": [
    "６回では解は導き出せないが、７回目で解を導ける。"
   ]
  },
  {
   "cell_type": "markdown",
   "id": "sealed-production",
   "metadata": {},
   "source": [
    "### 1.3の解答"
   ]
  },
  {
   "cell_type": "code",
   "execution_count": 18,
   "id": "important-locator",
   "metadata": {},
   "outputs": [
    {
     "data": {
      "text/plain": [
       "945"
      ]
     },
     "execution_count": 18,
     "metadata": {},
     "output_type": "execute_result"
    }
   ],
   "source": [
    "#試行結果のみ\n",
    "\n",
    "a = 27\n",
    "b = 35\n",
    "\n",
    "ans =a*b\n",
    "ans"
   ]
  },
  {
   "cell_type": "markdown",
   "id": "dental-arthur",
   "metadata": {},
   "source": [
    "# 第二章 計算量とオーダー記法"
   ]
  },
  {
   "cell_type": "markdown",
   "id": "removed-folks",
   "metadata": {},
   "source": [
    "## オーダー記法の考え方\n",
    "\n",
    "- 一重のfor文をO(N)と記載し、Nに比例して計算時間が掛かる。  \n",
    "- 二重のfor文となると$O(N^2)$に比例する。  \n",
    "- 定数倍や低次の項を無視する。\n"
   ]
  },
  {
   "cell_type": "markdown",
   "id": "filled-kuwait",
   "metadata": {},
   "source": [
    "## 計算量の使い方"
   ]
  },
  {
   "cell_type": "markdown",
   "id": "played-drawing",
   "metadata": {},
   "source": [
    "- 計算実行時間の制限\n",
    "- 解きたい問題のサイズ\n",
    "\n",
    "上記二点からどの程度の計算量を達成すれば良いかが逆算出来る。　\n",
    "\n",
    "**1秒間で処理できる計算ステップ回数の目安 : $10^9 = 1,000,000,000$回程度**\n",
    "\n",
    "指数時間（$O/N!,2^N$)は、非常に時間が掛かり、$NlogNやN√N$である多項式時間は短時間でできる。"
   ]
  },
  {
   "cell_type": "markdown",
   "id": "mighty-evaluation",
   "metadata": {},
   "source": [
    "# 第三章 設計技法 全探索"
   ]
  },
  {
   "cell_type": "markdown",
   "id": "killing-utilization",
   "metadata": {},
   "source": [
    "## 全探索とは、\n",
    "解きたい問題に対して、全ての可能性を試す方法\n"
   ]
  },
  {
   "cell_type": "markdown",
   "id": "increased-impression",
   "metadata": {},
   "source": [
    "## 3.3 線形探索法\n",
    "\n",
    "１つ１つの要素を順に調べて行く探索法\n"
   ]
  },
  {
   "cell_type": "code",
   "execution_count": 25,
   "id": "directed-grant",
   "metadata": {},
   "outputs": [
    {
     "name": "stdout",
     "output_type": "stream",
     "text": [
      "[15 35 98 48  6 20 33 19 95 74 70 72 60 96 56 60 52 18 11 22 86 96 98 35\n",
      " 36 94 42 80 55 73 65 74 68 25 43 99 32 72 45 39 50 95 32 77 40 54 86 27\n",
      " 62 94 54 60 88 99  7 92  1 99 50 81 77 94 10 62 53 76 72 30 17 57 32 96\n",
      "  4 74 57 86 81 93  6 65 57 18  9 87 21 36 34 93 71 30 54 24 60 68 49 33\n",
      " 47 66 83 30]\n",
      "[28]\n"
     ]
    },
    {
     "data": {
      "text/plain": [
       "[]"
      ]
     },
     "execution_count": 25,
     "metadata": {},
     "output_type": "execute_result"
    }
   ],
   "source": [
    "# 線形探索法--------------------------------------------\n",
    "\n",
    "def linear_search(data, value):\n",
    "    count = 0\n",
    "    id = []\n",
    "\n",
    "    for i in data:\n",
    "        count +=1\n",
    "        if i == value:\n",
    "            id.append(count)\n",
    "    return id\n",
    "#------------------------------------------------------\n",
    "\n",
    "data  = np.random.randint(1,100,100)\n",
    "print(data)\n",
    "value = np.random.randint(1,100,1)\n",
    "print(value)\n",
    "\n",
    "ans = linear_search(data, value)\n",
    "ans"
   ]
  },
  {
   "cell_type": "markdown",
   "id": "parliamentary-output",
   "metadata": {},
   "source": [
    "## 3.4 ペアの全探索"
   ]
  },
  {
   "cell_type": "code",
   "execution_count": 26,
   "id": "elegant-editor",
   "metadata": {},
   "outputs": [
    {
     "name": "stdout",
     "output_type": "stream",
     "text": [
      "Kの値は[7]です\n",
      "[7 2 6]\n",
      "[3 6 1]\n"
     ]
    }
   ],
   "source": [
    "N = 3\n",
    "K =  np.random.randint(0,10,1)\n",
    "a = np.random.randint(0,10,N)\n",
    "b = np.random.randint(0,10,N)\n",
    "print(f\"Kの値は{K}です\")\n",
    "print(a)\n",
    "print(b)"
   ]
  },
  {
   "cell_type": "code",
   "execution_count": 27,
   "id": "acoustic-curve",
   "metadata": {},
   "outputs": [
    {
     "name": "stdout",
     "output_type": "stream",
     "text": [
      "[[7, 3], [7, 6], [7, 1], [2, 6], [6, 3], [6, 6], [6, 1]]\n",
      "7\n",
      "7\n"
     ]
    }
   ],
   "source": [
    "id = []\n",
    "min = 1000\n",
    "count = 0\n",
    "count_id = 0\n",
    "\n",
    "for i in a:\n",
    "    for j in b:\n",
    "        x = i+j\n",
    "        if x >= K:\n",
    "            count += 1\n",
    "            id.append([i,j])\n",
    "            if min > x:\n",
    "                min = x\n",
    "                count_id = count\n",
    "            \n",
    "print(id)\n",
    "print(min)\n",
    "print(count_id)"
   ]
  },
  {
   "cell_type": "markdown",
   "id": "broadband-termination",
   "metadata": {},
   "source": [
    "## 3.5 組み合わせの全探索"
   ]
  },
  {
   "cell_type": "markdown",
   "id": "official-creativity",
   "metadata": {},
   "source": [
    "ビット演算が出てくるので分かりづらい。\n",
    "\n",
    "ビット演算の参考ページ  \n",
    "https://qiita.com/Ingward/items/43acda931c8a62c70d2f#:~:text=%3C%3C%EF%BC%88%E5%B7%A6%E3%83%93%E3%83%83%E3%83%88%E3%82%B7%E3%83%95%E3%83%88%EF%BC%89"
   ]
  },
  {
   "cell_type": "code",
   "execution_count": 28,
   "id": "freelance-fabric",
   "metadata": {},
   "outputs": [
    {
     "name": "stdout",
     "output_type": "stream",
     "text": [
      "aの値は5です\n",
      "[6 5 9 8 5]\n"
     ]
    }
   ],
   "source": [
    "a = np.random.randint(0,10,5)\n",
    "k = 10\n",
    "\n",
    "print(f\"aの値は{len(a)}です\")\n",
    "print(a)"
   ]
  },
  {
   "cell_type": "code",
   "execution_count": 29,
   "id": "rocky-configuration",
   "metadata": {},
   "outputs": [
    {
     "name": "stdout",
     "output_type": "stream",
     "text": [
      "Yes\n"
     ]
    }
   ],
   "source": [
    "#判定用の変数\n",
    "cnt = 0\n",
    "\n",
    "#全探索\n",
    "for i in range(1<<len(a)):\n",
    "    l = []\n",
    "    for j in range(len(a)):\n",
    "        if (i>>j & 1) == 1:\n",
    "            l.append(a[j])\n",
    "    if sum(l) == k:\n",
    "        cnt += 1\n",
    "print('Yes' if cnt>=1 else 'No')"
   ]
  },
  {
   "cell_type": "markdown",
   "id": "quality-usage",
   "metadata": {},
   "source": [
    "## 問題"
   ]
  },
  {
   "cell_type": "markdown",
   "id": "sophisticated-offense",
   "metadata": {},
   "source": [
    "### 3.1"
   ]
  },
  {
   "cell_type": "code",
   "execution_count": 30,
   "id": "greater-lease",
   "metadata": {},
   "outputs": [
    {
     "name": "stdout",
     "output_type": "stream",
     "text": [
      "[20 20 26 24 33 32 26 32 31 22 25 31 31 28 29 35 20 22 29 34 32 34 28 20\n",
      " 31 28 32 28 29 35 33 22 20 31 21 35 24 21 24 35 25 22 20 26 35 22 25 29\n",
      " 27 27 29 35 34 26 30 29 21 25 35 34 24 30 22 21 31 28 22 22 22 29 22 31\n",
      " 20 21 30 24 23 20 32 33 33 22 21 33 24 20 31 33 35 30 25 25 27 31 21 33\n",
      " 23 20 28 20]\n",
      "[13, 22, 25, 27, 65, 98]\n"
     ]
    },
    {
     "data": {
      "text/plain": [
       "98"
      ]
     },
     "execution_count": 30,
     "metadata": {},
     "output_type": "execute_result"
    }
   ],
   "source": [
    "def found(data, v):\n",
    "    found_id = []\n",
    "    for i in range(len(data)):\n",
    "        if data[i] == v:\n",
    "            found_id.append(i)\n",
    "    print(found_id)\n",
    "    return np.array(([found_id])).max()\n",
    "#     if fuound_id == :\n",
    "#         return NO\n",
    "#     else:\n",
    "#         return np.array(([found_id])).max()\n",
    "            \n",
    "data = np.random.randint(20,36,100)\n",
    "v = 28\n",
    "print(data)\n",
    "found(data, v)"
   ]
  },
  {
   "cell_type": "markdown",
   "id": "assigned-candle",
   "metadata": {},
   "source": [
    "### 3.2の解答"
   ]
  },
  {
   "cell_type": "code",
   "execution_count": 31,
   "id": "developed-centre",
   "metadata": {},
   "outputs": [
    {
     "name": "stdout",
     "output_type": "stream",
     "text": [
      "data: [7 9 3 1 5 9 8 6 6 3 9 1 5 4 2 9 6 1 4 1]\n",
      "v: 4\n",
      "4のカウント数は、2です。\n"
     ]
    }
   ],
   "source": [
    "def count(data, v):\n",
    "    count = 0\n",
    "    for i in range(len(data)):\n",
    "        if data[i] == v:\n",
    "            count += 1\n",
    "    return count\n",
    "\n",
    "data = np.random.randint(0,10,20)\n",
    "v = 4\n",
    "\n",
    "print(\"data:\", data)\n",
    "print(\"v:\",v)\n",
    "print(f\"{v}のカウント数は、{count(data, v)}です。\")"
   ]
  },
  {
   "cell_type": "markdown",
   "id": "peaceful-elizabeth",
   "metadata": {},
   "source": [
    "### 3.3の解答"
   ]
  },
  {
   "cell_type": "code",
   "execution_count": 32,
   "id": "continuous-synthesis",
   "metadata": {},
   "outputs": [
    {
     "name": "stdout",
     "output_type": "stream",
     "text": [
      "[[2 3 6 6 7 7 9 9]]\n"
     ]
    },
    {
     "data": {
      "text/plain": [
       "array([3])"
      ]
     },
     "execution_count": 32,
     "metadata": {},
     "output_type": "execute_result"
    }
   ],
   "source": [
    "def search(data):\n",
    "    box = []\n",
    "    for i in data:\n",
    "        if i >= 2:\n",
    "            box.append(i)\n",
    "    box = np.sort(np.array([box]),axis=1)[::-1]\n",
    "    print(box)\n",
    "    return box[:,1]\n",
    "\n",
    "data = np.random.randint(0,10,10)\n",
    "search(data)"
   ]
  },
  {
   "cell_type": "markdown",
   "id": "severe-albania",
   "metadata": {},
   "source": [
    "### 3.4の解答"
   ]
  },
  {
   "cell_type": "code",
   "execution_count": 33,
   "id": "remarkable-tongue",
   "metadata": {},
   "outputs": [
    {
     "name": "stdout",
     "output_type": "stream",
     "text": [
      "dataの値は: [0 8 2 3 1 1 9 7 7 3]\n"
     ]
    },
    {
     "data": {
      "text/plain": [
       "0"
      ]
     },
     "execution_count": 33,
     "metadata": {},
     "output_type": "execute_result"
    }
   ],
   "source": [
    "def search(data):\n",
    "    max = 0\n",
    "    a = 1\n",
    "    b = 0\n",
    "    ans = abs(data[a] - data[b])\n",
    "    if max < ans:\n",
    "        max == ans\n",
    "    return max\n",
    "\n",
    "data = np.random.randint(0,10,10)\n",
    "print(\"dataの値は:\", data)\n",
    "search(data)"
   ]
  },
  {
   "cell_type": "markdown",
   "id": "falling-stadium",
   "metadata": {},
   "source": [
    "# 第四章 再帰と分割統治法"
   ]
  },
  {
   "cell_type": "markdown",
   "id": "moved-fisher",
   "metadata": {},
   "source": [
    "## 再帰とは\n",
    "自分自身を呼び出す事（再帰呼び出し）、その関数を再帰関数と言う。"
   ]
  },
  {
   "cell_type": "markdown",
   "id": "intended-rogers",
   "metadata": {},
   "source": [
    "## 4.1 再帰関数のテンプレート式"
   ]
  },
  {
   "cell_type": "code",
   "execution_count": 34,
   "id": "mexican-antigua",
   "metadata": {},
   "outputs": [
    {
     "name": "stdout",
     "output_type": "stream",
     "text": [
      "Falseの場合、nの値は： 5\n",
      "Falseの場合、nの値は： 4\n",
      "Falseの場合、nの値は： 3\n",
      "Falseの場合、nの値は： 2\n",
      "Falseの場合、nの値は： 1\n",
      "Trueの場合、nの値は： 0\n"
     ]
    },
    {
     "data": {
      "text/plain": [
       "15"
      ]
     },
     "execution_count": 34,
     "metadata": {},
     "output_type": "execute_result"
    }
   ],
   "source": [
    "def recursive_function(n):\n",
    "    if n < 1:\n",
    "        print(\"Trueの場合、nの値は：\",n)\n",
    "        return n\n",
    "        \n",
    "    \n",
    "    print(\"Falseの場合、nの値は：\",n)\n",
    "    return n + recursive_function(n-1)\n",
    "\n",
    "rf = recursive_function(5)\n",
    "rf"
   ]
  },
  {
   "cell_type": "markdown",
   "id": "compatible-participation",
   "metadata": {},
   "source": [
    "## 4.2 ユークリッドの互除法\n",
    "２つの整数m,nの最大公約数（GCD(m,n))を求めるアルゴリズム。\n",
    "\n",
    "**最大公約数の性質**  \n",
    "mをnで割った時の余りをrとすると、  \n",
    "$GCD(m, n) = GCD(n, r)$  \n",
    "が成立する。"
   ]
  },
  {
   "cell_type": "code",
   "execution_count": 35,
   "id": "controversial-visit",
   "metadata": {},
   "outputs": [
    {
     "data": {
      "text/plain": [
       "3"
      ]
     },
     "execution_count": 35,
     "metadata": {},
     "output_type": "execute_result"
    }
   ],
   "source": [
    "def gcd(m, n):\n",
    "    if n == 0:\n",
    "        return m\n",
    "    return gcd(n, m % n)\n",
    "\n",
    "gcd(51, 15)"
   ]
  },
  {
   "cell_type": "markdown",
   "id": "eight-upper",
   "metadata": {},
   "source": [
    "## 4.3 フィボナッチ数列\n",
    "フィボナッチ数列とは、「1番目と2番目の数値は 1であり、3番目以降の数値は直前の2数の和である数列」のことです。"
   ]
  },
  {
   "cell_type": "code",
   "execution_count": 41,
   "id": "strategic-daughter",
   "metadata": {
    "tags": []
   },
   "outputs": [
    {
     "data": {
      "text/plain": [
       "3"
      ]
     },
     "execution_count": 41,
     "metadata": {},
     "output_type": "execute_result"
    }
   ],
   "source": [
    "# %%timeit\n",
    "def fibonacci(n):\n",
    "#     print(n)\n",
    "    if n <= 2:\n",
    "#         print(\"a:\", n)\n",
    "        return 1\n",
    "    else:\n",
    "#         print(\"b:\", n)\n",
    "        return fibonacci(n - 2) + fibonacci(n - 1)\n",
    "    \n",
    "fibonacci(4)"
   ]
  },
  {
   "cell_type": "markdown",
   "id": "returning-native",
   "metadata": {},
   "source": [
    "## 4.4 メモ化による計算量を減らす記法 = 動的計画法\n",
    "\n",
    "同じ引数に対する答えをメモ化し、２度目の再帰呼び出しを行わずにメモかした値を直接返す手法。  \n",
    "キャッシュとも呼ばれ、大幅な高速化が達成できます。"
   ]
  },
  {
   "cell_type": "code",
   "execution_count": 42,
   "id": "multiple-brain",
   "metadata": {},
   "outputs": [
    {
     "name": "stdout",
     "output_type": "stream",
     "text": [
      "695 ns ± 7.25 ns per loop (mean ± std. dev. of 7 runs, 1000000 loops each)\n"
     ]
    }
   ],
   "source": [
    "%%timeit\n",
    "def func(n):\n",
    "    # フィボナッチ数列をリストに保存していく、これにより繰り返しの計算を省ける！\n",
    "    fibonacci = [1,1]\n",
    "    # forループを回す\n",
    "    for i in range(2,n):\n",
    "        \n",
    "        # リストfibonacciの最後尾に直前2つの項の和を追加\n",
    "        fibonacci.append(fibonacci[i-2]+fibonacci[i-1])\n",
    "   \n",
    "    #returnでリストfibonacciの最後尾の値を返す\n",
    "    return fibonacci[n-1]\n",
    "   \n",
    "func(10)"
   ]
  },
  {
   "cell_type": "markdown",
   "id": "cloudy-export",
   "metadata": {},
   "source": [
    "## 4.5 再帰関数を用いる全探索  \n",
    "3.5章でビット演算を用いたアルゴリズムで設計した部分和問題を再帰関数で解く。  \n"
   ]
  },
  {
   "cell_type": "markdown",
   "id": "large-likelihood",
   "metadata": {},
   "source": [
    "###  注意事項\n",
    "Pythonでは再帰回数の上限が設定されています。（初期設定1000回)  \n",
    "そのため、競技プログラミングにおいては再帰関数の上限を十分大きい値に設定し直す必要があります。  \n",
    "（AtCoderでは上限回数を超えると「Runtime Error」になります）"
   ]
  },
  {
   "cell_type": "code",
   "execution_count": 43,
   "id": "planned-provincial",
   "metadata": {},
   "outputs": [],
   "source": [
    "# pythonの再帰上限設定\n",
    "import sys\n",
    "sys.setrecursionlimit(4100000)"
   ]
  },
  {
   "cell_type": "code",
   "execution_count": 44,
   "id": "rolled-force",
   "metadata": {},
   "outputs": [
    {
     "data": {
      "text/plain": [
       "True"
      ]
     },
     "execution_count": 44,
     "metadata": {},
     "output_type": "execute_result"
    }
   ],
   "source": [
    "# input\n",
    "i = 4\n",
    "w = 14\n",
    "a = [3,2,6,5]\n",
    "\n",
    "# 再帰関数 ------------------------------\n",
    "def func(i, w, a):\n",
    "    if i == 0:\n",
    "        if w == 0:\n",
    "            return True\n",
    "        else:\n",
    "            return False\n",
    "        \n",
    "    #a[i - 1]を選ばない場合\n",
    "    if func(i - 1, w, a):\n",
    "        return True\n",
    "    \n",
    "    #a[i - 1]を選ぶ場合\n",
    "    if func(i - 1, w - a[i - 1], a):\n",
    "        return True\n",
    "    \n",
    "    return False\n",
    "# -------------------------------------\n",
    "\n",
    "ans = func(i,w,a)\n",
    "ans"
   ]
  },
  {
   "cell_type": "markdown",
   "id": "capable-spare",
   "metadata": {},
   "source": [
    "## 分割統治法  \n",
    "与えられた問題をいくつかの部分問題に分解し、各部分問題を再帰的に解き、  \n",
    "それらの解を組み合わせて元の問題の解を構成するアルゴリズムのこと。"
   ]
  },
  {
   "cell_type": "markdown",
   "id": "occasional-phase",
   "metadata": {},
   "source": [
    "## 問題"
   ]
  },
  {
   "cell_type": "markdown",
   "id": "searching-spain",
   "metadata": {},
   "source": [
    "### 4.1解答 トリボナッチ数列の再帰式"
   ]
  },
  {
   "cell_type": "code",
   "execution_count": 46,
   "id": "boxed-hammer",
   "metadata": {},
   "outputs": [
    {
     "data": {
      "text/plain": [
       "2"
      ]
     },
     "execution_count": 46,
     "metadata": {},
     "output_type": "execute_result"
    }
   ],
   "source": [
    "# %%timeit\n",
    "n = 4\n",
    "\n",
    "def tribonacci(n):\n",
    "    if n == 2:\n",
    "        return 1\n",
    "    elif n <= 1:\n",
    "        return 0\n",
    "    else:\n",
    "        return tribonacci(n-3)+tribonacci(n-2)+tribonacci(n-1)\n",
    "    \n",
    "tribonacci(n)"
   ]
  },
  {
   "cell_type": "markdown",
   "id": "native-supervision",
   "metadata": {},
   "source": [
    "### 4.2解答 問4.1の式にメモ化を行う。"
   ]
  },
  {
   "cell_type": "code",
   "execution_count": 49,
   "id": "level-sculpture",
   "metadata": {},
   "outputs": [
    {
     "data": {
      "text/plain": [
       "2"
      ]
     },
     "execution_count": 49,
     "metadata": {},
     "output_type": "execute_result"
    }
   ],
   "source": [
    "# %%timeit\n",
    "def tribonacci(signature, n):\n",
    "#     print(f\"tri({n}) を呼び出しました。\")\n",
    "    if n <= 3:\n",
    "        return signature[:3]\n",
    "    else:\n",
    "        result = tribonacci(signature, n-1)\n",
    "        ans = result + [sum(result[-3:])]\n",
    "#         print(f\"{n}項目:{ans}\")\n",
    "        return ans\n",
    "    \n",
    "x = tribonacci([0,0,1], 4)\n",
    "sum(x[-3:])"
   ]
  },
  {
   "cell_type": "markdown",
   "id": "voluntary-treat",
   "metadata": {},
   "source": [
    "# 第五章 動的計画法"
   ]
  },
  {
   "cell_type": "markdown",
   "id": "cognitive-pontiac",
   "metadata": {},
   "source": [
    "### 動的計画法とは  \n",
    "与えられた問題全体を一連の部分問題に上手に分解し、各部分問題に対する解をメモ化しながら、  \n",
    "小さな部分問題からより大きな部分問題へと順に解を求めて行く手法。  \n",
    "\n",
    "解決できる問題の幅が広いので取得が難しいが、一連の部分問題への分解の仕方だけで言うと、  \n",
    "パターンは限られるので、そこを習得することが重要です。"
   ]
  },
  {
   "cell_type": "markdown",
   "id": "valuable-barrier",
   "metadata": {},
   "source": [
    "## 5.2   グラフの問題として捉える"
   ]
  },
  {
   "cell_type": "markdown",
   "id": "administrative-jones",
   "metadata": {},
   "source": [
    "###   グラフとは、  \n",
    "対象物の関係性を「丸」と「矢印」で表したものをグラフといい、丸を点、矢印を辺と言う。　　\n",
    "\n",
    "**例：frog問題**  \n",
    "- AからFまでの丸太を移動する >> 頂点0から点5までの移動。\n",
    "- カエルの移動コストの総和   >> 辿った各辺の重みの総和\n",
    "\n",
    "**以降の手順**\n",
    "\n",
    "1. 一度に求めるのは難しいので、頂点１までの最小コストを考える。  \n",
    "2. 頂点２までの最小コストを考える。  \n",
    "\n",
    "以降も同じ。  \n",
    "ポイントは最小のコストとなる物だけを考える。"
   ]
  },
  {
   "cell_type": "code",
   "execution_count": 50,
   "id": "furnished-clarity",
   "metadata": {},
   "outputs": [
    {
     "data": {
      "text/plain": [
       "array([0., 7., 2., 3., 5., 4., 8.])"
      ]
     },
     "execution_count": 50,
     "metadata": {},
     "output_type": "execute_result"
    }
   ],
   "source": [
    "# %%timeit\n",
    "def flog(n):\n",
    "    h = (2,9,4,5,1,6,10) #各点の重み\n",
    "    w = np.zeros(len(h))\n",
    "\n",
    "    for i in range(1,n+1):\n",
    "        # 頂点1への最小コストを考える。\n",
    "        if i == 1:\n",
    "            w[i] = abs(h[i] - h[i - 1])\n",
    "        # 頂点２への最小コストを考える\n",
    "        else:\n",
    "            w[i] = np.min([w[i - 1] + abs(h[i] - h[i - 1]), w[i - 2] + abs(h[i] - h[i - 2])])\n",
    "        \n",
    "    return w\n",
    "\n",
    "flog(6)"
   ]
  },
  {
   "cell_type": "markdown",
   "id": "creative-nightmare",
   "metadata": {},
   "source": [
    "### 部分構造最適性  \n",
    "元問題の最適性を考えるときに、小さな部分問題についても最適性が要求される構造。  \n",
    "\n",
    "上記のような構造を利用して各部分問題に対して最適化する手法を**動的計画法**という。"
   ]
  },
  {
   "cell_type": "markdown",
   "id": "prescribed-finding",
   "metadata": {},
   "source": [
    "## 動的計画法の諸概念"
   ]
  },
  {
   "cell_type": "markdown",
   "id": "multiple-league",
   "metadata": {},
   "source": [
    "- **緩和**:用意する配列に大きな値(inf)を入れておき、小さくして行くイメージ。**成立には点の値が確定していることが必要。**  \n",
    "- **遷移形式**:先程のコードは貰う配列形式（現在地からマイナスの処理)、逆にプラスするのを配る配列形式と呼ぶ。"
   ]
  },
  {
   "cell_type": "code",
   "execution_count": 52,
   "id": "iraqi-playback",
   "metadata": {},
   "outputs": [
    {
     "data": {
      "text/plain": [
       "[0, 7, 2, 3, 5, 4, 8]"
      ]
     },
     "execution_count": 52,
     "metadata": {},
     "output_type": "execute_result"
    }
   ],
   "source": [
    "# %%timeit\n",
    "# 緩和の使用例\n",
    "\n",
    "# dpの最小値を変更する関数\n",
    "def chmin(a,b):\n",
    "    if a > b:\n",
    "        return b\n",
    "    else:\n",
    "        return a\n",
    "\n",
    "def flog_get(n):\n",
    "    h = (2,9,4,5,1,6,10) # 各点の重み\n",
    "    f_inf = float('inf') # 無限大の値\n",
    "    dp = [f_inf] * (10**5+10) # DP テーブルを初期化　(最小化問題なので INF に初期化)\n",
    "    dp[0] = 0 # 初期条件\n",
    "\n",
    "    # 足場 i-1 から足場 i へ移動する。コストは|h[i]−h[i-1]|\n",
    "    # 足場 i-2 から足場 i へと移動する コストは |h[i]−h[i-2]|\n",
    "    for i in range(1, n):\n",
    "        dp[i] = chmin(dp[i], dp[i - 1] + abs(h[i] - h[i-1]))\n",
    "        # 一番目の足場では一つ前しか存在しない\n",
    "        if i > 1:\n",
    "            dp[i] = chmin(dp[i], dp[i - 2] + abs(h[i] - h[i -2]))\n",
    "    return dp[:n]\n",
    "\n",
    "flog_get(7)"
   ]
  },
  {
   "cell_type": "code",
   "execution_count": 53,
   "id": "decent-arctic",
   "metadata": {},
   "outputs": [
    {
     "data": {
      "text/plain": [
       "[0, 7, 2, 3, 5, 4, 8]"
      ]
     },
     "execution_count": 53,
     "metadata": {},
     "output_type": "execute_result"
    }
   ],
   "source": [
    "# %%timeit\n",
    "# 配るDPの使用例\n",
    "\n",
    "# dpの最小値を変更する関数\n",
    "def chmin(a,b):\n",
    "    if a > b:\n",
    "        return b\n",
    "    else:\n",
    "        return a\n",
    "\n",
    "def flog_dist(n):\n",
    "    h = (2,9,4,5,1,6,10) # 各点の重み\n",
    "    f_inf = float('inf') # 無限大の値\n",
    "    dp = [f_inf] * (10**5+10) # DP テーブルを初期化　(最小化問題なので INF に初期化)\n",
    "    dp[0] = 0 # 初期条件\n",
    "\n",
    "    # 足場 i から足場 i+1 へ移動する。コストは|h[i]−h[i+1]|\n",
    "    # 足場 i から足場 i+2 へと移動する コストは |h[i]−h[i+2]|\n",
    "    for i in range(n-1):\n",
    "        dp[i + 1] = chmin(dp[i + 1], dp[i] + abs(h[i] - h[i + 1]))\n",
    "        # n-2の時は2つ先はない\n",
    "        if i < n-2:\n",
    "            dp[i + 2] = chmin(dp[i + 2], dp[i] + abs(h[i] - h[i + 2]))\n",
    "    return dp[:n]\n",
    "\n",
    "flog_dist(7)"
   ]
  },
  {
   "cell_type": "code",
   "execution_count": 54,
   "id": "reliable-canvas",
   "metadata": {
    "tags": []
   },
   "outputs": [
    {
     "data": {
      "text/plain": [
       "4"
      ]
     },
     "execution_count": 54,
     "metadata": {},
     "output_type": "execute_result"
    }
   ],
   "source": [
    "# %%timeit\n",
    "n = 6\n",
    "h = (2,9,4,5,1,6,10) # 各点の重み\n",
    "# 無限大の値\n",
    "f_inf = float('inf')\n",
    "# メモ用のDP テーブルを初期化　(最小化問題なので INF に初期化)\n",
    "dp = [f_inf] * (10**5+10)\n",
    "# dpの最小値を変更する関数\n",
    "def chmin(a, b):\n",
    "    if a > b:\n",
    "        return b\n",
    "    else:\n",
    "        return a\n",
    "# メモ化再帰の関数\n",
    "def rec(i):\n",
    "    # DPの値が更新されている場合はその値を返す\n",
    "    if dp[i] <  f_inf:\n",
    "        return dp[i]\n",
    "    \n",
    "    # 再帰の終了条件。足場0のコストは0\n",
    "    if i == 0:\n",
    "        return 0\n",
    "    \n",
    "    # i-1, i-2　を再帰\n",
    "    res = f_inf\n",
    "    # i-1 から来た場合\n",
    "    res = chmin(res, rec(i-1) + abs(h[i] - h[i-1]))\n",
    "    # i-2 から来た場合\n",
    "    if i > 1:\n",
    "        res = chmin(res, rec(i-2) + abs(h[i] - h[i-2]))\n",
    "    \n",
    "    # 結果をメモする\n",
    "    dp[i] = res\n",
    "    return res\n",
    "ans = rec(n-1)\n",
    "ans"
   ]
  },
  {
   "cell_type": "markdown",
   "id": "minute-rogers",
   "metadata": {},
   "source": [
    "## 5.4 ナップサック問題\n",
    "N地点まで移動する際に、各地点で荷物を拾う可否を決め、荷物のトータル価値を求める問題。  \n",
    "但し重さがｗを超えないようにする。\n",
    "\n",
    "### 考え方\n",
    "- i番目の品物を選ぶ： 選んだ後(i+1,w)なので、つまり選ぶ前は（i,w - weight[i])  \n",
    "- i番目の品物を選ばない: (i+1,w),(w[i],w)"
   ]
  },
  {
   "cell_type": "code",
   "execution_count": 55,
   "id": "graphic-nancy",
   "metadata": {},
   "outputs": [
    {
     "name": "stdout",
     "output_type": "stream",
     "text": [
      "99.0\n",
      "[[ 0.  0.  0.  0.  0.  0.  0.  0.  0.  0.  0.  0.  0.  0.]\n",
      " [ 0.  0.  3.  3.  3.  3.  3.  3.  3.  3.  3.  3.  3.  3.]\n",
      " [ 0.  2.  3.  5.  5.  5.  5.  5.  5.  5.  5.  5.  5.  5.]\n",
      " [ 0.  2.  3.  6.  8.  9. 11. 11. 11. 11. 11. 11. 11. 11.]\n",
      " [ 0.  2.  3.  6.  8.  9. 11. 11. 12. 12. 12. 12. 12. 12.]\n",
      " [ 0.  3.  5.  6.  9. 11. 12. 14. 14. 15. 15. 15. 15. 15.]\n",
      " [ 0.  3.  5.  6.  9. 85. 88. 90. 91. 94. 96. 97. 99. 99.]]\n"
     ]
    }
   ],
   "source": [
    "# %%timeit\n",
    "import numpy as np\n",
    "\n",
    "# 入力ーーーーーーーーーーーーーーーーーーーーーー\n",
    "# N,W = map(int,input().split()) # N =目的点までの距離 W =詰める荷物の量\n",
    "# w = [] # その点の重み\n",
    "# v = [] # その点の価値\n",
    "\n",
    "# for i in range(N):\n",
    "# 　　# mapは引数１を引数２に適用させる。つまり入力された文字列を空白で区切った整数値にする。\n",
    "#     x,y = map(int,input().split())\n",
    "#     w.append(x)\n",
    "#     v.append(y)   \n",
    "#ーーーーーーーーーーーーーーーーーーーーーーーーー  \n",
    "\n",
    "# サンプル---------------\n",
    "w = [2,1,3,2,1,5]\n",
    "v = [3,2,6,1,3,85]\n",
    "\n",
    "N = 6\n",
    "W = 13\n",
    "#----------------------\n",
    "\n",
    "# dp = [[0]*(W+1) for j in range(N+1)]          # DPテーブルの作成(for分バージョン)\n",
    "dp = np.zeros((N+1)*(W+1)).reshape((N+1),(W+1)) # DPテーブルの作成(numpyバージョン)\n",
    "\n",
    "for i in range(N):\n",
    "    for j in range(W+1):\n",
    "        if j < w[i]: # 選ばない時\n",
    "            dp[i+1][j] = dp[i][j]\n",
    "        else: # 選ぶ時\n",
    "            dp[i+1][j] = max(dp[i][j],dp[i][j-w[i]]+v[i])\n",
    "\n",
    "print(dp[N][W])\n",
    "print(dp)"
   ]
  },
  {
   "cell_type": "markdown",
   "id": "satisfactory-sheep",
   "metadata": {},
   "source": [
    "## 5.5 編集距離  \n",
    "２つの文字列の類似度を測る問題\n",
    "\n",
    "### 編集距離を求める動的計画法  \n",
    "dp[i][j] ← Sの最初のi文字文とTの最初のj文字文との間の編集距離 \n",
    "\n",
    "### 考え方\n",
    "- 変更操作: chmin(dp[i][j], dp[i-1][j-1])\n",
    "- 削除操作: chmin(dp[i][j], dp[i-1][j]+1)\n",
    "- 挿入操作: chmin(dp[i][j], dp[i][j-1]+1)"
   ]
  },
  {
   "cell_type": "markdown",
   "id": "intellectual-world",
   "metadata": {},
   "source": [
    "## 5.8 編集距離を動的計画法で求める問題"
   ]
  },
  {
   "cell_type": "code",
   "execution_count": 120,
   "id": "relevant-continent",
   "metadata": {},
   "outputs": [],
   "source": [
    "def levenshtein(s1, s2):\n",
    "    n, m = len(s1), len(s2)\n",
    "\n",
    "    dp = [[0] * (m + 1) for _ in range(n + 1)]\n",
    "\n",
    "    for i in range(n + 1):\n",
    "        dp[i][0] = i\n",
    "\n",
    "    for j in range(m + 1):\n",
    "        dp[0][j] = j\n",
    "\n",
    "    for i in range(1, n + 1):\n",
    "        for j in range(1, m + 1):\n",
    "            cost = 0 if s1[i - 1] == s2[j - 1] else 1\n",
    "            dp[i][j] = np.min([(dp[i - 1][j] + 1),          # insertion\n",
    "                               (dp[i][j - 1] + 1),          # deletion\n",
    "                               (dp[i - 1][j - 1] + cost)])  # replacement\n",
    "\n",
    "    return dp[n][m]"
   ]
  },
  {
   "cell_type": "code",
   "execution_count": 121,
   "id": "sensitive-vertex",
   "metadata": {},
   "outputs": [
    {
     "data": {
      "text/plain": [
       "7"
      ]
     },
     "execution_count": 121,
     "metadata": {},
     "output_type": "execute_result"
    }
   ],
   "source": [
    "s = \"longistic\"\n",
    "t = \"algorithm\"\n",
    "\n",
    "levenshtein(s, t)"
   ]
  },
  {
   "cell_type": "markdown",
   "id": "b57bd60f-6cd0-427f-8d03-a00178bc1398",
   "metadata": {},
   "source": [
    "# 第六章 設計技法（４）二分探索法"
   ]
  },
  {
   "cell_type": "markdown",
   "id": "cooperative-silver",
   "metadata": {},
   "source": [
    "## 6.1 二分探査法"
   ]
  },
  {
   "cell_type": "code",
   "execution_count": null,
   "id": "viral-original",
   "metadata": {},
   "outputs": [],
   "source": [
    "%%timeit\n",
    "def binary_search(data, value):\n",
    "    left = 0            # 探索する範囲の左端を設定\n",
    "    right = len(data) - 1            # 探索する範囲の右端を設定\n",
    "    while left <= right:\n",
    "        mid = (left + right) // 2            # 探索する範囲の中央を計算\n",
    "        if data[mid] == value:\n",
    "            # 中央の値と一致した場合は位置を返す\n",
    "            return mid\n",
    "        elif data[mid] < value:\n",
    "            # 中央の値より大きい場合は探索範囲の左を変える\n",
    "            left = mid + 1\n",
    "        else:\n",
    "            # 中央の値より小さい場合は探索範囲の右を変える\n",
    "            right = mid - 1\n",
    "    return -1            # 見つからなかった場合\n",
    "\n",
    "data = [10, 20, 30, 40, 50, 60, 70, 80, 90]\n",
    "binary_search(data, 90)"
   ]
  },
  {
   "cell_type": "code",
   "execution_count": null,
   "id": "gross-savings",
   "metadata": {},
   "outputs": [],
   "source": [
    "from bisect import bisect_left, bisect_right\n",
    " \n",
    "arr = [1,3,5,5,5,6,7] # 昇順にソートされている必要がある\n",
    "l = bisect_left(arr, 5)  # 5が入るべき境目のうち最も左側の境目を返す\n",
    "r = bisect_right(arr, 5) # 5が入るべき境目のうち最も右側の境目を返す\n",
    "print(l,r) # \"2 5\" が出力される"
   ]
  },
  {
   "cell_type": "code",
   "execution_count": null,
   "id": "political-school",
   "metadata": {},
   "outputs": [],
   "source": [
    "%%timeit\n",
    "def binary_search(data, value):\n",
    "    l = bisect_left(data,value)\n",
    "    return l\n",
    "data = [10, 20, 30, 40, 50, 60, 70, 80, 90]\n",
    "binary_search(data, 90)"
   ]
  },
  {
   "cell_type": "code",
   "execution_count": null,
   "id": "automatic-writing",
   "metadata": {},
   "outputs": [],
   "source": []
  },
  {
   "cell_type": "code",
   "execution_count": null,
   "id": "handled-directive",
   "metadata": {},
   "outputs": [],
   "source": []
  },
  {
   "cell_type": "code",
   "execution_count": null,
   "id": "packed-parish",
   "metadata": {},
   "outputs": [],
   "source": []
  },
  {
   "cell_type": "code",
   "execution_count": null,
   "id": "informal-tattoo",
   "metadata": {},
   "outputs": [],
   "source": []
  },
  {
   "cell_type": "code",
   "execution_count": null,
   "id": "institutional-clause",
   "metadata": {},
   "outputs": [],
   "source": []
  },
  {
   "cell_type": "code",
   "execution_count": null,
   "id": "interstate-subject",
   "metadata": {},
   "outputs": [],
   "source": []
  },
  {
   "cell_type": "code",
   "execution_count": null,
   "id": "sealed-welcome",
   "metadata": {},
   "outputs": [],
   "source": []
  },
  {
   "cell_type": "code",
   "execution_count": null,
   "id": "danish-delaware",
   "metadata": {},
   "outputs": [],
   "source": []
  },
  {
   "cell_type": "code",
   "execution_count": null,
   "id": "violent-latest",
   "metadata": {},
   "outputs": [],
   "source": []
  },
  {
   "cell_type": "code",
   "execution_count": null,
   "id": "acknowledged-paintball",
   "metadata": {},
   "outputs": [],
   "source": []
  },
  {
   "cell_type": "code",
   "execution_count": null,
   "id": "attached-morris",
   "metadata": {},
   "outputs": [],
   "source": []
  }
 ],
 "metadata": {
  "kernelspec": {
   "display_name": "Python 3",
   "language": "python",
   "name": "python3"
  },
  "language_info": {
   "codemirror_mode": {
    "name": "ipython",
    "version": 3
   },
   "file_extension": ".py",
   "mimetype": "text/x-python",
   "name": "python",
   "nbconvert_exporter": "python",
   "pygments_lexer": "ipython3",
   "version": "3.9.4"
  },
  "widgets": {
   "application/vnd.jupyter.widget-state+json": {
    "state": {},
    "version_major": 2,
    "version_minor": 0
   }
  }
 },
 "nbformat": 4,
 "nbformat_minor": 5
}
